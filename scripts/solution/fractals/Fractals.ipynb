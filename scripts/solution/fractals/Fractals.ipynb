{
 "cells": [
  {
   "cell_type": "markdown",
   "metadata": {},
   "source": [
    "# Introduction\n",
    "\n",
    "Few times ago, I supported some people on a forum and there were a question regarding a problem with the library turtle. I decided to take this opportunity to play a bit with this library. It gaves me the opportunity to mix this with something I'm often struggling with. This is recursive functions. To train on both, the best was to design fractals ! \n",
    "\n",
    "<b>NB : Turtle doesn't allow to save the canvas as png so I saved a ps file or render it in a notebook. This has been converted afterward only. If you want to play with it, just copy the code to any py script</b>"
   ]
  },
  {
   "cell_type": "markdown",
   "metadata": {},
   "source": [
    "# Fractal 1 : Triangle Spiral\n",
    "\n",
    "This fractal is the one from the question on the forum. The code is quite simple and doesn't really require a recursive function but for the exercice I made it recursive.\n",
    "\n",
    "The purpose is to use equilateral triangles and take only half of the base to create a part of the spiral. Each triangle is then turned by 30 degree and smaller to have the side equal to the previous height of the triangle and this until the side is above a threshold."
   ]
  },
  {
   "cell_type": "code",
   "execution_count": null,
   "metadata": {},
   "outputs": [],
   "source": [
    "import math\n",
    "import turtle\n",
    "\n",
    "from itertools import cycle"
   ]
  },
  {
   "cell_type": "code",
   "execution_count": null,
   "metadata": {},
   "outputs": [],
   "source": [
    "def draw(l, color, threshold=5):\n",
    "    if l <= threshold:\n",
    "        return\n",
    "    else:\n",
    "        cursor.pencolor(color)\n",
    "        cursor.forward(l)\n",
    "        cursor.left(120)\n",
    "        cursor.width(3)\n",
    "        cursor.pencolor(\"blue\")\n",
    "        cursor.forward(l / 2)\n",
    "        cursor.pencolor(color)\n",
    "        cursor.width(1)\n",
    "        cursor.forward(l / 2)\n",
    "        cursor.left(120)\n",
    "        cursor.forward(l)\n",
    "        cursor.left(150)\n",
    "        draw(l*math.sqrt(3)/2, next(gen))\n",
    "\n",
    "gen = cycle([\"red\", \"green\"])\n",
    "\n",
    "cursor = turtle.Turtle()\n",
    "cursor.speed(5)\n",
    "draw(200, next(gen))\n",
    "cv = turtle.getcanvas().postscript(file=\"triangle_spiral.ps\", colormode='color')\n",
    "cursor.done()"
   ]
  },
  {
   "cell_type": "markdown",
   "metadata": {},
   "source": [
    "##### Result :\n",
    "\n",
    "<img src=\"triangle_spiral2.png\"/>"
   ]
  },
  {
   "cell_type": "markdown",
   "metadata": {},
   "source": [
    "# Fractal 2 : Recursive Tree\n",
    "\n",
    "This one is well known. You take a straight line and then split in n branches. Those n branches are \"travelled\" and recursively splitted again. Of course at each depth the lenght is reduced and the criterion to stop the iteration is the length of the segment.\n",
    "\n",
    "In this implementation, you can play with the angle between branches and the number of branches (+ of course the initial length of a branch)"
   ]
  },
  {
   "cell_type": "code",
   "execution_count": null,
   "metadata": {},
   "outputs": [],
   "source": [
    "def draw(l, branches=2, angle=30, threshold=5, factor=0.5):\n",
    "    if l <= threshold:\n",
    "        return\n",
    "    else:\n",
    "        cursor.forward(l)\n",
    "        cursor.left(angle*(branches-1)/2)\n",
    "        for _ in range(branches):\n",
    "            draw(l*factor, branches, angle, threshold, factor)\n",
    "            cursor.right(angle)\n",
    "        cursor.left(angle*(branches+1)/2)  # +1 to compensate the last cursor right\n",
    "        cursor.backward(l)\n",
    "\n",
    "cursor = turtle.Turtle()\n",
    "cursor.speed(30)\n",
    "\n",
    "cursor.right(90)\n",
    "cursor.forward(200)\n",
    "cursor.left(180)\n",
    "\n",
    "draw(250, branches=2, angle=60, threshold=3, factor=0.5)\n",
    "cv = turtle.getcanvas().postscript(file=\"fractal_tree.ps\", colormode='color')\n",
    "turtle.done()"
   ]
  },
  {
   "cell_type": "markdown",
   "metadata": {},
   "source": [
    "##### Result :\n",
    "\n",
    "<img src=\"fractal_tree.png\"/>"
   ]
  },
  {
   "cell_type": "markdown",
   "metadata": {},
   "source": [
    "# Fractal 3 : 2D Merger Sponge\n",
    "\n",
    "This one is also a well known Fractal. Given a Square, split it in 9 sub squares and draw a square a the one fof the center. Then for each other 8 square, repeat !"
   ]
  },
  {
   "cell_type": "code",
   "execution_count": null,
   "metadata": {},
   "outputs": [],
   "source": [
    "def make_square(l):\n",
    "    for _ in range(4):\n",
    "        cursor.forward(l)\n",
    "        cursor.left(90)\n",
    "\n",
    "def draw(l, start_x, start_y, threshold=5):\n",
    "    if l <= threshold:\n",
    "        return\n",
    "    else:\n",
    "        cursor.penup()\n",
    "        cursor.setpos(start_x + l/3, start_y + l/3)\n",
    "        cursor.pendown()\n",
    "        make_square(l/3)\n",
    "        draw(l / 3, start_x, start_y)\n",
    "        draw(l / 3, start_x + l/3, start_y)\n",
    "        draw(l / 3, start_x + 2*l/3, start_y)\n",
    "        draw(l / 3, start_x + 2*l/3, start_y + l/3)\n",
    "        draw(l / 3, start_x + 2*l/3, start_y + 2*l/3)\n",
    "        draw(l / 3, start_x + l/3, start_y + 2*l/3)\n",
    "        draw(l / 3, start_x, start_y + 2*l/3)\n",
    "        draw(l / 3, start_x, start_y + l/3)\n",
    "\n",
    "cursor = turtle.Turtle()\n",
    "cursor.speed(\"fastest\")\n",
    "\n",
    "w, h = turtle.window_width(), turtle.window_height()\n",
    "\n",
    "p = min(w, h)/2 - 100\n",
    "\n",
    "cursor.penup()\n",
    "cursor.setpos(-p, -p)\n",
    "cursor.pendown()\n",
    "make_square(2*p)\n",
    "\n",
    "draw(2*p, start_x=-p, start_y=-p, threshold=10)\n",
    "cv = turtle.getcanvas().postscript(file=\"merger_sponge.ps\", colormode='color')\n",
    "turtle.done()"
   ]
  },
  {
   "cell_type": "markdown",
   "metadata": {},
   "source": [
    "##### Result :\n",
    "\n",
    "<img src=\"merger_sponge2.png\"/>"
   ]
  },
  {
   "cell_type": "markdown",
   "metadata": {},
   "source": [
    "# Fractal 4 : Sierpinski Triangle\n",
    "\n",
    "If you do the same with a Triangle, by changing some factor, reverseing some triangle you end up with the well known Sierpinski Triangle"
   ]
  },
  {
   "cell_type": "code",
   "execution_count": null,
   "metadata": {},
   "outputs": [],
   "source": [
    "def make_triangle(l, reversed=False):\n",
    "    if not reversed:\n",
    "        for _ in range(3):\n",
    "            cursor.forward(l)\n",
    "            cursor.left(120)\n",
    "    else:\n",
    "        for _ in range(3):\n",
    "            cursor.forward(l)\n",
    "            cursor.right(120)\n",
    "\n",
    "def draw(l, start_x, start_y, threshold=5, depth=0):\n",
    "    factor = math.sqrt(3/4)\n",
    "    if l <= threshold:\n",
    "        return\n",
    "    else:\n",
    "        cursor.penup()\n",
    "        cursor.setpos(start_x + l/4, start_y + factor*l/2)\n",
    "        cursor.pendown()\n",
    "        cursor.fillcolor(colors[depth])\n",
    "        cursor.begin_fill()\n",
    "        make_triangle(l/2, reversed=True)\n",
    "        cursor.end_fill()\n",
    "        draw(l / 2, start_x, start_y, threshold=threshold, depth=depth+1)\n",
    "        draw(l / 2, start_x + l/2, start_y, threshold=threshold, depth=depth+1)\n",
    "        draw(l / 2, start_x + l/4, start_y + factor*l/2, threshold=threshold, depth=depth+1)\n",
    "\n",
    "cursor = turtle.Turtle()\n",
    "cursor.speed(\"fastest\")\n",
    "\n",
    "w, h = turtle.window_width(), turtle.window_height()\n",
    "\n",
    "p = min(w, h)/2 - 100\n",
    "\n",
    "colors = [\"Red\", \"Orange Red\", \"Dark Orange\", \"Orange\", \"Light Goldenrod\", \"Light Goldenrod Yellow\", \"Light Yellow\"] \\\n",
    "         + [\"White\"] * 100 # just to avoid index error\n",
    "\n",
    "cursor.penup()\n",
    "cursor.setpos(-p, -p)\n",
    "cursor.pendown()\n",
    "make_triangle(2*p)\n",
    "\n",
    "draw(2*p, start_x=-p, start_y=-p, threshold=20)\n",
    "cv = turtle.getcanvas().postscript(file=\"Sierpinski_triangle.ps\", colormode='color')\n",
    "turtle.done()"
   ]
  },
  {
   "cell_type": "markdown",
   "metadata": {},
   "source": [
    "##### Result :\n",
    "\n",
    "<img src=\"Sierpinski_triangle.png\"/>"
   ]
  },
  {
   "cell_type": "markdown",
   "metadata": {},
   "source": [
    "# Fractal 5 : Von Koch Curve\n",
    "\n",
    "This one is more tricky to create. Given a line, split it in 3 equal pieces. Take the middle one and replace it by 2 of the same length to have a triangle. Iterate again over eahc new linees and after few iterations you have the Von Koch Curve !\n",
    "\n",
    "The problem with this one is that you should not remove lines so the idea is to draw only when you reach the iteration stop. This tooks me time to get it :)"
   ]
  },
  {
   "cell_type": "code",
   "execution_count": null,
   "metadata": {},
   "outputs": [],
   "source": [
    "def draw(l, threshold=5):\n",
    "    if l <= threshold:\n",
    "        cursor.forward(l)\n",
    "    else:\n",
    "        draw(l / 3)\n",
    "        cursor.left(60)\n",
    "        draw(l / 3)\n",
    "        cursor.right(120)\n",
    "        draw(l / 3)\n",
    "        cursor.left(60)\n",
    "        draw(l / 3)\n",
    "\n",
    "cursor = turtle.Turtle()\n",
    "cursor.speed(30)\n",
    "\n",
    "w, h = turtle.window_width(), turtle.window_height()\n",
    "border = 10\n",
    "\n",
    "cursor.penup()\n",
    "cursor.setpos(-w/2+border, -h/4)\n",
    "cursor.pendown()\n",
    "\n",
    "draw(w - 2 * border)\n",
    "cv = turtle.getcanvas().postscript(file=\"von_koch_curve.ps\", colormode='color')\n",
    "turtle.done()"
   ]
  },
  {
   "cell_type": "markdown",
   "metadata": {},
   "source": [
    "##### Result :\n",
    "\n",
    "<img src=\"von_koch_curve.png\"/>"
   ]
  },
  {
   "cell_type": "markdown",
   "metadata": {},
   "source": [
    "# Fractal 6 : Dragon Curve\n",
    "\n",
    "This fractal was fun to do because it makes me discover the <a href=\"https://en.wikipedia.org/wiki/L-system\">L-system</a>. In addition, it is impressive to see where this shape is coming from. I let you check <a href=\"https://www.youtube.com/watch?v=wCyC-K_PnRY\">this video</a> if you want to know more about it !\n",
    "\n",
    "It's also a fractal which requires 2 functions calling each other."
   ]
  },
  {
   "cell_type": "code",
   "execution_count": null,
   "metadata": {},
   "outputs": [],
   "source": [
    "def x(n):\n",
    "    if n == 0:\n",
    "        return\n",
    "    x(n-1)\n",
    "    cursor.right(90)\n",
    "    y(n-1)\n",
    "    cursor.forward(l)\n",
    "    # cursor.right(90)\n",
    "\n",
    "def y(n):\n",
    "    if n == 0:\n",
    "        return\n",
    "    cursor.forward(l)\n",
    "    x(n-1)\n",
    "    cursor.left(90)\n",
    "    y(n-1)\n",
    "    # cursor.left(90)\n",
    "\n",
    "cursor = turtle.Turtle()\n",
    "cursor.speed(30)\n",
    "\n",
    "l=3\n",
    "depth = 12\n",
    "\n",
    "cursor.forward(l)\n",
    "x(depth)\n",
    "cv = turtle.getcanvas().postscript(file=\"dragon_curve.ps\", colormode='color')\n",
    "turtle.done()"
   ]
  },
  {
   "cell_type": "markdown",
   "metadata": {},
   "source": [
    "##### Result :\n",
    "\n",
    "<img src=\"dragon_curve.png\"/>"
   ]
  },
  {
   "cell_type": "markdown",
   "metadata": {},
   "source": [
    "# Fractal 7 : Koch Curve\n",
    "\n",
    "Launched with L-system, I also implemented the Koch Curve which is different from the Von Koch Curve :)"
   ]
  },
  {
   "cell_type": "code",
   "execution_count": null,
   "metadata": {},
   "outputs": [],
   "source": [
    "def draw(n):\n",
    "    if n == 0:\n",
    "        cursor.forward(l)\n",
    "        return\n",
    "    draw(n-1)\n",
    "    cursor.right(90)\n",
    "    draw(n-1)\n",
    "    cursor.left(90)\n",
    "    draw(n-1)\n",
    "    cursor.left(90)\n",
    "    draw(n-1)\n",
    "    cursor.right(90)\n",
    "    draw(n-1)\n",
    "\n",
    "cursor = turtle.Turtle()\n",
    "cursor.speed(30)\n",
    "\n",
    "w, h = turtle.window_width(), turtle.window_height()\n",
    "border = 10\n",
    "\n",
    "cursor.penup()\n",
    "cursor.setpos(-w/4, h/4)\n",
    "cursor.pendown()\n",
    "\n",
    "l=3\n",
    "depth = 5\n",
    "\n",
    "draw(depth)\n",
    "cv = turtle.getcanvas().postscript(file=\"koch_curve.ps\", colormode='color')\n",
    "turtle.done()"
   ]
  },
  {
   "cell_type": "markdown",
   "metadata": {},
   "source": [
    "##### Result :\n",
    "\n",
    "<img src=\"koch_curve.png\"/>"
   ]
  },
  {
   "cell_type": "markdown",
   "metadata": {},
   "source": [
    "# Conclusion\n",
    "\n",
    "In this motebook, I played a bit with turtle which was a good library to discover. I also learn a some things about recursive function and L-system so I'm quite pleased of this small project."
   ]
  },
  {
   "cell_type": "code",
   "execution_count": null,
   "metadata": {},
   "outputs": [],
   "source": []
  }
 ],
 "metadata": {
  "kernelspec": {
   "display_name": "Python 3",
   "language": "python",
   "name": "python3"
  },
  "language_info": {
   "codemirror_mode": {
    "name": "ipython",
    "version": 3
   },
   "file_extension": ".py",
   "mimetype": "text/x-python",
   "name": "python",
   "nbconvert_exporter": "python",
   "pygments_lexer": "ipython3",
   "version": "3.6.3"
  },
  "toc": {
   "base_numbering": 1,
   "nav_menu": {},
   "number_sections": true,
   "sideBar": true,
   "skip_h1_title": false,
   "title_cell": "Table of Contents",
   "title_sidebar": "Contents",
   "toc_cell": false,
   "toc_position": {},
   "toc_section_display": true,
   "toc_window_display": false
  },
  "varInspector": {
   "cols": {
    "lenName": 16,
    "lenType": 16,
    "lenVar": 40
   },
   "kernels_config": {
    "python": {
     "delete_cmd_postfix": "",
     "delete_cmd_prefix": "del ",
     "library": "var_list.py",
     "varRefreshCmd": "print(var_dic_list())"
    },
    "r": {
     "delete_cmd_postfix": ") ",
     "delete_cmd_prefix": "rm(",
     "library": "var_list.r",
     "varRefreshCmd": "cat(var_dic_list()) "
    }
   },
   "types_to_exclude": [
    "module",
    "function",
    "builtin_function_or_method",
    "instance",
    "_Feature"
   ],
   "window_display": false
  }
 },
 "nbformat": 4,
 "nbformat_minor": 2
}
