{
 "cells": [
  {
   "cell_type": "markdown",
   "metadata": {},
   "source": [
    "# Introduction\n",
    "\n",
    "Few month ago a youtuber presented a small bot on twitter which tweet everyday, the sum of delayed train in France. This gaves me the idea of wishing a happy birthday to celebrities with a specific account automatically. In this notebook, we will extract birthday and twitter account from a website using web scrapping and store data in a small database to deplay the bot afterward."
   ]
  },
  {
   "cell_type": "code",
   "execution_count": null,
   "metadata": {
    "collapsed": true
   },
   "outputs": [],
   "source": [
    "import sqlite3\n",
    "import re\n",
    "import requests\n",
    "from bs4 import BeautifulSoup\n",
    "import pandas as pd\n",
    "pattern = re.compile(\"[0-9]+\")"
   ]
  },
  {
   "cell_type": "markdown",
   "metadata": {},
   "source": [
    "# DB creation\n",
    "\n",
    "First let's create the SQLite db. It's small, easy to deploy without any installation so perfect for this. We will need 1 table to store :\n",
    "\n",
    "- name\n",
    "- birthday\n",
    "- twitter account\n",
    "- url on the website we scrap (optionnal but I'll use it for updates)\n",
    "- country (for Now I'll send tweet only to French celebrities\n",
    "- if the person is dead or not"
   ]
  },
  {
   "cell_type": "code",
   "execution_count": null,
   "metadata": {
    "collapsed": true
   },
   "outputs": [],
   "source": [
    "# conn = sqlite3.connect('F:/data/birthday.db')\n",
    "# c = conn.cursor()\n",
    "# c.execute('''DROP TABLE IF EXISTS birthday''')\n",
    "# c.execute('''CREATE TABLE birthday\n",
    "#              (birthday date_text, name text, twitter text, url text, country text, dead integer)''')\n",
    "# # c.execute(\"INSERT INTO birthday VALUES ('1990-05-15','Nicolas M.','@Coni631', '', 'France', '0')\")\n",
    "# conn.commit()\n",
    "# conn.close()"
   ]
  },
  {
   "cell_type": "markdown",
   "metadata": {},
   "source": [
    "We can now check if it works."
   ]
  },
  {
   "cell_type": "code",
   "execution_count": null,
   "metadata": {},
   "outputs": [],
   "source": [
    "# conn = sqlite3.connect('F:/data/birthday.db')\n",
    "# c = conn.cursor()\n",
    "# c.execute('SELECT * FROM birthday')\n",
    "# print(c.fetchone())\n",
    "# conn.close()"
   ]
  },
  {
   "cell_type": "markdown",
   "metadata": {},
   "source": [
    "And it's fine"
   ]
  },
  {
   "cell_type": "markdown",
   "metadata": {},
   "source": [
    "# Scapping\n",
    "\n",
    "For the scrapping, we will use https://anniversaire-celebrite.com/ as a website to scrap the info. First of all, we will go throught every day of the year to gather all persons having a birthday at this date. For each persons, we will open their own page to scrap the account if we have it.To do so let's create few fonctions :"
   ]
  },
  {
   "cell_type": "code",
   "execution_count": null,
   "metadata": {
    "collapsed": true
   },
   "outputs": [],
   "source": [
    "def check_if_exist(name):\n",
    "    conn = sqlite3.connect('F:/data/birthday.db')\n",
    "    c = conn.cursor()\n",
    "    c.execute(\"SELECT * FROM birthday WHERE name=?\", (name,))\n",
    "    if c.fetchone() is None:\n",
    "        res = False\n",
    "    else:\n",
    "        res = True\n",
    "    conn.close()\n",
    "    return res\n",
    "    \n",
    "def get_Twitter(url):\n",
    "    actor_page = requests.get(url)\n",
    "    DOM = BeautifulSoup(actor_page.text, \"html.parser\")\n",
    "    counter = DOM.find(\"div\", attrs={\"class\" : \"twitter\"})\n",
    "    if counter is not None:\n",
    "        url = counter.find(\"a\")[\"href\"]\n",
    "        account = \"@\" + url.split(\"/\")[-1]\n",
    "        return account\n",
    "    return \"\"\n",
    "\n",
    "def add_data(birthday, name, twitter, url, country, dead):\n",
    "    conn = sqlite3.connect('F:/data/birthday.db')\n",
    "    c = conn.cursor()\n",
    "    q = \"INSERT INTO birthday VALUES ('{}','{}','{}', '{}', '{}', '{}')\".format(birthday, name, twitter, url, country, dead)\n",
    "    c.execute(q)\n",
    "    conn.commit()\n",
    "    conn.close()\n",
    "\n",
    "def page_to_actor(DOM, month, day):\n",
    "    birthday_block = DOM.find_all(\"div\", attrs={\"class\":\"columns\"})[3]\n",
    "    actors = birthday_block.find_all(\"div\", attrs={\"class\":\"column col-2 col-xl-2 col-lg-3 col-md-4 col-xs-6\"})\n",
    "    for actor in actors:\n",
    "        data = actor_to_data(actor, month, day)\n",
    "    \n",
    "def actor_to_data(actor, month, day):\n",
    "    result = {}\n",
    "    alts = actor.find_all(\"img\")\n",
    "    year_txt = actor.find(\"div\", {\"class\" : \"celannee tiny\"}).getText()\n",
    "    year = int(pattern.search(year_txt).group(0))\n",
    "    result[\"name\"] = re.sub(\"'\",\"''\", alts[0]['alt'])\n",
    "    result[\"country\"] = re.sub(\"'\",\"''\", alts[1]['alt'])\n",
    "    result[\"birthday\"] = \"{}-{:02d}-{:02d}\".format(year, month, day)\n",
    "    result[\"dead\"] = len(actor.find(\"div\", {\"class\" : \"celage\"}).find_all(\"strong\")) - 1\n",
    "    result[\"url\"] = \"https://anniversaire-celebrite.com/\" + actor.find(\"a\")[\"href\"]\n",
    "    \n",
    "    alread_in = check_if_exist(result[\"name\"])\n",
    "    if not alread_in:\n",
    "        if result[\"dead\"] == 0:\n",
    "            result[\"twitter\"] = get_Twitter(result[\"url\"])\n",
    "        else:\n",
    "            result[\"twitter\"] = \"\"\n",
    "        add_data(**result)\n",
    "    else:\n",
    "        print(\"Skip \" + result[\"name\"])"
   ]
  },
  {
   "cell_type": "markdown",
   "metadata": {},
   "source": [
    "Now we just have to run it for all date of the year"
   ]
  },
  {
   "cell_type": "code",
   "execution_count": null,
   "metadata": {},
   "outputs": [],
   "source": [
    "done = True\n",
    "for month in range(1, 13):\n",
    "    for day in range(1, 32):\n",
    "        if month == 1 and day == 10:\n",
    "            done = False\n",
    "            \n",
    "        if not done:\n",
    "            print(\"extracting {:02d}/{:02d}\".format(day, month))\n",
    "            url = \"https://anniversaire-celebrite.com/ok,annee,{:02d},{:02d}.html\".format(month, day)\n",
    "            page = requests.get(url)\n",
    "            soup = BeautifulSoup(page.text, \"html.parser\")\n",
    "            page_to_actor(soup, month, day)"
   ]
  },
  {
   "cell_type": "markdown",
   "metadata": {
    "collapsed": true
   },
   "source": [
    "# Add new persons\n",
    "\n",
    "Sometimes, the website add celebrities to their website, we can create a small function to check it and store new ones."
   ]
  },
  {
   "cell_type": "code",
   "execution_count": null,
   "metadata": {
    "collapsed": true
   },
   "outputs": [],
   "source": [
    "def getDataFromProfil(url):\n",
    "    actor_page = requests.get(url)\n",
    "    DOM = BeautifulSoup(actor_page.text, \"html.parser\")\n",
    "    birthday = DOM.find(itemprop=\"birthDate\")[\"datetime\"]\n",
    "    dead = 1 if DOM.find(itemprop=\"deathDate\") else 0\n",
    "    counter = DOM.find(\"div\", attrs={\"class\" : \"twitter\"})\n",
    "    if counter is not None:\n",
    "        url = counter.find(\"a\")[\"href\"]\n",
    "        account = \"@\" + url.split(\"/\")[-1]\n",
    "        return birthday, account, dead\n",
    "    return birthday, \"\", dead"
   ]
  },
  {
   "cell_type": "code",
   "execution_count": null,
   "metadata": {},
   "outputs": [],
   "source": [
    "url = \"https://anniversaire-celebrite.com/last.html\"\n",
    "page = requests.get(url)\n",
    "DOM = BeautifulSoup(page.text, \"html.parser\")\n",
    "birthday_block = DOM.find_all(\"div\", attrs={\"class\":\"columns\"})[3]\n",
    "actors = birthday_block.find_all(\"div\", attrs={\"class\":\"column col-2 col-xl-2 col-lg-3 col-md-4 col-xs-6\"})\n",
    "for actor in actors:\n",
    "    result = {}\n",
    "    alts = actor.find_all(\"img\")\n",
    "    year_txt = actor.find(\"div\", {\"class\" : \"celannee tiny\"}).getText()\n",
    "    year = int(pattern.search(year_txt).group(0))\n",
    "    result[\"name\"] = re.sub(\"'\",\"''\", alts[0]['alt'])\n",
    "    result[\"country\"] = re.sub(\"'\",\"''\", alts[1]['alt'])\n",
    "    result[\"url\"] = \"https://anniversaire-celebrite.com/\" + actor.find(\"a\")[\"href\"]\n",
    "    \n",
    "    alread_in = check_if_exist(result[\"name\"])\n",
    "    if not alread_in:\n",
    "        birthday, twitter, dead = getDataFromProfil(result[\"url\"])\n",
    "        result[\"twitter\"] = twitter\n",
    "        result[\"birthday\"] = birthday\n",
    "        result[\"dead\"] = dead\n",
    "        print(\"Add \" + result[\"name\"])\n",
    "        add_data(**result)\n",
    "    else:\n",
    "        print(\"Skip \" + result[\"name\"])"
   ]
  },
  {
   "cell_type": "markdown",
   "metadata": {},
   "source": [
    "# Check Profil for update\n",
    "\n",
    "Another thing to consider is the case where there is changes. For example, we have several celebrities without twitter account. We could also create a function to check all celebrities without official twitter regularly (that's why I saved the url) and add the account if it's added. Some people may also die and we should not wish them a Happy Birthday :("
   ]
  },
  {
   "cell_type": "code",
   "execution_count": null,
   "metadata": {
    "collapsed": true
   },
   "outputs": [],
   "source": [
    "conn = sqlite3.connect('F:/data/birthday.db')\n",
    "c = conn.cursor()\n",
    "c.execute(\"SELECT name, url FROM birthday WHERE twitter = '' AND dead == 0\")\n",
    "l = c.fetchall()\n",
    "conn.close()"
   ]
  },
  {
   "cell_type": "code",
   "execution_count": null,
   "metadata": {},
   "outputs": [],
   "source": [
    "l"
   ]
  },
  {
   "cell_type": "code",
   "execution_count": null,
   "metadata": {
    "scrolled": false
   },
   "outputs": [],
   "source": [
    "for name, url in l:\n",
    "    print(\"Checking\", name)\n",
    "    birthday, twitter, dead = getDataFromProfil(url)\n",
    "    if twitter != \"\" or dead == 1:\n",
    "        conn = sqlite3.connect('F:/data/birthday.db')\n",
    "        c.execute(\"UPDATE birthday SET twitter = ?, dead = ? WHERE name = ?\", (twitter, dead, name))\n",
    "        conn.commit()\n",
    "        conn.close()"
   ]
  },
  {
   "cell_type": "markdown",
   "metadata": {},
   "source": [
    "# Manual update\n",
    "\n",
    "When there is missing celebrities or a mistake, we can fix manully some informations. For exemple there were several celebrities without the twitter account but I knew that they have one so we can add it"
   ]
  },
  {
   "cell_type": "code",
   "execution_count": null,
   "metadata": {
    "collapsed": true
   },
   "outputs": [],
   "source": [
    "def manual_update(name, twitter):\n",
    "    conn = sqlite3.connect('F:/data/birthday.db')\n",
    "    c = conn.cursor()\n",
    "    c.execute(\"SELECT * FROM birthday WHERE name = ?\", (name,))\n",
    "    print(c.fetchone())\n",
    "    c.execute(\"UPDATE birthday SET twitter = ? WHERE name = ?\", (twitter, name))\n",
    "    conn.commit()\n",
    "    c.execute(\"SELECT * FROM birthday WHERE name = ?\", (name,))\n",
    "    print(c.fetchone())\n",
    "    conn.close()"
   ]
  },
  {
   "cell_type": "code",
   "execution_count": null,
   "metadata": {},
   "outputs": [],
   "source": [
    "# manual_update(\" Cartouche\", \"@cartouche\")"
   ]
  },
  {
   "cell_type": "code",
   "execution_count": null,
   "metadata": {},
   "outputs": [],
   "source": [
    "# manual_update(\"Sandrine Quétier\", \"@SandQuetierOff\")"
   ]
  },
  {
   "cell_type": "code",
   "execution_count": null,
   "metadata": {},
   "outputs": [],
   "source": [
    "# manual_update(\" Comte de Bouderbala\", \"@comtebouderbala\")"
   ]
  },
  {
   "cell_type": "code",
   "execution_count": null,
   "metadata": {},
   "outputs": [],
   "source": [
    "# manual_update(\" Jul\", \"@jul\")"
   ]
  },
  {
   "cell_type": "code",
   "execution_count": null,
   "metadata": {},
   "outputs": [],
   "source": [
    "# manual_update(\" Natoo\", \"@Nato_o\")"
   ]
  },
  {
   "cell_type": "code",
   "execution_count": null,
   "metadata": {},
   "outputs": [],
   "source": [
    "# manual_update(\"Laurent Baffie\", \"@lolobababa\")"
   ]
  },
  {
   "cell_type": "code",
   "execution_count": null,
   "metadata": {},
   "outputs": [],
   "source": [
    "# manual_update(\"Alain Bernard\", \"@alainbernard\")"
   ]
  },
  {
   "cell_type": "code",
   "execution_count": null,
   "metadata": {},
   "outputs": [],
   "source": [
    "# manual_update(\"Florence Parly\", \"@florence_parly\")"
   ]
  },
  {
   "cell_type": "code",
   "execution_count": null,
   "metadata": {},
   "outputs": [],
   "source": [
    "# manual_update(\"Christian Estrosi\", \"@cestrosi\")"
   ]
  },
  {
   "cell_type": "code",
   "execution_count": null,
   "metadata": {},
   "outputs": [],
   "source": [
    "# manual_update(\"Bernard Laporte\", \"@BernardLaporte_\")"
   ]
  },
  {
   "cell_type": "code",
   "execution_count": null,
   "metadata": {},
   "outputs": [],
   "source": [
    "# manual_update(\"Patrick Timsit\", \"@patricktimsit\")"
   ]
  },
  {
   "cell_type": "code",
   "execution_count": null,
   "metadata": {},
   "outputs": [],
   "source": [
    "# manual_update(\"Vincent Moscato\", \"@VINCENT_MOSCATO\")"
   ]
  },
  {
   "cell_type": "code",
   "execution_count": null,
   "metadata": {},
   "outputs": [],
   "source": [
    "# manual_update(\"Ève Angeli\", \"@eveangelioff\")"
   ]
  },
  {
   "cell_type": "code",
   "execution_count": null,
   "metadata": {
    "collapsed": true
   },
   "outputs": [],
   "source": [
    "# add_data(\"1986-08-30\", \"Raphaël Carlier\", \"@Raphael_Carlier\", \"\", \"France\", \"0\")"
   ]
  },
  {
   "cell_type": "code",
   "execution_count": null,
   "metadata": {
    "collapsed": true
   },
   "outputs": [],
   "source": [
    "# add_data(\"1986-07-07\", \"David Coscas\", \"@levraimcfly\", \"\", \"France\", \"0\")"
   ]
  },
  {
   "cell_type": "code",
   "execution_count": null,
   "metadata": {
    "collapsed": true
   },
   "outputs": [],
   "source": [
    "# add_data(\"1992-08-07\", \"Damien Laguionie\", \"@terracid\", \"\", \"France\", \"0\")"
   ]
  },
  {
   "cell_type": "code",
   "execution_count": null,
   "metadata": {
    "collapsed": true
   },
   "outputs": [],
   "source": [
    "# add_data(\"1992-01-08\", \"Thomas Iturralde\", \"@laink\", \"\", \"France\", \"0\")"
   ]
  },
  {
   "cell_type": "markdown",
   "metadata": {
    "collapsed": true
   },
   "source": [
    "# Change birthday\n",
    "\n",
    "Finally, there is maybe wrong date on the website. It was the case with Willy Rovelli. This section is done to update this"
   ]
  },
  {
   "cell_type": "code",
   "execution_count": null,
   "metadata": {
    "collapsed": true
   },
   "outputs": [],
   "source": [
    "name = \"Willy Rovelli\"\n",
    "date = \"1980-03-18\""
   ]
  },
  {
   "cell_type": "code",
   "execution_count": null,
   "metadata": {},
   "outputs": [],
   "source": [
    "conn = sqlite3.connect('F:/data/birthday.db')\n",
    "c = conn.cursor()\n",
    "c.execute(\"SELECT * FROM birthday WHERE name = ?\", (name,))\n",
    "print(c.fetchone())\n",
    "c.execute(\"UPDATE birthday SET birthday = ? WHERE name = ?\", (date, name))\n",
    "conn.commit()\n",
    "c.execute(\"SELECT * FROM birthday WHERE name = ?\", (name,))\n",
    "print(c.fetchone())\n",
    "conn.close()"
   ]
  },
  {
   "cell_type": "markdown",
   "metadata": {
    "collapsed": true
   },
   "source": [
    "# Check proposition\n",
    "\n",
    "One improvement I've done is also host a website (simple one) to let people propose new celebrities. I'll try to review taht sometimes and this part is done for that purpose."
   ]
  },
  {
   "cell_type": "code",
   "execution_count": null,
   "metadata": {
    "collapsed": true
   },
   "outputs": [],
   "source": [
    "# conn = sqlite3.connect('site/databases/proposition.db')\n",
    "# df = pd.read_sql_query(\"SELECT * FROM birthday\", conn)\n",
    "# conn.close()\n",
    "# df.head()"
   ]
  },
  {
   "cell_type": "code",
   "execution_count": null,
   "metadata": {
    "collapsed": true
   },
   "outputs": [],
   "source": [
    "# conn = sqlite3.connect('site/databases/proposition.db')\n",
    "# c = conn.cursor()\n",
    "# c.execute('''DROP TABLE IF EXISTS birthday''')\n",
    "# c.execute('''CREATE TABLE birthday\n",
    "#              (birthday date_text, name text, twitter text, url text, country text, dead integer)''')\n",
    "# conn.commit()\n",
    "# conn.close()"
   ]
  },
  {
   "cell_type": "markdown",
   "metadata": {
    "collapsed": true
   },
   "source": [
    "# Conclusion\n",
    "\n",
    "This Notebook is quite simple (and not very clean - a refactoring would be great...) but we saw here how to scrap data from a website and store it in a SQLite database. In the next Notebook, we will quickly explore the data we have.\n",
    "\n",
    "Regarding the website, it's available @ http://nicolasmine.pythonanywhere.com/."
   ]
  }
 ],
 "metadata": {
  "kernelspec": {
   "display_name": "Python 3",
   "language": "python",
   "name": "python3"
  },
  "language_info": {
   "codemirror_mode": {
    "name": "ipython",
    "version": 3
   },
   "file_extension": ".py",
   "mimetype": "text/x-python",
   "name": "python",
   "nbconvert_exporter": "python",
   "pygments_lexer": "ipython3",
   "version": "3.6.3"
  }
 },
 "nbformat": 4,
 "nbformat_minor": 2
}
