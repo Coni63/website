{
 "cells": [
  {
   "cell_type": "markdown",
   "metadata": {},
   "source": [
    "# Introduction\n",
    "\n",
    "We saw previously how to create a pair public/secret key for encryption/decryption. Those key are usually very long to ensure that based on the public key, an attacker cannot find the private key. In this Notebook, we will see how this kind of attack can be done and test how fast it can be \"cracked\" based on the key length.\n",
    "\n",
    "# Principle\n",
    "\n",
    "The principle of El Gamal Key Exchange has not been explained previously so you can find bellow an contribution (exercice) I proposed on Codingame:\n",
    "\n",
    "El Gamal encryption is a public-key cryptosystem. It uses asymmetric key encryption for a safe communication between two people.\n",
    "\n",
    "Let us assume that Alice wants to communicate with Bob. Alice generates three large random integers:\n",
    "- Q a prime used as the order of the key\n",
    "- 0 < G < Q a generator\n",
    "- X Alice's <b>secret key</b>\n",
    "\n",
    "Alice computes $ H \\equiv G^X \\pmod{Q} $ and publicly shares with Bob the public key <b>(G, H, Q)</b>. As an attacker, you intercept this key and decide to spy on their communications. To do so, you need to find Alice's secret key X. This can be done by performing a discrete logarithm attack on this key. \n",
    "\n",
    "The rest of this protocol is not explained to avoid overload but it can be found on https://en.wikipedia.org/wiki/ElGamal_encryption\n",
    "\n",
    "# Attack\n",
    "\n",
    "There is multiple algorithm existing and we can cite :\n",
    "\n",
    "### BruteForce\n",
    "\n",
    "The most basic attack would be the brute force and compute $ G^X \\pmod{K} \\:\\: \\forall X \\in [A, B]$. However this is very slow as it has a complexity of O(X). The X being so big, there is nearly no chance to break it that way. \n",
    "\n",
    "### BabyStep-GiantStep\n",
    "\n",
    "This algorithm is a most common one because it's quite simple to implement and is a good tradeoff between memory requirement and computation time. You can find a more important description on <a href=\"https://en.wikipedia.org/wiki/Baby-step_giant-step\">Wikipedia</a>.\n",
    "\n",
    "The complexity if $ O(\\sqrt {X}) $ in time and space\n",
    "\n",
    "### Pollard's rho\n",
    "\n",
    "This algorithm is older and less efficient that BSGS above. It is derived from al algorithm for the integer factorization problem and uses the same bases. See <a href=\"https://en.wikipedia.org/wiki/Pollard%27s_rho_algorithm_for_logarithms\">Wikipedia</a> for more information.\n",
    "\n",
    "The complexity if $ O(\\sqrt {X}) $ in time. The complexity in term of space if nearly null\n",
    "\n",
    "### Pohlig–Hellman\n",
    "\n",
    "This last algorithm should be the fastest. It is in average in $ O(\\log({X})) $ and worst case $ O(\\sqrt {X}) $. It's also the most recent one (but also the most complex one :) ). More details on <a href=\"https://en.wikipedia.org/wiki/Pohlig%E2%80%93Hellman_algorithm\">Wikipedia</a>\n",
    "\n",
    "# Exercice\n",
    "\n",
    "For this Notebook, we will implement the BSGS and run it on multiple keys of different length to see how the speed to solve it evolves\n",
    "\n",
    "### Generate keys"
   ]
  },
  {
   "cell_type": "code",
   "execution_count": 1,
   "metadata": {},
   "outputs": [],
   "source": [
    "from math import gcd, ceil, sqrt\n",
    "import random\n",
    "import matplotlib.pyplot as plt\n",
    "import time\n",
    "from random import randrange, getrandbits\n",
    "from sklearn.linear_model import LinearRegression\n",
    "import numpy as np\n",
    "\n",
    "\n",
    "def egcd(number, modulo):\n",
    "    if number == 0:\n",
    "        return modulo, 0, 1\n",
    "    else:\n",
    "        g, y, x = egcd(modulo % number, number)\n",
    "        return g, x - (modulo // number) * y, y\n",
    "\n",
    "def modinv(number, modulo):\n",
    "    g, x, y = egcd(number, modulo)\n",
    "    if g != 1:\n",
    "        raise Exception('modular inverse does not exist')\n",
    "    else:\n",
    "        return x % modulo\n",
    "    \n",
    "def is_prime(n, k=128):\n",
    "    \"\"\" Test if a number is prime\n",
    "        Args:\n",
    "            n -- int -- the number to test\n",
    "            k -- int -- the number of tests to do\n",
    "        return True if n is prime\n",
    "    \"\"\"\n",
    "    # Test if n is not even.\n",
    "    # But care, 2 is prime !\n",
    "    if n == 2 or n == 3:\n",
    "        return True\n",
    "    if n <= 1 or n % 2 == 0:\n",
    "        return False\n",
    "    # find r and s\n",
    "    s = 0\n",
    "    r = n - 1\n",
    "    while r & 1 == 0:\n",
    "        s += 1\n",
    "        r //= 2\n",
    "    # do k tests\n",
    "    for _ in range(k):\n",
    "        a = randrange(2, n - 1)\n",
    "        x = pow(a, r, n)\n",
    "        if x != 1 and x != n - 1:\n",
    "            j = 1\n",
    "            while j < s and x != n - 1:\n",
    "                x = pow(x, 2, n)\n",
    "                if x == 1:\n",
    "                    return False\n",
    "                j += 1\n",
    "            if x != n - 1:\n",
    "                return False\n",
    "    return True\n",
    "\n",
    "def generate_prime_candidate(length):\n",
    "    \"\"\" Generate an odd integer randomly\n",
    "        Args:\n",
    "            length -- int -- the length of the number to generate, in bits\n",
    "        return a integer\n",
    "    \"\"\"\n",
    "    # generate random bits\n",
    "    p = getrandbits(length)\n",
    "    # apply a mask to set MSB and LSB to 1\n",
    "    p |= (1 << length - 1) | 1\n",
    "    return p\n",
    "\n",
    "def generate_prime_number(length=1024):\n",
    "    \"\"\" Generate a prime\n",
    "        Args:\n",
    "            length -- int -- length of the prime to generate, in bits\n",
    "        return a prime\n",
    "    \"\"\"\n",
    "    p = 4\n",
    "    # keep generating while the primality test fail\n",
    "    while not is_prime(p, 128):\n",
    "        p = generate_prime_candidate(length)\n",
    "    return p"
   ]
  },
  {
   "cell_type": "code",
   "execution_count": 2,
   "metadata": {},
   "outputs": [],
   "source": [
    "random.seed(0)\n",
    "\n",
    "public_keys = []\n",
    "private_keys = []\n",
    "\n",
    "for key_size in range(10, 40, 2):\n",
    "    G = int(random.getrandbits(key_size))\n",
    "    X = int(random.getrandbits(key_size))\n",
    "    Q = generate_prime_number(key_size+4) # +45 to have Q > G\n",
    "    H = pow(G, X, Q)\n",
    "    public_keys.append((G, H, Q))\n",
    "    private_keys.append(X)"
   ]
  },
  {
   "cell_type": "markdown",
   "metadata": {},
   "source": [
    "Similarly to a dataset in Data Science, we now have the public key and we have to find the private key. Let's implement the BSGS "
   ]
  },
  {
   "cell_type": "code",
   "execution_count": 55,
   "metadata": {},
   "outputs": [
    {
     "data": {
      "text/plain": [
       "[(864, 786, 13597),\n",
       " (3479, 43560, 58657),\n",
       " (11162, 169379, 238037),\n",
       " (23652, 311877, 660227),\n",
       " (253912, 1706452, 2961619),\n",
       " (811407, 5947378, 14225027),\n",
       " (597971, 29503660, 36489829),\n",
       " (10276158, 166461018, 201727129),\n",
       " (42570930, 258268552, 692774963),\n",
       " (151593142, 1303174335, 4108412939),\n",
       " (55034527, 6822928810, 11975829493),\n",
       " (3646822369, 23499338479, 40701397531),\n",
       " (9576791999, 28442392868, 239051167937),\n",
       " (28142617842, 60367878968, 863490862849),\n",
       " (33515127037, 378237615940, 3256858955599)]"
      ]
     },
     "execution_count": 55,
     "metadata": {},
     "output_type": "execute_result"
    }
   ],
   "source": [
    "public_keys"
   ]
  },
  {
   "cell_type": "code",
   "execution_count": 56,
   "metadata": {},
   "outputs": [
    {
     "data": {
      "text/plain": [
       "[394,\n",
       " 881,\n",
       " 6715,\n",
       " 25873,\n",
       " 97339,\n",
       " 163742,\n",
       " 1490519,\n",
       " 1453404,\n",
       " 17514606,\n",
       " 247365369,\n",
       " 606523847,\n",
       " 3452146706,\n",
       " 1564751905,\n",
       " 55656656128,\n",
       " 193988565560]"
      ]
     },
     "execution_count": 56,
     "metadata": {},
     "output_type": "execute_result"
    }
   ],
   "source": [
    "private_keys"
   ]
  },
  {
   "cell_type": "markdown",
   "metadata": {},
   "source": [
    "# Baby-step giant-step algorithm"
   ]
  },
  {
   "cell_type": "code",
   "execution_count": 57,
   "metadata": {},
   "outputs": [],
   "source": [
    "def bsgs(a, c, P):\n",
    "    '''\n",
    "    Solve for x in h = g^x mod p given a prime p.\n",
    "    If p is not prime, you shouldn't use BSGS anyway.\n",
    "    '''\n",
    "    N = ceil(sqrt(P - 1))  # phi(p) is p-1 if p is prime\n",
    "\n",
    "    # Store hashmap of g^{1...m} (mod p). Baby step.\n",
    "    memo = {pow(a, i, P): i for i in range(N)}\n",
    "\n",
    "    # Precompute via Fermat's Little Theorem\n",
    "    d = pow(a, N * (P - 2), P)     # https://en.wikipedia.org/wiki/Modular_multiplicative_inverse#Using_Euler.27s_theorem\n",
    "\n",
    "    # Search for an equivalence in the table. Giant step.\n",
    "    for j in range(N):\n",
    "        y = (c * pow(d, j, P)) % P\n",
    "        if y in memo:\n",
    "            return j * N + memo[y]\n",
    "\n",
    "    return None"
   ]
  },
  {
   "cell_type": "code",
   "execution_count": 58,
   "metadata": {},
   "outputs": [
    {
     "name": "stdout",
     "output_type": "stream",
     "text": [
      "\n",
      "Keys size 10\n",
      "Private Key Found : 394\n",
      "Real Private Key  : 394\n",
      "Duration : 0.000998\n",
      "\n",
      "Keys size 12\n",
      "Private Key Found : 881\n",
      "Real Private Key  : 881\n",
      "Duration : 0.000000\n",
      "\n",
      "Keys size 14\n",
      "Private Key Found : 6715\n",
      "Real Private Key  : 6715\n",
      "Duration : 0.000998\n",
      "\n",
      "Keys size 16\n",
      "Private Key Found : 25873\n",
      "Real Private Key  : 25873\n",
      "Duration : 0.000997\n",
      "\n",
      "Keys size 18\n",
      "Private Key Found : 97339\n",
      "Real Private Key  : 97339\n",
      "Duration : 0.002075\n",
      "\n",
      "Keys size 20\n",
      "Private Key Found : 163742\n",
      "Real Private Key  : 163742\n",
      "Duration : 0.006928\n",
      "\n",
      "Keys size 22\n",
      "Private Key Found : 1490519\n",
      "Real Private Key  : 1490519\n",
      "Duration : 0.009948\n",
      "\n",
      "Keys size 24\n",
      "Private Key Found : 1453404\n",
      "Real Private Key  : 1453404\n",
      "Duration : 0.024908\n",
      "\n",
      "Keys size 26\n",
      "Private Key Found : 17514606\n",
      "Real Private Key  : 17514606\n",
      "Duration : 0.050891\n",
      "\n",
      "Keys size 28\n",
      "Private Key Found : 247365369\n",
      "Real Private Key  : 247365369\n",
      "Duration : 0.194781\n",
      "\n",
      "Keys size 30\n",
      "Private Key Found : 606523847\n",
      "Real Private Key  : 606523847\n",
      "Duration : 0.356621\n",
      "\n",
      "Keys size 32\n",
      "Private Key Found : 3452146706\n",
      "Real Private Key  : 3452146706\n",
      "Duration : 0.753987\n",
      "\n",
      "Keys size 34\n",
      "Private Key Found : 1564751905\n",
      "Real Private Key  : 1564751905\n",
      "Duration : 1.782874\n",
      "\n",
      "Keys size 36\n",
      "Private Key Found : 55656656128\n",
      "Real Private Key  : 55656656128\n",
      "Duration : 3.760568\n",
      "\n",
      "Keys size 38\n",
      "Private Key Found : 193988565560\n",
      "Real Private Key  : 193988565560\n",
      "Duration : 8.129114\n"
     ]
    }
   ],
   "source": [
    "t = []\n",
    "\n",
    "for key_size, public, private in zip(range(10, 40, 2), public_keys, private_keys):\n",
    "    print(\"\\nKeys size {}\".format(key_size))\n",
    "    s = time.time()\n",
    "    ans = bsgs(*public)\n",
    "    d = time.time() - s\n",
    "    t.append(d)\n",
    "    print(\"Private Key Found : {}\".format(ans,))\n",
    "    print(\"Real Private Key  : {}\".format(private))\n",
    "    print(\"Duration : {:03f}\".format(d))"
   ]
  },
  {
   "cell_type": "markdown",
   "metadata": {},
   "source": [
    "# Time Analysis\n",
    "\n",
    "The forward path which is to compute the $ H \\equiv G^X \\pmod{Q} $ can be considered as instantaneous with the modular multiplication for the length of keys we computed here (up to 40 bits). Just in opposition, current keys are at around 2048 bits. At this level the time is few ms only. Let's have a look at the time to find back the private key and try to find a equation of the time.\n",
    "\n",
    "<b>Attention : For the following equation, I found out that the complexity seems to be more a log(N) complexity so I computed the prediction of the time based on this assumption</b>"
   ]
  },
  {
   "cell_type": "code",
   "execution_count": 70,
   "metadata": {},
   "outputs": [],
   "source": [
    "x = [[len(bin(z))-2] for x, y, z in public_keys]  # get the size of the Q for each keys\n",
    "y = np.log(np.array(t)+1e-5).reshape(-1, 1)"
   ]
  },
  {
   "cell_type": "code",
   "execution_count": 71,
   "metadata": {},
   "outputs": [
    {
     "name": "stdout",
     "output_type": "stream",
     "text": [
      "[[0.40640678]] [-14.95194245]\n"
     ]
    }
   ],
   "source": [
    "regr = LinearRegression()\n",
    "regr.fit(x, y)\n",
    "print(regr.coef_, regr.intercept_)"
   ]
  },
  {
   "cell_type": "code",
   "execution_count": 81,
   "metadata": {},
   "outputs": [
    {
     "data": {
      "image/png": "[encoded data removed]",
      "text/plain": [
       "<Figure size 1440x864 with 2 Axes>"
      ]
     },
     "metadata": {
      "needs_background": "light"
     },
     "output_type": "display_data"
    }
   ],
   "source": [
    "fig, (ax, ax2) = plt.subplots(1, 2, figsize=(20, 12))\n",
    "ax.plot(x, t, label =\"Real Time\")\n",
    "ax.plot(x, np.exp(regr.predict(x)), label =\"Est. Time\")\n",
    "ax.set_yscale('symlog', linthreshy=0.01)\n",
    "ax.set_title(\"Time required based on the key size\")\n",
    "ax.set_ylabel(\"Time\")\n",
    "ax.set_xlabel(\"Key Size (Bytes)\")\n",
    "ax.legend()\n",
    "\n",
    "ax2.plot(x, y, label =\"Real Time\")\n",
    "ax2.plot(x, regr.predict(x), label =\"Est. Time\")\n",
    "ax2.set_title(\"Time required based on the key size (log scale)\")\n",
    "ax2.set_ylabel(\"Log(Time)\")\n",
    "ax2.set_xlabel(\"Key Size (Bytes)\")\n",
    "ax2.legend()\n",
    "\n",
    "plt.show()"
   ]
  },
  {
   "cell_type": "markdown",
   "metadata": {},
   "source": [
    "now we know how the time will evolve, let's compute the time to break a 1024 bit key with this algo (knowing that we nearly never use a 1024 bit key anymore)"
   ]
  },
  {
   "cell_type": "code",
   "execution_count": 113,
   "metadata": {},
   "outputs": [
    {
     "data": {
      "text/plain": [
       "array([[5.54464963e+166]])"
      ]
     },
     "execution_count": 113,
     "metadata": {},
     "output_type": "execute_result"
    }
   ],
   "source": [
    "np.exp(regr.predict(1024)) / (365*24*3600)"
   ]
  },
  {
   "cell_type": "markdown",
   "metadata": {},
   "source": [
    "This would means $ 5^{166} $ years !!! Even if the code is written in a more efficient way and shared in multiple computer/cores, the time will not be reachable with the current computation power. To this, we have also to consider memory. This is more difficult to estimate but the dictionnary (memo) will probably not fit into memory too !"
   ]
  },
  {
   "cell_type": "markdown",
   "metadata": {},
   "source": [
    "# Conclusion\n",
    "\n",
    "In this Notebook, I wanted to learn a bit more avoir Discrete Log Attack. Unfortunately, I was not able to make Pollard's rho and Pohlig–Hellman algorithms working. There is few implementations on github but not always working (For example Pollard's rho was a lot faster than BSGS by far but was not finding all private keys properly - it got only 3 keys correct). \n",
    "\n",
    "We saw that the time to get the private key from the public key increase quickly and this is why the key has to be big.  For sure the BSGS is not effichient enough quickly but the first tries of Pollard's roh solve the 38 bits key in 0.2 seconds (vs 8s for BSGS) so maybe a working implementation could solve a lot bigger key.\n",
    "\n",
    "Finally, to implement real good solution for this kind of attacks, another language will be more than required to have the best performances as possible. That'es why C++ implementation is a lot more common."
   ]
  },
  {
   "cell_type": "code",
   "execution_count": null,
   "metadata": {},
   "outputs": [],
   "source": []
  }
 ],
 "metadata": {
  "kernelspec": {
   "display_name": "Python 3",
   "language": "python",
   "name": "python3"
  },
  "toc": {
   "base_numbering": 1,
   "nav_menu": {},
   "number_sections": true,
   "sideBar": true,
   "skip_h1_title": false,
   "title_cell": "Table of Contents",
   "title_sidebar": "Contents",
   "toc_cell": false,
   "toc_position": {},
   "toc_section_display": true,
   "toc_window_display": false
  },
  "varInspector": {
   "cols": {
    "lenName": 16,
    "lenType": 16,
    "lenVar": 40
   },
   "kernels_config": {
    "python": {
     "delete_cmd_postfix": "",
     "delete_cmd_prefix": "del ",
     "library": "var_list.py",
     "varRefreshCmd": "print(var_dic_list())"
    },
    "r": {
     "delete_cmd_postfix": ") ",
     "delete_cmd_prefix": "rm(",
     "library": "var_list.r",
     "varRefreshCmd": "cat(var_dic_list()) "
    }
   },
   "types_to_exclude": [
    "module",
    "function",
    "builtin_function_or_method",
    "instance",
    "_Feature"
   ],
   "window_display": false
  }
 },
 "nbformat": 4,
 "nbformat_minor": 2
}
