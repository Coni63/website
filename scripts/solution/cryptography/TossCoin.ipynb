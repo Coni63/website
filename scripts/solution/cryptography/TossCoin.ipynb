{
 "cells": [
  {
   "cell_type": "markdown",
   "metadata": {},
   "source": [
    "# Introduction\n",
    "\n",
    "In this Notebook, we will just explore a way of playing Toss Coin remotely using Quantum Toss Coin. This is only an implementation of the problem presented by Physics Girl in <a href=\"https://www.youtube.com/watch?v=UjFkIy1GTlk\"> this video</a>.\n",
    "\n",
    "# Problem\n",
    "\n",
    "2 people (Alice and Bob) want to take a decision but they disagree. They decide to to decide the issue by playing Coin flipping. It it's tail, Alice's solution is taken, else it's Bob's one. However there is a problem. They are not at the same place. How the second person (remotely) can be sure that the first one is not cheating ? A quantum Toss Coin ... of course :D. But first, let's explain quickly how polarized light is working.\n",
    "\n",
    "# Polarized Light\n",
    "\n",
    "In nature, the light is polarized in all direction (For this problem; let's keep only the 4 main direction :\n",
    "- Vertical (V)\n",
    "- Horizontal (H)\n",
    "- Diagonal Ascending (D1)\n",
    "- Diagonal Descending (D2)\n",
    "    \n",
    "<img src=\"polarized_light.jpg\"/>\n",
    "\n",
    "When a light is polarized \"V\", a photon with this polarization passes through :\n",
    "- a \"V\" filter in 100% of cases.\n",
    "- a \"H\" filter in 0% of cases.\n",
    "- a \"D1\" filter in 50% of cases.\n",
    "- a \"D2\" filter in 50% of cases.\n",
    "\n",
    "And this mechanics is the same for all filter orientation vs Light polarization\n",
    "\n",
    "# Solution\n",
    "\n",
    "To play a Quantum Toss Coin game, Alice will generate a Binary Code. She will decide about a bank of filter :\n",
    "- \"V\" and \"H\" \n",
    "- \"D1\" and \"D2\"\n",
    "\n",
    "She will generate a set of photon oriented:\n",
    "- \"V\" or \"D1\" if the bit is 0\n",
    "- \"H\" or \"D2\" if the bit is 1\n",
    "\n",
    "Those photons are transfered to Bob.\n",
    "\n",
    "As it is light, Bob cannot use both set of filters (because he can check a photon only once). As a result he randomly choose a set of filter. If the light passes through the filter, he write 1 else 0.\n",
    "\n",
    "Now Bob is in front of 2 partial codes. He has to choose 1 set of filters and say it to Alice. With no more information there is 50%/50% chance of finding the right one. \n",
    "\n",
    "Alice can now say if Bob found the correct set of filters or not. To confirm, Alice can now say out loud the code. It should match the partial code using the 1 set of filter. Alice cannot cheat as the other code is randomly assigned.\n",
    "\n",
    "They finally play remotely at Toss Coin !\n",
    "\n",
    "<img src=\"toss_coin.png\"/>\n",
    "\n",
    "Now we can simulate it easily\n",
    "\n",
    "# Implementation"
   ]
  },
  {
   "cell_type": "code",
   "execution_count": 109,
   "metadata": {},
   "outputs": [],
   "source": [
    "import random"
   ]
  },
  {
   "cell_type": "code",
   "execution_count": 110,
   "metadata": {},
   "outputs": [],
   "source": [
    "# this table store the probability of a photon with a given orientation passe through a filter of a given orientation\n",
    "table = {\n",
    "    \"V\" : {\n",
    "        \"V\" : 1,\n",
    "        \"H\" : 0,\n",
    "        \"D1\" : 0.5,\n",
    "        \"D2\" : 0.5\n",
    "    },\n",
    "    \"H\" : {\n",
    "        \"V\" : 0,\n",
    "        \"H\" : 1,\n",
    "        \"D1\" : 0.5,\n",
    "        \"D2\" : 0.5\n",
    "    },\n",
    "    \"D1\" : {\n",
    "        \"V\" : 0.5,\n",
    "        \"H\" : 0.5,\n",
    "        \"D1\" : 1,\n",
    "        \"D2\" : 0\n",
    "    },\n",
    "    \"D2\" : {\n",
    "        \"V\" : 0.5,\n",
    "        \"H\" : 0.5,\n",
    "        \"D1\" : 0,\n",
    "        \"D2\" : 1\n",
    "    },\n",
    "}\n",
    "\n",
    "filter_bank = [\n",
    "    [\"V\", \"H\"],\n",
    "    [\"D1\", \"D2\"]\n",
    "]"
   ]
  },
  {
   "cell_type": "code",
   "execution_count": 111,
   "metadata": {},
   "outputs": [],
   "source": [
    "def encode(word, filter_):\n",
    "    # Encode the message to photon\n",
    "    return [filter_[i] for i in word]\n",
    "\n",
    "def decode(message, filter1, filter2):\n",
    "    # Decode randomly each photon with a set of filter\n",
    "    m1, m2 = [], []\n",
    "    for x in message:\n",
    "        if random.random() > 0.5:\n",
    "            m1.append(1 if random.random() >= table[x][filter1[0]] else 0)\n",
    "            m2.append(\"_\")\n",
    "        else:\n",
    "            m1.append(\"_\")\n",
    "            m2.append(1 if random.random() >= table[x][filter2[0]] else 0)\n",
    "    return \"\".join(map(str, m1)), \"\".join(map(str, m2))"
   ]
  },
  {
   "cell_type": "code",
   "execution_count": 112,
   "metadata": {},
   "outputs": [],
   "source": [
    "# message length\n",
    "l = 100"
   ]
  },
  {
   "cell_type": "markdown",
   "metadata": {},
   "source": [
    "## Test with Rectilinear filter"
   ]
  },
  {
   "cell_type": "code",
   "execution_count": 115,
   "metadata": {},
   "outputs": [],
   "source": [
    "word = [0 if random.random() >=0.5 else 1 for i in range(l)]"
   ]
  },
  {
   "cell_type": "code",
   "execution_count": 116,
   "metadata": {},
   "outputs": [],
   "source": [
    "photons = encode(word, filter_bank[0])"
   ]
  },
  {
   "cell_type": "code",
   "execution_count": 117,
   "metadata": {},
   "outputs": [],
   "source": [
    "c1, c2 = decode(photons, filter_bank[0], filter_bank[1])"
   ]
  },
  {
   "cell_type": "code",
   "execution_count": 122,
   "metadata": {},
   "outputs": [
    {
     "name": "stdout",
     "output_type": "stream",
     "text": [
      "Message created by Alice\n",
      "0001110010100111000100100010101011101100100101011001111100100111100000001000000001100001011001010101\n",
      "\n",
      "Messages received by Bob\n",
      "Rectilinear filter :\n",
      "0___1__01___01_1___10____01_10__1____1____010__1_0__11110_____1_100__0001___0000___000_1_110_10_0___\n",
      "Diagonal filter :\n",
      "_111_00__000__1_000__1001__1__01_0001_0011___10_1_01_____11011_1___01____111____111___0_0___0__1_000\n"
     ]
    }
   ],
   "source": [
    "print(\"Message created by Alice\")\n",
    "print(\"\".join(map(str, word)))\n",
    "\n",
    "print(\"\\nMessages received by Bob\")\n",
    "print(\"Rectilinear filter :\\n{}\".format(c1))\n",
    "print(\"Diagonal filter :\\n{}\".format(c2))"
   ]
  },
  {
   "cell_type": "markdown",
   "metadata": {},
   "source": [
    "If we compare digit by digit, only the partial code created with Rectilinear filter matches the Initial Code"
   ]
  },
  {
   "cell_type": "markdown",
   "metadata": {},
   "source": [
    "## Test with Diagonal filter"
   ]
  },
  {
   "cell_type": "code",
   "execution_count": 123,
   "metadata": {},
   "outputs": [],
   "source": [
    "word = [0 if random.random() >=0.5 else 1 for i in range(l)]"
   ]
  },
  {
   "cell_type": "code",
   "execution_count": 124,
   "metadata": {},
   "outputs": [],
   "source": [
    "message = encode(word, filter_bank[1])\n",
    "c1, c2 = decode(message, filter_bank[0], filter_bank[1])"
   ]
  },
  {
   "cell_type": "code",
   "execution_count": 125,
   "metadata": {},
   "outputs": [
    {
     "name": "stdout",
     "output_type": "stream",
     "text": [
      "Message created by Alice\n",
      "0111011101110111001101000001001000001010101001010001100010010101100001001001101000000110110000111101\n",
      "\n",
      "Messages received by Bob\n",
      "Rectilinear filter :\n",
      "___1__0_01_11_0___1_100____10___01_0101____110110__0____0_1___00__1_01__1_1____0__110__11____1____0_\n",
      "Diagonal filter :\n",
      "011_01_1__1__1_100_1___0000__010__0____0101______00_1000_0_101__10_0__00_0_1101_00___11__1000_1111_1\n"
     ]
    }
   ],
   "source": [
    "print(\"Message created by Alice\")\n",
    "print(\"\".join(map(str, word)))\n",
    "\n",
    "print(\"\\nMessages received by Bob\")\n",
    "print(\"Rectilinear filter :\\n{}\".format(c1))\n",
    "print(\"Diagonal filter :\\n{}\".format(c2))"
   ]
  },
  {
   "cell_type": "markdown",
   "metadata": {},
   "source": [
    "Here, it's the reverse, only the diagonal matches."
   ]
  },
  {
   "cell_type": "markdown",
   "metadata": {},
   "source": [
    "# Conclusion\n",
    "\n",
    "In this small notebook, we explored how we could use Quantum physics to play remotely Coin Flipping game using light polarization. However, this remain purely experimental are we are not able to transfer photons but still. "
   ]
  }
 ],
 "metadata": {
  "kernelspec": {
   "display_name": "Python 3",
   "language": "python",
   "name": "python3"
  },
  "language_info": {
   "codemirror_mode": {
    "name": "ipython",
    "version": 3
   },
   "file_extension": ".py",
   "mimetype": "text/x-python",
   "name": "python",
   "nbconvert_exporter": "python",
   "pygments_lexer": "ipython3",
   "version": "3.6.3"
  },
  "toc": {
   "base_numbering": 1,
   "nav_menu": {},
   "number_sections": true,
   "sideBar": true,
   "skip_h1_title": false,
   "title_cell": "Table of Contents",
   "title_sidebar": "Contents",
   "toc_cell": false,
   "toc_position": {},
   "toc_section_display": true,
   "toc_window_display": false
  },
  "varInspector": {
   "cols": {
    "lenName": 16,
    "lenType": 16,
    "lenVar": 40
   },
   "kernels_config": {
    "python": {
     "delete_cmd_postfix": "",
     "delete_cmd_prefix": "del ",
     "library": "var_list.py",
     "varRefreshCmd": "print(var_dic_list())"
    },
    "r": {
     "delete_cmd_postfix": ") ",
     "delete_cmd_prefix": "rm(",
     "library": "var_list.r",
     "varRefreshCmd": "cat(var_dic_list()) "
    }
   },
   "types_to_exclude": [
    "module",
    "function",
    "builtin_function_or_method",
    "instance",
    "_Feature"
   ],
   "window_display": false
  }
 },
 "nbformat": 4,
 "nbformat_minor": 2
}
