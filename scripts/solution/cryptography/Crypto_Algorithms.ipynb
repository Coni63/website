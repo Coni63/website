{
 "cells": [
  {
   "cell_type": "markdown",
   "metadata": {},
   "source": [
    "# Introduction\n",
    "\n",
    "PIn previous Notebooks, we saw how to create an asymmetrical key (using RSA) and a symmetrical one (using Elliptical Curve Diffie-Hellman protocol). Now we will assume that we have the key between Alice and Bob and we will check how to encrypt / decrypt a file.\n",
    "\n",
    "According to the NIST, there is 2 algorithm considered as safe (<a href=\"https://nvlpubs.nist.gov/nistpubs/Legacy/SP/nistspecialpublication800-38a.pdf\">Publication</a> and <a href=\"https://csrc.nist.gov/projects/block-cipher-techniques\">Block Cipher Techniques</a>) which are AES and Triple DES. This is the one we will use in this exercice.\n",
    "\n",
    "# Principle\n",
    "\n",
    "In encryption / decryption, the principle is to take a piece of code (fixed and determined by the key length and the algorithm used), encrypt it and do it for every block. This is mainly what I did in the notebook regarding RSA by taking the value of each character.\n",
    "\n",
    "## Padding\n",
    "\n",
    "However, what happen with the last block. there is few chances that it has exaclty the size of the block. As a result, we have to apply some padding which have to be known. It exists several ones explained in <a href=\"https://en.wikipedia.org/wiki/Padding_(cryptography)\">Wikipedia</a>. Based on some other videos I saw, I applied here the <b>ANSI X9.23</b>.\n",
    "\n",
    "## Mode Operation\n",
    "\n",
    "On what I did on the notebook regarding RSA is not recommended because 2 identical input block will have 2 identical output block. It's the case with \"l\" letter in \"Hello\". However on this exemple, our block is far too small (it was just for learning purposes) but the result is still valid. It exist several alternative well explained also on <a href=\"https://en.wikipedia.org/wiki/Block_cipher_mode_of_operation\">Wikipedia</a>. In this notebook, we will use CBC and CTR modes which are the 2 block cipher modes recommended by Niels Ferguson and Bruce Schneier (2 experts in cryptography). NIST also recommand them in the publication presented previously.\n",
    "\n",
    "Now we have everythin explained, let's do some practical test with AES / Triple DES using those 2 modes and the padding ANSI X9.23\n",
    "\n",
    "# Implementation\n",
    "\n",
    "Unfortunately, at this stage, it's still too complicated for me to implement those algorithms. As a reuslt I'll use a library called cryptography"
   ]
  },
  {
   "cell_type": "code",
   "execution_count": 2,
   "metadata": {},
   "outputs": [],
   "source": [
    "import os\n",
    "import re\n",
    "import random\n",
    "import hashlib\n",
    "\n",
    "import cryptography\n",
    "import lorem\n",
    "\n",
    "from cryptography.hazmat.primitives.ciphers import Cipher, algorithms, modes\n",
    "from cryptography.hazmat.backends import default_backend"
   ]
  },
  {
   "cell_type": "markdown",
   "metadata": {},
   "source": [
    "## AES (CBC)\n",
    "\n",
    "let's create random keys to start. For this algorithm we need a 32 bit key as encryption key (but also another key commnly called IV which is used as a starting point for the Mode Operation). This key cqn be publicly transfered. It's just to avoid having repeating clock of encrypted message used by attacker to decypher it. This keyt must be 16 bit long."
   ]
  },
  {
   "cell_type": "code",
   "execution_count": 3,
   "metadata": {},
   "outputs": [],
   "source": [
    "letter = \"0123456789ABCDEF\"\n",
    "random.seed(42)\n",
    "key = \"\".join([random.choice(letter) for i in range(32)])\n",
    "key = bytes(key, 'utf-8')\n",
    "\n",
    "iv = \"\".join([random.choice(letter) for i in range(16)])\n",
    "iv = bytes(iv, 'utf-8')"
   ]
  },
  {
   "cell_type": "markdown",
   "metadata": {},
   "source": [
    "the module os also provides a generator easy to use :"
   ]
  },
  {
   "cell_type": "code",
   "execution_count": 66,
   "metadata": {},
   "outputs": [],
   "source": [
    "# key = os.urandom(32)\n",
    "# iv = os.urandom(16)"
   ]
  },
  {
   "cell_type": "markdown",
   "metadata": {},
   "source": [
    "Let's now declare the encryption/decryption algorithm and the mode (the padding will be done manually)"
   ]
  },
  {
   "cell_type": "code",
   "execution_count": 4,
   "metadata": {},
   "outputs": [],
   "source": [
    "algo = algorithms.AES(key)"
   ]
  },
  {
   "cell_type": "code",
   "execution_count": 5,
   "metadata": {},
   "outputs": [],
   "source": [
    "mode = modes.CBC(iv)"
   ]
  },
  {
   "cell_type": "code",
   "execution_count": 6,
   "metadata": {},
   "outputs": [],
   "source": [
    "cipher = Cipher(algorithms.AES(key), modes.CBC(iv), backend=default_backend())"
   ]
  },
  {
   "cell_type": "markdown",
   "metadata": {},
   "source": [
    "For the exercice, let's create a text file with lorem text."
   ]
  },
  {
   "cell_type": "code",
   "execution_count": 70,
   "metadata": {},
   "outputs": [],
   "source": [
    "# with open(\"lorem.txt\", \"w\") as f:\n",
    "#     for i in range(20):\n",
    "#         f.write(lorem.paragraph())"
   ]
  },
  {
   "cell_type": "markdown",
   "metadata": {},
   "source": [
    "now we can create a new file and write each cyphered block in"
   ]
  },
  {
   "cell_type": "code",
   "execution_count": 71,
   "metadata": {},
   "outputs": [
    {
     "data": {
      "text/plain": [
       "b''"
      ]
     },
     "execution_count": 71,
     "metadata": {},
     "output_type": "execute_result"
    }
   ],
   "source": [
    "encryptor = cipher.encryptor()\n",
    "with open(\"encoded_CBC.txt\", \"wb\") as f_out, open(\"lorem.txt\", \"rb\") as f_in:\n",
    "    while True:\n",
    "        b = f_in.read(64)\n",
    "        if not b:\n",
    "            break\n",
    "\n",
    "#         ANSI X9.23\n",
    "        if len(b) < 64:\n",
    "            padding_size = 64-len(b)\n",
    "            padding_str = \"0\"*(padding_size-2) + \"{:02d}\".format(padding_size)\n",
    "            b += bytes(padding_str, 'utf-8')\n",
    "        ct = encryptor.update(b)\n",
    "        f_out.write(ct)\n",
    "encryptor.finalize()"
   ]
  },
  {
   "cell_type": "markdown",
   "metadata": {},
   "source": [
    "This new file can be decrypted with the same principle"
   ]
  },
  {
   "cell_type": "code",
   "execution_count": 72,
   "metadata": {},
   "outputs": [
    {
     "data": {
      "text/plain": [
       "b''"
      ]
     },
     "execution_count": 72,
     "metadata": {},
     "output_type": "execute_result"
    }
   ],
   "source": [
    "decryptor = cipher.decryptor()\n",
    "with open(\"decoded_CBC.txt\", \"w\") as f_out, open(\"encoded_CBC.txt\", \"rb\") as f_in:\n",
    "    while True:\n",
    "        b = f_in.read(64)\n",
    "        if not b:\n",
    "            break\n",
    "        ct = decryptor.update(b)\n",
    "        ct=ct.decode(\"utf-8\")\n",
    "\n",
    "#         ANSI X9.23\n",
    "        if ct[-2:].isnumeric():\n",
    "            padding_size = int(ct[-2:])\n",
    "            if ct[-padding_size:-2] == \"0\"*(padding_size-2):\n",
    "                ct = ct[:-padding_size]\n",
    "        \n",
    "        f_out.write(ct)\n",
    "decryptor.finalize()"
   ]
  },
  {
   "cell_type": "markdown",
   "metadata": {},
   "source": [
    "To check that both files (initial and final) are identical, let's look at the hash of both files."
   ]
  },
  {
   "cell_type": "code",
   "execution_count": 7,
   "metadata": {},
   "outputs": [],
   "source": [
    "def get_md5(path_file):\n",
    "    hash_md5 = hashlib.md5()\n",
    "    with open(path_file, \"rb\") as f:\n",
    "        for chunk in iter(lambda: f.read(4096), b\"\"):\n",
    "            hash_md5.update(chunk)\n",
    "    return hash_md5.hexdigest()"
   ]
  },
  {
   "cell_type": "code",
   "execution_count": 8,
   "metadata": {},
   "outputs": [
    {
     "data": {
      "text/plain": [
       "'438b07c6a2bb6625b75947ce43e81510'"
      ]
     },
     "execution_count": 8,
     "metadata": {},
     "output_type": "execute_result"
    }
   ],
   "source": [
    "get_md5(\"decoded_CBC.txt\")"
   ]
  },
  {
   "cell_type": "code",
   "execution_count": 9,
   "metadata": {},
   "outputs": [
    {
     "data": {
      "text/plain": [
       "'438b07c6a2bb6625b75947ce43e81510'"
      ]
     },
     "execution_count": 9,
     "metadata": {},
     "output_type": "execute_result"
    }
   ],
   "source": [
    "get_md5(\"lorem.txt\")"
   ]
  },
  {
   "cell_type": "markdown",
   "metadata": {},
   "source": [
    "## AES (CTR)\n",
    "\n",
    "Let's do the same but twith the Mode Operation (CTR) using the same keys"
   ]
  },
  {
   "cell_type": "code",
   "execution_count": 14,
   "metadata": {},
   "outputs": [],
   "source": [
    "algo = algorithms.AES(key)\n",
    "mode = modes.CTR(iv)\n",
    "cipher = Cipher(algorithms.AES(key), modes.CTR(iv), backend=default_backend())"
   ]
  },
  {
   "cell_type": "code",
   "execution_count": 15,
   "metadata": {},
   "outputs": [
    {
     "data": {
      "text/plain": [
       "b''"
      ]
     },
     "execution_count": 15,
     "metadata": {},
     "output_type": "execute_result"
    }
   ],
   "source": [
    "encryptor = cipher.encryptor()\n",
    "with open(\"encoded_CTR.txt\", \"wb\") as f_out, open(\"lorem.txt\", \"rb\") as f_in:\n",
    "    while True:\n",
    "        b = f_in.read(64)\n",
    "        if not b:\n",
    "            break\n",
    "\n",
    "#         ANSI X9.23\n",
    "        if len(b) < 64:\n",
    "            padding_size = 64-len(b)\n",
    "            padding_str = \"0\"*(padding_size-2) + \"{:02d}\".format(padding_size)\n",
    "            b += bytes(padding_str, 'utf-8')\n",
    "        ct = encryptor.update(b)\n",
    "        f_out.write(ct)\n",
    "encryptor.finalize()"
   ]
  },
  {
   "cell_type": "code",
   "execution_count": 16,
   "metadata": {},
   "outputs": [
    {
     "data": {
      "text/plain": [
       "b''"
      ]
     },
     "execution_count": 16,
     "metadata": {},
     "output_type": "execute_result"
    }
   ],
   "source": [
    "decryptor = cipher.decryptor()\n",
    "with open(\"decoded_CTR.txt\", \"w\") as f_out, open(\"encoded_CTR.txt\", \"rb\") as f_in:\n",
    "    while True:\n",
    "        b = f_in.read(64)\n",
    "        if not b:\n",
    "            break\n",
    "        ct = decryptor.update(b)\n",
    "        ct=ct.decode(\"utf-8\")\n",
    "\n",
    "#         ANSI X9.23\n",
    "        if ct[-2:].isnumeric():\n",
    "            padding_size = int(ct[-2:])\n",
    "            if ct[-padding_size:-2] == \"0\"*(padding_size-2):\n",
    "                ct = ct[:-padding_size]\n",
    "        \n",
    "        f_out.write(ct)\n",
    "decryptor.finalize()"
   ]
  },
  {
   "cell_type": "code",
   "execution_count": null,
   "metadata": {},
   "outputs": [],
   "source": [
    "let's have a look at the hash of this new decrypted file."
   ]
  },
  {
   "cell_type": "code",
   "execution_count": 17,
   "metadata": {},
   "outputs": [
    {
     "data": {
      "text/plain": [
       "'438b07c6a2bb6625b75947ce43e81510'"
      ]
     },
     "execution_count": 17,
     "metadata": {},
     "output_type": "execute_result"
    }
   ],
   "source": [
    "get_md5(\"decoded_CTR.txt\")"
   ]
  },
  {
   "cell_type": "markdown",
   "metadata": {},
   "source": [
    "it's the same so everythin gis fine. We can also compare both encrypted file isn term of hash. We will see that even if they have the same key, the cfile will have different hash\n"
   ]
  },
  {
   "cell_type": "code",
   "execution_count": 18,
   "metadata": {},
   "outputs": [
    {
     "data": {
      "text/plain": [
       "'3751b303a9228b590473aaac8a425d0f'"
      ]
     },
     "execution_count": 18,
     "metadata": {},
     "output_type": "execute_result"
    }
   ],
   "source": [
    "get_md5(\"encoded_CBC.txt\")"
   ]
  },
  {
   "cell_type": "code",
   "execution_count": 82,
   "metadata": {},
   "outputs": [
    {
     "data": {
      "text/plain": [
       "'953f03bb3701383e47d570d5f3c2412c'"
      ]
     },
     "execution_count": 82,
     "metadata": {},
     "output_type": "execute_result"
    }
   ],
   "source": [
    "get_md5(\"encoded_CTR.txt\")"
   ]
  },
  {
   "cell_type": "markdown",
   "metadata": {},
   "source": [
    "Perfect ! Let's not do the same with Triple DES in CBC\n",
    "\n",
    "## Triple DES (CBC)\n",
    "\n",
    "This model requires a 24 bits key. Let's create new one."
   ]
  },
  {
   "cell_type": "code",
   "execution_count": 19,
   "metadata": {},
   "outputs": [],
   "source": [
    "letter = \"0123456789ABCDEF\"\n",
    "random.seed(42)\n",
    "key = \"\".join([random.choice(letter) for i in range(24)])\n",
    "key = bytes(key, 'utf-8')\n",
    "\n",
    "iv = \"\".join([random.choice(letter) for i in range(16)])\n",
    "iv = bytes(iv, 'utf-8')"
   ]
  },
  {
   "cell_type": "markdown",
   "metadata": {},
   "source": [
    "All the rest is similar"
   ]
  },
  {
   "cell_type": "code",
   "execution_count": 21,
   "metadata": {},
   "outputs": [],
   "source": [
    "algo = algorithms.TripleDES(key)\n",
    "mode = modes.CBC(iv)\n",
    "cipher = Cipher(algorithms.AES(key), modes.CBC(iv), backend=default_backend())"
   ]
  },
  {
   "cell_type": "code",
   "execution_count": 22,
   "metadata": {},
   "outputs": [
    {
     "data": {
      "text/plain": [
       "b''"
      ]
     },
     "execution_count": 22,
     "metadata": {},
     "output_type": "execute_result"
    }
   ],
   "source": [
    "encryptor = cipher.encryptor()\n",
    "with open(\"encoded.txt\", \"wb\") as f_out, open(\"lorem.txt\", \"rb\") as f_in:\n",
    "    while True:\n",
    "        b = f_in.read(64)\n",
    "        if not b:\n",
    "            break\n",
    "\n",
    "#         ANSI X9.23\n",
    "        if len(b) < 64:\n",
    "            padding_size = 64-len(b)\n",
    "            padding_str = \"0\"*(padding_size-2) + \"{:02d}\".format(padding_size)\n",
    "            b += bytes(padding_str, 'utf-8')\n",
    "        ct = encryptor.update(b)\n",
    "        f_out.write(ct)\n",
    "encryptor.finalize()"
   ]
  },
  {
   "cell_type": "code",
   "execution_count": 23,
   "metadata": {},
   "outputs": [
    {
     "data": {
      "text/plain": [
       "b''"
      ]
     },
     "execution_count": 23,
     "metadata": {},
     "output_type": "execute_result"
    }
   ],
   "source": [
    "decryptor = cipher.decryptor()\n",
    "with open(\"decoded.txt\", \"w\") as f_out, open(\"encoded.txt\", \"rb\") as f_in:\n",
    "    while True:\n",
    "        b = f_in.read(64)\n",
    "        if not b:\n",
    "            break\n",
    "        ct = decryptor.update(b)\n",
    "        ct=ct.decode(\"utf-8\")\n",
    "\n",
    "#         ANSI X9.23\n",
    "        if ct[-2:].isnumeric():\n",
    "            padding_size = int(ct[-2:])\n",
    "            if ct[-padding_size:-2] == \"0\"*(padding_size-2):\n",
    "                ct = ct[:-padding_size]\n",
    "        \n",
    "        f_out.write(ct)\n",
    "decryptor.finalize()"
   ]
  },
  {
   "cell_type": "markdown",
   "metadata": {},
   "source": [
    "And once more, we can look at hashes. the final file has the same hash as the initial one."
   ]
  },
  {
   "cell_type": "code",
   "execution_count": 88,
   "metadata": {},
   "outputs": [
    {
     "data": {
      "text/plain": [
       "'438b07c6a2bb6625b75947ce43e81510'"
      ]
     },
     "execution_count": 88,
     "metadata": {},
     "output_type": "execute_result"
    }
   ],
   "source": [
    "get_md5(\"decoded.txt\")"
   ]
  },
  {
   "cell_type": "code",
   "execution_count": 89,
   "metadata": {},
   "outputs": [
    {
     "data": {
      "text/plain": [
       "'5e1d256a8b3d21a050ef32de02cfadf9'"
      ]
     },
     "execution_count": 89,
     "metadata": {},
     "output_type": "execute_result"
    }
   ],
   "source": [
    "get_md5(\"encoded.txt\")"
   ]
  },
  {
   "cell_type": "markdown",
   "metadata": {},
   "source": [
    "# Conclusion\n",
    "\n",
    "In this notebook, we saw the next block in the encryption algorithm. We now know :\n",
    "- how to generate a key\n",
    "- how to encrypt / decrypt messages with a symmetrical key\n",
    "    - Using different Operation Modes\n",
    "    - Using different Padding System\n",
    "    - Using different Algorithms\n",
    "\n",
    "The only remaining point was partially discussed in the first Notebook regarding encryption / decryption with asymmetrical key. This was discussed in the first notebook and all the rest from this notebook remain true. We have to take longer block and apply some padding. The Operation Mode can also be applied. \n",
    "\n",
    "That means we are done for now on this domain. I bought a book about it and if there is some other interesting topics, I'll go thru on new Notebooks."
   ]
  },
  {
   "cell_type": "code",
   "execution_count": null,
   "metadata": {},
   "outputs": [],
   "source": []
  }
 ],
 "metadata": {
  "kernelspec": {
   "display_name": "Python 3",
   "language": "python",
   "name": "python3"
  },
  "language_info": {
   "codemirror_mode": {
    "name": "ipython",
    "version": 3
   },
   "file_extension": ".py",
   "mimetype": "text/x-python",
   "name": "python",
   "nbconvert_exporter": "python",
   "pygments_lexer": "ipython3",
   "version": "3.6.3"
  },
  "toc": {
   "base_numbering": 1,
   "nav_menu": {},
   "number_sections": true,
   "sideBar": true,
   "skip_h1_title": false,
   "title_cell": "Table of Contents",
   "title_sidebar": "Contents",
   "toc_cell": false,
   "toc_position": {},
   "toc_section_display": true,
   "toc_window_display": false
  },
  "varInspector": {
   "cols": {
    "lenName": 16,
    "lenType": 16,
    "lenVar": 40
   },
   "kernels_config": {
    "python": {
     "delete_cmd_postfix": "",
     "delete_cmd_prefix": "del ",
     "library": "var_list.py",
     "varRefreshCmd": "print(var_dic_list())"
    },
    "r": {
     "delete_cmd_postfix": ") ",
     "delete_cmd_prefix": "rm(",
     "library": "var_list.r",
     "varRefreshCmd": "cat(var_dic_list()) "
    }
   },
   "types_to_exclude": [
    "module",
    "function",
    "builtin_function_or_method",
    "instance",
    "_Feature"
   ],
   "window_display": false
  }
 },
 "nbformat": 4,
 "nbformat_minor": 2
}
