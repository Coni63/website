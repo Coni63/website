{
 "cells": [
  {
   "cell_type": "markdown",
   "metadata": {},
   "source": [
    "# Puzzle\n",
    "\n",
    " \tThe Goal\n",
    "\n",
    "Binary with 0 and 1 is good, but binary with only 0, or almost, is even better! Originally, this is a concept designed by Chuck Norris to send so called unary messages.\n",
    "\n",
    "Write a program that takes an incoming message as input and displays as output the message encoded using Chuck Norris’ method.\n",
    "\n",
    " \tRules\n",
    "\n",
    "Here is the encoding principle:\n",
    "\n",
    "The input message consists of ASCII characters (7-bit)\n",
    "The encoded output message consists of blocks of 0\n",
    "A block is separated from another block by a space\n",
    "Two consecutive blocks are used to produce a series of same value bits (only 1 or 0 values):\n",
    "- First block: it is always 0 or 00. If it is 0, then the series contains 1, if not, it contains 0\n",
    "- Second block: the number of 0 in this block is the number of bits in the series\n",
    " \tExample\n",
    "\n",
    "Let’s take a simple example with a message which consists of only one character: Capital C. C in binary is represented as 1000011, so with Chuck Norris’ technique this gives:\n",
    "\n",
    "0 0 (the first series consists of only a single 1)\n",
    "00 0000 (the second series consists of four 0)\n",
    "0 00 (the third consists of two 1)\n",
    "So C is coded as: 0 0 00 0000 0 00\n",
    "\n",
    " \n",
    "Second example, we want to encode the message CC (i.e. the 14 bits 10000111000011) :\n",
    "\n",
    "0 0 (one single 1)\n",
    "00 0000 (four 0)\n",
    "0 000 (three 1)\n",
    "00 0000 (four 0)\n",
    "0 00 (two 1)\n",
    "So CC is coded as: 0 0 00 0000 0 000 00 0000 0 00"
   ]
  },
  {
   "cell_type": "markdown",
   "metadata": {},
   "source": [
    "# Standard input\n",
    "\n",
    "This is the status when the puzzle starts"
   ]
  },
  {
   "cell_type": "code",
   "execution_count": 1,
   "metadata": {},
   "outputs": [
    {
     "name": "stdout",
     "output_type": "stream",
     "text": [
      "Chuck Norris' keyboard has 2 keys: 0 and white space.\n"
     ]
    }
   ],
   "source": [
    "import sys\n",
    "import math\n",
    "\n",
    "message = input() #Chuck Norris' keyboard has 2 keys: 0 and white space."
   ]
  },
  {
   "cell_type": "markdown",
   "metadata": {},
   "source": [
    "# How to do ?\n",
    "\n",
    "### Step 1 : Get the binary code\n",
    "\n",
    "First, we should understand how to convert the string to a 7-digits binary blocks. This can be achieved by using 2 standards functions :\n",
    "- <a href=\"https://docs.python.org/3/library/functions.html#ord\">ord(c)</a>\n",
    "- <a href=\"https://docs.python.org/2/library/stdtypes.html#str.format\">format(*args, **kwargs)</a>\n",
    "\n",
    "<i>ord</i> will return the ascii code of \"c\". If we convert this integer as type \"b\" with format, it will return the binary of the character\n",
    "<i>format(ord(x), 'b')</i>"
   ]
  },
  {
   "cell_type": "code",
   "execution_count": 2,
   "metadata": {},
   "outputs": [
    {
     "name": "stdout",
     "output_type": "stream",
     "text": [
      "ord('a') = 97\n",
      "format(ord('a'), 'b') = 1100001\n"
     ]
    }
   ],
   "source": [
    "print(\"ord('a') =\", ord('a'))\n",
    "print(\"format(ord('a'), 'b') =\", format(ord('a'), 'b'))"
   ]
  },
  {
   "cell_type": "markdown",
   "metadata": {},
   "source": [
    "Now there is still an issue, depending on the character, the format will return a binary string shorter than 7 digit. If this is the case, the code won't work (you can try it :)). For this we can solve it by either:\n",
    "- fill 7-len(binary_string) times a 0 on the left\n",
    "- use <a href=\"https://docs.python.org/3/library/stdtypes.html\">str.zfill(7)</a>\n",
    "\n",
    "Both solution works, but one is more pythonic !"
   ]
  },
  {
   "cell_type": "code",
   "execution_count": 3,
   "metadata": {},
   "outputs": [
    {
     "name": "stdout",
     "output_type": "stream",
     "text": [
      "binary_string =  101100\n",
      "binary_string_1 =  0101100\n",
      "binary_string_2 =  0101100\n"
     ]
    }
   ],
   "source": [
    "binary_string = format(ord(','), 'b')\n",
    "print(\"binary_string = \", binary_string)\n",
    "\n",
    "# Solution 1\n",
    "binary_string_1 = '0'*(7-len(binary_string)) + binary_string\n",
    "print(\"binary_string_1 = \", binary_string_1)\n",
    "\n",
    "# Solution 2\n",
    "binary_string_2 = binary_string.zfill(7)\n",
    "print(\"binary_string_2 = \", binary_string_2)"
   ]
  },
  {
   "cell_type": "markdown",
   "metadata": {},
   "source": [
    "### Step 2 : Convert the binary code\n",
    "\n",
    "For this one, there is a several solutions, more or less fast / memory consumming.\n",
    "\n",
    "<b>First method</b> : Naive approach:\n",
    "- consist of converting the complete string and then checking every character and compare it to the original one. If there is a change we change the \"first block\" else we incremente the \"second block\"\n",
    "\n",
    "For this example, we gonna create the solution directly by adding string together."
   ]
  },
  {
   "cell_type": "code",
   "execution_count": 4,
   "metadata": {},
   "outputs": [
    {
     "name": "stdout",
     "output_type": "stream",
     "text": [
      "Converted sentence = 10000111101000111010111000111101011010000010011101101111111001011100101101001111001101001110100000110101111001011111001110001011011111100001111001011001000100000110100011000011110011010000001100100100000110101111001011111001111001101110100100000011000001000001100001110111011001000100000111011111010001101001111010011001010100000111001111100001100001110001111001010101110\n",
      "code = 0 0 00 0000 0 0000 00 0 0 0 00 000 0 000 00 0 0 0 00 0 0 000 00 000 0 0000 00 0 0 0 00 0 0 00 00 0 0 0 00 00000 0 0 00 00 0 000 00 0 0 00 00 0 0 0000000 00 00 0 0 00 0 0 000 00 00 0 0 00 0 0 00 00 0 0 0 00 00 0 0000 00 00 0 00 00 0 0 0 00 00 0 000 00 0 0 0 00 00000 0 00 00 0 0 0 00 0 0 0000 00 00 0 0 00 0 0 00000 00 00 0 000 00 000 0 0 00 0 0 00 00 0 0 000000 00 0000 0 0000 00 00 0 0 00 0 0 00 00 00 0 0 00 000 0 0 00 00000 0 00 00 0 0 0 00 000 0 00 00 0000 0 0000 00 00 0 00 00 0 0 0 00 000000 0 00 00 00 0 0 00 00 0 0 00 00000 0 00 00 0 0 0 00 0 0 0000 00 00 0 0 00 0 0 00000 00 00 0 0000 00 00 0 00 00 0 0 000 00 0 0 0 00 00 0 0 00 000000 0 00 00 00000 0 0 00 00000 0 00 00 0000 0 000 00 0 0 000 00 0 0 00 00 00 0 0 00 000 0 0 00 00000 0 000 00 0 0 00000 00 0 0 0 00 000 0 00 00 0 0 0 00 00 0 0000 00 0 0 0 00 00 0 00 00 00 0 0 00 0 0 0 00 0 0 0 00 00000 0 000 00 00 0 00000 00 0000 0 00 00 0000 0 000 00 000 0 0000 00 00 0 0 00 0 0 0 00 0 0 0 00 0 0 000 00 0\n"
     ]
    }
   ],
   "source": [
    "binary_sentence = \"\"\n",
    "for char in message:\n",
    "    binary_sentence += format(ord(char), 'b').zfill(7)\n",
    "\n",
    "print(\"Converted sentence =\", binary_sentence)\n",
    "\n",
    "previous_digit = binary_sentence[0]\n",
    "code = \"0 0\" if previous_digit == \"1\" else \"00 0\"\n",
    "for bit in binary_sentence[1:]:\n",
    "    if bit == previous_digit:\n",
    "        code += \"0\"\n",
    "    else:\n",
    "        code += \" 0 0\" if bit == \"1\" else \" 00 0\"\n",
    "        previous_digit = bit\n",
    "\n",
    "print(\"code =\", code)"
   ]
  },
  {
   "cell_type": "markdown",
   "metadata": {},
   "source": [
    "<b>Second method</b> : Naive approach improved :\n",
    "- Same principle as the previous one but improved in term of memory by converting the string in a generator to avoid wasting memory\n",
    "\n",
    "In that case, there is only in memory the sentence and the 7 digit of the binary code. It won't store 7 digit for each character which is not the best"
   ]
  },
  {
   "cell_type": "code",
   "execution_count": 5,
   "metadata": {},
   "outputs": [
    {
     "name": "stdout",
     "output_type": "stream",
     "text": [
      "The generator is now created and waiting for \"request\" >> <generator object convert at 0x00000220008AF6D0>\n",
      "code = 0 0 00 0000 0 0000 00 0 0 0 00 000 0 000 00 0 0 0 00 0 0 000 00 000 0 0000 00 0 0 0 00 0 0 00 00 0 0 0 00 00000 0 0 00 00 0 000 00 0 0 00 00 0 0 0000000 00 00 0 0 00 0 0 000 00 00 0 0 00 0 0 00 00 0 0 0 00 00 0 0000 00 00 0 00 00 0 0 0 00 00 0 000 00 0 0 0 00 00000 0 00 00 0 0 0 00 0 0 0000 00 00 0 0 00 0 0 00000 00 00 0 000 00 000 0 0 00 0 0 00 00 0 0 000000 00 0000 0 0000 00 00 0 0 00 0 0 00 00 00 0 0 00 000 0 0 00 00000 0 00 00 0 0 0 00 000 0 00 00 0000 0 0000 00 00 0 00 00 0 0 0 00 000000 0 00 00 00 0 0 00 00 0 0 00 00000 0 00 00 0 0 0 00 0 0 0000 00 00 0 0 00 0 0 00000 00 00 0 0000 00 00 0 00 00 0 0 000 00 0 0 0 00 00 0 0 00 000000 0 00 00 00000 0 0 00 00000 0 00 00 0000 0 000 00 0 0 000 00 0 0 00 00 00 0 0 00 000 0 0 00 00000 0 000 00 0 0 00000 00 0 0 0 00 000 0 00 00 0 0 0 00 00 0 0000 00 0 0 0 00 00 0 00 00 00 0 0 00 0 0 0 00 0 0 0 00 00000 0 000 00 00 0 00000 00 0000 0 00 00 0000 0 000 00 000 0 0000 00 00 0 0 00 0 0 0 00 0 0 0 00 0 0 000 00 0\n"
     ]
    }
   ],
   "source": [
    "def convert(s):\n",
    "    for char in s:\n",
    "        binary_sentence = format(ord(char), 'b').zfill(7)\n",
    "        for bit in binary_sentence:\n",
    "            yield bit\n",
    "            \n",
    "generator = convert(message)\n",
    "print(\"The generator is now created and waiting for \\\"request\\\" >>\", generator)\n",
    "\n",
    "previous_digit = next(generator)\n",
    "code = \"0 0\" if previous_digit == \"1\" else \"00 0\"\n",
    "for bit in generator:\n",
    "    if bit == previous_digit:\n",
    "        code += \"0\"\n",
    "    else:\n",
    "        code += \" 0 0\" if bit == \"1\" else \" 00 0\"\n",
    "        previous_digit = bit\n",
    "        \n",
    "print(\"code =\", code)"
   ]
  },
  {
   "cell_type": "markdown",
   "metadata": {},
   "source": [
    "<b>Third method</b> : Packing data :\n",
    "- In this one, the idea is to use a powerfull fonction from the library itertools. Nevertheless, for the memory, it's not really good as we have to convert the complete string\n",
    "\n",
    "The function from itertools is <a href=\"https://docs.python.org/2/library/itertools.html#itertools.groupby\">groupby</a>.\n",
    "It returns a generator of an identical blocks with the value of the block itself and the complete sequence. With the sequence, we can get the length by using len().\n",
    "\n",
    "On this solution, we can also implement another way of \"storing\" the solution by using list instead of a string. At the end, the function <a href=\"https://docs.python.org/3/library/stdtypes.html#str.join\">join</a> will \"convert\" it to the expected string"
   ]
  },
  {
   "cell_type": "code",
   "execution_count": 6,
   "metadata": {},
   "outputs": [
    {
     "name": "stdout",
     "output_type": "stream",
     "text": [
      "Converted sentence = 10000111101000111010111000111101011010000010011101101111111001011100101101001111001101001110100000110101111001011111001110001011011111100001111001011001000100000110100011000011110011010000001100100100000110101111001011111001111001101110100100000011000001000001100001110111011001000100000111011111010001101001111010011001010100000111001111100001100001110001111001010101110\n",
      "0 0 00 0000 0 0000 00 0 0 0 00 000 0 000 00 0 0 0 00 0 0 000 00 000 0 0000 00 0 0 0 00 0 0 00 00 0 0 0 00 00000 0 0 00 00 0 000 00 0 0 00 00 0 0 0000000 00 00 0 0 00 0 0 000 00 00 0 0 00 0 0 00 00 0 0 0 00 00 0 0000 00 00 0 00 00 0 0 0 00 00 0 000 00 0 0 0 00 00000 0 00 00 0 0 0 00 0 0 0000 00 00 0 0 00 0 0 00000 00 00 0 000 00 000 0 0 00 0 0 00 00 0 0 000000 00 0000 0 0000 00 00 0 0 00 0 0 00 00 00 0 0 00 000 0 0 00 00000 0 00 00 0 0 0 00 000 0 00 00 0000 0 0000 00 00 0 00 00 0 0 0 00 000000 0 00 00 00 0 0 00 00 0 0 00 00000 0 00 00 0 0 0 00 0 0 0000 00 00 0 0 00 0 0 00000 00 00 0 0000 00 00 0 00 00 0 0 000 00 0 0 0 00 00 0 0 00 000000 0 00 00 00000 0 0 00 00000 0 00 00 0000 0 000 00 0 0 000 00 0 0 00 00 00 0 0 00 000 0 0 00 00000 0 000 00 0 0 00000 00 0 0 0 00 000 0 00 00 0 0 0 00 00 0 0000 00 0 0 0 00 00 0 00 00 00 0 0 00 0 0 0 00 0 0 0 00 00000 0 000 00 00 0 00000 00 0000 0 00 00 0000 0 000 00 000 0 0000 00 00 0 0 00 0 0 0 00 0 0 0 00 0 0 000 00 0\n"
     ]
    }
   ],
   "source": [
    "import itertools\n",
    "\n",
    "binary_sentence = \"\".join([format(ord(char), 'b').zfill(7) for char in message])\n",
    "print(\"Converted sentence =\", binary_sentence)\n",
    "\n",
    "code = []\n",
    "\n",
    "for value, groupe in itertools.groupby(binary_sentence):\n",
    "    if value == \"0\":\n",
    "        code.append(\"00\")\n",
    "    else:\n",
    "        code.append(\"0\")\n",
    "    code.append(\"0\" * len(list(groupe)))   \n",
    "\n",
    "print(\" \".join(code))     "
   ]
  },
  {
   "cell_type": "markdown",
   "metadata": {},
   "source": [
    "## Conclusion\n",
    "\n",
    "This easy puzzle is nice to go thru different way to get the solution. Some of them are more efficient (generator) but a bit less pythonic (compare to the solution 3). We can see that there is multiple way to handle variables (we can merge strings or use a list instead). The solution 1 is the \"most\" logic one and works well for small data but if you want to convert a book, you should definitely use the generator way and provide it some chunk of the book."
   ]
  }
 ],
 "metadata": {
  "kernelspec": {
   "display_name": "Python 3",
   "language": "python",
   "name": "python3"
  },
  "language_info": {
   "codemirror_mode": {
    "name": "ipython",
    "version": 3
   },
   "file_extension": ".py",
   "mimetype": "text/x-python",
   "name": "python",
   "nbconvert_exporter": "python",
   "pygments_lexer": "ipython3",
   "version": "3.6.1"
  }
 },
 "nbformat": 4,
 "nbformat_minor": 2
}
