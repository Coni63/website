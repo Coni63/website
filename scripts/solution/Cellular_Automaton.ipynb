{
 "cells": [
  {
   "attachments": {},
   "cell_type": "markdown",
   "metadata": {},
   "source": [
    "# Presentation\n",
    "\n",
    "For those who know the <a href=\"https://en.wikipedia.org/wiki/Conway%27s_Game_of_Life\" target=\"_blank\">game of life</a>, it's part of the <a href=\"https://en.wikipedia.org/wiki/Cellular_automaton\" target=\"_blank\">Cellular Automaton </a>. Today we gonna build a different concept of it. \n",
    "\n",
    "The idea is to check on a grid all pairs of nxn grids and change it if there is a pattern recognize. For example on the following matrix :\n",
    "\n",
    "\\begin{vmatrix}\n",
    "1 & 0 & 0 \\\\\n",
    "0 & 1 & 0 \\\\\n",
    "0 & 0 & 0\n",
    "\\end{vmatrix}\n",
    "\n",
    "if we have a pattern saying that :\n",
    "\\begin{vmatrix}\n",
    "1 & 0 \\\\\n",
    "0 & 1 \n",
    "\\end{vmatrix} become \n",
    "\\begin{vmatrix}\n",
    "0 & 1 \\\\\n",
    "1 & 0\n",
    "\\end{vmatrix}\n",
    "we end up after 1 turn to :\n",
    "\n",
    "\\begin{vmatrix}\n",
    "0 & 1 & 0 \\\\\n",
    "1 & 0 & 0 \\\\\n",
    "0 & 0 & 0\n",
    "\\end{vmatrix}\n",
    "\n",
    "To avoid looping on pattern, we must move into the grid. We alternatively change the position where we look for pattern, 1 turn we follow red square, the next turn we check green squares\n",
    "\n",
    "![grid_auto.png](grid_auto.png)\n",
    "\n",
    "# Code"
   ]
  },
  {
   "cell_type": "code",
   "execution_count": 1,
   "metadata": {
    "collapsed": true
   },
   "outputs": [],
   "source": [
    "from PyQt5 import QtGui, QtWidgets, QtCore\n",
    "import sys\n",
    "import numpy as np"
   ]
  },
  {
   "cell_type": "markdown",
   "metadata": {},
   "source": [
    "To determine patterns we cannot use numpy array as key in a dictionnary. So we gonna create a unique key based on the pattern. \n",
    "For this we can reshape the matrix to an array and do a product with a matrix of base 2 (as value can be only 0 or 1). For example the pattern:\n",
    "\n",
    "\\begin{vmatrix}\n",
    "1 & 0 \\\\\n",
    "0 & 1 \n",
    "\\end{vmatrix} becomes \\begin{vmatrix}\n",
    "1 \\\\ 0 \\\\ 0 \\\\ 1 \n",
    "\\end{vmatrix}\n",
    "and if we do the dot with the weighted matrix we end up with :\n",
    "\n",
    "\\begin{equation*}\n",
    "\\begin{vmatrix}\n",
    "1 \\\\ 0 \\\\ 0 \\\\ 1\n",
    "\\end{vmatrix} \\times \\begin{vmatrix}\n",
    "8 \\\\ 4 \\\\ 2 \\\\ 1\n",
    "\\end{vmatrix} = 9\n",
    "\\end{equation*}\n",
    "\n",
    "For every pattern, we gonna apply this calculation and link their key in a disctionnary. Like that we know that the pattern with key a becomes the pattern with key b. After that we have to create a function to go from key to the original matrix."
   ]
  },
  {
   "cell_type": "code",
   "execution_count": 2,
   "metadata": {},
   "outputs": [
    {
     "name": "stdout",
     "output_type": "stream",
     "text": [
      "{9: 6, 6: 9, 8: 1, 1: 8, 4: 2, 2: 4, 12: 3, 3: 12, 10: 5, 5: 10}\n"
     ]
    }
   ],
   "source": [
    "def decimal_to_array(nb):\n",
    "    binary = bin(nb)[2:].zfill(4)\n",
    "    binary = list(binary)\n",
    "    arr = np.array(binary, dtype=np.int8).reshape(2,2)\n",
    "    return arr\n",
    "\n",
    "pattern = {}\n",
    "\n",
    "m = np.array([8,4,2,1])\n",
    "\n",
    "u = np.array([1,0,0,1]).dot(m)\n",
    "v = np.array([0,1,1,0]).dot(m)\n",
    "pattern[u] = v\n",
    "pattern[v] = u\n",
    "\n",
    "u2 = np.array([1,0,0,0]).dot(m)\n",
    "v2 = np.array([0,0,0,1]).dot(m)\n",
    "pattern[u2] = v2\n",
    "pattern[v2] = u2\n",
    "\n",
    "u3 = np.array([0,1,0,0]).dot(m)\n",
    "v3 = np.array([0,0,1,0]).dot(m)\n",
    "pattern[u3] = v3\n",
    "pattern[v3] = u3\n",
    "\n",
    "u4 = np.array([1,1,0,0]).dot(m)\n",
    "v4 = np.array([0,0,1,1]).dot(m)\n",
    "pattern[u4] = v4\n",
    "pattern[v4] = u4\n",
    "\n",
    "u5 = np.array([1,0,1,0]).dot(m)\n",
    "v5 = np.array([0,1,0,1]).dot(m)\n",
    "pattern[u5] = v5\n",
    "pattern[v5] = u5\n",
    "\n",
    "u6 = np.array([1,1,0,0]).dot(m)\n",
    "v6 = np.array([0,0,1,1]).dot(m)\n",
    "pattern[u6] = v6\n",
    "pattern[v6] = u6\n",
    "\n",
    "print(pattern)"
   ]
  },
  {
   "cell_type": "markdown",
   "metadata": {},
   "source": [
    "Now what we can do is to create a simple Interface filled with checkboxes and every 40ms, run the computation and display it with checkboxes checked or unchecked"
   ]
  },
  {
   "cell_type": "code",
   "execution_count": 3,
   "metadata": {
    "collapsed": true
   },
   "outputs": [],
   "source": [
    "class CheckBoxVideo(QtWidgets.QWidget):\n",
    "    def __init__(self, W, H):\n",
    "        super(CheckBoxVideo, self).__init__()\n",
    "        self.width = min(W, 50)\n",
    "        self.height = min(H, 50)\n",
    "        self.init_size = 10\n",
    "        self.size_box = 14\n",
    "        self.status = True\n",
    "        self.list_cb = []\n",
    "        \n",
    "        # creation of emptry grid\n",
    "        self.grid = np.zeros((self.height, self.width))\n",
    "        \n",
    "        # we init a small parts in the middle of the grid with random values\n",
    "        a = np.random.randint(2, size=(self.init_size, self.init_size))\n",
    "        self.grid[ (self.height-self.init_size)//2:(self.height+self.init_size)//2 , (self.width-self.init_size)//2:(self.width+self.init_size)//2 ] = a\n",
    "        \n",
    "        self.interface()\n",
    "\n",
    "    def interface(self):\n",
    "        self.resize(self.width * self.size_box + 6, self.height * self.size_box + 6)\n",
    "        self.setWindowTitle(u\"Automate cellulaire\")\n",
    "        for j in range(self.height):\n",
    "            for i in range(self.width):\n",
    "                check_box = QtWidgets.QCheckBox(self)\n",
    "                check_box.move(i * self.size_box, j * self.size_box)\n",
    "                self.list_cb.append(check_box)\n",
    "\n",
    "        self.timer = QtCore.QBasicTimer()\n",
    "        self.timer.start(40, self) # 25 img/s\n",
    "\n",
    "        self.show()\n",
    "\n",
    "    def timerEvent(self, e):\n",
    "        if self.status:\n",
    "            for y in range(0, self.height, 2):\n",
    "                for x in range(0, self.width, 2):\n",
    "                    decimal_eq = self.grid[y:y + 2, x:x + 2].reshape(1, 4).dot(m)[0]\n",
    "                    new_decimal = pattern.get(decimal_eq, None)\n",
    "                    if new_decimal is not None:\n",
    "                        self.grid[y:y + 2, x:x + 2] = decimal_to_array(new_decimal)\n",
    "        else:\n",
    "            for y in range(1, self.height - 1, 2):\n",
    "                for x in range(1, self.width - 1, 2):\n",
    "                    decimal_eq = self.grid[y:y + 2, x:x + 2].reshape(1, 4).dot(m)[0]\n",
    "                    new_decimal = pattern.get(decimal_eq, None)\n",
    "                    if new_decimal is not None:\n",
    "                        self.grid[y:y + 2, x:x + 2] = decimal_to_array(new_decimal)\n",
    "        self.status = not self.status\n",
    "\n",
    "        for index, checkBox in enumerate(self.list_cb):\n",
    "            x = index % self.width\n",
    "            y = index // self.width\n",
    "            if self.grid[y, x] == 1:\n",
    "                checkBox.setCheckState(2)\n",
    "            else:\n",
    "                checkBox.setCheckState(0)"
   ]
  },
  {
   "cell_type": "code",
   "execution_count": null,
   "metadata": {
    "collapsed": true
   },
   "outputs": [],
   "source": [
    "appli = QtWidgets.QApplication(sys.argv)\n",
    "ckbx = CheckBoxVideo(40,30)\n",
    "sys.exit(appli.exec_())"
   ]
  },
  {
   "attachments": {},
   "cell_type": "markdown",
   "metadata": {},
   "source": [
    "![Cellular_Automata.png](Cellular_Automata.png)"
   ]
  },
  {
   "cell_type": "markdown",
   "metadata": {},
   "source": [
    "And as expected, 25 times per seconds, the system evolved. It probably also exist specific pattern like gliders for the game of life. I let you tries this by yourself :) "
   ]
  }
 ],
 "metadata": {
  "kernelspec": {
   "display_name": "Python 3",
   "language": "python",
   "name": "python3"
  },
  "language_info": {
   "codemirror_mode": {
    "name": "ipython",
    "version": 3
   },
   "file_extension": ".py",
   "mimetype": "text/x-python",
   "name": "python",
   "nbconvert_exporter": "python",
   "pygments_lexer": "ipython3",
   "version": "3.6.1"
  }
 },
 "nbformat": 4,
 "nbformat_minor": 2
}
