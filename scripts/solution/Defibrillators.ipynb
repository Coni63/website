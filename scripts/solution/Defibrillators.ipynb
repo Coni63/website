{
 "cells": [
  {
   "cell_type": "markdown",
   "metadata": {},
   "source": [
    "# Puzzle\n",
    "\n",
    " \tThe Goal\n",
    "\n",
    "The city of Montpellier has equipped its streets with defibrillators to help save victims of cardiac arrests. The data corresponding to the position of all defibrillators is available online.\n",
    "\n",
    "Based on the data we provide in the tests, write a program that will allow users to find the defibrillator nearest to their location using their mobile phone.\n",
    " \tRules\n",
    "\n",
    "The input data you require for your program is provided in text format.\n",
    "This data is comprised of lines, each of which represents a defibrillator. Each defibrillator is represented by the following fields:\n",
    "A number identifying the defibrillator\n",
    "Name\n",
    "Address\n",
    "Contact Phone number\n",
    "Longitude (degrees)\n",
    "Latitude (degrees)\n",
    "These fields are separated by a semicolon (;).\n",
    "\n",
    "Beware: the decimal numbers use the comma (,) as decimal separator. Remember to turn the comma (,) into dot (.) if necessary in order to use the data in your program.\n",
    " \n",
    "DISTANCE\n",
    "The distance d between two points A and B will be calculated using the following formula:\n",
    "\n",
    "\\begin{align}\n",
    "x & = (longitudeB - longitudeA)*cos(\\frac{longitudeB + longitudeA}2) \\\\\n",
    "y & = latitudeB - latitudeA \\\\\n",
    "d & = \\sqrt{x²+y²}*6371\n",
    "\\end{align}\n",
    "\n",
    "Note: In this formula, the latitudes and longitudes are expressed in radians. 6371 corresponds to the radius of the earth in km.\n",
    "\n",
    "The program will display the name of the defibrillator located the closest to the user’s position. This position is given as input to the program."
   ]
  },
  {
   "cell_type": "markdown",
   "metadata": {},
   "source": [
    "# Standard inputs\n",
    "\n",
    "When you start the puzzle, you have the following inputs (I just commented some input as I'll set inputs afterward by hand)"
   ]
  },
  {
   "cell_type": "code",
   "execution_count": 1,
   "metadata": {},
   "outputs": [],
   "source": [
    "import sys\n",
    "import math\n",
    "\n",
    "# lon = input()\n",
    "# lat = input()\n",
    "# n = int(input())\n",
    "# for i in range(n):\n",
    "#     defib = input()"
   ]
  },
  {
   "cell_type": "markdown",
   "metadata": {},
   "source": [
    "Just to ease the following of the script, I'll just modify the input to simple one:"
   ]
  },
  {
   "cell_type": "code",
   "execution_count": 2,
   "metadata": {
    "collapsed": true
   },
   "outputs": [],
   "source": [
    "lon = '3,879483'\n",
    "lat = '43,608177'\n",
    "n = 3\n",
    "defib_list = ['1;Maison de la Prevention Sante;6 rue Maguelone 340000 Montpellier;;3,87952263361082;43,6071285339217', '2;Hotel de Ville;1 place Georges Freche 34267 Montpellier;;3,89652239197876;43,5987299452849', '3;Zoo de Lunaret;50 avenue Agropolis 34090 Mtp;;3,87388031141133;43,6395872778854']"
   ]
  },
  {
   "cell_type": "markdown",
   "metadata": {},
   "source": [
    "The first objective in that case is to parse all datas, for this all number must be parsed but we cannot do it directly. First roadblock, the defib_list contains severals datas (addresses, id, position). Second point, all numbers have a comma separator instead of a point. To di it we can first unpack all datas, replaces comma by point and parsing it to float. This can be done with a simple function"
   ]
  },
  {
   "cell_type": "code",
   "execution_count": 3,
   "metadata": {
    "collapsed": true
   },
   "outputs": [],
   "source": [
    "def Parse_to_Float(number):\n",
    "    number = number.replace(',', '.')\n",
    "    return float(number)"
   ]
  },
  {
   "cell_type": "code",
   "execution_count": null,
   "metadata": {},
   "outputs": [],
   "source": [
    "lon = Parse_to_Float(lon)\n",
    "lat = Parse_to_Float(lat)\n",
    "for defib in defib_list:\n",
    "    key, name, address, phone, longitude, latitutde = defib.split(\";\")\n",
    "    longitude = Parse_to_Float(longitude)\n",
    "    latitutde = Parse_to_Float(latitutde)"
   ]
  },
  {
   "cell_type": "markdown",
   "metadata": {},
   "source": [
    "Now all datas are parsed as expected. We can start to calculate distances. For this, we can write the following function"
   ]
  },
  {
   "cell_type": "code",
   "execution_count": 4,
   "metadata": {
    "collapsed": true
   },
   "outputs": [],
   "source": [
    "def distances(longitudeA, longitudeB, latitudeA, latitudeB):\n",
    "    x = (longitudeB-longitudeA)*math.cos((longitudeB+longitudeA)/2)\n",
    "    y = latitudeB-latitudeA\n",
    "    d = 6371 * math.sqrt(math.pow(x,2)+math.pow(y,2))\n",
    "    return d"
   ]
  },
  {
   "cell_type": "markdown",
   "metadata": {},
   "source": [
    "but we forgot something... Inputs are provided in degree and formula is for angle in radians. For this we can do it in 2 ways :\n",
    "<li>Calculate it by hand in a function (see below)</li>\n",
    "<li>Use the built-in fonction from librairy math called \"radians\" : math.radians(x)</li>"
   ]
  },
  {
   "cell_type": "code",
   "execution_count": 5,
   "metadata": {
    "collapsed": true
   },
   "outputs": [],
   "source": [
    "def Deg_to_Rad(x):\n",
    "    return math.pi * x / 180"
   ]
  },
  {
   "cell_type": "markdown",
   "metadata": {},
   "source": [
    "We can finally do the calculation for every defibrillators and store only the closest one"
   ]
  },
  {
   "cell_type": "code",
   "execution_count": 6,
   "metadata": {},
   "outputs": [],
   "source": [
    "lon = Parse_to_Float(lon)\n",
    "lat = Parse_to_Float(lat)\n",
    "current_min = 1e10\n",
    "for defib in defib_list:\n",
    "    key, name, address, phone, longitude, latitutde = defib.split(\";\")\n",
    "    longitude = Parse_to_Float(longitude)\n",
    "    latitutde = Parse_to_Float(latitutde)\n",
    "    dist_to_defib = distances(math.radians(longitude), \\\n",
    "                              math.radians(lon), \\\n",
    "                              math.radians(latitutde), \\\n",
    "                              math.radians(lat))\n",
    "    if dist_to_defib < current_min:\n",
    "        current_min = dist_to_defib\n",
    "        closest_one = name #because we have to return the name of the closest one"
   ]
  },
  {
   "cell_type": "code",
   "execution_count": 7,
   "metadata": {},
   "outputs": [
    {
     "name": "stdout",
     "output_type": "stream",
     "text": [
      "Maison de la Prevention Sante\n"
     ]
    }
   ],
   "source": [
    "print(closest_one)"
   ]
  },
  {
   "cell_type": "markdown",
   "metadata": {},
   "source": [
    "And we got the expected result. This solution is the simplest one but to have a cleaner script, you can write a class for every defib, create methods to parse data, calculate distances and find the minimum of all instances with function lambda. This look like the following code"
   ]
  },
  {
   "cell_type": "code",
   "execution_count": 8,
   "metadata": {
    "collapsed": true
   },
   "outputs": [],
   "source": [
    "# just to reset inputs\n",
    "lon = '3,879483'\n",
    "lat = '43,608177'\n",
    "n = 3\n",
    "defib_list = ['1;Maison de la Prevention Sante;6 rue Maguelone 340000 Montpellier;;3,87952263361082;43,6071285339217', '2;Hotel de Ville;1 place Georges Freche 34267 Montpellier;;3,89652239197876;43,5987299452849', '3;Zoo de Lunaret;50 avenue Agropolis 34090 Mtp;;3,87388031141133;43,6395872778854']"
   ]
  },
  {
   "cell_type": "code",
   "execution_count": 9,
   "metadata": {
    "collapsed": true
   },
   "outputs": [],
   "source": [
    "def Parse_to_Float(number):\n",
    "    number = number.replace(',', '.')\n",
    "    return float(number)\n",
    "\n",
    "class Defib:\n",
    "    def __init__(self, key, name, address, phone, longitude, latitude):\n",
    "        self.key = key\n",
    "        self.name = name\n",
    "        self.address = address\n",
    "        self.phone = phone\n",
    "        self.longitude = Parse_to_Float(longitude)\n",
    "        self.latitude = Parse_to_Float(latitude)\n",
    "        self.distance = 0\n",
    "        \n",
    "    def distances(self, lon, lat):\n",
    "        x = (self.longitude-lon)*math.cos((self.longitude+lon)/2)\n",
    "        y = self.latitude - lat\n",
    "        self.distance = 6371 * math.sqrt(math.pow(x,2)+math.pow(y,2))"
   ]
  },
  {
   "cell_type": "code",
   "execution_count": 10,
   "metadata": {},
   "outputs": [
    {
     "name": "stdout",
     "output_type": "stream",
     "text": [
      "<__main__.Defib object at 0x000001D716CC7588>\n"
     ]
    }
   ],
   "source": [
    "lon = Parse_to_Float(lon)\n",
    "lat = Parse_to_Float(lat)\n",
    "defib_list_obj = []\n",
    "for each_defib in defib_list:\n",
    "    key, name, address, phone, longitude, latitutde = each_defib.split(\";\")\n",
    "    obj = Defib(key, name, address, phone, longitude, latitutde)\n",
    "    defib_list_obj.append(obj)\n",
    "    \n",
    "closest_one = min(defib_list_obj, key=lambda x : x.distance) # sort all objects by distances \n",
    "print(closest_one)"
   ]
  },
  {
   "cell_type": "markdown",
   "metadata": {},
   "source": [
    "Now we got the closest defibrillator and we can print the name"
   ]
  },
  {
   "cell_type": "code",
   "execution_count": 11,
   "metadata": {},
   "outputs": [
    {
     "name": "stdout",
     "output_type": "stream",
     "text": [
      "Maison de la Prevention Sante\n"
     ]
    }
   ],
   "source": [
    "print(closest_one.name)"
   ]
  },
  {
   "cell_type": "markdown",
   "metadata": {},
   "source": [
    "As you can see, it provides the same output. The benefit of this solution is that we keep all informations regarding all defibrillators. Of course for this puzzle it makes no sense so the first solution is fine (ans same memory as we only keep in memory the closest one and not the n defibrillators). But if you expect to do a script more complex, it can help as you can for example provide the address, provide the second closest one if the 1st one doesn't work and so on...\n",
    "It's again a decision you have to tak when you code it."
   ]
  }
 ],
 "metadata": {
  "kernelspec": {
   "display_name": "Python 3",
   "language": "python",
   "name": "python3"
  },
  "language_info": {
   "codemirror_mode": {
    "name": "ipython",
    "version": 3
   },
   "file_extension": ".py",
   "mimetype": "text/x-python",
   "name": "python",
   "nbconvert_exporter": "python",
   "pygments_lexer": "ipython3",
   "version": "3.6.1"
  }
 },
 "nbformat": 4,
 "nbformat_minor": 2
}
