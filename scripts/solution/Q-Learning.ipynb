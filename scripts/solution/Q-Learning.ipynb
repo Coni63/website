{
 "cells": [
  {
   "cell_type": "markdown",
   "metadata": {},
   "source": [
    "# QLearning"
   ]
  },
  {
   "cell_type": "code",
   "execution_count": 1,
   "metadata": {
    "collapsed": true
   },
   "outputs": [],
   "source": [
    "import math\n",
    "import time\n",
    "\n",
    "import numpy as np\n",
    "import networkx as nx\n",
    "\n",
    "from functools import reduce\n",
    "import operator\n",
    "\n",
    "import gym\n",
    "import imageio\n",
    "\n",
    "from JSAnimation.IPython_display import display_animation\n",
    "from matplotlib import animation\n",
    "import matplotlib.pyplot as plt\n",
    "from IPython.display import display\n",
    "\n",
    "%matplotlib inline"
   ]
  },
  {
   "cell_type": "code",
   "execution_count": 2,
   "metadata": {
    "collapsed": true
   },
   "outputs": [],
   "source": [
    "def render_frames_as_gif(frames, filename):\n",
    "    imageio.mimsave(filename, frames, duration = 1/35.)\n",
    "\n",
    "def display_frames_as_gif(frames):\n",
    "    \"\"\"\n",
    "    Displays a list of frames as a gif, with controls\n",
    "    \"\"\"\n",
    "    plt.figure(figsize=(frames[0].shape[1] / 72.0, frames[0].shape[0] / 72.0), dpi = 72)\n",
    "    patch = plt.imshow(frames[0])\n",
    "    plt.axis('off')\n",
    "\n",
    "    def animate(i):\n",
    "        patch.set_data(frames[i])\n",
    "\n",
    "    anim = animation.FuncAnimation(plt.gcf(), animate, frames = len(frames), interval=50)\n",
    "    display(display_animation(anim, default_mode='loop'))"
   ]
  },
  {
   "cell_type": "markdown",
   "metadata": {},
   "source": [
    "# What is Q-Learning\n",
    "\n",
    "The Q-Learning is an algorithm able to learn from trials. It's called like that as it uses a Q-Matrix which stores a mapping of State -> Action. It's similar to Markov Models. The mapping value is called a Q-Value. \n",
    "\n",
    "During the training stage, the algorithm will explore possibilities and stores a Q-value for every solution based on the outcome of the game. \n",
    "\n",
    "After the training, based on his current State, it will just pick the action with the highest reward.\n",
    "\n",
    "The Q value is calculated using the <a href=\"https://en.wikipedia.org/wiki/Bellman_equation\">Bellman's equation</a>.\n",
    "\n",
    "As a result, the \"brain\" of this algorithm is a matrix of N-features dimensions and K states for every features. This will be presented with multiple examples below from the simplest one to the most complexe one). I won't do a complete explaination of it as there is plenty of content which explain it well. Just as example, we can say that this algorithm mimic the human's behavior on some cases like driving from point A to B.\n",
    "\n",
    "<i>Let's imagine you don't have any GPS / directions and you want to go from your home to your work place. For few times, you may explore some paths. \n",
    "\n",
    "The first day, you try to take the first exit at the roundabout. After that you have a small road which directly goes to your company. You will spend 15 min to reach your goal.\n",
    "\n",
    "The next day, you will take the second exit and reach an stright road but with red lights. You will spend 12 min this time.\n",
    "\n",
    "The third day, you take the same road as it was faster but this time you need 20 min due to red lights... You will start to doubt about it.\n",
    "\n",
    "The day after, you take the last exit and reach an highway with slightly more distance but you can reach your office in 10 min.\n",
    "\n",
    "This is the phase of exploration. When you have explored enought, you decide to always take the shortest path which is the highway. You learnt it by doing trials.</i>\n",
    "\n",
    "Now, let's do it first on this kind of example but bigger and then on more complicated problems."
   ]
  },
  {
   "cell_type": "markdown",
   "metadata": {},
   "source": [
    "# Shortest Path in a graph\n",
    "\n",
    "To start with an easy exercice of a Q-Learner, let's implement an agent able to find the shortest path in a graph. To do so, I used a graph provided in Codingame for a puzzle. In this one, let's try to find the shortest path from Point 12 to Point 28."
   ]
  },
  {
   "cell_type": "code",
   "execution_count": 3,
   "metadata": {
    "collapsed": true
   },
   "outputs": [],
   "source": [
    "initial_state = 12\n",
    "goal = 28\n",
    "nb_points = 49\n",
    "gamma = 0.8\n",
    "points_list = [(1, 0), (1, 2), (2, 3), (3, 4), (4, 5), (3, 6), (7, 3), (9, 5), (5, 8), (13, 0), \n",
    "               (14, 13), (15, 14), (16, 13),(17, 14), (18, 15), (19, 15), (19, 20), (19, 18), \n",
    "               (18, 20), (22, 20), (0, 23), (23, 14), (23, 16), (21, 20), (24, 21), (24, 17), \n",
    "               (28, 27), (27, 29), (27, 26), (26, 25), (25, 21), (21, 30), (30, 34), (31, 35), \n",
    "               (32, 36), (38, 33), (33, 37), (33, 32), (32, 31), (31, 30), (33, 39), (9, 40), \n",
    "               (39, 40), (41, 2), (39, 42), (42, 43), (43, 10), (34, 46), (35, 45), (37, 40), \n",
    "               (41, 46), (44, 45), (44, 40), (7, 41), (5, 10), (47, 12), (11, 47), (10, 47), \n",
    "               (43, 47), (46, 48), (45, 48), (48, 7)] "
   ]
  },
  {
   "cell_type": "markdown",
   "metadata": {},
   "source": [
    "<img src = \"graphe2.png\" />"
   ]
  },
  {
   "cell_type": "code",
   "execution_count": 4,
   "metadata": {
    "collapsed": true
   },
   "outputs": [],
   "source": [
    "# G=nx.Graph()\n",
    "# G.add_edges_from(points_list)\n",
    "# pos = nx.spring_layout(G)\n",
    "# nx.draw_networkx_nodes(G,pos)\n",
    "# nx.draw_networkx_edges(G,pos)\n",
    "# nx.draw_networkx_labels(G,pos)\n",
    "# plt.show()"
   ]
  },
  {
   "cell_type": "markdown",
   "metadata": {},
   "source": [
    "Now let's create the reward matrix. This one will contain :\n",
    "- -1 if there is no link\n",
    "- 0 if there is a link\n",
    "- 100 if the link goes to the end of the graph\n",
    "\n",
    "This is not required in general. In that case we do it to have possible actions and rewards but any other things may be used as we will see with gym."
   ]
  },
  {
   "cell_type": "code",
   "execution_count": 5,
   "metadata": {},
   "outputs": [
    {
     "data": {
      "text/plain": [
       "matrix([[-1.,  0., -1., ..., -1., -1., -1.],\n",
       "        [ 0., -1.,  0., ..., -1., -1., -1.],\n",
       "        [-1.,  0., -1., ..., -1., -1., -1.],\n",
       "        ...,\n",
       "        [-1., -1., -1., ..., -1., -1.,  0.],\n",
       "        [-1., -1., -1., ..., -1., -1., -1.],\n",
       "        [-1., -1., -1., ...,  0., -1., -1.]])"
      ]
     },
     "execution_count": 5,
     "metadata": {},
     "output_type": "execute_result"
    }
   ],
   "source": [
    "R = -1 * np.matrix(np.ones(shape=(nb_points, nb_points)))\n",
    "\n",
    "for point in points_list:\n",
    "    if point[1] == goal:\n",
    "        R[point] = 100\n",
    "    else:\n",
    "        R[point] = 0\n",
    "\n",
    "    if point[0] == goal:\n",
    "        R[point[::-1]] = 100\n",
    "    else:\n",
    "        R[point[::-1]]= 0\n",
    "\n",
    "R[goal,goal]= 100\n",
    "\n",
    "R"
   ]
  },
  {
   "cell_type": "markdown",
   "metadata": {
    "collapsed": true
   },
   "source": [
    "## Training\n",
    "\n",
    "Now we can do the training. To do so, we have to create a Q matrix of (n_states, n_actions). In that case, we have 49 states and 49 actions (every action lead to another state, but some actions won't be available in this specific case). \n",
    "Now to fill this matrix, we will use the <a href=\"https://en.wikipedia.org/wiki/Bellman_equation\">Bellman equation</a>.\n",
    "\n",
    "The training will stop when the score will converge and be in a smaller range than 5."
   ]
  },
  {
   "cell_type": "code",
   "execution_count": 6,
   "metadata": {
    "collapsed": true
   },
   "outputs": [],
   "source": [
    "def available_actions(state):\n",
    "    current_state_row = R[state]\n",
    "    av_act = np.where(current_state_row >= 0)[1]\n",
    "    return av_act\n",
    "\n",
    "def sample_next_action(available_actions_range):\n",
    "    next_action = np.random.choice(available_act, 1)[0]\n",
    "    return next_action\n",
    "\n",
    "def update(current_state, action, gamma):\n",
    "    max_value = np.max(Q[action, :])\n",
    "  \n",
    "    Q[current_state, action] = R[current_state, action] + gamma * max_value\n",
    "  \n",
    "    if (np.max(Q) > 0):\n",
    "        return(np.sum(Q/np.max(Q)*100))\n",
    "    else:\n",
    "        return (0)"
   ]
  },
  {
   "cell_type": "code",
   "execution_count": 7,
   "metadata": {},
   "outputs": [
    {
     "name": "stdout",
     "output_type": "stream",
     "text": [
      "Trained Q matrix:\n",
      "[[ 0.         10.57123048  0.         ...  0.          0.\n",
      "   0.        ]\n",
      " [13.41085335  0.         13.2140381  ...  0.          0.\n",
      "   0.        ]\n",
      " [ 0.         10.72035992  0.         ...  0.          0.\n",
      "   0.        ]\n",
      " ...\n",
      " [ 0.          0.          0.         ...  0.          0.\n",
      "  16.76356668]\n",
      " [ 0.          0.          0.         ...  0.          0.\n",
      "   0.        ]\n",
      " [ 0.          0.          0.         ... 20.95445835  0.\n",
      "   0.        ]]\n",
      "Execution time : 0.330\n"
     ]
    },
    {
     "data": {
      "image/png": "[encoded data removed]",
      "text/plain": [
       "<matplotlib.figure.Figure at 0x18e3d989278>"
      ]
     },
     "metadata": {},
     "output_type": "display_data"
    }
   ],
   "source": [
    "Q = np.matrix(np.zeros([nb_points, nb_points]))\n",
    "\n",
    "start = time.time()\n",
    "\n",
    "scores = []\n",
    "while True:\n",
    "    current_state = np.random.randint(0, int(Q.shape[0]))\n",
    "    available_act = available_actions(current_state)\n",
    "    action = sample_next_action(available_act)\n",
    "    score = update(current_state,action,gamma)\n",
    "    scores.append(score)\n",
    "    \n",
    "    if len(scores) > 200:\n",
    "        if max(scores[-200:]) - min(scores[-200:]) < 5:\n",
    "            break\n",
    "    \n",
    "end = time.time()\n",
    "    \n",
    "print(\"Trained Q matrix:\")\n",
    "print(Q/np.max(Q)*100)\n",
    "print(\"Execution time : {:.3f}\".format(end-start))\n",
    "\n",
    "plt.figure(figsize=(20,12))\n",
    "plt.plot(scores)\n",
    "plt.title(\"Evolution of the score during the training\", fontsize=20)\n",
    "plt.ylabel(\"Score\", fontsize=15)\n",
    "plt.xlabel(\"Episode\", fontsize=15)\n",
    "plt.show()"
   ]
  },
  {
   "cell_type": "markdown",
   "metadata": {},
   "source": [
    "Depending on the random, it takes around 2500 simulation to converge. After that, we can use it to find the shortest path.\n",
    "\n",
    "## Testing\n",
    "\n",
    "As mentionned previously, for the test, we just have to take for every step the action which lead to the highest Q-value."
   ]
  },
  {
   "cell_type": "code",
   "execution_count": 8,
   "metadata": {},
   "outputs": [
    {
     "name": "stdout",
     "output_type": "stream",
     "text": [
      "Most efficient path:\n",
      "[12, 47, 43, 42, 39, 33, 32, 31, 30, 21, 25, 26, 27, 28]\n"
     ]
    }
   ],
   "source": [
    "current_state = initial_state\n",
    "steps = [current_state]\n",
    "\n",
    "while current_state != goal:\n",
    "\n",
    "    next_step_index = np.where(Q[current_state,] == np.max(Q[current_state,]))[1]\n",
    "    \n",
    "    if next_step_index.shape[0] > 1:\n",
    "        next_step_index = int(np.random.choice(next_step_index, size = 1))\n",
    "    else:\n",
    "        next_step_index = int(next_step_index)\n",
    "    \n",
    "    steps.append(next_step_index)\n",
    "    current_state = next_step_index\n",
    "\n",
    "print(\"Most efficient path:\")\n",
    "print(steps)"
   ]
  },
  {
   "cell_type": "markdown",
   "metadata": {
    "collapsed": true
   },
   "source": [
    "We can see that the path is the shortest. This algorithm is not the fastest one if we compare it to other known algorithms like Dijkstra but we will see just after that it can do a lot better than this small example."
   ]
  },
  {
   "cell_type": "markdown",
   "metadata": {},
   "source": [
    "# Gym : MountainCar\n",
    "\n",
    "## Presentation\n",
    "\n",
    "In this environment, we have to climb a mountain with a vehicule. The problem is that the engine is not powerfull enought to climb it directly. We need to increase the momentum by balancing the car but this solution won't be provided to the algorithm. It has to figure it our by himself. \n",
    "\n",
    "I used this environment first because there is only 2 observations with limits and the output are finite values. The explaination of this environement is available <a href=\"https://github.com/openai/gym/wiki/MountainCar-v0\">here</a>. The only difficulty is on the reward, we have it only if you reached the top so the algorithm will start randomly and may take time to at least succeed once and start to have the correct behavior.\n",
    "\n",
    "Prior to start, let's look at a random agent playing.\n",
    "\n",
    "## Random agent"
   ]
  },
  {
   "cell_type": "code",
   "execution_count": 9,
   "metadata": {
    "collapsed": true
   },
   "outputs": [],
   "source": [
    "env = gym.make('MountainCar-v0')\n",
    "\n",
    "observation = env.reset()\n",
    "frames = []\n",
    "for t in range(200):\n",
    "    frames.append(env.render(mode = 'rgb_array'))\n",
    "    action = env.action_space.sample()\n",
    "    observation, reward, done, info = env.step(action)\n",
    "env.close()\n",
    "\n",
    "# render_frames_as_gif(frames, \"gym_gifs/random_mountain_car.gif\")"
   ]
  },
  {
   "cell_type": "markdown",
   "metadata": {},
   "source": [
    "<img src=\"gym_gifs/random_mountain_car.gif\"/>"
   ]
  },
  {
   "cell_type": "markdown",
   "metadata": {},
   "source": [
    "## Training\n",
    "\n",
    "Now let's do the training. Let's first have a quick look at the environment"
   ]
  },
  {
   "cell_type": "code",
   "execution_count": 10,
   "metadata": {},
   "outputs": [
    {
     "name": "stdout",
     "output_type": "stream",
     "text": [
      "Example of observations : [-0.42245627  0.        ]\n",
      "Example of output : 0\n",
      "Minimum of observation state : [-1.2  -0.07]\n",
      "Maximum of observation state : [0.6  0.07]\n",
      "Output space : 3\n"
     ]
    }
   ],
   "source": [
    "score, step = 0, 0\n",
    "obs = env.reset()\n",
    "print(\"Example of observations :\", obs)\n",
    "print(\"Example of output :\", env.action_space.sample() )\n",
    "print(\"Minimum of observation state :\", env.observation_space.low)\n",
    "print(\"Maximum of observation state :\", env.observation_space.high)\n",
    "print(\"Output space :\", env.action_space.n)"
   ]
  },
  {
   "cell_type": "markdown",
   "metadata": {},
   "source": [
    "This project is quite simple to train as we have only 2 features. We will just discretize them and the size of the state space will be quite small"
   ]
  },
  {
   "cell_type": "code",
   "execution_count": 11,
   "metadata": {},
   "outputs": [
    {
     "name": "stdout",
     "output_type": "stream",
     "text": [
      "Size of the State space : 19 x 15 = 285\n"
     ]
    }
   ],
   "source": [
    "Sample_1 = np.around(np.arange(env.observation_space.low[0], env.observation_space.high[0], 0.1), 1)\n",
    "Sample_2 = np.around(np.arange(env.observation_space.low[1], env.observation_space.high[1], 0.01), 2)\n",
    "\n",
    "print(\"Size of the State space : {} x {} = {}\".format(len(Sample_1), len(Sample_2), len(Sample_1) * len(Sample_2)))"
   ]
  },
  {
   "cell_type": "markdown",
   "metadata": {},
   "source": [
    "So here we have only 285 possibilities of states (based on our current discretization). This search space being small, the training won't require a lot of test to find the proper policy."
   ]
  },
  {
   "cell_type": "code",
   "execution_count": 12,
   "metadata": {
    "collapsed": true
   },
   "outputs": [],
   "source": [
    "iter_max = 2500\n",
    "\n",
    "initial_lr = 1.0\n",
    "min_lr = 0.03\n",
    "gamma = 1.0\n",
    "t_max = 10000\n",
    "eps = 0.02"
   ]
  },
  {
   "cell_type": "markdown",
   "metadata": {},
   "source": [
    "In this simple example, we will explore in fully random pick in 2% of states. For the rest, we will pass all Q-values for this state to a sigmoid function to have a random probablity of all actions. The biggest value the Q value will be, the more it may be picked. Nevertheless, the random will still be used to pick an action.\n",
    "\n",
    "An other point to see is that the Bellman equation slightly changed. This equation is the one from an extension of the Q-Learning called SARSA for State-Action-Reward-State-Action. It uses the expected reward a the next step to update the Q-value and not only the reward."
   ]
  },
  {
   "cell_type": "code",
   "execution_count": 13,
   "metadata": {
    "collapsed": true
   },
   "outputs": [],
   "source": [
    "def softmax(X):\n",
    "    logits_exp = np.exp(X)\n",
    "    probs = logits_exp / np.sum(logits_exp)\n",
    "    return probs\n",
    "\n",
    "def obs_to_state(obs):\n",
    "    rounded_obs_1 = np.around(obs[0], 1)\n",
    "    rounded_obs_2 = np.around(obs[1], 2)\n",
    "    state_act_1 = np.where(Sample_1 == rounded_obs_1)[0][0]\n",
    "    state_act_2 = np.where(Sample_2 == rounded_obs_2)[0][0]\n",
    "    return (state_act_1, state_act_2)"
   ]
  },
  {
   "cell_type": "code",
   "execution_count": 14,
   "metadata": {},
   "outputs": [
    {
     "name": "stderr",
     "output_type": "stream",
     "text": [
      "C:\\python36\\envs\\machine_learning\\lib\\site-packages\\ipykernel_launcher.py:3: RuntimeWarning: invalid value encountered in true_divide\n",
      "  This is separate from the ipykernel package so we can avoid doing imports until\n",
      "C:\\python36\\envs\\machine_learning\\lib\\site-packages\\ipykernel_launcher.py:14: RuntimeWarning: invalid value encountered in less\n",
      "  \n"
     ]
    }
   ],
   "source": [
    "Q = np.zeros(shape=(len(Sample_1), len(Sample_2), env.action_space.n), dtype=np.float32)\n",
    "scores = []\n",
    "for i in range(iter_max):\n",
    "    obs = env.reset()\n",
    "    total_reward = 0\n",
    "    ## eta: learning rate is decreased at each step\n",
    "    eta = max(min_lr, initial_lr * (0.85 ** (i//100)))\n",
    "    for j in range(t_max):\n",
    "        state = obs_to_state(obs)\n",
    "        if np.random.uniform(0, 1) < eps:\n",
    "            action = np.random.choice(env.action_space.n)\n",
    "        else:\n",
    "            probs = softmax(Q[state])\n",
    "            action = np.random.choice(env.action_space.n, p=probs)\n",
    "        obs, reward, done, _ = env.step(action)\n",
    "        total_reward += reward\n",
    "\n",
    "        new_state = obs_to_state(obs)\n",
    "        Q[state][action] = Q[state][action] + eta * (reward + gamma *  np.max(Q[new_state]) - Q[state][action])\n",
    "        if done:\n",
    "            break\n",
    "    \n",
    "    scores.append(total_reward)"
   ]
  },
  {
   "cell_type": "markdown",
   "metadata": {},
   "source": [
    "We have a reward of -1 every step. LIf we failed to reach the top, we have -200. If we reached the top faster, we still have a negative reward but higher. Now we know that, let's look at the reward. "
   ]
  },
  {
   "cell_type": "code",
   "execution_count": 15,
   "metadata": {},
   "outputs": [
    {
     "data": {
      "image/png": "[encoded data removed]",
      "text/plain": [
       "<matplotlib.figure.Figure at 0x18e3ff5d2b0>"
      ]
     },
     "metadata": {},
     "output_type": "display_data"
    }
   ],
   "source": [
    "plt.figure(figsize=(20,12))\n",
    "plt.plot(scores)\n",
    "plt.title(\"Evolution of the score during the training\", fontsize=20)\n",
    "plt.ylabel(\"Score\", fontsize=15)\n",
    "plt.xlabel(\"Episode\", fontsize=15)\n",
    "plt.show()"
   ]
  },
  {
   "cell_type": "markdown",
   "metadata": {},
   "source": [
    "Compare to the previous environment, the result has more noise. It required several hundredhth of trial before to understand how to win. With 1000 iterations, we may still fail because will still pick action randomly or because the training is not perfect yet. The more training we do, the better will be algorithm as the probability to pick an action will be more and more the correct one."
   ]
  },
  {
   "cell_type": "markdown",
   "metadata": {},
   "source": [
    "## Testing"
   ]
  },
  {
   "cell_type": "code",
   "execution_count": 16,
   "metadata": {
    "collapsed": true
   },
   "outputs": [],
   "source": [
    "env = gym.make(\"MountainCar-v0\")\n",
    "\n",
    "frames = []\n",
    "obs = env.reset()\n",
    "while True:\n",
    "    frames.append(env.render(mode = 'rgb_array'))\n",
    "    state = obs_to_state(obs)\n",
    "    action = np.argmax(Q[state])\n",
    "    obs, reward, done, _ = env.step(action)\n",
    "    if done:\n",
    "        break\n",
    "\n",
    "env.close()\n",
    "\n",
    "# render_frames_as_gif(frames, \"gym_gifs/trained_mountain_car.gif\")"
   ]
  },
  {
   "cell_type": "markdown",
   "metadata": {},
   "source": [
    "<img src=\"gym_gifs/trained_mountain_car.gif\"/>"
   ]
  },
  {
   "cell_type": "markdown",
   "metadata": {},
   "source": [
    "# Gym : CartPole\n",
    "\n",
    "## Presentation\n",
    "\n",
    "The 3rd example is a bit more complex. The idea here is to maintain a pole at the vertical by moving left or right a cart. In this environment, we have reward at every steps (compare to the previous example where we have rewards only if we reached the top). The drawback here is that our environment has 2 observation which are continuous and infinite (cart speed and pole angular velocity) and we have 4 observations in total. This will lead to an higher state space. But first, let's try a random agent."
   ]
  },
  {
   "cell_type": "code",
   "execution_count": 17,
   "metadata": {},
   "outputs": [
    {
     "name": "stdout",
     "output_type": "stream",
     "text": [
      "\u001b[33mWARN: You are calling 'step()' even though this environment has already returned done = True. You should always call 'reset()' once you receive 'done = True' -- any further steps are undefined behavior.\u001b[0m\n"
     ]
    }
   ],
   "source": [
    "env = gym.make('CartPole-v0')\n",
    "\n",
    "observation = env.reset()\n",
    "frames = []\n",
    "for t in range(200):\n",
    "    frames.append(env.render(mode = 'rgb_array'))\n",
    "    action = env.action_space.sample()\n",
    "    observation, reward, done, info = env.step(action)\n",
    "env.close()\n",
    "\n",
    "# render_frames_as_gif(frames, \"gym_gifs/random_cartpole.gif\")"
   ]
  },
  {
   "cell_type": "markdown",
   "metadata": {},
   "source": [
    "<img src=\"gym_gifs/random_cartpole.gif\"/>"
   ]
  },
  {
   "cell_type": "markdown",
   "metadata": {},
   "source": [
    "## Training\n",
    "\n",
    "Now let's do the training. As usual, let's first have a quick look at the environment."
   ]
  },
  {
   "cell_type": "code",
   "execution_count": 18,
   "metadata": {},
   "outputs": [
    {
     "name": "stdout",
     "output_type": "stream",
     "text": [
      "[-0.01648319  0.02870944  0.00409404  0.02072013]\n",
      "1\n",
      "[-4.8000002e+00 -3.4028235e+38 -4.1887903e-01 -3.4028235e+38]\n",
      "[4.8000002e+00 3.4028235e+38 4.1887903e-01 3.4028235e+38]\n",
      "2\n"
     ]
    }
   ],
   "source": [
    "score, step = 0, 0\n",
    "obs = env.reset()\n",
    "print(obs)\n",
    "print(env.action_space.sample() )\n",
    "print(env.observation_space.low)\n",
    "print(env.observation_space.high)\n",
    "print(env.action_space.n)"
   ]
  },
  {
   "cell_type": "markdown",
   "metadata": {},
   "source": [
    "As we have continuous states and 2 infinites ones, we have to take decisions. In my case, I reduced the 2 infinites states by a values clipped to :\n",
    "- +/- 0,5 for the X_dot \n",
    "- +/- 0,872 for the Theta_dot \n",
    "\n",
    "After I discretize the state in a reasonable number of bins."
   ]
  },
  {
   "cell_type": "code",
   "execution_count": 19,
   "metadata": {},
   "outputs": [
    {
     "name": "stdout",
     "output_type": "stream",
     "text": [
      "Size of the State space : (26, 21, 29, 36, 2)\n",
      "Number of States : 1140048\n"
     ]
    }
   ],
   "source": [
    "Sample_X = np.around(np.arange(env.observation_space.low[0], env.observation_space.high[0], 0.4), 1)\n",
    "Sample_X_dot = np.around(np.arange(-0.5, 0.5, 0.05), 2)\n",
    "Sample_theta = np.around(np.arange(env.observation_space.low[2], env.observation_space.high[2], 0.03), 2)\n",
    "Sample_theta_dot = np.around(np.arange(-math.radians(50), math.radians(50), 0.05), 2)\n",
    "\n",
    "Q = np.zeros(shape=(len(Sample_X)+1, len(Sample_X_dot)+1, len(Sample_theta)+1, len(Sample_theta_dot)+1, env.action_space.n), dtype=np.float32)\n",
    "\n",
    "print(\"Size of the State space :\", Q.shape)\n",
    "print(\"Number of States :\", reduce(operator.mul, Q.shape, 1))"
   ]
  },
  {
   "cell_type": "markdown",
   "metadata": {},
   "source": [
    "Our space state is now a lot bigger... close to 1 millions states. By luck, some of them won't be explored as they are very rare. We can see that our model have 43848 possibilities of actions and the training will try to figure out the actions to use in all of this conditions.\n",
    "\n",
    "Compare to the previous example, we will now drive the exploration factor and learning rate to decrease from time. This will replace the sigmoid used previously. We will either pick a random value, or pick the one with the best Q-Value."
   ]
  },
  {
   "cell_type": "code",
   "execution_count": 20,
   "metadata": {},
   "outputs": [
    {
     "name": "stdout",
     "output_type": "stream",
     "text": [
      "Iteration 250 - Average score on the 250 latest = 16.476\n",
      "Iteration 500 - Average score on the 250 latest = 15.952\n",
      "Iteration 750 - Average score on the 250 latest = 18.1\n",
      "Iteration 1000 - Average score on the 250 latest = 18.064\n",
      "Iteration 1250 - Average score on the 250 latest = 21.944\n",
      "Iteration 1500 - Average score on the 250 latest = 24.772\n",
      "Iteration 1750 - Average score on the 250 latest = 43.104\n",
      "Iteration 2000 - Average score on the 250 latest = 60.176\n",
      "Iteration 2250 - Average score on the 250 latest = 86.732\n",
      "Iteration 2500 - Average score on the 250 latest = 85.996\n",
      "Iteration 2750 - Average score on the 250 latest = 91.924\n",
      "Iteration 3000 - Average score on the 250 latest = 112.82\n",
      "Iteration 3250 - Average score on the 250 latest = 127.468\n",
      "Iteration 3500 - Average score on the 250 latest = 135.004\n",
      "Iteration 3750 - Average score on the 250 latest = 127.42\n",
      "Iteration 4000 - Average score on the 250 latest = 151.784\n",
      "Iteration 4250 - Average score on the 250 latest = 155.952\n",
      "Iteration 4500 - Average score on the 250 latest = 164.252\n",
      "Iteration 4750 - Average score on the 250 latest = 165.908\n",
      "Iteration 5000 - Average score on the 250 latest = 167.732\n",
      "Iteration 5250 - Average score on the 250 latest = 175.632\n",
      "Iteration 5500 - Average score on the 250 latest = 174.348\n",
      "Iteration 5750 - Average score on the 250 latest = 178.508\n",
      "Iteration 6000 - Average score on the 250 latest = 178.364\n",
      "Iteration 6250 - Average score on the 250 latest = 174.536\n",
      "Iteration 6500 - Average score on the 250 latest = 186.812\n",
      "Iteration 6750 - Average score on the 250 latest = 179.704\n",
      "Iteration 7000 - Average score on the 250 latest = 178.964\n",
      "Iteration 7250 - Average score on the 250 latest = 183.252\n",
      "Iteration 7500 - Average score on the 250 latest = 172.216\n",
      "Iteration 7750 - Average score on the 250 latest = 186.712\n",
      "Iteration 8000 - Average score on the 250 latest = 179.992\n",
      "Iteration 8250 - Average score on the 250 latest = 174.308\n",
      "Iteration 8500 - Average score on the 250 latest = 183.004\n",
      "Iteration 8750 - Average score on the 250 latest = 181.12\n",
      "Iteration 9000 - Average score on the 250 latest = 179.912\n",
      "Iteration 9250 - Average score on the 250 latest = 173.676\n",
      "Iteration 9500 - Average score on the 250 latest = 186.22\n",
      "Iteration 9750 - Average score on the 250 latest = 182.736\n"
     ]
    }
   ],
   "source": [
    "def obs_to_state(obs):\n",
    "    state_X = 0 # int(np.digitize(obs[0], Sample_X))\n",
    "    state_X_dot = int(np.digitize(obs[1], Sample_X_dot))\n",
    "    state_theta = int(np.digitize(obs[2], Sample_theta))\n",
    "    state_theta_dot = int(np.digitize(obs[3], Sample_theta_dot))\n",
    "    return (state_X, state_X_dot, state_theta, state_theta_dot)\n",
    "\n",
    "iter_max = 10000\n",
    "\n",
    "initial_lr = 1.0 # Learning rate\n",
    "min_lr = 0.3\n",
    "gamma = 1.0\n",
    "t_max = 10000\n",
    "\n",
    "min_epsilon = 0.1\n",
    "ada_divisor  = 25\n",
    "\n",
    "Q = np.zeros(shape=(len(Sample_X)+1, len(Sample_X_dot)+1, len(Sample_theta)+1, len(Sample_theta_dot)+1, env.action_space.n), dtype=np.float32)\n",
    "scores = []\n",
    "for i in range(iter_max):\n",
    "    obs = env.reset()\n",
    "    new_state = obs_to_state(obs)\n",
    "    total_reward = 0\n",
    "    eta = max(min_lr, min(1.0, 1.0 - math.log10((i + 1) / ada_divisor) ))\n",
    "    eps = max(min_epsilon, min(1, 1.0 - math.log10((i + 1) / ada_divisor) ))\n",
    "    for j in range(t_max):\n",
    "        current_state = new_state\n",
    "        if np.random.random() < eps:\n",
    "            action = np.random.choice(env.action_space.n)\n",
    "        else:\n",
    "            action = np.argmax(Q[current_state])\n",
    "        obs, reward, done, _ = env.step(action)\n",
    "        total_reward += reward\n",
    "\n",
    "        new_state = obs_to_state(obs)\n",
    "        Q[current_state][action] += eta * (reward + gamma * np.max(Q[new_state]) - Q[current_state][action])\n",
    "        if done:\n",
    "            break\n",
    "\n",
    "    scores.append(total_reward)\n",
    "    if i > 249 and i % 250 == 0 :\n",
    "        print(\"Iteration {} - Average score on the 250 latest = {}\".format(i, sum(scores[-250:]) / 250))"
   ]
  },
  {
   "cell_type": "markdown",
   "metadata": {},
   "source": [
    "Like we did previously, we can look at scores over episodes."
   ]
  },
  {
   "cell_type": "code",
   "execution_count": 21,
   "metadata": {},
   "outputs": [
    {
     "data": {
      "image/png": "[encoded data removed]",
      "text/plain": [
       "<matplotlib.figure.Figure at 0x18e3ff32c18>"
      ]
     },
     "metadata": {},
     "output_type": "display_data"
    }
   ],
   "source": [
    "plt.figure(figsize=(20,12))\n",
    "plt.plot(scores)\n",
    "plt.title(\"Evolution of the score during the training\", fontsize=20)\n",
    "plt.ylabel(\"Score\", fontsize=15)\n",
    "plt.xlabel(\"Episode\", fontsize=15)\n",
    "plt.show()"
   ]
  },
  {
   "cell_type": "markdown",
   "metadata": {},
   "source": [
    "We can see a trend but the result is noisy still due to random. We can now test it."
   ]
  },
  {
   "cell_type": "markdown",
   "metadata": {},
   "source": [
    "## Testing\n",
    "\n",
    "As we did previously, we can do the same code for this environment"
   ]
  },
  {
   "cell_type": "code",
   "execution_count": 22,
   "metadata": {
    "collapsed": true
   },
   "outputs": [],
   "source": [
    "env = gym.make(\"CartPole-v0\")\n",
    "\n",
    "frames = []\n",
    "obs = env.reset()\n",
    "while True:\n",
    "    frames.append(env.render(mode = 'rgb_array'))\n",
    "    state = obs_to_state(obs)\n",
    "    action = np.argmax(Q[state])\n",
    "    obs, reward, done, _ = env.step(action)\n",
    "    if done:\n",
    "        break\n",
    "\n",
    "env.close()\n",
    "\n",
    "# render_frames_as_gif(frames, \"gym_gifs/train_cartpole.gif\")"
   ]
  },
  {
   "cell_type": "markdown",
   "metadata": {},
   "source": [
    "<img src=\"gym_gifs/train_cartpole.gif\"/>"
   ]
  },
  {
   "cell_type": "markdown",
   "metadata": {},
   "source": [
    "We can see that it worked well. It's not perfect yet, to do so, we may need to increase the number of states to have more possibilities (for example for values close to 0)"
   ]
  },
  {
   "cell_type": "markdown",
   "metadata": {},
   "source": [
    "# Gym : Pendulum\n",
    "\n",
    "## Presentation\n",
    "\n",
    "This 3rd environment is different. Now we have 2 finite number which are the sine and cosine of the pole angle and the 3rd one is also continuous but infinite. We already know how to manage this kind of states but now the reward is also continuous. The main difference with previous models is the action, it's a continuous one. As a result, we will discretize it and we will map the index of the action to the value. \n",
    "\n",
    "Prior to do the training, let's again check the outcome of a random agent."
   ]
  },
  {
   "cell_type": "code",
   "execution_count": 23,
   "metadata": {
    "collapsed": true
   },
   "outputs": [],
   "source": [
    "env = gym.make(\"Pendulum-v0\")\n",
    "\n",
    "observation = env.reset()\n",
    "frames = []\n",
    "for t in range(200):\n",
    "    frames.append(env.render(mode = 'rgb_array'))\n",
    "    action = env.action_space.sample()\n",
    "    observation, reward, done, info = env.step(action)\n",
    "env.close()\n",
    "\n",
    "# render_frames_as_gif(frames, \"gym_gifs/random_pendulum.gif\")"
   ]
  },
  {
   "cell_type": "markdown",
   "metadata": {},
   "source": [
    "<img src=\"gym_gifs/random_pendulum.gif\"/>"
   ]
  },
  {
   "cell_type": "markdown",
   "metadata": {},
   "source": [
    "# Training\n",
    "\n",
    "Let's look at the environment."
   ]
  },
  {
   "cell_type": "code",
   "execution_count": 24,
   "metadata": {},
   "outputs": [
    {
     "name": "stdout",
     "output_type": "stream",
     "text": [
      "[ 0.77528758  0.6316084  -0.31375755]\n",
      "[-0.21142463]\n",
      "[-1. -1. -8.]\n",
      "[1. 1. 8.]\n",
      "Box(1,)\n"
     ]
    }
   ],
   "source": [
    "score, step = 0, 0\n",
    "obs = env.reset()\n",
    "print(obs)\n",
    "print(env.action_space.sample() )\n",
    "print(env.observation_space.low)\n",
    "print(env.observation_space.high)\n",
    "print(env.action_space)"
   ]
  },
  {
   "cell_type": "markdown",
   "metadata": {},
   "source": [
    "Now let's discretize the values. We can go faster as it is exactly the same code as previously except ranges and bins"
   ]
  },
  {
   "cell_type": "code",
   "execution_count": 25,
   "metadata": {
    "collapsed": true
   },
   "outputs": [],
   "source": [
    "Sample_cos_theta = np.around(np.arange(env.observation_space.low[0], env.observation_space.high[0], 0.1), 1)[1:]\n",
    "Sample_sin_theta = Sample_cos_theta\n",
    "Sample_theta_dot = np.around(np.arange(env.observation_space.low[2], env.observation_space.high[2], 1), 0)[1:]\n",
    "Sample_out = np.around(np.arange(-2, 2.2, 0.2), 1)\n",
    "\n",
    "bins_angle = len(Sample_cos_theta) + 1\n",
    "bins_angle_dot = len(Sample_theta_dot) + 1\n",
    "bins_out = len(Sample_out)"
   ]
  },
  {
   "cell_type": "code",
   "execution_count": 26,
   "metadata": {
    "collapsed": true
   },
   "outputs": [],
   "source": [
    "iter_max = 10000\n",
    "\n",
    "initial_lr = 1.0 # Learning rate\n",
    "min_lr = 0.3\n",
    "gamma = 1.0\n",
    "t_max = 10000\n",
    "\n",
    "min_epsilon = 0.1\n",
    "ada_divisor  = 25"
   ]
  },
  {
   "cell_type": "code",
   "execution_count": 27,
   "metadata": {
    "collapsed": true
   },
   "outputs": [],
   "source": [
    "def obs_to_state(obs):\n",
    "    state_cos_theta = int(np.digitize(obs[0], Sample_cos_theta))\n",
    "    state_sin_theta = int(np.digitize(obs[1], Sample_sin_theta))\n",
    "    state_theta_dot = int(np.digitize(obs[2], Sample_theta_dot))\n",
    "    return (state_cos_theta, state_sin_theta, state_theta_dot)"
   ]
  },
  {
   "cell_type": "code",
   "execution_count": 28,
   "metadata": {},
   "outputs": [
    {
     "name": "stdout",
     "output_type": "stream",
     "text": [
      "Iteration 250 - Average score on the 250 latest = -1209.6464361138474\n",
      "Iteration 500 - Average score on the 250 latest = -1212.570555764416\n",
      "Iteration 750 - Average score on the 250 latest = -1184.0714911747423\n",
      "Iteration 1000 - Average score on the 250 latest = -1148.7972695120905\n",
      "Iteration 1250 - Average score on the 250 latest = -1135.6029012281142\n",
      "Iteration 1500 - Average score on the 250 latest = -1071.0954056540033\n",
      "Iteration 1750 - Average score on the 250 latest = -1070.6157378420157\n",
      "Iteration 2000 - Average score on the 250 latest = -1034.9575431691674\n",
      "Iteration 2250 - Average score on the 250 latest = -994.8311363499756\n",
      "Iteration 2500 - Average score on the 250 latest = -983.990401390912\n",
      "Iteration 2750 - Average score on the 250 latest = -921.331778359511\n",
      "Iteration 3000 - Average score on the 250 latest = -951.5286335955468\n",
      "Iteration 3250 - Average score on the 250 latest = -893.5653315505654\n",
      "Iteration 3500 - Average score on the 250 latest = -848.7965130570647\n",
      "Iteration 3750 - Average score on the 250 latest = -783.2709091296629\n",
      "Iteration 4000 - Average score on the 250 latest = -879.8014855304574\n",
      "Iteration 4250 - Average score on the 250 latest = -763.3451715683011\n",
      "Iteration 4500 - Average score on the 250 latest = -821.8982895429988\n",
      "Iteration 4750 - Average score on the 250 latest = -765.3072423918283\n",
      "Iteration 5000 - Average score on the 250 latest = -833.9469857555314\n",
      "Iteration 5250 - Average score on the 250 latest = -810.7959804134525\n",
      "Iteration 5500 - Average score on the 250 latest = -650.015870311366\n",
      "Iteration 5750 - Average score on the 250 latest = -746.7294503479501\n",
      "Iteration 6000 - Average score on the 250 latest = -745.8550420376284\n",
      "Iteration 6250 - Average score on the 250 latest = -804.0550770684436\n",
      "Iteration 6500 - Average score on the 250 latest = -632.479107579107\n",
      "Iteration 6750 - Average score on the 250 latest = -694.641937418435\n",
      "Iteration 7000 - Average score on the 250 latest = -715.9624150863447\n",
      "Iteration 7250 - Average score on the 250 latest = -663.0337247521469\n",
      "Iteration 7500 - Average score on the 250 latest = -698.2670848146623\n",
      "Iteration 7750 - Average score on the 250 latest = -676.2085277531831\n",
      "Iteration 8000 - Average score on the 250 latest = -704.9610688041364\n",
      "Iteration 8250 - Average score on the 250 latest = -711.4839660514318\n",
      "Iteration 8500 - Average score on the 250 latest = -698.9988820597408\n",
      "Iteration 8750 - Average score on the 250 latest = -723.4189003737281\n",
      "Iteration 9000 - Average score on the 250 latest = -673.298702681804\n",
      "Iteration 9250 - Average score on the 250 latest = -685.3013181320185\n",
      "Iteration 9500 - Average score on the 250 latest = -697.873814702636\n",
      "Iteration 9750 - Average score on the 250 latest = -724.5819058373654\n"
     ]
    }
   ],
   "source": [
    "Q = np.zeros(shape=(bins_angle, bins_angle, bins_angle_dot, bins_out), dtype=np.float32)\n",
    "scores = []\n",
    "for i in range(iter_max):\n",
    "    obs = env.reset()\n",
    "    new_state = obs_to_state(obs)\n",
    "    total_reward = 0\n",
    "    eta = max(min_lr, min(1.0, 1.0 - math.log10((i + 1) / ada_divisor) ))\n",
    "    eps = max(min_epsilon, min(1, 1.0 - math.log10((i + 1) / ada_divisor) ))\n",
    "    for j in range(t_max):\n",
    "        current_state = new_state\n",
    "        if np.random.random() < eps:\n",
    "            action_idx = np.random.randint(len(Sample_out))\n",
    "        else:\n",
    "            action_idx = np.argmax(Q[current_state])\n",
    "        \n",
    "        action = Sample_out[action_idx]  # map index to action value\n",
    "        obs, reward, done, _ = env.step([action])\n",
    "        total_reward += reward\n",
    "\n",
    "        new_state = obs_to_state(obs)\n",
    "        Q[current_state][action_idx] += eta * (reward + gamma * np.max(Q[new_state]) - Q[current_state][action_idx])\n",
    "        if done:\n",
    "            break\n",
    "\n",
    "    scores.append(total_reward)\n",
    "    if i > 249 and i % 250 == 0 :\n",
    "        print(\"Iteration {} - Average score on the 250 latest = {}\".format(i, sum(scores[-250:]) / 250))"
   ]
  },
  {
   "cell_type": "markdown",
   "metadata": {},
   "source": [
    "We can see that on average the score increase (or is closer to 0, as it is the best possible value). As usual let's test it."
   ]
  },
  {
   "cell_type": "markdown",
   "metadata": {},
   "source": [
    "# Testing\n",
    "\n",
    "Hera again, we can use the same code except that our algo with output the index of the output value and not directly the value. We should use the mapping use for the training."
   ]
  },
  {
   "cell_type": "code",
   "execution_count": 29,
   "metadata": {
    "collapsed": true
   },
   "outputs": [],
   "source": [
    "env = gym.make(\"Pendulum-v0\")\n",
    "\n",
    "frames = []\n",
    "obs = env.reset()\n",
    "while True:\n",
    "    frames.append(env.render(mode = 'rgb_array'))\n",
    "    state = obs_to_state(obs)\n",
    "    action_idx = np.argmax(Q[state])\n",
    "    obs, reward, done, _ = env.step([Sample_out[action_idx]])  # conversion index to value\n",
    "    if done:\n",
    "        break\n",
    "\n",
    "env.close()\n",
    "\n",
    "# render_frames_as_gif(frames, \"gym_gifs/trained_pendulum.gif\")"
   ]
  },
  {
   "cell_type": "markdown",
   "metadata": {},
   "source": [
    "<img src=\"gym_gifs/trained_pendulum.gif\"/>"
   ]
  },
  {
   "cell_type": "markdown",
   "metadata": {},
   "source": [
    "# Gym : Acrobot\n",
    "\n",
    "## Presentation\n",
    "\n",
    "The final environment is a lot more difficult. We have a double-pendulum and we can control the torque of the first pendulum and the objective is to place the 2nd pendulum above a certain height. As usual, let's explore a random agent."
   ]
  },
  {
   "cell_type": "code",
   "execution_count": 30,
   "metadata": {
    "collapsed": true
   },
   "outputs": [],
   "source": [
    "env = gym.make(\"Acrobot-v1\")\n",
    "\n",
    "observation = env.reset()\n",
    "frames = []\n",
    "for t in range(200):\n",
    "    frames.append(env.render(mode = 'rgb_array'))\n",
    "    action = env.action_space.sample()\n",
    "    observation, reward, done, info = env.step(action)\n",
    "env.close()\n",
    "\n",
    "# render_frames_as_gif(frames, \"gym_gifs/random_acrobot.gif\")"
   ]
  },
  {
   "cell_type": "markdown",
   "metadata": {},
   "source": [
    "<img src=\"gym_gifs/random_acrobot.gif\"/>"
   ]
  },
  {
   "cell_type": "markdown",
   "metadata": {},
   "source": [
    "# Training\n",
    "\n",
    "In term of features, we now have 6 parameters continuous but finite. In addition, we have reward only if we reached the top... this seems like the car but with more observations so let's start as usual"
   ]
  },
  {
   "cell_type": "code",
   "execution_count": 31,
   "metadata": {},
   "outputs": [
    {
     "name": "stdout",
     "output_type": "stream",
     "text": [
      "[ 0.99797659 -0.0635824   0.9998353  -0.01814871 -0.01002725 -0.08765161]\n",
      "0\n",
      "[ -1.        -1.        -1.        -1.       -12.566371 -28.274334]\n",
      "[ 1.        1.        1.        1.       12.566371 28.274334]\n",
      "3\n"
     ]
    }
   ],
   "source": [
    "obs = env.reset()\n",
    "print(obs)\n",
    "print(env.action_space.sample() )\n",
    "print(env.observation_space.low)\n",
    "print(env.observation_space.high)\n",
    "print(env.action_space.n)"
   ]
  },
  {
   "cell_type": "markdown",
   "metadata": {},
   "source": [
    "So we know that we have to discretize them for the Q-Matrix"
   ]
  },
  {
   "cell_type": "code",
   "execution_count": 32,
   "metadata": {
    "collapsed": true
   },
   "outputs": [],
   "source": [
    "Sample_1 = np.around(np.linspace(-math.pi, math.pi, 20), 1)\n",
    "Sample_2 = Sample_1\n",
    "Sample_3 = Sample_1\n",
    "Sample_4 = Sample_1\n",
    "Sample_5 = np.around(np.linspace(env.observation_space.low[4], env.observation_space.high[4], 15), 2)\n",
    "Sample_6 = np.around(np.linspace(env.observation_space.low[5], env.observation_space.high[5], 15), 2)"
   ]
  },
  {
   "cell_type": "markdown",
   "metadata": {},
   "source": [
    "Now let's create the Q-Matrix and check his state-action space :"
   ]
  },
  {
   "cell_type": "code",
   "execution_count": 33,
   "metadata": {},
   "outputs": [
    {
     "name": "stdout",
     "output_type": "stream",
     "text": [
      "(21, 21, 21, 21, 16, 16, 3)\n",
      "Number of States : 149361408\n"
     ]
    }
   ],
   "source": [
    "Q = np.zeros(shape=(len(Sample_1)+1, \n",
    "                    len(Sample_2)+1, \n",
    "                    len(Sample_3)+1,\n",
    "                    len(Sample_4)+1,\n",
    "                    len(Sample_5)+1,\n",
    "                    len(Sample_6)+1,\n",
    "                    env.action_space.n), dtype=np.float32)\n",
    "\n",
    "print(Q.shape)\n",
    "print(\"Number of States :\", reduce(operator.mul, Q.shape, 1))"
   ]
  },
  {
   "cell_type": "markdown",
   "metadata": {},
   "source": [
    "Hum ... 149 millions of states-actions possible. It's definitively too much. You can try to train it but even if we let it run for hours it won't work. First of all due to the number of parameters and also because the reward appears only if you succeed to place the pole above the limit. With random action, it's gonna be nearly impossible to explore all the possibilities and learn it. A solution in such case would be to reduce dimensions. We can think about reducing cosine and sine to angle the feature :\n",
    "\n",
    "- features 1 and 2 are sine and cosine of the 1st pole\n",
    "- features 3 and 4 are sine and cosine of the 2nd pole\n",
    "\n",
    "This may be reduced to only angle but we will still have around:\n",
    "\n",
    "36 x 36 x 16 x 16 possibilites (if we take 1 state per 10 degrees). This is still too much for this puzzle. In addition 10 degree in not accurate enough...\n",
    "\n",
    "The solution in that case would be to reduce those dimensions with neural networks in a model called Deep Q-network or DQN but this will be for a future Notebook (I'm learning at the same time :s)"
   ]
  },
  {
   "cell_type": "markdown",
   "metadata": {
    "collapsed": true
   },
   "source": [
    "# Conclusion\n",
    "\n",
    "In this long Notebook we dig a bit into Q-Learning. We discussed about how to prepare the observations, how to train the model but we realize also that it's limited in State-Action space. We also saw few solutions to tweak the model (sigmoid of output and pick based on probabilities, fully stable random exploration, decreasing exploration over time) We need to use other algorithms for most difficult problems but this will be for later."
   ]
  }
 ],
 "metadata": {
  "kernelspec": {
   "display_name": "Python 3",
   "language": "python",
   "name": "python3"
  },
  "language_info": {
   "codemirror_mode": {
    "name": "ipython",
    "version": 3
   },
   "file_extension": ".py",
   "mimetype": "text/x-python",
   "name": "python",
   "nbconvert_exporter": "python",
   "pygments_lexer": "ipython3",
   "version": "3.6.3"
  }
 },
 "nbformat": 4,
 "nbformat_minor": 2
}
