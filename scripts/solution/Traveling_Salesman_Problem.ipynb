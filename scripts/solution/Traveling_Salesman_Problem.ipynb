{
 "cells": [
  {
   "cell_type": "markdown",
   "metadata": {},
   "source": [
    "# Presentation\n",
    "\n",
    "In this workbook we gonna implement a Genetic Algorithm to find a good solution (can be different to the optimal one) to the <a href=\"https://en.wikipedia.org/wiki/Travelling_salesman_problem\" taraget=\"_blank\">Traveling Salesman Problem</a>.\n",
    "\n",
    "This problem is well known as it is a part of the NP-Complet Problem in in combinatorial optimization and theoretical computer science.\n",
    "\n",
    "The principle is simple : <br/>\n",
    "<i>Given a list of cities and the distances between each pair of cities, what is the shortest possible route that visits each city exactly once?</i>\n",
    "\n",
    "To do so, we can think about creating all combinations on path, calculate every distances and keep the shortest one. The issue with this solution is the combinatory explosion. For example, if you consider only 70 cities, you have :\n",
    "\n",
    "$$\\begin{eqnarray}\n",
    "Nb_{path} &=& Nb_{cities}! => 1.19 * 10^{100} \\text{ with 70 cities}\n",
    "\\end{eqnarray}$$\n",
    "\n",
    "If we consider a computer able to run 1 000 000 paths par seconds, you will need 3.8 * 10^86 years ... Impossible\n",
    "\n",
    "One good solution in such cases is to go for Genetic Algorithms\n",
    "\n",
    "To know more how it works you can take a look to <a href=\"https://en.wikipedia.org/wiki/Genetic_algorithm\" target=\"_blank\">this webpage</a>.\n",
    "\n",
    "Now let's code it ! (For information, a version with an OpenGL visualization is available on <a href=\"https://github.com/Coni63/scripts_Python/blob/master/Python_Scripts/Algo%20genetique/2eme%20-%20TS%20Problem/script_opengl_cleaner.py\" target=\"_blank\">my github</a>)"
   ]
  },
  {
   "cell_type": "code",
   "execution_count": 1,
   "metadata": {},
   "outputs": [],
   "source": [
    "import random\n",
    "import math\n",
    "import matplotlib.pyplot as plt\n",
    "\n",
    "%matplotlib inline"
   ]
  },
  {
   "cell_type": "markdown",
   "metadata": {},
   "source": [
    "For this problem, we can considere a mutation as the swap of 2 points. We cannot exchange only a point by another one as all points must be only once in the path.\n",
    "Also for the crossover, usually we should keep the beginning of one element of the population and finish with the end of another one. The invert is done on the other element. Unfortunately, this cannot be done as simply in this example for the same reason (we cannot go twice in the same city or no go in one). So for this we only cut the fist element and fill the end with non visited cities in the order of the second list. for e.g. :\n",
    "\n",
    "A = [2, 4, 5, 3, 1] <br/>\n",
    "B = [1, 5, 4, 3, 2] <br/>\n",
    "if we cut A at position 3, we have :\n",
    "\n",
    "A = [2, 4, 5] + [1, 3] as 1 is before 3 in B and both are not in A[:3]\n",
    "\n"
   ]
  },
  {
   "cell_type": "code",
   "execution_count": 2,
   "metadata": {
    "collapsed": true
   },
   "outputs": [],
   "source": [
    "class Individu:\n",
    "    def __init__(self, P):\n",
    "        self.path = P\n",
    "        self.score = 0\n",
    "        self.set_score()\n",
    "\n",
    "    def set_score(self):\n",
    "        for i in range(len(self.path) - 1):\n",
    "            self.score += math.pow(self.path[i+1][0] - self.path[i][0], 2) + \\\n",
    "                          math.pow(self.path[i+1][1] - self.path[i][1], 2)\n",
    "\n",
    "    def __repr__(self):\n",
    "        return \"{} - {}\".format(self.path, self.fitness)\n",
    "\n",
    "    def mutate(self):\n",
    "        a = random.randrange(len(self.path))\n",
    "        b = random.randrange(len(self.path))\n",
    "        new_path = self.path[:]\n",
    "        new_path[a], new_path[b] = new_path[b], new_path[a]\n",
    "        return [Individu(new_path)]\n",
    "\n",
    "    def cross_over(self, other):\n",
    "        a = random.randrange(len(self.path))\n",
    "        b = random.randrange(len(self.path))\n",
    "        if a != b :\n",
    "            start = min(a, b)\n",
    "            end = max(a, b)\n",
    "        else:\n",
    "            start = 0\n",
    "            end = len(self.path) // 2\n",
    "\n",
    "        new1 = self.path[start:end]\n",
    "        new2 = self.path[:start] + self.path[end:]\n",
    "        for each in other.path:\n",
    "            if each not in new1:\n",
    "                new1 += [each]\n",
    "        for each in self.path:\n",
    "            if each not in new2:\n",
    "                new2 += [each]\n",
    "\n",
    "        return [Individu(new1), Individu(new2)]"
   ]
  },
  {
   "cell_type": "markdown",
   "metadata": {},
   "source": [
    "Now we can setup our problem"
   ]
  },
  {
   "cell_type": "code",
   "execution_count": 3,
   "metadata": {
    "collapsed": true
   },
   "outputs": [],
   "source": [
    "nb_cities = 35\n",
    "best_every_gen = []\n",
    "w, h = 1000, 1000 #space for cities\n",
    "\n",
    "#define genetic parameter\n",
    "mutation_ratio = 5e-1\n",
    "cross_ratio = 0.7\n",
    "population = 100\n",
    "population_list = []"
   ]
  },
  {
   "cell_type": "markdown",
   "metadata": {},
   "source": [
    "setup the list of cities and the population"
   ]
  },
  {
   "cell_type": "code",
   "execution_count": 4,
   "metadata": {},
   "outputs": [],
   "source": [
    "cities = [( random.randrange(w), random.randrange(h) ) for _ in range(nb_cities)]"
   ]
  },
  {
   "cell_type": "code",
   "execution_count": 5,
   "metadata": {},
   "outputs": [],
   "source": [
    "for i in range(population):\n",
    "    random.shuffle(cities)\n",
    "    population_list.append(Individu(cities[:]))"
   ]
  },
  {
   "cell_type": "markdown",
   "metadata": {},
   "source": [
    "And we can now run the main script. For this example we just gonna stop the while loop if we reach 1000 generations or 100 time that the script find a better path. This is beacuse this script can run forever. If there is improvement we gonna store the generation, the distance for later visulization. We algo gonna store the best solution."
   ]
  },
  {
   "cell_type": "code",
   "execution_count": 6,
   "metadata": {},
   "outputs": [
    {
     "name": "stdout",
     "output_type": "stream",
     "text": [
      "0 8169213.0\n",
      "1 7210838.0\n",
      "3 7115587.0\n",
      "4 6691361.0\n",
      "5 6342851.0\n",
      "6 6063481.0\n",
      "10 5915977.0\n",
      "11 5428073.0\n",
      "13 5308518.0\n",
      "14 5242572.0\n",
      "15 5102632.0\n",
      "16 3980039.0\n",
      "17 3880407.0\n",
      "19 3693373.0\n",
      "20 3647901.0\n",
      "22 3523523.0\n",
      "23 3296721.0\n",
      "25 3201012.0\n",
      "27 3035474.0\n",
      "28 2612279.0\n",
      "29 2457209.0\n",
      "34 2211432.0\n",
      "40 2193004.0\n",
      "42 2123133.0\n",
      "43 1909995.0\n",
      "45 1771468.0\n",
      "50 1717986.0\n",
      "54 1654107.0\n",
      "56 1581695.0\n",
      "60 1562745.0\n",
      "62 1442461.0\n",
      "64 1421059.0\n",
      "65 1419408.0\n",
      "67 1416651.0\n",
      "70 1410354.0\n",
      "79 1407161.0\n",
      "80 1378423.0\n",
      "83 1367116.0\n",
      "86 1306022.0\n",
      "87 1290399.0\n",
      "93 1271640.0\n",
      "96 1217769.0\n",
      "117 1206449.0\n",
      "123 1189159.0\n",
      "124 1153555.0\n",
      "135 1118189.0\n",
      "154 1109329.0\n",
      "163 1097462.0\n",
      "169 1096498.0\n",
      "176 1088506.0\n",
      "177 1078298.0\n",
      "178 1072534.0\n",
      "181 1068700.0\n",
      "199 1032816.0\n",
      "228 996730.0\n",
      "262 965460.0\n",
      "292 962902.0\n",
      "300 956868.0\n",
      "318 953234.0\n",
      "334 947200.0\n",
      "405 917354.0\n",
      "515 909322.0\n"
     ]
    }
   ],
   "source": [
    "improvement = 0\n",
    "previous_best = 1e20\n",
    "max_generation = 1000\n",
    "current_generation = 0\n",
    "\n",
    "while current_generation < max_generation and improvement < 100:\n",
    "    # ranking\n",
    "    population_list.sort(key = lambda x : x.score)\n",
    "    \n",
    "    # Selection\n",
    "    to_delete = population_list[population//2:]\n",
    "    population_list = population_list[:population//2]\n",
    "\n",
    "    # Delete all instances not kept to free memory\n",
    "    for each in to_delete:\n",
    "        del each\n",
    "    \n",
    "    # For each remaining elements, we do crossover\n",
    "    new_indiv = []\n",
    "    for elem in population_list:\n",
    "        if random.random() < cross_ratio and len(new_indiv) < population//2:\n",
    "            elem2 = random.choice(population_list)\n",
    "            while elem == elem2:\n",
    "                elem = random.choice(population_list)\n",
    "            new_indiv += elem.cross_over(elem2)\n",
    "\n",
    "    # and mutation\n",
    "    for each in population_list:\n",
    "        if random.random() <= mutation_ratio:\n",
    "            new_indiv += each.mutate()\n",
    "\n",
    "    population_list.extend(new_indiv)\n",
    "    \n",
    "    best_this_generation = population_list[0].score\n",
    "    if best_this_generation < previous_best:\n",
    "        previous_best = best_this_generation\n",
    "        improvement += 1\n",
    "        best_every_gen.append((current_generation, best_this_generation))\n",
    "        print(current_generation, best_this_generation)\n",
    "        final_elem = population_list[0]\n",
    "    \n",
    "    current_generation += 1        "
   ]
  },
  {
   "cell_type": "markdown",
   "metadata": {},
   "source": [
    "We can now check distances related to generations by unzipping values from best_every_gen"
   ]
  },
  {
   "cell_type": "code",
   "execution_count": 7,
   "metadata": {},
   "outputs": [
    {
     "name": "stdout",
     "output_type": "stream",
     "text": [
      "(0, 1, 3, 4, 5, 6, 10, 11, 13, 14, 15, 16, 17, 19, 20, 22, 23, 25, 27, 28, 29, 34, 40, 42, 43, 45, 50, 54, 56, 60, 62, 64, 65, 67, 70, 79, 80, 83, 86, 87, 93, 96, 117, 123, 124, 135, 154, 163, 169, 176, 177, 178, 181, 199, 228, 262, 292, 300, 318, 334, 405, 515) \n",
      "\n",
      " (8169213.0, 7210838.0, 7115587.0, 6691361.0, 6342851.0, 6063481.0, 5915977.0, 5428073.0, 5308518.0, 5242572.0, 5102632.0, 3980039.0, 3880407.0, 3693373.0, 3647901.0, 3523523.0, 3296721.0, 3201012.0, 3035474.0, 2612279.0, 2457209.0, 2211432.0, 2193004.0, 2123133.0, 1909995.0, 1771468.0, 1717986.0, 1654107.0, 1581695.0, 1562745.0, 1442461.0, 1421059.0, 1419408.0, 1416651.0, 1410354.0, 1407161.0, 1378423.0, 1367116.0, 1306022.0, 1290399.0, 1271640.0, 1217769.0, 1206449.0, 1189159.0, 1153555.0, 1118189.0, 1109329.0, 1097462.0, 1096498.0, 1088506.0, 1078298.0, 1072534.0, 1068700.0, 1032816.0, 996730.0, 965460.0, 962902.0, 956868.0, 953234.0, 947200.0, 917354.0, 909322.0)\n"
     ]
    }
   ],
   "source": [
    "X, Y = zip(*best_every_gen)\n",
    "print(X, \"\\n\\n\", Y)"
   ]
  },
  {
   "cell_type": "code",
   "execution_count": 8,
   "metadata": {},
   "outputs": [
    {
     "data": {
      "image/png": "[encoded data removed]",
      "text/plain": [
       "<matplotlib.figure.Figure at 0x2258be2c908>"
      ]
     },
     "metadata": {},
     "output_type": "display_data"
    }
   ],
   "source": [
    "plt.plot(X, Y)\n",
    "plt.xlabel('Generation')\n",
    "plt.ylabel('Distance')\n",
    "plt.show()"
   ]
  },
  {
   "cell_type": "markdown",
   "metadata": {},
   "source": [
    "We can see that we divided by around 8 the traveling distances in around 200 generations. Originally we generate 100 samples for the population, then we generated around 50 new samples per generation with crossover and mutation. So we succeed to find a stable minimum with only 10 100 samples instead of 35! (= 10^40). As this path remains stable for around 200 other generation, that means that this distance is a minimum (maybe only locale) stable. If, now we look at the steps at the beginning, it's not really stable as we can find a clearly better path few generations after. The main advantage of this solution is that we can quickly get a good result but you cannot be sure that this is the best one ..."
   ]
  },
  {
   "cell_type": "markdown",
   "metadata": {},
   "source": [
    "As we stored the best element, we can also display his path between every cities."
   ]
  },
  {
   "cell_type": "code",
   "execution_count": 9,
   "metadata": {},
   "outputs": [
    {
     "data": {
      "image/png": "[encoded data removed]",
      "text/plain": [
       "<matplotlib.figure.Figure at 0x2258be2cda0>"
      ]
     },
     "metadata": {},
     "output_type": "display_data"
    }
   ],
   "source": [
    "X, Y = zip(*cities)\n",
    "plt.scatter(X, Y)\n",
    "\n",
    "for i in range(1, nb_cities):\n",
    "    X, Y = zip(*final_elem.path[i-1:i+1])\n",
    "    plt.plot(X, Y, color=\"red\")\n",
    "\n",
    "plt.xlabel('Generation')\n",
    "plt.ylabel('Distance')\n",
    "plt.show()"
   ]
  },
  {
   "cell_type": "markdown",
   "metadata": {},
   "source": [
    "As we can see, the path is pretty logical and looks not so bad, but again we cannot confirm that this is the best path, it's only a good path. If we go for generation and with a very long time there is no improvement we could assume that this is the best path but with only 1000 generation or 100 improvements, it's difficult to confirm this."
   ]
  }
 ],
 "metadata": {
  "kernelspec": {
   "display_name": "Python 3",
   "language": "python",
   "name": "python3"
  },
  "language_info": {
   "codemirror_mode": {
    "name": "ipython",
    "version": 3
   },
   "file_extension": ".py",
   "mimetype": "text/x-python",
   "name": "python",
   "nbconvert_exporter": "python",
   "pygments_lexer": "ipython3",
   "version": "3.6.1"
  }
 },
 "nbformat": 4,
 "nbformat_minor": 2
}
