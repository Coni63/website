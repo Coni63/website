{
 "cells": [
  {
   "cell_type": "markdown",
   "metadata": {},
   "source": [
    "# Presentation\n",
    "\n",
    "In this presentation, we are not going to solve a specific exercice but we will go thru the Dijkstra Algorithm. Instead of trying to present it, you should definitely take a look to <a href=\"https://tech.io/playgrounds/1608/shortest-paths-with-dijkstras-algorithm/introduction\" target=\"_blank\">this link</a>. This presentation made on tech.io helps you understand the process of this algorithm and now we gonna code it on a random graph.\n",
    "\n",
    "# Code"
   ]
  },
  {
   "cell_type": "code",
   "execution_count": 1,
   "metadata": {
    "collapsed": true
   },
   "outputs": [],
   "source": [
    "import math\n",
    "import heapq"
   ]
  },
  {
   "cell_type": "code",
   "execution_count": 2,
   "metadata": {},
   "outputs": [],
   "source": [
    "# Let's create a graph\n",
    "G = {\n",
    "    'A' : {'B' : 5, 'C' : 1},\n",
    "    'B' : {'A' : 5, 'C' : 8, 'E' : 3},\n",
    "    'C' : {'A' : 1, 'B' : 8, 'D' : 5},\n",
    "    'D' : {'C' : 5, 'E' : 14, 'G' : 6},\n",
    "    'E' : {'B' : 3, 'D' : 14, 'F' : 3, 'G' : 21},\n",
    "    'F' : {'E' : 3},\n",
    "    'G' : {'D' : 6, 'E' : 21}\n",
    "}"
   ]
  },
  {
   "attachments": {
    "djikstra.png": {
     "image/png": "[encoded data removed]"
    }
   },
   "cell_type": "markdown",
   "metadata": {},
   "source": [
    "![djikstra.png](attachment:djikstra.png)"
   ]
  },
  {
   "cell_type": "markdown",
   "metadata": {},
   "source": [
    "Now let's say we start from F to G.\n",
    "\n",
    "#### Attention, all weights for paths must be positive or null but not negative !"
   ]
  },
  {
   "cell_type": "code",
   "execution_count": 3,
   "metadata": {},
   "outputs": [],
   "source": [
    "def dijkstra(graph, source):\n",
    "    n = len(graph)\n",
    "    prec = {x : None for x in graph.keys()}\n",
    "    visited = {x : False for x in graph.keys()}\n",
    "    dist_to_point = {x: float('inf') for x in graph.keys()}    # set all distances infinite\n",
    "    dist_to_point[source] = 0                                  # only the source point must have a weight of 0 at start\n",
    "    heap = [(0, source)]                                       # Queue of all points to visit. Only source as we start from it with a distance of 0\n",
    "    while heap:                                                # while we have points to visit\n",
    "        dist_node, node = heapq.heappop(heap)                  # just to extract the point with the smallest distance\n",
    "        if not visited[node]:\n",
    "            visited[node] = True                               # mark the point as visited now, it doesn't matter\n",
    "            for neighbor in graph[node]:\n",
    "                temp_dist = dist_node + graph[node][neighbor]  # distance to reach the neighbor from the node point\n",
    "                if temp_dist < dist_to_point[neighbor]:        # if lower, we can save this path\n",
    "                    dist_to_point[neighbor] = temp_dist\n",
    "                    prec[neighbor] = node\n",
    "                    heapq.heappush(heap, (dist_to_point[neighbor], neighbor)) # we add neighbor in the queu to visit\n",
    "    return dist_to_point, prec"
   ]
  },
  {
   "cell_type": "code",
   "execution_count": 4,
   "metadata": {},
   "outputs": [
    {
     "name": "stdout",
     "output_type": "stream",
     "text": [
      "{'A': 'B', 'B': 'E', 'C': 'A', 'D': 'E', 'E': 'F', 'F': None, 'G': 'D'}\n"
     ]
    }
   ],
   "source": [
    "distances, path = dijkstra(G, 'F')\n",
    "print(path)"
   ]
  },
  {
   "cell_type": "markdown",
   "metadata": {},
   "source": [
    "Now we get the <b>shortest</b> distance from F to any other points and the previous point to take to go on the expected point. We can now reconstruct the complete path"
   ]
  },
  {
   "cell_type": "code",
   "execution_count": 5,
   "metadata": {},
   "outputs": [
    {
     "name": "stdout",
     "output_type": "stream",
     "text": [
      "F -> E -> D -> G\n"
     ]
    }
   ],
   "source": [
    "complete_path = ['G']\n",
    "previous = path['G']\n",
    "while previous != 'F':\n",
    "    complete_path.append(previous)\n",
    "    previous = path[previous]\n",
    "complete_path.append(previous)\n",
    "print(\" -> \".join(complete_path[::-1]))"
   ]
  },
  {
   "cell_type": "markdown",
   "metadata": {},
   "source": [
    "We can check it tooks the shortest path (23 long). There were longer paths but also a second one with the same distance. It hasn't been chosen because there is more node and when we explored the neighbor of point C, the point D was already set with the same distance. If we validate the path also when distance is equal we have:"
   ]
  },
  {
   "cell_type": "code",
   "execution_count": 6,
   "metadata": {
    "collapsed": true
   },
   "outputs": [],
   "source": [
    "def dijkstra_2(graph, source):\n",
    "    n = len(graph)\n",
    "    prec = {x : None for x in graph.keys()}\n",
    "    visited = {x : False for x in graph.keys()}\n",
    "    dist_to_point = {x: float('inf') for x in graph.keys()}    # set all distances infinite\n",
    "    dist_to_point[source] = 0             # only the source point must have a weight of 0 at start\n",
    "    heap = [(0, source)]                  # Queue of all points to visit. Only source as we start from it with a distance of 0\n",
    "    while heap:                           # while we have points to visit\n",
    "        dist_node, node = heapq.heappop(heap)   # just to extract the point with the smallest distance\n",
    "        if not visited[node]:\n",
    "            visited[node] = True\n",
    "            for neighbor in graph[node]:\n",
    "                temp_dist = dist_node + graph[node][neighbor]\n",
    "                if temp_dist <= dist_to_point[neighbor]:\n",
    "                    dist_to_point[neighbor] = temp_dist\n",
    "                    prec[neighbor] = node\n",
    "                    heapq.heappush(heap, (dist_to_point[neighbor], neighbor))\n",
    "    return dist_to_point, prec"
   ]
  },
  {
   "cell_type": "code",
   "execution_count": 7,
   "metadata": {},
   "outputs": [
    {
     "name": "stdout",
     "output_type": "stream",
     "text": [
      "{'A': 'B', 'B': 'E', 'C': 'A', 'D': 'C', 'E': 'F', 'F': None, 'G': 'D'}\n"
     ]
    }
   ],
   "source": [
    "distances, path = dijkstra_2(G, 'F')\n",
    "print(path)"
   ]
  },
  {
   "cell_type": "code",
   "execution_count": 8,
   "metadata": {},
   "outputs": [
    {
     "name": "stdout",
     "output_type": "stream",
     "text": [
      "F -> E -> B -> A -> C -> D -> G\n"
     ]
    }
   ],
   "source": [
    "complete_path = ['G']\n",
    "previous = path['G']\n",
    "while previous != 'F':\n",
    "    complete_path.append(previous)\n",
    "    previous = path[previous]\n",
    "complete_path.append(previous)\n",
    "print(\" -> \".join(complete_path[::-1]))"
   ]
  },
  {
   "cell_type": "markdown",
   "metadata": {},
   "source": [
    "We get the 2nd path possible to go to G from F."
   ]
  }
 ],
 "metadata": {
  "kernelspec": {
   "display_name": "Python 3",
   "language": "python",
   "name": "python3"
  },
  "language_info": {
   "codemirror_mode": {
    "name": "ipython",
    "version": 3
   },
   "file_extension": ".py",
   "mimetype": "text/x-python",
   "name": "python",
   "nbconvert_exporter": "python",
   "pygments_lexer": "ipython3",
   "version": "3.6.1"
  }
 },
 "nbformat": 4,
 "nbformat_minor": 2
}
