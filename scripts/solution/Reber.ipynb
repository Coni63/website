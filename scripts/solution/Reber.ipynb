{
 "cells": [
  {
   "cell_type": "markdown",
   "metadata": {},
   "source": [
    "# REBER Grammar with RNN\n",
    "\n",
    "In this workbook, we are going to set-up multiple Recurrent Neural Network to test them using as test <a href=\"https://www.willamette.edu/~gorr/classes/cs449/reber.html\" target=\"_blank\">Reber's grammar</a> words.\n",
    "\n",
    "## What is a Reber Word ?\n",
    "\n",
    "A Reber word is a word following the Reber's grammar. The grammar is based on the following graph:\n",
    "\n",
    "<img src=\"reber.gif\"/>\n",
    "\n",
    "The word must start with B, then it can be either T or P and so on until it reaches E. To prepare data for this, we are going to use a OneHotEncoder to have 7 inputs, n timesteps (depending on the length of the word) and k batches. To generate it, I use the algorith from <a href=\"http://christianherta.de/lehre/dataScience/machineLearning/neuralNetworks/reberGrammar.php\" target=\"_target\">this site</a>\n",
    "\n",
    "It also exists an Embedded version of the Reber Grammar using the following graph :\n",
    "\n",
    "<img src=\"embreber.gif\"/>\n",
    "\n",
    "For now, we gonna focus on the simple version and based on the result, we may try the embedded version."
   ]
  },
  {
   "cell_type": "code",
   "execution_count": 1,
   "metadata": {},
   "outputs": [
    {
     "name": "stderr",
     "output_type": "stream",
     "text": [
      "Using TensorFlow backend.\n"
     ]
    }
   ],
   "source": [
    "import numpy as np\n",
    "import matplotlib.pyplot as plt\n",
    "import time\n",
    "\n",
    "import create_dataset as reber\n",
    "\n",
    "from keras.datasets import imdb\n",
    "from keras.models import Sequential\n",
    "from keras.layers import Dense\n",
    "from keras.layers import LSTM, SimpleRNN, GRU\n",
    "from keras.layers.embeddings import Embedding\n",
    "from keras.preprocessing import sequence\n",
    "\n",
    "np.set_printoptions(precision=3)\n",
    "np.set_printoptions(suppress=True)\n",
    "\n",
    "%matplotlib inline"
   ]
  },
  {
   "cell_type": "markdown",
   "metadata": {},
   "source": [
    "## Preparation of datas\n",
    "\n",
    "For the OneHotEncoder, the chain 'BTSXPVE' will be used. We can now try only 1 example to check the output"
   ]
  },
  {
   "cell_type": "code",
   "execution_count": 2,
   "metadata": {},
   "outputs": [
    {
     "name": "stdout",
     "output_type": "stream",
     "text": [
      "BPTTTTTTVV\n",
      "[ 1.  0.  0.  0.  0.  0.  0.] [ 0.  1.  0.  0.  1.  0.  0.]\n"
     ]
    }
   ],
   "source": [
    "x, y = reber.get_one_example(minLength=10)\n",
    "print(reber.sequenceToWord(x))\n",
    "print(x[0], y[0])"
   ]
  },
  {
   "cell_type": "markdown",
   "metadata": {},
   "source": [
    "*y* is the possible outcome for a given input. That means B ([ 1.  0.  0.  0.  0.  0.  0.]) can be followed by T or P ([ 0.  1.  0.  0.  1.  0.  0.]).\n",
    "\n",
    "However, we won't use y as output but for every timestep, we are going to provide the next timestep as target. For this, we will use the following function"
   ]
  },
  {
   "cell_type": "code",
   "execution_count": 3,
   "metadata": {
    "collapsed": true
   },
   "outputs": [],
   "source": [
    "def generate(x0):\n",
    "    end = np.array([0.,  0.,  0.,  0.,  0.,  0.,  1.])\n",
    "    y=x0[1:]\n",
    "    y.append(end)\n",
    "    return y"
   ]
  },
  {
   "cell_type": "markdown",
   "metadata": {},
   "source": [
    "Now, if we take as input \"BTSXS\", the output will be \"TSXSE\" (but the input in encoded).\n",
    "\n",
    "We can also generate few words to check the output."
   ]
  },
  {
   "cell_type": "code",
   "execution_count": 4,
   "metadata": {},
   "outputs": [
    {
     "name": "stdout",
     "output_type": "stream",
     "text": [
      "BTXXVPXTVPXTTTTVPS\n",
      "BPVPXTTTTTVV\n",
      "BPVPXVPXVPS\n",
      "BTXXTTTVPS\n",
      "BPTVPXVPXVPS\n",
      "BTXXVPXVPXTTVPS\n",
      "BPVPXTTVPS\n",
      "BTSXXVPXVPXVV\n",
      "BTXXTVPXTVV\n",
      "BPVPXTVPXTVPS\n"
     ]
    }
   ],
   "source": [
    "min_length = 10\n",
    "for i in range(10):\n",
    "    inp, out = reber.get_one_example(min_length)\n",
    "    print(reber.sequenceToWord(inp))"
   ]
  },
  {
   "cell_type": "markdown",
   "metadata": {},
   "source": [
    "So we have the first \"problem\" now, the length of the string is variable. So when we are going to generate our test/train datas, we will have to pad them to the same length (let's say 20). This is done by using <b>sequence.pad_sequences</b> for Keras Library"
   ]
  },
  {
   "cell_type": "code",
   "execution_count": 5,
   "metadata": {},
   "outputs": [
    {
     "name": "stdout",
     "output_type": "stream",
     "text": [
      "(2048, 20, 7)\n",
      "(2048, 20, 7)\n",
      "(256, 20, 7)\n",
      "(256, 20, 7)\n",
      "(1, 20, 7)\n",
      "(1, 20, 7)\n",
      "(1, 20, 7)\n"
     ]
    }
   ],
   "source": [
    "X_train, y_train = [], []\n",
    "X_test, y_test = [], []\n",
    "X_val, y_val = [], []\n",
    "y_possible = []\n",
    "\n",
    "for i in range(2048):\n",
    "    x, y = reber.get_one_example(min_length)\n",
    "    X_train.append(x)\n",
    "    y_train.append(generate(x))\n",
    "\n",
    "for i in range(256):\n",
    "    x, y = reber.get_one_example(min_length)\n",
    "    X_test.append(x)\n",
    "    y_test.append(generate(x))  \n",
    "    \n",
    "for i in range(1):\n",
    "    x, y = reber.get_one_example(min_length)\n",
    "    X_val.append(x)\n",
    "    y_val.append(generate(x))\n",
    "    y_possible.append(y)\n",
    "\n",
    "X_train = np.array(X_train)\n",
    "y_train = np.array(y_train)\n",
    "X_test = np.array(X_test)\n",
    "y_test = np.array(y_test)\n",
    "X_val = np.array(X_val)\n",
    "y_val = np.array(y_val)\n",
    "y_possible = np.array(y_possible)\n",
    "\n",
    "maxlen = 20\n",
    "X_train = sequence.pad_sequences(X_train, maxlen=maxlen, padding='post', truncating='post')\n",
    "y_train = sequence.pad_sequences(y_train, maxlen=maxlen, padding='post', truncating='post')\n",
    "X_test = sequence.pad_sequences(X_test, maxlen=maxlen, padding='post', truncating='post')\n",
    "y_test = sequence.pad_sequences(y_test, maxlen=maxlen, padding='post', truncating='post')\n",
    "X_val = sequence.pad_sequences(X_val, maxlen=maxlen, padding='post', truncating='post')\n",
    "y_val = sequence.pad_sequences(y_val, maxlen=maxlen, padding='post', truncating='post')\n",
    "y_possible = sequence.pad_sequences(y_possible, maxlen=maxlen, padding='post', truncating='post')\n",
    "\n",
    "print(X_train.shape)\n",
    "print(y_train.shape)\n",
    "print(X_test.shape)\n",
    "print(y_test.shape)\n",
    "print(X_val.shape)\n",
    "print(y_val.shape)\n",
    "print(y_possible.shape)"
   ]
  },
  {
   "cell_type": "code",
   "execution_count": 6,
   "metadata": {},
   "outputs": [
    {
     "name": "stdout",
     "output_type": "stream",
     "text": [
      "[[[0 1 0 0 1 0 0]\n",
      "  [0 1 0 0 0 1 0]\n",
      "  [0 1 0 0 0 1 0]\n",
      "  [0 1 0 0 0 1 0]\n",
      "  [0 0 0 0 1 1 0]\n",
      "  [0 0 1 1 0 0 0]\n",
      "  [0 1 0 0 0 1 0]\n",
      "  [0 0 0 0 1 1 0]\n",
      "  [0 0 1 1 0 0 0]\n",
      "  [0 0 0 0 0 0 1]\n",
      "  [0 0 0 0 0 0 0]\n",
      "  [0 0 0 0 0 0 0]\n",
      "  [0 0 0 0 0 0 0]\n",
      "  [0 0 0 0 0 0 0]\n",
      "  [0 0 0 0 0 0 0]\n",
      "  [0 0 0 0 0 0 0]\n",
      "  [0 0 0 0 0 0 0]\n",
      "  [0 0 0 0 0 0 0]\n",
      "  [0 0 0 0 0 0 0]\n",
      "  [0 0 0 0 0 0 0]]]\n"
     ]
    }
   ],
   "source": [
    "print(y_possible)"
   ]
  },
  {
   "cell_type": "markdown",
   "metadata": {},
   "source": [
    "So now we have 2048 strings for training, 256 for test and 1 just for visualisation later. We can now set-up our model.\n",
    "\n",
    "## Test of RNNs\n",
    "\n",
    "For this model, we are going to use a many-to-many RNN. That means for every input, the model will predict an output. The training will be done based on the input we prepared previously. Once trained. We will be able to \"transfer\" the learning to a one-to-many model in order to have a \"generator\".\n",
    "\n",
    "<img src=\"RNN_types.jpg\"/>"
   ]
  },
  {
   "cell_type": "markdown",
   "metadata": {},
   "source": [
    "During the writing of this notebook, I tried some loss, metrics and optimizer. The following ones are the one fitting the best"
   ]
  },
  {
   "cell_type": "code",
   "execution_count": 7,
   "metadata": {
    "collapsed": true
   },
   "outputs": [],
   "source": [
    "nb_unit = 7\n",
    "inp_shape = (maxlen, 7)\n",
    "loss_ = \"mean_squared_error\"\n",
    "metrics_ = \"mean_squared_error\"\n",
    "optimizer_ = \"Nadam\"\n",
    "nb_epoch = 50\n",
    "batch_size = 64"
   ]
  },
  {
   "cell_type": "markdown",
   "metadata": {},
   "source": [
    "### LSTM\n",
    "\n",
    "The first model we will setup is an <b>LSTM</b> which means <b>L</b>ong <b>S</b>hort-<b>T</b>erm <b>M</b>emory. The principle is \n",
    "quite complex but very powerfull for long sequences inputs (because there is less issues with Vanishing Gradient Problem) or long term memory (You can refer to <a href=\"http://colah.github.io/posts/2015-08-Understanding-LSTMs/\" target=\"_blank\">this link</a> for more informations)\n",
    "\n",
    "LSTM is widely for speech recognition, Natural Language processing, Sentiment Analysis."
   ]
  },
  {
   "cell_type": "code",
   "execution_count": 8,
   "metadata": {
    "collapsed": true
   },
   "outputs": [],
   "source": [
    "model = Sequential()\n",
    "\n",
    "model.add(LSTM(units=nb_unit, input_shape=inp_shape, return_sequences=True))  # single LSTM\n",
    "model.compile(loss=loss_,\n",
    "              optimizer=optimizer_,\n",
    "              metrics=[metrics_])"
   ]
  },
  {
   "cell_type": "code",
   "execution_count": 9,
   "metadata": {},
   "outputs": [
    {
     "name": "stdout",
     "output_type": "stream",
     "text": [
      "Inputs: (None, 20, 7)\n",
      "Outputs: (None, 20, 7)\n",
      "Actual input: (2048, 20, 7)\n",
      "Actual output: (2048, 20, 7)\n"
     ]
    }
   ],
   "source": [
    "print(\"Inputs: {}\".format(model.input_shape))\n",
    "print(\"Outputs: {}\".format(model.output_shape))\n",
    "print(\"Actual input: {}\".format(X_train.shape))\n",
    "print(\"Actual output: {}\".format(y_train.shape))"
   ]
  },
  {
   "cell_type": "code",
   "execution_count": 10,
   "metadata": {},
   "outputs": [
    {
     "name": "stdout",
     "output_type": "stream",
     "text": [
      "Train on 2048 samples, validate on 256 samples\n",
      "Epoch 1/50\n",
      "2s - loss: 0.0939 - mean_squared_error: 0.0939 - val_loss: 0.0875 - val_mean_squared_error: 0.0875\n",
      "Epoch 2/50\n",
      "0s - loss: 0.0846 - mean_squared_error: 0.0846 - val_loss: 0.0807 - val_mean_squared_error: 0.0807\n",
      "Epoch 3/50\n",
      "0s - loss: 0.0790 - mean_squared_error: 0.0790 - val_loss: 0.0760 - val_mean_squared_error: 0.0760\n",
      "Epoch 4/50\n",
      "0s - loss: 0.0747 - mean_squared_error: 0.0747 - val_loss: 0.0721 - val_mean_squared_error: 0.0721\n",
      "Epoch 5/50\n",
      "0s - loss: 0.0708 - mean_squared_error: 0.0708 - val_loss: 0.0683 - val_mean_squared_error: 0.0683\n",
      "Epoch 6/50\n",
      "0s - loss: 0.0671 - mean_squared_error: 0.0671 - val_loss: 0.0647 - val_mean_squared_error: 0.0647\n",
      "Epoch 7/50\n",
      "0s - loss: 0.0636 - mean_squared_error: 0.0636 - val_loss: 0.0614 - val_mean_squared_error: 0.0614\n",
      "Epoch 8/50\n",
      "0s - loss: 0.0604 - mean_squared_error: 0.0604 - val_loss: 0.0583 - val_mean_squared_error: 0.0583\n",
      "Epoch 9/50\n",
      "0s - loss: 0.0575 - mean_squared_error: 0.0575 - val_loss: 0.0557 - val_mean_squared_error: 0.0557\n",
      "Epoch 10/50\n",
      "0s - loss: 0.0551 - mean_squared_error: 0.0551 - val_loss: 0.0536 - val_mean_squared_error: 0.0536\n",
      "Epoch 11/50\n",
      "0s - loss: 0.0531 - mean_squared_error: 0.0531 - val_loss: 0.0518 - val_mean_squared_error: 0.0518\n",
      "Epoch 12/50\n",
      "0s - loss: 0.0514 - mean_squared_error: 0.0514 - val_loss: 0.0503 - val_mean_squared_error: 0.0503\n",
      "Epoch 13/50\n",
      "0s - loss: 0.0500 - mean_squared_error: 0.0500 - val_loss: 0.0490 - val_mean_squared_error: 0.0490\n",
      "Epoch 14/50\n",
      "0s - loss: 0.0488 - mean_squared_error: 0.0488 - val_loss: 0.0478 - val_mean_squared_error: 0.0478\n",
      "Epoch 15/50\n",
      "0s - loss: 0.0476 - mean_squared_error: 0.0476 - val_loss: 0.0467 - val_mean_squared_error: 0.0467\n",
      "Epoch 16/50\n",
      "0s - loss: 0.0465 - mean_squared_error: 0.0465 - val_loss: 0.0456 - val_mean_squared_error: 0.0456\n",
      "Epoch 17/50\n",
      "0s - loss: 0.0455 - mean_squared_error: 0.0455 - val_loss: 0.0446 - val_mean_squared_error: 0.0446\n",
      "Epoch 18/50\n",
      "0s - loss: 0.0445 - mean_squared_error: 0.0445 - val_loss: 0.0436 - val_mean_squared_error: 0.0436\n",
      "Epoch 19/50\n",
      "0s - loss: 0.0436 - mean_squared_error: 0.0436 - val_loss: 0.0427 - val_mean_squared_error: 0.0427\n",
      "Epoch 20/50\n",
      "0s - loss: 0.0427 - mean_squared_error: 0.0427 - val_loss: 0.0418 - val_mean_squared_error: 0.0418\n",
      "Epoch 21/50\n",
      "0s - loss: 0.0419 - mean_squared_error: 0.0419 - val_loss: 0.0411 - val_mean_squared_error: 0.0411\n",
      "Epoch 22/50\n",
      "0s - loss: 0.0412 - mean_squared_error: 0.0412 - val_loss: 0.0404 - val_mean_squared_error: 0.0404\n",
      "Epoch 23/50\n",
      "0s - loss: 0.0406 - mean_squared_error: 0.0406 - val_loss: 0.0398 - val_mean_squared_error: 0.0398\n",
      "Epoch 24/50\n",
      "0s - loss: 0.0400 - mean_squared_error: 0.0400 - val_loss: 0.0393 - val_mean_squared_error: 0.0393\n",
      "Epoch 25/50\n",
      "0s - loss: 0.0395 - mean_squared_error: 0.0395 - val_loss: 0.0388 - val_mean_squared_error: 0.0388\n",
      "Epoch 26/50\n",
      "0s - loss: 0.0391 - mean_squared_error: 0.0391 - val_loss: 0.0384 - val_mean_squared_error: 0.0384\n",
      "Epoch 27/50\n",
      "0s - loss: 0.0387 - mean_squared_error: 0.0387 - val_loss: 0.0380 - val_mean_squared_error: 0.0380\n",
      "Epoch 28/50\n",
      "0s - loss: 0.0383 - mean_squared_error: 0.0383 - val_loss: 0.0377 - val_mean_squared_error: 0.0377\n",
      "Epoch 29/50\n",
      "0s - loss: 0.0380 - mean_squared_error: 0.0380 - val_loss: 0.0374 - val_mean_squared_error: 0.0374\n",
      "Epoch 30/50\n",
      "0s - loss: 0.0378 - mean_squared_error: 0.0378 - val_loss: 0.0372 - val_mean_squared_error: 0.0372\n",
      "Epoch 31/50\n",
      "0s - loss: 0.0376 - mean_squared_error: 0.0376 - val_loss: 0.0370 - val_mean_squared_error: 0.0370\n",
      "Epoch 32/50\n",
      "0s - loss: 0.0374 - mean_squared_error: 0.0374 - val_loss: 0.0368 - val_mean_squared_error: 0.0368\n",
      "Epoch 33/50\n",
      "0s - loss: 0.0372 - mean_squared_error: 0.0372 - val_loss: 0.0367 - val_mean_squared_error: 0.0367\n",
      "Epoch 34/50\n",
      "0s - loss: 0.0371 - mean_squared_error: 0.0371 - val_loss: 0.0365 - val_mean_squared_error: 0.0365\n",
      "Epoch 35/50\n",
      "0s - loss: 0.0369 - mean_squared_error: 0.0369 - val_loss: 0.0364 - val_mean_squared_error: 0.0364\n",
      "Epoch 36/50\n",
      "0s - loss: 0.0368 - mean_squared_error: 0.0368 - val_loss: 0.0363 - val_mean_squared_error: 0.0363\n",
      "Epoch 37/50\n",
      "0s - loss: 0.0367 - mean_squared_error: 0.0367 - val_loss: 0.0362 - val_mean_squared_error: 0.0362\n",
      "Epoch 38/50\n",
      "0s - loss: 0.0365 - mean_squared_error: 0.0365 - val_loss: 0.0360 - val_mean_squared_error: 0.0360\n",
      "Epoch 39/50\n",
      "0s - loss: 0.0364 - mean_squared_error: 0.0364 - val_loss: 0.0359 - val_mean_squared_error: 0.0359\n",
      "Epoch 40/50\n",
      "0s - loss: 0.0363 - mean_squared_error: 0.0363 - val_loss: 0.0358 - val_mean_squared_error: 0.0358\n",
      "Epoch 41/50\n",
      "0s - loss: 0.0362 - mean_squared_error: 0.0362 - val_loss: 0.0357 - val_mean_squared_error: 0.0357\n",
      "Epoch 42/50\n",
      "0s - loss: 0.0362 - mean_squared_error: 0.0362 - val_loss: 0.0357 - val_mean_squared_error: 0.0357\n",
      "Epoch 43/50\n",
      "0s - loss: 0.0361 - mean_squared_error: 0.0361 - val_loss: 0.0356 - val_mean_squared_error: 0.0356\n",
      "Epoch 44/50\n",
      "0s - loss: 0.0360 - mean_squared_error: 0.0360 - val_loss: 0.0355 - val_mean_squared_error: 0.0355\n",
      "Epoch 45/50\n",
      "0s - loss: 0.0359 - mean_squared_error: 0.0359 - val_loss: 0.0354 - val_mean_squared_error: 0.0354\n",
      "Epoch 46/50\n",
      "0s - loss: 0.0359 - mean_squared_error: 0.0359 - val_loss: 0.0354 - val_mean_squared_error: 0.0354\n",
      "Epoch 47/50\n",
      "0s - loss: 0.0358 - mean_squared_error: 0.0358 - val_loss: 0.0353 - val_mean_squared_error: 0.0353\n",
      "Epoch 48/50\n",
      "0s - loss: 0.0357 - mean_squared_error: 0.0357 - val_loss: 0.0353 - val_mean_squared_error: 0.0353\n",
      "Epoch 49/50\n",
      "0s - loss: 0.0357 - mean_squared_error: 0.0357 - val_loss: 0.0352 - val_mean_squared_error: 0.0352\n",
      "Epoch 50/50\n",
      "0s - loss: 0.0356 - mean_squared_error: 0.0356 - val_loss: 0.0352 - val_mean_squared_error: 0.0352\n",
      "_________________________________________________________________\n",
      "Layer (type)                 Output Shape              Param #   \n",
      "=================================================================\n",
      "lstm_1 (LSTM)                (None, 20, 7)             420       \n",
      "=================================================================\n",
      "Total params: 420\n",
      "Trainable params: 420\n",
      "Non-trainable params: 0\n",
      "_________________________________________________________________\n",
      "None\n",
      "Training time : 38.873870849609375s\n"
     ]
    }
   ],
   "source": [
    "start = time.time()\n",
    "history = model.fit(X_train, y_train, validation_data=(X_test, y_test), epochs=nb_epoch, batch_size=batch_size, verbose=2)\n",
    "stop = time.time()\n",
    "t1 = stop-start\n",
    "print(model.summary())\n",
    "print(\"Training time : {}s\".format(t1))"
   ]
  },
  {
   "cell_type": "markdown",
   "metadata": {},
   "source": [
    "## Simple RNN\n",
    "\n",
    "Using the same code, we can train the standard RNN. The principle is that every output of every hidden layers, are also feed as entry for the next step\n",
    "\n",
    "<img src=\"SimpleRNN.png\"/>\n",
    "\n",
    "This allows a \"short term memory\". It creates a kind of hysteresis used as memory"
   ]
  },
  {
   "cell_type": "code",
   "execution_count": 11,
   "metadata": {
    "collapsed": true
   },
   "outputs": [],
   "source": [
    "model2 = Sequential()\n",
    "model2.add(SimpleRNN(units=nb_unit, input_shape=inp_shape, return_sequences=True))\n",
    "model2.compile(loss=loss_,\n",
    "              optimizer=optimizer_,\n",
    "              metrics=[metrics_])"
   ]
  },
  {
   "cell_type": "code",
   "execution_count": 12,
   "metadata": {},
   "outputs": [
    {
     "name": "stdout",
     "output_type": "stream",
     "text": [
      "Train on 2048 samples, validate on 256 samples\n",
      "Epoch 1/50\n",
      "0s - loss: 0.2353 - mean_squared_error: 0.2353 - val_loss: 0.1954 - val_mean_squared_error: 0.1954\n",
      "Epoch 2/50\n",
      "0s - loss: 0.1704 - mean_squared_error: 0.1704 - val_loss: 0.1448 - val_mean_squared_error: 0.1448\n",
      "Epoch 3/50\n",
      "0s - loss: 0.1311 - mean_squared_error: 0.1311 - val_loss: 0.1171 - val_mean_squared_error: 0.1171\n",
      "Epoch 4/50\n",
      "0s - loss: 0.1098 - mean_squared_error: 0.1098 - val_loss: 0.1016 - val_mean_squared_error: 0.1016\n",
      "Epoch 5/50\n",
      "0s - loss: 0.0970 - mean_squared_error: 0.0970 - val_loss: 0.0912 - val_mean_squared_error: 0.0912\n",
      "Epoch 6/50\n",
      "0s - loss: 0.0880 - mean_squared_error: 0.0880 - val_loss: 0.0837 - val_mean_squared_error: 0.0837\n",
      "Epoch 7/50\n",
      "0s - loss: 0.0815 - mean_squared_error: 0.0815 - val_loss: 0.0781 - val_mean_squared_error: 0.0781\n",
      "Epoch 8/50\n",
      "0s - loss: 0.0766 - mean_squared_error: 0.0766 - val_loss: 0.0739 - val_mean_squared_error: 0.0739\n",
      "Epoch 9/50\n",
      "0s - loss: 0.0729 - mean_squared_error: 0.0729 - val_loss: 0.0708 - val_mean_squared_error: 0.0708\n",
      "Epoch 10/50\n",
      "0s - loss: 0.0702 - mean_squared_error: 0.0702 - val_loss: 0.0683 - val_mean_squared_error: 0.0683\n",
      "Epoch 11/50\n",
      "0s - loss: 0.0680 - mean_squared_error: 0.0680 - val_loss: 0.0664 - val_mean_squared_error: 0.0664\n",
      "Epoch 12/50\n",
      "0s - loss: 0.0662 - mean_squared_error: 0.0662 - val_loss: 0.0647 - val_mean_squared_error: 0.0647\n",
      "Epoch 13/50\n",
      "0s - loss: 0.0647 - mean_squared_error: 0.0647 - val_loss: 0.0633 - val_mean_squared_error: 0.0633\n",
      "Epoch 14/50\n",
      "0s - loss: 0.0633 - mean_squared_error: 0.0633 - val_loss: 0.0620 - val_mean_squared_error: 0.0620\n",
      "Epoch 15/50\n",
      "0s - loss: 0.0620 - mean_squared_error: 0.0620 - val_loss: 0.0607 - val_mean_squared_error: 0.0607\n",
      "Epoch 16/50\n",
      "0s - loss: 0.0608 - mean_squared_error: 0.0608 - val_loss: 0.0596 - val_mean_squared_error: 0.0596\n",
      "Epoch 17/50\n",
      "0s - loss: 0.0597 - mean_squared_error: 0.0597 - val_loss: 0.0585 - val_mean_squared_error: 0.0585\n",
      "Epoch 18/50\n",
      "0s - loss: 0.0586 - mean_squared_error: 0.0586 - val_loss: 0.0575 - val_mean_squared_error: 0.0575\n",
      "Epoch 19/50\n",
      "0s - loss: 0.0576 - mean_squared_error: 0.0576 - val_loss: 0.0566 - val_mean_squared_error: 0.0566\n",
      "Epoch 20/50\n",
      "0s - loss: 0.0567 - mean_squared_error: 0.0567 - val_loss: 0.0558 - val_mean_squared_error: 0.0558\n",
      "Epoch 21/50\n",
      "0s - loss: 0.0560 - mean_squared_error: 0.0560 - val_loss: 0.0551 - val_mean_squared_error: 0.0551\n",
      "Epoch 22/50\n",
      "0s - loss: 0.0553 - mean_squared_error: 0.0553 - val_loss: 0.0546 - val_mean_squared_error: 0.0546\n",
      "Epoch 23/50\n",
      "0s - loss: 0.0548 - mean_squared_error: 0.0548 - val_loss: 0.0540 - val_mean_squared_error: 0.0540\n",
      "Epoch 24/50\n",
      "0s - loss: 0.0543 - mean_squared_error: 0.0543 - val_loss: 0.0536 - val_mean_squared_error: 0.0536\n",
      "Epoch 25/50\n",
      "0s - loss: 0.0539 - mean_squared_error: 0.0539 - val_loss: 0.0533 - val_mean_squared_error: 0.0533\n",
      "Epoch 26/50\n",
      "0s - loss: 0.0535 - mean_squared_error: 0.0535 - val_loss: 0.0528 - val_mean_squared_error: 0.0528\n",
      "Epoch 27/50\n",
      "0s - loss: 0.0531 - mean_squared_error: 0.0531 - val_loss: 0.0525 - val_mean_squared_error: 0.0525\n",
      "Epoch 28/50\n",
      "0s - loss: 0.0527 - mean_squared_error: 0.0527 - val_loss: 0.0522 - val_mean_squared_error: 0.0522\n",
      "Epoch 29/50\n",
      "0s - loss: 0.0524 - mean_squared_error: 0.0524 - val_loss: 0.0519 - val_mean_squared_error: 0.0519\n",
      "Epoch 30/50\n",
      "0s - loss: 0.0521 - mean_squared_error: 0.0521 - val_loss: 0.0516 - val_mean_squared_error: 0.0516\n",
      "Epoch 31/50\n",
      "0s - loss: 0.0518 - mean_squared_error: 0.0518 - val_loss: 0.0514 - val_mean_squared_error: 0.0514\n",
      "Epoch 32/50\n",
      "0s - loss: 0.0516 - mean_squared_error: 0.0516 - val_loss: 0.0510 - val_mean_squared_error: 0.0510\n",
      "Epoch 33/50\n",
      "0s - loss: 0.0513 - mean_squared_error: 0.0513 - val_loss: 0.0508 - val_mean_squared_error: 0.0508\n",
      "Epoch 34/50\n",
      "0s - loss: 0.0510 - mean_squared_error: 0.0510 - val_loss: 0.0506 - val_mean_squared_error: 0.0506\n",
      "Epoch 35/50\n",
      "0s - loss: 0.0508 - mean_squared_error: 0.0508 - val_loss: 0.0505 - val_mean_squared_error: 0.0505\n",
      "Epoch 36/50\n",
      "0s - loss: 0.0506 - mean_squared_error: 0.0506 - val_loss: 0.0502 - val_mean_squared_error: 0.0502\n",
      "Epoch 37/50\n",
      "0s - loss: 0.0504 - mean_squared_error: 0.0504 - val_loss: 0.0499 - val_mean_squared_error: 0.0499\n",
      "Epoch 38/50\n",
      "0s - loss: 0.0502 - mean_squared_error: 0.0502 - val_loss: 0.0497 - val_mean_squared_error: 0.0497\n",
      "Epoch 39/50\n",
      "0s - loss: 0.0500 - mean_squared_error: 0.0500 - val_loss: 0.0496 - val_mean_squared_error: 0.0496\n",
      "Epoch 40/50\n",
      "0s - loss: 0.0499 - mean_squared_error: 0.0499 - val_loss: 0.0495 - val_mean_squared_error: 0.0495\n",
      "Epoch 41/50\n",
      "0s - loss: 0.0497 - mean_squared_error: 0.0497 - val_loss: 0.0493 - val_mean_squared_error: 0.0493\n",
      "Epoch 42/50\n",
      "0s - loss: 0.0495 - mean_squared_error: 0.0495 - val_loss: 0.0491 - val_mean_squared_error: 0.0491\n",
      "Epoch 43/50\n",
      "0s - loss: 0.0494 - mean_squared_error: 0.0494 - val_loss: 0.0490 - val_mean_squared_error: 0.0490\n",
      "Epoch 44/50\n",
      "0s - loss: 0.0492 - mean_squared_error: 0.0492 - val_loss: 0.0489 - val_mean_squared_error: 0.0489\n",
      "Epoch 45/50\n",
      "0s - loss: 0.0491 - mean_squared_error: 0.0491 - val_loss: 0.0487 - val_mean_squared_error: 0.0487\n",
      "Epoch 46/50\n",
      "0s - loss: 0.0490 - mean_squared_error: 0.0490 - val_loss: 0.0487 - val_mean_squared_error: 0.0487\n",
      "Epoch 47/50\n",
      "0s - loss: 0.0489 - mean_squared_error: 0.0489 - val_loss: 0.0485 - val_mean_squared_error: 0.0485\n",
      "Epoch 48/50\n",
      "0s - loss: 0.0488 - mean_squared_error: 0.0488 - val_loss: 0.0484 - val_mean_squared_error: 0.0484\n",
      "Epoch 49/50\n",
      "0s - loss: 0.0487 - mean_squared_error: 0.0487 - val_loss: 0.0483 - val_mean_squared_error: 0.0483\n",
      "Epoch 50/50\n",
      "0s - loss: 0.0486 - mean_squared_error: 0.0486 - val_loss: 0.0482 - val_mean_squared_error: 0.0482\n",
      "_________________________________________________________________\n",
      "Layer (type)                 Output Shape              Param #   \n",
      "=================================================================\n",
      "simple_rnn_1 (SimpleRNN)     (None, 20, 7)             105       \n",
      "=================================================================\n",
      "Total params: 105\n",
      "Trainable params: 105\n",
      "Non-trainable params: 0\n",
      "_________________________________________________________________\n",
      "None Training time : 9.763021469116211s\n"
     ]
    }
   ],
   "source": [
    "start = time.time()\n",
    "history2 = model2.fit(X_train, y_train, validation_data=(X_test, y_test), epochs=nb_epoch, batch_size=batch_size, verbose=2)\n",
    "stop = time.time()\n",
    "t2 = stop-start\n",
    "print(model2.summary(), end=\" \")\n",
    "print(\"Training time : {}s\".format(t2))"
   ]
  },
  {
   "cell_type": "markdown",
   "metadata": {},
   "source": [
    "## GRU\n",
    "\n",
    "Finally, we can train a <b>GRU</b> (<b>G</b>ated <b>R</b>ecurrent <b>U</b>nits). It's a simplification of LSTMs. They also have a memory mechanism but with less parameters. As a result they are faster to train. You can find differences on <a href=\"https://datascience.stackexchange.com/questions/14581/what-is-difference-between-gru-and-lstm\" target=\"_blank\">this topic</a> "
   ]
  },
  {
   "cell_type": "code",
   "execution_count": 13,
   "metadata": {
    "collapsed": true
   },
   "outputs": [],
   "source": [
    "model3 = Sequential()\n",
    "model3.add(GRU(units=nb_unit, input_shape=inp_shape, return_sequences=True))\n",
    "model3.compile(loss=loss_,\n",
    "              optimizer=optimizer_,\n",
    "              metrics=[metrics_])"
   ]
  },
  {
   "cell_type": "code",
   "execution_count": 14,
   "metadata": {},
   "outputs": [
    {
     "name": "stdout",
     "output_type": "stream",
     "text": [
      "Train on 2048 samples, validate on 256 samples\n",
      "Epoch 1/50\n",
      "1s - loss: 0.0953 - mean_squared_error: 0.0953 - val_loss: 0.0855 - val_mean_squared_error: 0.0855\n",
      "Epoch 2/50\n",
      "0s - loss: 0.0808 - mean_squared_error: 0.0808 - val_loss: 0.0752 - val_mean_squared_error: 0.0752\n",
      "Epoch 3/50\n",
      "0s - loss: 0.0729 - mean_squared_error: 0.0729 - val_loss: 0.0693 - val_mean_squared_error: 0.0693\n",
      "Epoch 4/50\n",
      "0s - loss: 0.0679 - mean_squared_error: 0.0679 - val_loss: 0.0652 - val_mean_squared_error: 0.0652\n",
      "Epoch 5/50\n",
      "0s - loss: 0.0643 - mean_squared_error: 0.0643 - val_loss: 0.0621 - val_mean_squared_error: 0.0621\n",
      "Epoch 6/50\n",
      "0s - loss: 0.0615 - mean_squared_error: 0.0615 - val_loss: 0.0595 - val_mean_squared_error: 0.0595\n",
      "Epoch 7/50\n",
      "0s - loss: 0.0590 - mean_squared_error: 0.0590 - val_loss: 0.0572 - val_mean_squared_error: 0.0572\n",
      "Epoch 8/50\n",
      "0s - loss: 0.0568 - mean_squared_error: 0.0568 - val_loss: 0.0551 - val_mean_squared_error: 0.0551\n",
      "Epoch 9/50\n",
      "0s - loss: 0.0547 - mean_squared_error: 0.0547 - val_loss: 0.0531 - val_mean_squared_error: 0.0531\n",
      "Epoch 10/50\n",
      "0s - loss: 0.0528 - mean_squared_error: 0.0528 - val_loss: 0.0513 - val_mean_squared_error: 0.0513\n",
      "Epoch 11/50\n",
      "0s - loss: 0.0510 - mean_squared_error: 0.0510 - val_loss: 0.0496 - val_mean_squared_error: 0.0496\n",
      "Epoch 12/50\n",
      "0s - loss: 0.0494 - mean_squared_error: 0.0494 - val_loss: 0.0481 - val_mean_squared_error: 0.0481\n",
      "Epoch 13/50\n",
      "0s - loss: 0.0479 - mean_squared_error: 0.0479 - val_loss: 0.0468 - val_mean_squared_error: 0.0468\n",
      "Epoch 14/50\n",
      "0s - loss: 0.0466 - mean_squared_error: 0.0466 - val_loss: 0.0455 - val_mean_squared_error: 0.0455\n",
      "Epoch 15/50\n",
      "0s - loss: 0.0455 - mean_squared_error: 0.0455 - val_loss: 0.0444 - val_mean_squared_error: 0.0444\n",
      "Epoch 16/50\n",
      "0s - loss: 0.0444 - mean_squared_error: 0.0444 - val_loss: 0.0434 - val_mean_squared_error: 0.0434\n",
      "Epoch 17/50\n",
      "0s - loss: 0.0435 - mean_squared_error: 0.0435 - val_loss: 0.0426 - val_mean_squared_error: 0.0426\n",
      "Epoch 18/50\n",
      "0s - loss: 0.0427 - mean_squared_error: 0.0427 - val_loss: 0.0419 - val_mean_squared_error: 0.0419\n",
      "Epoch 19/50\n",
      "0s - loss: 0.0421 - mean_squared_error: 0.0421 - val_loss: 0.0413 - val_mean_squared_error: 0.0413\n",
      "Epoch 20/50\n",
      "0s - loss: 0.0415 - mean_squared_error: 0.0415 - val_loss: 0.0408 - val_mean_squared_error: 0.0408\n",
      "Epoch 21/50\n",
      "0s - loss: 0.0410 - mean_squared_error: 0.0410 - val_loss: 0.0404 - val_mean_squared_error: 0.0404\n",
      "Epoch 22/50\n",
      "0s - loss: 0.0406 - mean_squared_error: 0.0406 - val_loss: 0.0400 - val_mean_squared_error: 0.0400\n",
      "Epoch 23/50\n",
      "0s - loss: 0.0402 - mean_squared_error: 0.0402 - val_loss: 0.0396 - val_mean_squared_error: 0.0396\n",
      "Epoch 24/50\n",
      "0s - loss: 0.0399 - mean_squared_error: 0.0399 - val_loss: 0.0393 - val_mean_squared_error: 0.0393\n",
      "Epoch 25/50\n",
      "0s - loss: 0.0396 - mean_squared_error: 0.0396 - val_loss: 0.0390 - val_mean_squared_error: 0.0390\n",
      "Epoch 26/50\n",
      "0s - loss: 0.0393 - mean_squared_error: 0.0393 - val_loss: 0.0388 - val_mean_squared_error: 0.0388\n",
      "Epoch 27/50\n",
      "0s - loss: 0.0391 - mean_squared_error: 0.0391 - val_loss: 0.0386 - val_mean_squared_error: 0.0386\n",
      "Epoch 28/50\n",
      "0s - loss: 0.0388 - mean_squared_error: 0.0388 - val_loss: 0.0383 - val_mean_squared_error: 0.0383\n",
      "Epoch 29/50\n",
      "0s - loss: 0.0386 - mean_squared_error: 0.0386 - val_loss: 0.0381 - val_mean_squared_error: 0.0381\n",
      "Epoch 30/50\n",
      "0s - loss: 0.0384 - mean_squared_error: 0.0384 - val_loss: 0.0380 - val_mean_squared_error: 0.0380\n",
      "Epoch 31/50\n",
      "0s - loss: 0.0383 - mean_squared_error: 0.0383 - val_loss: 0.0378 - val_mean_squared_error: 0.0378\n",
      "Epoch 32/50\n",
      "0s - loss: 0.0381 - mean_squared_error: 0.0381 - val_loss: 0.0377 - val_mean_squared_error: 0.0377\n",
      "Epoch 33/50\n",
      "0s - loss: 0.0380 - mean_squared_error: 0.0380 - val_loss: 0.0375 - val_mean_squared_error: 0.0375\n",
      "Epoch 34/50\n",
      "0s - loss: 0.0378 - mean_squared_error: 0.0378 - val_loss: 0.0374 - val_mean_squared_error: 0.0374\n",
      "Epoch 35/50\n",
      "0s - loss: 0.0377 - mean_squared_error: 0.0377 - val_loss: 0.0373 - val_mean_squared_error: 0.0373\n",
      "Epoch 36/50\n",
      "0s - loss: 0.0376 - mean_squared_error: 0.0376 - val_loss: 0.0372 - val_mean_squared_error: 0.0372\n",
      "Epoch 37/50\n",
      "0s - loss: 0.0375 - mean_squared_error: 0.0375 - val_loss: 0.0372 - val_mean_squared_error: 0.0372\n",
      "Epoch 38/50\n",
      "0s - loss: 0.0374 - mean_squared_error: 0.0374 - val_loss: 0.0370 - val_mean_squared_error: 0.0370\n",
      "Epoch 39/50\n",
      "0s - loss: 0.0373 - mean_squared_error: 0.0373 - val_loss: 0.0369 - val_mean_squared_error: 0.0369\n",
      "Epoch 40/50\n",
      "0s - loss: 0.0373 - mean_squared_error: 0.0373 - val_loss: 0.0369 - val_mean_squared_error: 0.0369\n",
      "Epoch 41/50\n",
      "0s - loss: 0.0372 - mean_squared_error: 0.0372 - val_loss: 0.0368 - val_mean_squared_error: 0.0368\n",
      "Epoch 42/50\n",
      "0s - loss: 0.0371 - mean_squared_error: 0.0371 - val_loss: 0.0367 - val_mean_squared_error: 0.0367\n",
      "Epoch 43/50\n",
      "0s - loss: 0.0371 - mean_squared_error: 0.0371 - val_loss: 0.0367 - val_mean_squared_error: 0.0367\n",
      "Epoch 44/50\n",
      "0s - loss: 0.0370 - mean_squared_error: 0.0370 - val_loss: 0.0367 - val_mean_squared_error: 0.0367\n",
      "Epoch 45/50\n",
      "0s - loss: 0.0370 - mean_squared_error: 0.0370 - val_loss: 0.0366 - val_mean_squared_error: 0.0366\n",
      "Epoch 46/50\n",
      "0s - loss: 0.0369 - mean_squared_error: 0.0369 - val_loss: 0.0365 - val_mean_squared_error: 0.0365\n",
      "Epoch 47/50\n",
      "0s - loss: 0.0368 - mean_squared_error: 0.0368 - val_loss: 0.0365 - val_mean_squared_error: 0.0365\n",
      "Epoch 48/50\n",
      "0s - loss: 0.0368 - mean_squared_error: 0.0368 - val_loss: 0.0364 - val_mean_squared_error: 0.0364\n",
      "Epoch 49/50\n",
      "0s - loss: 0.0368 - mean_squared_error: 0.0368 - val_loss: 0.0364 - val_mean_squared_error: 0.0364\n",
      "Epoch 50/50\n",
      "0s - loss: 0.0367 - mean_squared_error: 0.0367 - val_loss: 0.0364 - val_mean_squared_error: 0.0364\n",
      "_________________________________________________________________\n",
      "Layer (type)                 Output Shape              Param #   \n",
      "=================================================================\n",
      "gru_1 (GRU)                  (None, 20, 7)             315       \n",
      "=================================================================\n",
      "Total params: 315\n",
      "Trainable params: 315\n",
      "Non-trainable params: 0\n",
      "_________________________________________________________________\n",
      "None Training time : 29.46068286895752s\n"
     ]
    }
   ],
   "source": [
    "start = time.time()\n",
    "history3 = model3.fit(X_train, y_train, validation_data=(X_test, y_test), epochs=nb_epoch, batch_size=batch_size, verbose=2)\n",
    "stop = time.time()\n",
    "t3 = stop-start\n",
    "print(model3.summary(), end=\" \")\n",
    "print(\"Training time : {}s\".format(t3))"
   ]
  },
  {
   "cell_type": "markdown",
   "metadata": {},
   "source": [
    "## Evaluation\n",
    "\n",
    "We can first check the time used to train them on the same dataset with the same number of epochs."
   ]
  },
  {
   "cell_type": "code",
   "execution_count": 15,
   "metadata": {},
   "outputs": [
    {
     "name": "stdout",
     "output_type": "stream",
     "text": [
      "LSTM :       38.87s\n",
      "Simple RNN : 9.76s\n",
      "GRU :        29.46s\n"
     ]
    }
   ],
   "source": [
    "print(\"LSTM :       {:.2f}s\".format(t1))\n",
    "print(\"Simple RNN : {:.2f}s\".format(t2))\n",
    "print(\"GRU :        {:.2f}s\".format(t3))"
   ]
  },
  {
   "cell_type": "markdown",
   "metadata": {},
   "source": [
    "We can see that the simple RNN is the fastest to train because there is nearly no impact of provide the output as input. It's only and addtion to do on Matrices. However, LSTM and GRU are slower to train and as expected, GRU trained faster than LSTM. Ze can also check the error of prediction. For this I used a Mean Absolute Error as loss fonction and Mean Squared Error as metrics . I used this loss fonction to have the norm 1 between prediction and real output. With the Means Squared Error, the training would take longer as the loss would be smaller as all outputs are below 1. For the metric, I used it to ease the visualisation."
   ]
  },
  {
   "cell_type": "code",
   "execution_count": 16,
   "metadata": {},
   "outputs": [
    {
     "name": "stdout",
     "output_type": "stream",
     "text": [
      "dict_keys(['val_loss', 'val_mean_squared_error', 'loss', 'mean_squared_error'])\n"
     ]
    },
    {
     "data": {
      "image/png": "[encoded data removed]",
      "text/plain": [
       "<matplotlib.figure.Figure at 0x2aed8491710>"
      ]
     },
     "metadata": {},
     "output_type": "display_data"
    }
   ],
   "source": [
    "print(history.history.keys())\n",
    "key_ = list(history.history.keys())[3]\n",
    "plt.figure(figsize=(12, 12))\n",
    "plt.plot(history.history[key_], label=\"LSTM\")\n",
    "plt.plot(history2.history[key_], label=\"SimpleRNN\")\n",
    "plt.plot(history3.history[key_], label=\"GRU\")\n",
    "plt.legend()\n",
    "plt.show()"
   ]
  },
  {
   "cell_type": "markdown",
   "metadata": {},
   "source": [
    "We can see that GRU and LSTM perform better than a Simple RNN. LSTM is also performing slightly better that GRU but require more computation time. We can also check the output and compare it to the real output provided by the graph (see the y description in preparation of data section)"
   ]
  },
  {
   "cell_type": "code",
   "execution_count": 17,
   "metadata": {},
   "outputs": [
    {
     "name": "stdout",
     "output_type": "stream",
     "text": [
      "Input :\n",
      "[[[1 0 0 0 0 0 0]\n",
      "  [0 0 0 0 1 0 0]\n",
      "  [0 1 0 0 0 0 0]\n",
      "  [0 1 0 0 0 0 0]\n",
      "  [0 0 0 0 0 1 0]\n",
      "  [0 0 0 0 1 0 0]\n",
      "  [0 0 0 1 0 0 0]\n",
      "  [0 0 0 0 0 1 0]\n",
      "  [0 0 0 0 1 0 0]\n",
      "  [0 0 1 0 0 0 0]\n",
      "  [0 0 0 0 0 0 0]\n",
      "  [0 0 0 0 0 0 0]\n",
      "  [0 0 0 0 0 0 0]\n",
      "  [0 0 0 0 0 0 0]\n",
      "  [0 0 0 0 0 0 0]\n",
      "  [0 0 0 0 0 0 0]\n",
      "  [0 0 0 0 0 0 0]\n",
      "  [0 0 0 0 0 0 0]\n",
      "  [0 0 0 0 0 0 0]\n",
      "  [0 0 0 0 0 0 0]]]\n",
      "\n",
      "\n",
      "LSTM predicts :\n",
      "[[[ 0.02   0.556  0.009 -0.018  0.444 -0.007 -0.007]\n",
      "  [ 0.048  0.702  0.006  0.099 -0.013  0.113  0.   ]\n",
      "  [ 0.007  0.711  0.033  0.073  0.003  0.228 -0.   ]\n",
      "  [-0.001  0.694  0.007  0.07   0.021  0.274 -0.   ]\n",
      "  [ 0.005  0.038  0.001  0.     0.726  0.079  0.022]\n",
      "  [-0.04   0.034  0.202  0.821 -0.016  0.042  0.032]\n",
      "  [-0.     0.625 -0.009  0.006 -0.003  0.423  0.014]\n",
      "  [-0.003 -0.012 -0.002 -0.     0.702  0.284  0.077]\n",
      "  [-0.053 -0.002  0.254  0.653 -0.028  0.063  0.027]\n",
      "  [ 0.029  0.026  0.043  0.009  0.002  0.026  0.894]\n",
      "  [ 0.011  0.007 -0.001 -0.008  0.     0.011 -0.003]\n",
      "  [ 0.007 -0.001  0.001 -0.001  0.003  0.016 -0.002]\n",
      "  [ 0.005 -0.009  0.002 -0.002  0.001  0.011  0.001]\n",
      "  [ 0.003 -0.01   0.004 -0.002 -0.     0.008  0.001]\n",
      "  [ 0.002 -0.009  0.004 -0.002 -0.     0.007  0.001]\n",
      "  [ 0.001 -0.008  0.004 -0.002 -0.     0.006  0.   ]\n",
      "  [ 0.001 -0.007  0.003 -0.002  0.     0.005  0.   ]\n",
      "  [ 0.    -0.006  0.003 -0.002  0.001  0.005  0.   ]\n",
      "  [ 0.    -0.006  0.002 -0.002  0.001  0.005  0.001]\n",
      "  [ 0.    -0.005  0.002 -0.002  0.001  0.005  0.001]]]\n",
      "\n",
      "\n",
      "GRU predicts :\n",
      "[[[-0.051  0.586 -0.087 -0.012  0.414 -0.04   0.006]\n",
      "  [-0.028  0.672  0.138  0.127 -0.013  0.277 -0.044]\n",
      "  [-0.046  0.623  0.078  0.064  0.011  0.31  -0.037]\n",
      "  [-0.037  0.602  0.1    0.055  0.009  0.338 -0.031]\n",
      "  [ 0.041  0.005  0.056  0.037  0.779  0.232 -0.061]\n",
      "  [ 0.07   0.005  0.164  0.782 -0.069  0.03   0.002]\n",
      "  [-0.018  0.571  0.02  -0.028 -0.005  0.375  0.004]\n",
      "  [ 0.056 -0.001  0.01  -0.034  0.725  0.291 -0.033]\n",
      "  [ 0.082 -0.001  0.153  0.704 -0.037  0.077 -0.015]\n",
      "  [ 0.027  0.103  0.078  0.007 -0.046  0.034  0.869]\n",
      "  [ 0.006  0.035  0.016 -0.018  0.001  0.016  0.015]\n",
      "  [ 0.006  0.015  0.011 -0.005  0.008  0.012 -0.007]\n",
      "  [ 0.006  0.008  0.005  0.001  0.006  0.006 -0.003]\n",
      "  [ 0.005  0.005  0.003 -0.     0.005  0.003 -0.001]\n",
      "  [ 0.005  0.003  0.003 -0.001  0.005  0.002 -0.001]\n",
      "  [ 0.005  0.002  0.004 -0.001  0.005  0.001 -0.003]\n",
      "  [ 0.005  0.002  0.004 -0.001  0.005  0.001 -0.004]\n",
      "  [ 0.005  0.001  0.004 -0.     0.005  0.001 -0.004]\n",
      "  [ 0.005  0.001  0.004 -0.     0.005  0.    -0.004]\n",
      "  [ 0.005  0.001  0.004 -0.     0.005  0.    -0.004]]]\n"
     ]
    }
   ],
   "source": [
    "print(\"Input :\")\n",
    "print(X_val)\n",
    "print(\"\\n\\nLSTM predicts :\")\n",
    "y_pred = model.predict(X_val)\n",
    "print(y_pred)\n",
    "print(\"\\n\\nGRU predicts :\")\n",
    "y_pred = model3.predict(X_val)\n",
    "print(y_pred)"
   ]
  },
  {
   "cell_type": "markdown",
   "metadata": {},
   "source": [
    "We can simply the output by removing small output and compare it to the possible output (we will only keep prediction from GRU)"
   ]
  },
  {
   "cell_type": "code",
   "execution_count": 18,
   "metadata": {
    "collapsed": true
   },
   "outputs": [],
   "source": [
    "y_pred = np.where(y_pred < 0.1, 0, y_pred)"
   ]
  },
  {
   "cell_type": "code",
   "execution_count": 19,
   "metadata": {},
   "outputs": [
    {
     "name": "stdout",
     "output_type": "stream",
     "text": [
      "[ 0.     0.586  0.     0.     0.414  0.     0.   ] \t [0 1 0 0 1 0 0]\n",
      "[ 0.     0.672  0.138  0.127  0.     0.277  0.   ] \t [0 1 0 0 0 1 0]\n",
      "[ 0.     0.623  0.     0.     0.     0.31   0.   ] \t [0 1 0 0 0 1 0]\n",
      "[ 0.     0.602  0.1    0.     0.     0.338  0.   ] \t [0 1 0 0 0 1 0]\n",
      "[ 0.     0.     0.     0.     0.779  0.232  0.   ] \t [0 0 0 0 1 1 0]\n",
      "[ 0.     0.     0.164  0.782  0.     0.     0.   ] \t [0 0 1 1 0 0 0]\n",
      "[ 0.     0.571  0.     0.     0.     0.375  0.   ] \t [0 1 0 0 0 1 0]\n",
      "[ 0.     0.     0.     0.     0.725  0.291  0.   ] \t [0 0 0 0 1 1 0]\n",
      "[ 0.     0.     0.153  0.704  0.     0.     0.   ] \t [0 0 1 1 0 0 0]\n",
      "[ 0.     0.103  0.     0.     0.     0.     0.869] \t [0 0 0 0 0 0 1]\n",
      "[ 0.  0.  0.  0.  0.  0.  0.] \t [0 0 0 0 0 0 0]\n",
      "[ 0.  0.  0.  0.  0.  0.  0.] \t [0 0 0 0 0 0 0]\n",
      "[ 0.  0.  0.  0.  0.  0.  0.] \t [0 0 0 0 0 0 0]\n",
      "[ 0.  0.  0.  0.  0.  0.  0.] \t [0 0 0 0 0 0 0]\n",
      "[ 0.  0.  0.  0.  0.  0.  0.] \t [0 0 0 0 0 0 0]\n",
      "[ 0.  0.  0.  0.  0.  0.  0.] \t [0 0 0 0 0 0 0]\n",
      "[ 0.  0.  0.  0.  0.  0.  0.] \t [0 0 0 0 0 0 0]\n",
      "[ 0.  0.  0.  0.  0.  0.  0.] \t [0 0 0 0 0 0 0]\n",
      "[ 0.  0.  0.  0.  0.  0.  0.] \t [0 0 0 0 0 0 0]\n",
      "[ 0.  0.  0.  0.  0.  0.  0.] \t [0 0 0 0 0 0 0]\n"
     ]
    }
   ],
   "source": [
    "for pred, real in zip(y_pred[0], y_possible[0]):\n",
    "    print(pred, \"\\t\", real)"
   ]
  },
  {
   "cell_type": "markdown",
   "metadata": {},
   "source": [
    "Yeah !! Output is balanced between both offset but with different \"probabilities\". We can also check how well they are to generate sentences"
   ]
  },
  {
   "cell_type": "markdown",
   "metadata": {},
   "source": [
    "## Use it as generator\n",
    "\n",
    "As explained previously, we trained our model as a many-to-many RNN. Now we want a generator so we are going to use a one-to-many model but reusing knowledge from the training. \n",
    "\n",
    "Before that, we will need an evaluation function which take the output, pick the next input based on the probability to have this output, create the next input and run it until the graph is over. After that, we will check is the created word is really a Reber word. This will be done with following functions "
   ]
  },
  {
   "cell_type": "code",
   "execution_count": 20,
   "metadata": {
    "collapsed": true
   },
   "outputs": [],
   "source": [
    "def Pick_From_Output(x):\n",
    "    y = np.zeros_like(x)\n",
    "    x = np.where(x < 0.1, 0, x)\n",
    "    x = x[0]/x[0].sum(axis=1)\n",
    "    i = np.random.choice(list(range(7)), size=1, p=x[0])\n",
    "    y[0,0,i] = 1\n",
    "    return y\n",
    "\n",
    "def evaluate(model, nb_word = 1, max_iter = 50):\n",
    "    good_pred = 0\n",
    "    for _ in range(nb_word):\n",
    "        model.reset_states()\n",
    "        first_input = np.array([[[1,0,0,0,0,0,0]]])\n",
    "        word = \"B\"\n",
    "        loop = 0\n",
    "        nextLetter = \"B\"\n",
    "        next_seq = first_input\n",
    "        while nextLetter != \"E\" and loop < max_iter:\n",
    "            y_pred = model.predict(next_seq)\n",
    "            next_seq = Pick_From_Output(y_pred)\n",
    "            nextLetter = reber.sequenceToWord(next_seq[0])\n",
    "            loop += 1\n",
    "            word += nextLetter\n",
    "        if reber.in_grammar(word):\n",
    "            good_pred += 1\n",
    "    acc = 100*good_pred/nb_word\n",
    "    print(\"Good prediction : {:.2f}%\".format(acc))\n",
    "    return acc"
   ]
  },
  {
   "cell_type": "code",
   "execution_count": 29,
   "metadata": {
    "collapsed": true
   },
   "outputs": [],
   "source": [
    "nb_samples = 20"
   ]
  },
  {
   "cell_type": "markdown",
   "metadata": {},
   "source": [
    "Now let's create both model as one-to-many and evaluate them 20 times on 100 words generated."
   ]
  },
  {
   "cell_type": "code",
   "execution_count": 30,
   "metadata": {
    "collapsed": true
   },
   "outputs": [],
   "source": [
    "newModel = Sequential()\n",
    "newModel.add(LSTM(units=7, stateful=True, batch_input_shape=(1,1,7), return_sequences=True))\n",
    "newModel.set_weights(model.get_weights())"
   ]
  },
  {
   "cell_type": "code",
   "execution_count": 31,
   "metadata": {},
   "outputs": [
    {
     "name": "stdout",
     "output_type": "stream",
     "text": [
      "Good prediction : 86.00%\n",
      "Good prediction : 84.00%\n",
      "Good prediction : 85.00%\n",
      "Good prediction : 84.00%\n",
      "Good prediction : 88.00%\n",
      "Good prediction : 82.00%\n",
      "Good prediction : 82.00%\n",
      "Good prediction : 86.00%\n",
      "Good prediction : 84.00%\n",
      "Good prediction : 86.00%\n",
      "Good prediction : 89.00%\n",
      "Good prediction : 89.00%\n",
      "Good prediction : 90.00%\n",
      "Good prediction : 89.00%\n",
      "Good prediction : 91.00%\n",
      "Good prediction : 90.00%\n",
      "Good prediction : 91.00%\n",
      "Good prediction : 89.00%\n",
      "Good prediction : 81.00%\n",
      "Good prediction : 87.00%\n"
     ]
    }
   ],
   "source": [
    "result_LSTM = []\n",
    "for _ in range(nb_samples):\n",
    "    result_LSTM.append(evaluate(newModel, 100, 50))"
   ]
  },
  {
   "cell_type": "code",
   "execution_count": 32,
   "metadata": {
    "collapsed": true
   },
   "outputs": [],
   "source": [
    "newModel = Sequential()\n",
    "\n",
    "newModel.add(SimpleRNN(units=7, stateful=True, batch_input_shape=(1,1,7), return_sequences=True))\n",
    "newModel.set_weights(model2.get_weights())"
   ]
  },
  {
   "cell_type": "code",
   "execution_count": 33,
   "metadata": {},
   "outputs": [
    {
     "name": "stdout",
     "output_type": "stream",
     "text": [
      "Good prediction : 6.00%\n",
      "Good prediction : 3.00%\n",
      "Good prediction : 6.00%\n",
      "Good prediction : 12.00%\n",
      "Good prediction : 8.00%\n",
      "Good prediction : 6.00%\n",
      "Good prediction : 4.00%\n",
      "Good prediction : 7.00%\n",
      "Good prediction : 7.00%\n",
      "Good prediction : 7.00%\n",
      "Good prediction : 6.00%\n",
      "Good prediction : 5.00%\n",
      "Good prediction : 11.00%\n",
      "Good prediction : 4.00%\n",
      "Good prediction : 11.00%\n",
      "Good prediction : 7.00%\n",
      "Good prediction : 4.00%\n",
      "Good prediction : 9.00%\n",
      "Good prediction : 5.00%\n",
      "Good prediction : 7.00%\n"
     ]
    }
   ],
   "source": [
    "result_SRNN = []\n",
    "for _ in range(nb_samples):\n",
    "    result_SRNN.append(evaluate(newModel, 100, 50))"
   ]
  },
  {
   "cell_type": "code",
   "execution_count": 34,
   "metadata": {
    "collapsed": true
   },
   "outputs": [],
   "source": [
    "newModel = Sequential()\n",
    "newModel.add(GRU(units=7, stateful=True, batch_input_shape=(1,1,7), return_sequences=True))\n",
    "newModel.set_weights(model3.get_weights())"
   ]
  },
  {
   "cell_type": "code",
   "execution_count": 35,
   "metadata": {},
   "outputs": [
    {
     "name": "stdout",
     "output_type": "stream",
     "text": [
      "Good prediction : 76.00%\n",
      "Good prediction : 81.00%\n",
      "Good prediction : 85.00%\n",
      "Good prediction : 70.00%\n",
      "Good prediction : 83.00%\n",
      "Good prediction : 74.00%\n",
      "Good prediction : 76.00%\n",
      "Good prediction : 78.00%\n",
      "Good prediction : 78.00%\n",
      "Good prediction : 76.00%\n",
      "Good prediction : 79.00%\n",
      "Good prediction : 84.00%\n",
      "Good prediction : 76.00%\n",
      "Good prediction : 66.00%\n",
      "Good prediction : 73.00%\n",
      "Good prediction : 76.00%\n",
      "Good prediction : 84.00%\n",
      "Good prediction : 78.00%\n",
      "Good prediction : 72.00%\n",
      "Good prediction : 81.00%\n"
     ]
    }
   ],
   "source": [
    "result_GRU = []\n",
    "for _ in range(nb_samples):\n",
    "    result_GRU.append(evaluate(newModel, 100, 50))"
   ]
  },
  {
   "cell_type": "markdown",
   "metadata": {},
   "source": [
    "So we can see that bost LSTM and GRU outperform the standard RNN. In average LSTM is slightly better than GRU but takes also more time to train."
   ]
  },
  {
   "cell_type": "code",
   "execution_count": 36,
   "metadata": {},
   "outputs": [
    {
     "data": {
      "image/png": "[encoded data removed]",
      "text/plain": [
       "<matplotlib.figure.Figure at 0x2aedeab2390>"
      ]
     },
     "metadata": {},
     "output_type": "display_data"
    }
   ],
   "source": [
    "x = list(range(nb_samples))\n",
    "y = [result_LSTM, result_SRNN, result_GRU]\n",
    "labels = [\"LSTM\", \"SimpleRNN\", \"GRU\"]\n",
    "\n",
    "plt.figure(figsize=(12, 12))\n",
    "for y_arr, label in zip(y, labels):\n",
    "    plt.plot(x, y_arr, label=label)\n",
    "\n",
    "plt.legend(bbox_to_anchor=(1.05, 1), loc=2, borderaxespad=0.)\n",
    "plt.show()"
   ]
  },
  {
   "cell_type": "markdown",
   "metadata": {},
   "source": [
    "## Conclusion\n",
    "\n",
    "In this workbook, we started to go through RNN. We check a simple model of both LSTM, GRU and SimpleRNN to check how fast and well they learn. On this example GRU and LSTM outperform the standard RNN due to the memory function. There is also a difference between LSTM and GRU but with slightly more epochs, they both perform similar. We can probably have better result by using a more advanced model but for such a simple model, we can see that it works really well."
   ]
  },
  {
   "cell_type": "markdown",
   "metadata": {},
   "source": [
    "## Going further\n",
    "\n",
    "On a future notebook, we will explore Embedded Reber but using deeper RNNs"
   ]
  }
 ],
 "metadata": {
  "kernelspec": {
   "display_name": "Python 3",
   "language": "python",
   "name": "python3"
  },
  "language_info": {
   "codemirror_mode": {
    "name": "ipython",
    "version": 3
   },
   "file_extension": ".py",
   "mimetype": "text/x-python",
   "name": "python",
   "nbconvert_exporter": "python",
   "pygments_lexer": "ipython3",
   "version": "3.6.1"
  }
 },
 "nbformat": 4,
 "nbformat_minor": 2
}
