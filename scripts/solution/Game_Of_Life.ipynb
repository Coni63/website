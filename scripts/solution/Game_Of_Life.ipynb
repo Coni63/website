{
 "cells": [
  {
   "cell_type": "code",
   "execution_count": 22,
   "metadata": {
    "collapsed": true
   },
   "outputs": [],
   "source": [
    "import time\n",
    "\n",
    "import numpy as np\n",
    "\n",
    "from scipy.signal import convolve2d\n",
    "\n",
    "import pycuda.driver as cuda\n",
    "import pycuda.tools\n",
    "import pycuda.autoinit\n",
    "import pycuda.gpuarray as gpuarray\n",
    "from pycuda.compiler import SourceModule\n",
    "\n",
    "from arrayimage import ArrayInterfaceImage\n",
    "\n",
    "from pyglet.gl import *\n",
    "from pyglet import window\n",
    "from pyglet import image\n",
    "\n",
    "import matplotlib.pyplot as plt"
   ]
  },
  {
   "cell_type": "markdown",
   "metadata": {},
   "source": [
    "# Introduction\n",
    "\n",
    "On a forum, I got a discussion with 2 other people talking about the interest of GPU to simulate the Game of Life. I wanted to implement both solution and check the time to generate frames. Let's dig into it\n",
    "\n",
    "# Game of Life\n",
    "\n",
    "The explanation of the game is available in <a href=\"https://en.wikipedia.org/wiki/Conway%27s_Game_of_Life\">Wikipedia</a>.\n",
    "\n",
    "# CPU implementation\n",
    "\n",
    "The grid will be a Numpy Array. The idea is to loop thru all cells and check the number of neighbors. Based on that, we actualise the state of the cell. To do the count, we can use a simple nested loop but also a convolution with a 3x3 filter \n",
    "\n",
    "\\begin{bmatrix} \n",
    "1 & 1 & 1 \\\\\n",
    "1 & 0 & 1 \\\\\n",
    "1 & 1 & 1 \\\\\n",
    "\\end{bmatrix}\n",
    "\n",
    "Let's create a Class to handle both cases"
   ]
  },
  {
   "cell_type": "code",
   "execution_count": 2,
   "metadata": {
    "collapsed": true
   },
   "outputs": [],
   "source": [
    "class GameCPU:\n",
    "    def __init__(self, w, h, w_block = 32, h_block = 32, use_convolve=True):\n",
    "        self.w = w\n",
    "        self.h = h\n",
    "        # Not required here but we need to have the same matrix size with the GPU\n",
    "        self.w_block = w_block                  # useless\n",
    "        self.h_block = h_block                  # useless\n",
    "        self.w_grid = w // w_block              # useless\n",
    "        self.w = w_block * self.w_grid          # useless\n",
    "        self.h_grid = h // h_block              # useless\n",
    "        self.h = h_block * self.h_grid          # useless\n",
    "        self.use_convolve = use_convolve\n",
    "        self.state = np.random.randint(2, size=(self.h, self.w), dtype=np.bool)\n",
    "        self.filter = np.array([[1, 1, 1],[1, 0, 1],[1, 1, 1]])\n",
    "\n",
    "    def step_simple(self):\n",
    "        ###\n",
    "        #This create the new state matrix but usign nested loop\n",
    "        ###\n",
    "        count_mat = np.zeros(shape=(self.h, self.w), dtype=np.int32)\n",
    "        for row in range(self.h):\n",
    "            for col in range(self.w):\n",
    "                count = 0\n",
    "                if col > 0:\n",
    "                    count += self.state[row, col-1]\n",
    "                    if row > 0:\n",
    "                        count += self.state[row - 1, col-1]\n",
    "                    if row < self.h - 1:\n",
    "                        count += self.state[row + 1, col-1]\n",
    "                if col < self.w-1:\n",
    "                    count += self.state[row, col + 1]\n",
    "                    if row > 0:\n",
    "                        count += self.state[row - 1, col + 1]\n",
    "                    if row < self.h - 1:\n",
    "                        count += self.state[row + 1, col + 1]\n",
    "                if row > 0:\n",
    "                    count += self.state[row - 1, col]\n",
    "                if row < self.h-1:\n",
    "                    count += self.state[row + 1, col]\n",
    "                count_mat[row, col] = count\n",
    "        new_state = (count_mat == 3) | (self.state & (count_mat == 2))\n",
    "        self.state = new_state\n",
    "        return self.to_format()\n",
    "\n",
    "    def step_convolve(self):\n",
    "        ###\n",
    "        # This create the new state matrix but usign nested loop\n",
    "        ###\n",
    "        count_mat = convolve2d(self.state, self.filter, mode='same', boundary='fill', fillvalue=0)\n",
    "        new_state = (count_mat == 3) | (self.state & (count_mat == 2))\n",
    "        self.state = new_state\n",
    "        return self.to_format()\n",
    "\n",
    "    def step(self):\n",
    "        if self.use_convolve:\n",
    "            return self.step_convolve()\n",
    "        else:\n",
    "            return self.step_simple()\n",
    "\n",
    "    def to_format(self):\n",
    "        # required for the display\n",
    "        return 255 * self.state.astype(np.uint8)"
   ]
  },
  {
   "cell_type": "markdown",
   "metadata": {},
   "source": [
    "# GPU implementation\n",
    "\n",
    "We can create the same class with the use of a GPU. This will require pyCUDA library to run code on the GPU. \n",
    "\n",
    "<b>Note :</b> The code used for pyCUDA has been found on the Internet"
   ]
  },
  {
   "cell_type": "code",
   "execution_count": 3,
   "metadata": {
    "collapsed": true
   },
   "outputs": [],
   "source": [
    "class GameGPU:\n",
    "    def __init__(self, w, h, w_block = 32, h_block = 32):\n",
    "        self.w = w\n",
    "        self.h = h\n",
    "\n",
    "        # https://stackoverflow.com/questions/14504580/pycuda-blocks-and-grids-to-work-with-big-datas\n",
    "        self.w_block = w_block\n",
    "        self.h_block = h_block\n",
    "        self.w_grid = w // w_block\n",
    "        self.w = w_block * self.w_grid\n",
    "        self.h_grid = h // h_block\n",
    "        self.h = h_block * self.h_grid\n",
    "        self.state = np.random.randint(2, size=(self.h, self.w), dtype=np.int32)\n",
    "\n",
    "        self.mod = SourceModule(\"\"\"\n",
    "            __global__ void step(int *C, int *M)\n",
    "            {\n",
    "                int count;\n",
    "                int n_x = blockDim.x * gridDim.x;\n",
    "                int i = threadIdx.x + blockDim.x * blockIdx.x;\n",
    "                int j = threadIdx.y + blockDim.y * blockIdx.y;\n",
    "                int threadId = j*n_x+i;\n",
    "                int i_left; int i_right; int j_down; int j_up;\n",
    "\n",
    "                if(i==0) {i_left=n_x-1;} else {i_left=i-1;}\n",
    "                if(i==n_x-1) {i_right=0;} else {i_right=i+1;}\n",
    "                if(j==0) {j_down=n_x-1;} else {j_down=j-1;}\n",
    "                if(j==n_x-1) {j_up=0;} else {j_up=j+1;}\n",
    "\n",
    "                count = C[j*n_x+i_left] + C[j_down*n_x+i]\n",
    "                        + C[j*n_x+i_right] + C[j_up*n_x+i] + C[j_up*n_x+i_left]\n",
    "                        + C[j_down*n_x+i_right] + C[j_down*n_x+i_left]\n",
    "                        + C[j_up*n_x+i_right];\n",
    "\n",
    "                //A cell is \"Born\" if it has exactly 3 neighbours, \n",
    "                //A cell \"Survives\" if it has 2 or 3 living neighbours; it dies otherwise.\n",
    "                if(count < 2 || count > 3) M[threadId] = 0; // cell dies\n",
    "                if(count == 2) M[threadId] = C[threadId];// cell stays the same\n",
    "                if(count == 3) M[threadId] = 1; // cell either stays alive, or is born\n",
    "            }\n",
    "        \"\"\")\n",
    "        self.func = self.mod.get_function(\"step\")\n",
    "\n",
    "\n",
    "    def step(self, ):\n",
    "        new_state = np.empty_like(self.state)\n",
    "        state_gpu = gpuarray.to_gpu(self.state)\n",
    "        new_state_gpu = gpuarray.to_gpu(new_state)\n",
    "        self.func(state_gpu, new_state_gpu, block=(self.h_block, self.w_block, 1), grid=(self.h_grid, self.w_grid, 1))\n",
    "        self.state = new_state_gpu.get()\n",
    "        return self.to_format()\n",
    "\n",
    "    def to_format(self):\n",
    "        return 255 * self.state.astype(np.uint8)"
   ]
  },
  {
   "cell_type": "markdown",
   "metadata": {},
   "source": [
    "# Rendering\n",
    "\n",
    "For the rendering, in order to avoid framerate impact, I used pyglet to be able to get performances of OpenGL. Again in order to boost performances, the matrix, will be converted to a texture. This is done using a library : https://pypi.org/project/pygarrayimage/\n",
    "\n",
    "The last thing to do is to create a rendering function. This one will call the next iteration of the game, convert it to a texture and display it. "
   ]
  },
  {
   "cell_type": "code",
   "execution_count": 4,
   "metadata": {
    "collapsed": true
   },
   "outputs": [],
   "source": [
    "def render(env):\n",
    "    height, width = env.h, env.w\n",
    "\n",
    "    w = window.Window(width, height, visible=True, resizable=False)\n",
    "\n",
    "    aii = ArrayInterfaceImage(env.to_format())\n",
    "\n",
    "    img = aii.texture\n",
    "    img.blit(0, 0, 0)\n",
    "    w.flip()\n",
    "    glEnable(GL_BLEND)\n",
    "    glBlendFunc(GL_SRC_ALPHA, GL_ONE_MINUS_SRC_ALPHA)\n",
    "\n",
    "    while not w.has_exit:\n",
    "        w.dispatch_events()\n",
    "\n",
    "#         start = time.time()\n",
    "        arr = env.step()\n",
    "#         duration = time.time() - start\n",
    "#         print(\"Time : {:.9f} - Living Cells : {}\".format(duration, arr.sum() // 255))\n",
    "\n",
    "        aii.view_new_array(arr)\n",
    "        img.blit(0, 0, 0)\n",
    "        w.flip()"
   ]
  },
  {
   "cell_type": "markdown",
   "metadata": {},
   "source": [
    "and let's run it"
   ]
  },
  {
   "cell_type": "code",
   "execution_count": null,
   "metadata": {},
   "outputs": [],
   "source": [
    "w = 1920\n",
    "h = 1080\n",
    "env = GameGPU(w, h, w_block = 32, h_block = 32)\n",
    "# env = GoL_CPU.Game(w, h, w_block = 32, h_block = 32, use_convolve=False)\n",
    "render(env)"
   ]
  },
  {
   "cell_type": "markdown",
   "metadata": {},
   "source": [
    "And the result is like noise :) :\n",
    "\n",
    "<img src=\"GOL.png\"/>"
   ]
  },
  {
   "cell_type": "markdown",
   "metadata": {},
   "source": [
    "# Evaluation\n",
    "\n",
    "Now the code is working but we would like to evaluate the benefit. To do so, we will skip the rendering part and the time the computation of n-frames to get the number of cells simulated per seconds"
   ]
  },
  {
   "cell_type": "code",
   "execution_count": 26,
   "metadata": {
    "collapsed": true
   },
   "outputs": [],
   "source": [
    "def evaluate(env, limit_frame=1000, timeout=60):\n",
    "    timer = []\n",
    "    frame = 0\n",
    "    start = time.time()\n",
    "    stop = start\n",
    "    while frame < limit_frame and stop - start < timeout:\n",
    "        env.step()\n",
    "        print(frame, end=\"\\r\")\n",
    "        stop = time.time()\n",
    "        timer.append(stop - start)\n",
    "        frame += 1\n",
    "    return np.ediff1d(timer)"
   ]
  },
  {
   "cell_type": "markdown",
   "metadata": {},
   "source": [
    "## Comparison of models @ fixed size\n",
    "\n",
    "First let's check the time for each model to simulate an environment at a fixed size"
   ]
  },
  {
   "cell_type": "code",
   "execution_count": 38,
   "metadata": {},
   "outputs": [
    {
     "name": "stdout",
     "output_type": "stream",
     "text": [
      "999\r"
     ]
    }
   ],
   "source": [
    "n = 20\n",
    "w = 32*n\n",
    "h = 32*n\n",
    "env = GameGPU(w, h, w_block = 32, h_block = 32)\n",
    "timeGPU = evaluate(env)\n",
    "\n",
    "env = GameCPU(w, h, w_block = 32, h_block = 32, use_convolve=False)\n",
    "timeCPU_simple = evaluate(env)\n",
    "\n",
    "env = GameCPU(w, h, w_block = 32, h_block = 32, use_convolve=True)\n",
    "timeCPU_conv = evaluate(env)"
   ]
  },
  {
   "cell_type": "markdown",
   "metadata": {},
   "source": [
    "Let's plot a boxplot for each models"
   ]
  },
  {
   "cell_type": "code",
   "execution_count": 50,
   "metadata": {},
   "outputs": [
    {
     "data": {
      "image/png": "[encoded data removed]",
      "text/plain": [
       "<matplotlib.figure.Figure at 0x1fe9bd75128>"
      ]
     },
     "metadata": {},
     "output_type": "display_data"
    }
   ],
   "source": [
    "fig, ax = plt.subplots(figsize=(20,12))\n",
    "ax.boxplot(x = [timeGPU, timeCPU_simple, timeCPU_conv], \n",
    "           labels = ['GPU', 'Simple CPU', 'CPU Convolution'])\n",
    "ax.set_title(\"Time to render a frame based on the model used\")\n",
    "plt.show()"
   ]
  },
  {
   "cell_type": "markdown",
   "metadata": {},
   "source": [
    "The diff is so important than we may need to use a log scale"
   ]
  },
  {
   "cell_type": "code",
   "execution_count": 51,
   "metadata": {},
   "outputs": [
    {
     "data": {
      "image/png": "[encoded data removed]",
      "text/plain": [
       "<matplotlib.figure.Figure at 0x1fe9baf9f98>"
      ]
     },
     "metadata": {},
     "output_type": "display_data"
    }
   ],
   "source": [
    "fig, ax = plt.subplots(figsize=(20,12))\n",
    "ax.boxplot(x = [timeGPU, timeCPU_simple, timeCPU_conv], \n",
    "           labels = ['GPU', 'Simple CPU', 'CPU Convolution'])\n",
    "ax.set_title(\"Time to render a frame based on the model used\")\n",
    "ax.set_yscale('log')\n",
    "plt.show()"
   ]
  },
  {
   "cell_type": "markdown",
   "metadata": {},
   "source": [
    "Now we can see that GPU is around 10 time faster than CPU with Convolution and 1000 time faster that simple serial CPU.\n",
    "\n",
    "## Evolution with Frame Size\n",
    "\n",
    "Let's now look how the time evolve with frame size. Now instead of return the diff of time between 2 frames, the code will be changed to return the time from the beginning to avoid issue with too short time.\n",
    "\n",
    "Also, we will only focus on GPU vs CPU with Convolution"
   ]
  },
  {
   "cell_type": "code",
   "execution_count": 52,
   "metadata": {
    "collapsed": true
   },
   "outputs": [],
   "source": [
    "def evaluate(env, limit_frame=1000, timeout=60):\n",
    "    timer = []\n",
    "    frame = 0\n",
    "    start = time.time()\n",
    "    stop = start\n",
    "    while frame < limit_frame and stop - start < timeout:\n",
    "        env.step()\n",
    "        print(frame, end=\"\\r\")\n",
    "        stop = time.time()\n",
    "        timer.append(stop - start)\n",
    "        frame += 1\n",
    "    return timer"
   ]
  },
  {
   "cell_type": "code",
   "execution_count": 70,
   "metadata": {},
   "outputs": [
    {
     "name": "stdout",
     "output_type": "stream",
     "text": [
      "Size  : 32\n",
      "Size  : 64\n",
      "Size  : 128\n",
      "Size  : 256\n",
      "Size  : 512\n",
      "Size  : 768\n",
      "Size  : 1024\n",
      "Size  : 1536\n",
      "Size  : 2048\n",
      "362\r"
     ]
    }
   ],
   "source": [
    "evoGPU = []\n",
    "evoCPU = []\n",
    "sizes = [32, 64, 128, 256, 512, 768, 1024, 1536, 2048]\n",
    "for n in sizes:\n",
    "    print(\"Size  :\", n)\n",
    "    \n",
    "    env = GameGPU(n, n, w_block = 32, h_block = 32)\n",
    "    timeGPU = evaluate(env)\n",
    "    evoGPU.append(timeGPU[-1] / len(timeGPU))\n",
    "    \n",
    "    env = GameCPU(n, n, w_block = 32, h_block = 32, use_convolve=True)\n",
    "    timeCPU = evaluate(env)\n",
    "    evoCPU.append(timeCPU[-1] / len(timeCPU))"
   ]
  },
  {
   "cell_type": "code",
   "execution_count": 71,
   "metadata": {},
   "outputs": [
    {
     "data": {
      "image/png": "[encoded data removed]",
      "text/plain": [
       "<matplotlib.figure.Figure at 0x1fe9bb24f98>"
      ]
     },
     "metadata": {},
     "output_type": "display_data"
    }
   ],
   "source": [
    "plt.figure(figsize=(20,12))\n",
    "plt.plot(evoGPU, label=\"GPU\")\n",
    "plt.plot(evoCPU, label=\"CPU\")\n",
    "plt.title(\"Evolution of computation time based on image size\")\n",
    "plt.xlabel(\"Image Size\")\n",
    "plt.ylabel(\"Time per frame\")\n",
    "plt.legend()\n",
    "plt.show()"
   ]
  },
  {
   "cell_type": "markdown",
   "metadata": {},
   "source": [
    "We can also look at pixels per seconds"
   ]
  },
  {
   "cell_type": "code",
   "execution_count": 72,
   "metadata": {
    "collapsed": true
   },
   "outputs": [],
   "source": [
    "frames_GPU = len(timeGPU)\n",
    "pixels_computed_GPU = 2048 * 2048 * frames_GPU\n",
    "time_required_GPU = timeGPU[-1]\n",
    "pixels_per_sec_GPU = pixels_computed_GPU / time_required_GPU\n",
    "\n",
    "frames_CPU = len(timeCPU)\n",
    "pixels_computed_CPU = 2048 * 2048 * frames_CPU\n",
    "time_required_CPU = timeCPU[-1]\n",
    "pixels_per_sec_CPU = pixels_computed_CPU / time_required_CPU"
   ]
  },
  {
   "cell_type": "code",
   "execution_count": 82,
   "metadata": {},
   "outputs": [
    {
     "name": "stdout",
     "output_type": "stream",
     "text": [
      "Pixels per seconds\n",
      "CPU : 2.54e+07 cells/sec\n",
      "GPU : 1.57e+08 cells/sec\n"
     ]
    }
   ],
   "source": [
    "print(\"Pixels per seconds\")\n",
    "print(\"CPU : {:.2e} cells/sec\".format(int(pixels_per_sec_CPU)))\n",
    "print(\"GPU : {:.2e} cells/sec\".format(int(pixels_per_sec_GPU)))"
   ]
  },
  {
   "cell_type": "code",
   "execution_count": 79,
   "metadata": {},
   "outputs": [
    {
     "data": {
      "image/png": "[encoded data removed]",
      "text/plain": [
       "<matplotlib.figure.Figure at 0x1fe9c1f79e8>"
      ]
     },
     "metadata": {},
     "output_type": "display_data"
    }
   ],
   "source": [
    "fig, ax = plt.subplots(figsize=(15,8))\n",
    "ind = np.arange(1, 3)\n",
    "\n",
    "gpu, cpu = plt.bar(ind, [pixels_per_sec_GPU, pixels_per_sec_CPU])\n",
    "gpu.set_facecolor('r')\n",
    "cpu.set_facecolor('b')\n",
    "ax.set_xticks(ind)\n",
    "ax.set_xticklabels(['GPU', 'CPU'])\n",
    "# ax.set_ylim([0, 100])\n",
    "ax.set_ylabel('Pixels per seconds')\n",
    "ax.set_title('Pixels computed per seconds')\n",
    "plt.show()"
   ]
  },
  {
   "cell_type": "markdown",
   "metadata": {},
   "source": [
    "# Conclusion\n",
    "\n",
    "This project was a off-topic subject I wanted to do just for learning. I was thinking that GPU was not very good at doing loops instead of matrix calculation (even if matrix calculation is based on loops). I realized that I was wrong :)\n",
    "\n",
    "It allows me also to look again at pyglet which is not used often but provides an efficient viewer and PyCUDA even if I'm not yet understanding the complete code used in the SourceModule."
   ]
  }
 ],
 "metadata": {
  "kernelspec": {
   "display_name": "Python 3",
   "language": "python",
   "name": "python3"
  },
  "language_info": {
   "codemirror_mode": {
    "name": "ipython",
    "version": 3
   },
   "file_extension": ".py",
   "mimetype": "text/x-python",
   "name": "python",
   "nbconvert_exporter": "python",
   "pygments_lexer": "ipython3",
   "version": "3.6.3"
  }
 },
 "nbformat": 4,
 "nbformat_minor": 2
}
