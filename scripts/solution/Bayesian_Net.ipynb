{
 "cells": [
  {
   "cell_type": "markdown",
   "metadata": {},
   "source": [
    "# Introduction\n",
    "\n",
    "While starting to look at Markov Models, I discovered a network able to compute probabilities combined as we usually do manually. It's called Bayesian Models. In this Notebook, I'll experiement this kind of models on small examples and then, we will do a quick \"word generator\" based on Markov Models\n",
    "\n",
    "# Bayesian Model\n",
    "\n",
    "To do Bayesian Model, we should install a specific library called pgmpy. As there is not a lot of documentation about it, let's first try a simple example present on their presentation"
   ]
  },
  {
   "cell_type": "code",
   "execution_count": 1,
   "metadata": {
    "collapsed": true
   },
   "outputs": [],
   "source": [
    "import pandas as pd\n",
    "import numpy as np\n",
    "\n",
    "from pgmpy.models import BayesianModel\n",
    "from pgmpy.factors.discrete import TabularCPD\n",
    "from pgmpy.inference import VariableElimination"
   ]
  },
  {
   "cell_type": "markdown",
   "metadata": {},
   "source": [
    "### Simple example\n",
    "\n",
    "The first exercice uses data sample to predict a value given a graph. Let's assume that the graph is :\n",
    "\n",
    "<img src=\"Bayes_example.png\"/>\n",
    "\n",
    "Let's create a fake dataset and the graph"
   ]
  },
  {
   "cell_type": "code",
   "execution_count": 2,
   "metadata": {
    "collapsed": true
   },
   "outputs": [],
   "source": [
    "df = pd.DataFrame(np.random.randint(low=0, high=2, size=(100, 5)),columns=['A', 'B', 'C', 'D', 'E'])\n",
    "train_data = df[:80].copy()\n",
    "test_data = df[80:].copy()\n",
    "model = BayesianModel([('A', 'E'), ('C', 'D'), ('D', 'B'), ('C', 'B'), ('B', 'E')])"
   ]
  },
  {
   "cell_type": "markdown",
   "metadata": {},
   "source": [
    "Now we can train the model and test it. Of course the result won't be good as the dataset is fully random"
   ]
  },
  {
   "cell_type": "code",
   "execution_count": 3,
   "metadata": {},
   "outputs": [
    {
     "data": {
      "text/html": [
       "<div>\n",
       "<style>\n",
       "    .dataframe thead tr:only-child th {\n",
       "        text-align: right;\n",
       "    }\n",
       "\n",
       "    .dataframe thead th {\n",
       "        text-align: left;\n",
       "    }\n",
       "\n",
       "    .dataframe tbody tr th {\n",
       "        vertical-align: top;\n",
       "    }\n",
       "</style>\n",
       "<table border=\"1\" class=\"dataframe\">\n",
       "  <thead>\n",
       "    <tr style=\"text-align: right;\">\n",
       "      <th></th>\n",
       "      <th>pred_0</th>\n",
       "      <th>pred_1</th>\n",
       "      <th>y_true</th>\n",
       "    </tr>\n",
       "  </thead>\n",
       "  <tbody>\n",
       "    <tr>\n",
       "      <th>80</th>\n",
       "      <td>0.478261</td>\n",
       "      <td>0.521739</td>\n",
       "      <td>0</td>\n",
       "    </tr>\n",
       "    <tr>\n",
       "      <th>81</th>\n",
       "      <td>0.500000</td>\n",
       "      <td>0.500000</td>\n",
       "      <td>0</td>\n",
       "    </tr>\n",
       "    <tr>\n",
       "      <th>82</th>\n",
       "      <td>0.600000</td>\n",
       "      <td>0.400000</td>\n",
       "      <td>0</td>\n",
       "    </tr>\n",
       "    <tr>\n",
       "      <th>83</th>\n",
       "      <td>0.478261</td>\n",
       "      <td>0.521739</td>\n",
       "      <td>0</td>\n",
       "    </tr>\n",
       "    <tr>\n",
       "      <th>84</th>\n",
       "      <td>0.375000</td>\n",
       "      <td>0.625000</td>\n",
       "      <td>0</td>\n",
       "    </tr>\n",
       "    <tr>\n",
       "      <th>85</th>\n",
       "      <td>0.375000</td>\n",
       "      <td>0.625000</td>\n",
       "      <td>0</td>\n",
       "    </tr>\n",
       "    <tr>\n",
       "      <th>86</th>\n",
       "      <td>0.600000</td>\n",
       "      <td>0.400000</td>\n",
       "      <td>1</td>\n",
       "    </tr>\n",
       "    <tr>\n",
       "      <th>87</th>\n",
       "      <td>0.478261</td>\n",
       "      <td>0.521739</td>\n",
       "      <td>0</td>\n",
       "    </tr>\n",
       "    <tr>\n",
       "      <th>88</th>\n",
       "      <td>0.478261</td>\n",
       "      <td>0.521739</td>\n",
       "      <td>1</td>\n",
       "    </tr>\n",
       "    <tr>\n",
       "      <th>89</th>\n",
       "      <td>0.500000</td>\n",
       "      <td>0.500000</td>\n",
       "      <td>1</td>\n",
       "    </tr>\n",
       "    <tr>\n",
       "      <th>90</th>\n",
       "      <td>0.375000</td>\n",
       "      <td>0.625000</td>\n",
       "      <td>1</td>\n",
       "    </tr>\n",
       "    <tr>\n",
       "      <th>91</th>\n",
       "      <td>0.478261</td>\n",
       "      <td>0.521739</td>\n",
       "      <td>0</td>\n",
       "    </tr>\n",
       "    <tr>\n",
       "      <th>92</th>\n",
       "      <td>0.500000</td>\n",
       "      <td>0.500000</td>\n",
       "      <td>1</td>\n",
       "    </tr>\n",
       "    <tr>\n",
       "      <th>93</th>\n",
       "      <td>0.600000</td>\n",
       "      <td>0.400000</td>\n",
       "      <td>1</td>\n",
       "    </tr>\n",
       "    <tr>\n",
       "      <th>94</th>\n",
       "      <td>0.500000</td>\n",
       "      <td>0.500000</td>\n",
       "      <td>0</td>\n",
       "    </tr>\n",
       "    <tr>\n",
       "      <th>95</th>\n",
       "      <td>0.600000</td>\n",
       "      <td>0.400000</td>\n",
       "      <td>0</td>\n",
       "    </tr>\n",
       "    <tr>\n",
       "      <th>96</th>\n",
       "      <td>0.478261</td>\n",
       "      <td>0.521739</td>\n",
       "      <td>0</td>\n",
       "    </tr>\n",
       "    <tr>\n",
       "      <th>97</th>\n",
       "      <td>0.478261</td>\n",
       "      <td>0.521739</td>\n",
       "      <td>0</td>\n",
       "    </tr>\n",
       "    <tr>\n",
       "      <th>98</th>\n",
       "      <td>0.600000</td>\n",
       "      <td>0.400000</td>\n",
       "      <td>0</td>\n",
       "    </tr>\n",
       "    <tr>\n",
       "      <th>99</th>\n",
       "      <td>0.375000</td>\n",
       "      <td>0.625000</td>\n",
       "      <td>0</td>\n",
       "    </tr>\n",
       "  </tbody>\n",
       "</table>\n",
       "</div>"
      ],
      "text/plain": [
       "      pred_0    pred_1  y_true\n",
       "80  0.478261  0.521739       0\n",
       "81  0.500000  0.500000       0\n",
       "82  0.600000  0.400000       0\n",
       "83  0.478261  0.521739       0\n",
       "84  0.375000  0.625000       0\n",
       "85  0.375000  0.625000       0\n",
       "86  0.600000  0.400000       1\n",
       "87  0.478261  0.521739       0\n",
       "88  0.478261  0.521739       1\n",
       "89  0.500000  0.500000       1\n",
       "90  0.375000  0.625000       1\n",
       "91  0.478261  0.521739       0\n",
       "92  0.500000  0.500000       1\n",
       "93  0.600000  0.400000       1\n",
       "94  0.500000  0.500000       0\n",
       "95  0.600000  0.400000       0\n",
       "96  0.478261  0.521739       0\n",
       "97  0.478261  0.521739       0\n",
       "98  0.600000  0.400000       0\n",
       "99  0.375000  0.625000       0"
      ]
     },
     "execution_count": 3,
     "metadata": {},
     "output_type": "execute_result"
    }
   ],
   "source": [
    "model.fit(train_data)\n",
    "y_true = test_data[\"E\"]\n",
    "test_data.drop(['E'], axis=1, inplace=True)\n",
    "y_pred = model.predict_probability(test_data)\n",
    "result = pd.concat([y_pred, y_true], axis=1)\n",
    "result.columns = [\"pred_0\", \"pred_1\", \"y_true\"]\n",
    "result"
   ]
  },
  {
   "cell_type": "markdown",
   "metadata": {},
   "source": [
    "We can also look at Conditionnal Probabilities Distribution. During the fit, it will create table for simple CPDs (like A which is a \"root\") but also real conditionnal ones like D which depends on D"
   ]
  },
  {
   "cell_type": "code",
   "execution_count": 4,
   "metadata": {},
   "outputs": [
    {
     "name": "stdout",
     "output_type": "stream",
     "text": [
      "╒══════╤════════╕\n",
      "│ A(0) │ 0.5125 │\n",
      "├──────┼────────┤\n",
      "│ A(1) │ 0.4875 │\n",
      "╘══════╧════════╛\n"
     ]
    }
   ],
   "source": [
    "print(model.get_cpds()[0])"
   ]
  },
  {
   "cell_type": "code",
   "execution_count": 5,
   "metadata": {},
   "outputs": [
    {
     "name": "stdout",
     "output_type": "stream",
     "text": [
      "╒══════╤═══════╤══════╕\n",
      "│ C    │ C(0)  │ C(1) │\n",
      "├──────┼───────┼──────┤\n",
      "│ D(0) │ 0.475 │ 0.4  │\n",
      "├──────┼───────┼──────┤\n",
      "│ D(1) │ 0.525 │ 0.6  │\n",
      "╘══════╧═══════╧══════╛\n"
     ]
    }
   ],
   "source": [
    "print(model.get_cpds()[3])"
   ]
  },
  {
   "cell_type": "markdown",
   "metadata": {},
   "source": [
    "Now, we saw the basic where we use a dataset to handle CPDs but we can also fix CPDs and do prediction. This is what we will do on the 2 next exercices."
   ]
  },
  {
   "cell_type": "markdown",
   "metadata": {},
   "source": [
    "### Exercice 1\n",
    "\n",
    "The exercice comes from <a href=\"https://www.matthieuamiguet.ch/media/documents/MA-IARTI-TPs-ResBayesiens.pdf\">this website</a> and is translated in English below"
   ]
  },
  {
   "cell_type": "markdown",
   "metadata": {},
   "source": [
    "In the company Bayes & Co, there is a boss that decides periodically to lay off employees or increase the salary of other employees. His politics is not very popular, there are as many dismissals as there are salary increases.\n",
    "\n",
    "Everytime the boss takes one of these decisions, it must be managed by the Human Resources and Accounting departments, which send together the notification (good or bad).\n",
    "\n",
    "The human resources department has three employees: Janet, Jim and Julia.\n",
    "During a layoff, Janet manage 30% of cases, Jim 35% and Julia 35%.\n",
    "With the salary increase, the proportions increases to 20%, 20% and 60% respectively.\n",
    "\n",
    "The Accounting department ahs two employees: James and Jules. \n",
    "During a layoff, James takes care of 37% of cases (and Jules 63%).\n",
    "With the salary increase, proportions increase to 42% (and thus 58% for Jules).\n",
    "\n",
    "Employees can be notified by mail or email. To do so, the two persons in charge of the change agree. \n",
    "So we see that Janet and James write a letter in 40% of cases but when Janet collaborates with Jules, these proportions are 70% and 30%. For Jim and James it's 30% and 70%. For Jim and Jules 65% and 35%. For Julia and James\n",
    "25% and 75% and finally for Julia and Jules, it's 55% and 45%."
   ]
  },
  {
   "cell_type": "markdown",
   "metadata": {},
   "source": [
    "First thing, we have to create the graph related. We can extract 4 things :\n",
    "    - The notification\n",
    "    - The HR responsible\n",
    "    - The Accountant responsible\n",
    "    - The reason\n",
    "    \n",
    "Based on that we can do the following graph with related CPDs:\n",
    "    \n",
    "<img src=\"Bayes_ex_1.png\"/>\n",
    "\n",
    "Just an information, in the next steps, names will be integer for modeling purposes. As a result, the index will increased from left to right on the image above so:\n",
    "- James will be HR_0\n",
    "- jules will be HR_1\n",
    "- Janet will be Accounting_0\n",
    "- and so on\n",
    "\n",
    "Let's now build the graph:"
   ]
  },
  {
   "cell_type": "code",
   "execution_count": 6,
   "metadata": {
    "collapsed": true
   },
   "outputs": [],
   "source": [
    "G = BayesianModel()\n",
    "G.add_nodes_from(['Reason', 'Accounting', 'HR', 'Notification'])\n",
    "G.add_edges_from([\n",
    "                    ('Reason', 'Accounting'), \n",
    "                    ('Reason', 'HR'),\n",
    "                    ('Accounting', 'Notification'),\n",
    "                    ('HR', 'Notification')\n",
    "                 ])"
   ]
  },
  {
   "cell_type": "markdown",
   "metadata": {},
   "source": [
    "And create all CPDs"
   ]
  },
  {
   "cell_type": "code",
   "execution_count": 7,
   "metadata": {},
   "outputs": [
    {
     "name": "stdout",
     "output_type": "stream",
     "text": [
      "╒══════════╤═════╕\n",
      "│ Reason_0 │ 0.5 │\n",
      "├──────────┼─────┤\n",
      "│ Reason_1 │ 0.5 │\n",
      "╘══════════╧═════╛\n"
     ]
    }
   ],
   "source": [
    "cpd_a = TabularCPD(variable = 'Reason', variable_card = 2, values = [[0.5], [0.5]])\n",
    "print(cpd_a)"
   ]
  },
  {
   "cell_type": "code",
   "execution_count": 8,
   "metadata": {},
   "outputs": [
    {
     "name": "stdout",
     "output_type": "stream",
     "text": [
      "╒══════════════╤══════════╤══════════╕\n",
      "│ Reason       │ Reason_0 │ Reason_1 │\n",
      "├──────────────┼──────────┼──────────┤\n",
      "│ Accounting_0 │ 0.37     │ 0.42     │\n",
      "├──────────────┼──────────┼──────────┤\n",
      "│ Accounting_1 │ 0.63     │ 0.58     │\n",
      "╘══════════════╧══════════╧══════════╛\n"
     ]
    }
   ],
   "source": [
    "cpd_b = TabularCPD('Accounting', 2, [[0.37, 0.42], [0.63, 0.58]], evidence=['Reason'], evidence_card=[2])\n",
    "print(cpd_b)"
   ]
  },
  {
   "cell_type": "code",
   "execution_count": 9,
   "metadata": {},
   "outputs": [
    {
     "name": "stdout",
     "output_type": "stream",
     "text": [
      "╒════════╤══════════╤══════════╕\n",
      "│ Reason │ Reason_0 │ Reason_1 │\n",
      "├────────┼──────────┼──────────┤\n",
      "│ HR_0   │ 0.3      │ 0.2      │\n",
      "├────────┼──────────┼──────────┤\n",
      "│ HR_1   │ 0.35     │ 0.2      │\n",
      "├────────┼──────────┼──────────┤\n",
      "│ HR_2   │ 0.35     │ 0.6      │\n",
      "╘════════╧══════════╧══════════╛\n"
     ]
    }
   ],
   "source": [
    "cpd_c = TabularCPD('HR', 3, [[0.3, 0.2], [0.35, 0.2], [0.35, 0.6]], evidence=['Reason'], evidence_card=[2])\n",
    "print(cpd_c)"
   ]
  },
  {
   "cell_type": "code",
   "execution_count": 10,
   "metadata": {},
   "outputs": [
    {
     "name": "stdout",
     "output_type": "stream",
     "text": [
      "╒════════════════╤══════════════╤══════════════╤══════════════╤══════════════╤══════════════╤══════════════╕\n",
      "│ Accounting     │ Accounting_0 │ Accounting_0 │ Accounting_0 │ Accounting_1 │ Accounting_1 │ Accounting_1 │\n",
      "├────────────────┼──────────────┼──────────────┼──────────────┼──────────────┼──────────────┼──────────────┤\n",
      "│ HR             │ HR_0         │ HR_1         │ HR_2         │ HR_0         │ HR_1         │ HR_2         │\n",
      "├────────────────┼──────────────┼──────────────┼──────────────┼──────────────┼──────────────┼──────────────┤\n",
      "│ Notification_0 │ 0.4          │ 0.3          │ 0.25         │ 0.7          │ 0.65         │ 0.55         │\n",
      "├────────────────┼──────────────┼──────────────┼──────────────┼──────────────┼──────────────┼──────────────┤\n",
      "│ Notification_1 │ 0.6          │ 0.7          │ 0.75         │ 0.3          │ 0.35         │ 0.45         │\n",
      "╘════════════════╧══════════════╧══════════════╧══════════════╧══════════════╧══════════════╧══════════════╛\n"
     ]
    }
   ],
   "source": [
    "cpd_d = TabularCPD('Notification', 2, [[0.4, 0.3, 0.25, 0.7, 0.65, 0.55], [0.6, 0.7, 0.75, 0.3, 0.35, 0.45]], evidence=['Accounting', 'HR'], evidence_card=[2, 3])\n",
    "print(cpd_d)"
   ]
  },
  {
   "cell_type": "markdown",
   "metadata": {},
   "source": [
    "Now we add the CPDs to the model"
   ]
  },
  {
   "cell_type": "code",
   "execution_count": 11,
   "metadata": {
    "collapsed": true
   },
   "outputs": [],
   "source": [
    "G.add_cpds(cpd_a, cpd_b, cpd_c, cpd_d)"
   ]
  },
  {
   "cell_type": "markdown",
   "metadata": {},
   "source": [
    "We have few options to explore the graph like independencies (2 nodes not connected directly). Their is probably other ones but I didn't checked in detail"
   ]
  },
  {
   "cell_type": "code",
   "execution_count": 12,
   "metadata": {},
   "outputs": [
    {
     "data": {
      "text/plain": [
       "(Reason _|_ Notification | HR, Accounting)\n",
       "(Accounting _|_ HR | Reason)\n",
       "(HR _|_ Accounting | Reason)\n",
       "(Notification _|_ Reason | HR, Accounting)"
      ]
     },
     "execution_count": 12,
     "metadata": {},
     "output_type": "execute_result"
    }
   ],
   "source": [
    "G.get_independencies()"
   ]
  },
  {
   "cell_type": "markdown",
   "metadata": {},
   "source": [
    "Now we can try to predict something. For example, the probability of being fired if we receive a letter from Jules and Janet"
   ]
  },
  {
   "cell_type": "code",
   "execution_count": 13,
   "metadata": {},
   "outputs": [
    {
     "data": {
      "text/html": [
       "<div>\n",
       "<style>\n",
       "    .dataframe thead tr:only-child th {\n",
       "        text-align: right;\n",
       "    }\n",
       "\n",
       "    .dataframe thead th {\n",
       "        text-align: left;\n",
       "    }\n",
       "\n",
       "    .dataframe tbody tr th {\n",
       "        vertical-align: top;\n",
       "    }\n",
       "</style>\n",
       "<table border=\"1\" class=\"dataframe\">\n",
       "  <thead>\n",
       "    <tr style=\"text-align: right;\">\n",
       "      <th></th>\n",
       "      <th>Accounting</th>\n",
       "      <th>HR</th>\n",
       "      <th>Notification</th>\n",
       "    </tr>\n",
       "  </thead>\n",
       "  <tbody>\n",
       "    <tr>\n",
       "      <th>0</th>\n",
       "      <td>1</td>\n",
       "      <td>0</td>\n",
       "      <td>1</td>\n",
       "    </tr>\n",
       "  </tbody>\n",
       "</table>\n",
       "</div>"
      ],
      "text/plain": [
       "   Accounting  HR  Notification\n",
       "0           1   0             1"
      ]
     },
     "execution_count": 13,
     "metadata": {},
     "output_type": "execute_result"
    }
   ],
   "source": [
    "a = pd.DataFrame({\"Accounting\" : [1], \"HR\" : [0], \"Notification\" : [1]})\n",
    "a"
   ]
  },
  {
   "cell_type": "code",
   "execution_count": 14,
   "metadata": {},
   "outputs": [
    {
     "data": {
      "text/html": [
       "<div>\n",
       "<style>\n",
       "    .dataframe thead tr:only-child th {\n",
       "        text-align: right;\n",
       "    }\n",
       "\n",
       "    .dataframe thead th {\n",
       "        text-align: left;\n",
       "    }\n",
       "\n",
       "    .dataframe tbody tr th {\n",
       "        vertical-align: top;\n",
       "    }\n",
       "</style>\n",
       "<table border=\"1\" class=\"dataframe\">\n",
       "  <thead>\n",
       "    <tr style=\"text-align: right;\">\n",
       "      <th></th>\n",
       "      <th>Reason</th>\n",
       "    </tr>\n",
       "  </thead>\n",
       "  <tbody>\n",
       "    <tr>\n",
       "      <th>0</th>\n",
       "      <td>0</td>\n",
       "    </tr>\n",
       "  </tbody>\n",
       "</table>\n",
       "</div>"
      ],
      "text/plain": [
       "   Reason\n",
       "0       0"
      ]
     },
     "execution_count": 14,
     "metadata": {},
     "output_type": "execute_result"
    }
   ],
   "source": [
    "G.predict(a)"
   ]
  },
  {
   "cell_type": "markdown",
   "metadata": {},
   "source": [
    "The model says that it's more probable to be fire than increased but we don't have a proper probability. To do so, we could think that we can use the method *predict_proba*"
   ]
  },
  {
   "cell_type": "code",
   "execution_count": 15,
   "metadata": {},
   "outputs": [
    {
     "ename": "TypeError",
     "evalue": "'NoneType' object is not subscriptable",
     "output_type": "error",
     "traceback": [
      "\u001b[1;31m---------------------------------------------------------------------------\u001b[0m",
      "\u001b[1;31mTypeError\u001b[0m                                 Traceback (most recent call last)",
      "\u001b[1;32m<ipython-input-15-792524c73483>\u001b[0m in \u001b[0;36m<module>\u001b[1;34m()\u001b[0m\n\u001b[1;32m----> 1\u001b[1;33m \u001b[0mG\u001b[0m\u001b[1;33m.\u001b[0m\u001b[0mpredict_probability\u001b[0m\u001b[1;33m(\u001b[0m\u001b[0ma\u001b[0m\u001b[1;33m)\u001b[0m\u001b[1;33m\u001b[0m\u001b[0m\n\u001b[0m",
      "\u001b[1;32mC:\\python36\\envs\\machine_learning\\lib\\site-packages\\pgmpy\\models\\BayesianModel.py\u001b[0m in \u001b[0;36mpredict_probability\u001b[1;34m(self, data)\u001b[0m\n\u001b[0;32m    818\u001b[0m             \u001b[1;32mfor\u001b[0m \u001b[0mk\u001b[0m\u001b[1;33m,\u001b[0m \u001b[0mv\u001b[0m \u001b[1;32min\u001b[0m \u001b[0mstates_dict\u001b[0m\u001b[1;33m.\u001b[0m\u001b[0mitems\u001b[0m\u001b[1;33m(\u001b[0m\u001b[1;33m)\u001b[0m\u001b[1;33m:\u001b[0m\u001b[1;33m\u001b[0m\u001b[0m\n\u001b[0;32m    819\u001b[0m                 \u001b[1;32mfor\u001b[0m \u001b[0ml\u001b[0m \u001b[1;32min\u001b[0m \u001b[0mrange\u001b[0m\u001b[1;33m(\u001b[0m\u001b[0mlen\u001b[0m\u001b[1;33m(\u001b[0m\u001b[0mv\u001b[0m\u001b[1;33m.\u001b[0m\u001b[0mvalues\u001b[0m\u001b[1;33m)\u001b[0m\u001b[1;33m)\u001b[0m\u001b[1;33m:\u001b[0m\u001b[1;33m\u001b[0m\u001b[0m\n\u001b[1;32m--> 820\u001b[1;33m                     \u001b[0mstate\u001b[0m \u001b[1;33m=\u001b[0m \u001b[0mself\u001b[0m\u001b[1;33m.\u001b[0m\u001b[0mget_cpds\u001b[0m\u001b[1;33m(\u001b[0m\u001b[0mk\u001b[0m\u001b[1;33m)\u001b[0m\u001b[1;33m.\u001b[0m\u001b[0mstate_names\u001b[0m\u001b[1;33m[\u001b[0m\u001b[0mk\u001b[0m\u001b[1;33m]\u001b[0m\u001b[1;33m[\u001b[0m\u001b[0ml\u001b[0m\u001b[1;33m]\u001b[0m\u001b[1;33m\u001b[0m\u001b[0m\n\u001b[0m\u001b[0;32m    821\u001b[0m                     \u001b[0mpred_values\u001b[0m\u001b[1;33m[\u001b[0m\u001b[0mk\u001b[0m \u001b[1;33m+\u001b[0m \u001b[1;34m'_'\u001b[0m \u001b[1;33m+\u001b[0m \u001b[0mstr\u001b[0m\u001b[1;33m(\u001b[0m\u001b[0mstate\u001b[0m\u001b[1;33m)\u001b[0m\u001b[1;33m]\u001b[0m\u001b[1;33m.\u001b[0m\u001b[0mappend\u001b[0m\u001b[1;33m(\u001b[0m\u001b[0mv\u001b[0m\u001b[1;33m.\u001b[0m\u001b[0mvalues\u001b[0m\u001b[1;33m[\u001b[0m\u001b[0ml\u001b[0m\u001b[1;33m]\u001b[0m\u001b[1;33m)\u001b[0m\u001b[1;33m\u001b[0m\u001b[0m\n\u001b[0;32m    822\u001b[0m         \u001b[1;32mreturn\u001b[0m \u001b[0mpd\u001b[0m\u001b[1;33m.\u001b[0m\u001b[0mDataFrame\u001b[0m\u001b[1;33m(\u001b[0m\u001b[0mpred_values\u001b[0m\u001b[1;33m,\u001b[0m \u001b[0mindex\u001b[0m\u001b[1;33m=\u001b[0m\u001b[0mdata\u001b[0m\u001b[1;33m.\u001b[0m\u001b[0mindex\u001b[0m\u001b[1;33m)\u001b[0m\u001b[1;33m\u001b[0m\u001b[0m\n",
      "\u001b[1;31mTypeError\u001b[0m: 'NoneType' object is not subscriptable"
     ]
    }
   ],
   "source": [
    "G.predict_probability(a)"
   ]
  },
  {
   "cell_type": "markdown",
   "metadata": {},
   "source": [
    "But this is not working. To do so, we should use another part of the library which is *VariableElimination*"
   ]
  },
  {
   "cell_type": "code",
   "execution_count": 16,
   "metadata": {
    "collapsed": true
   },
   "outputs": [],
   "source": [
    "mdl = VariableElimination(G)"
   ]
  },
  {
   "cell_type": "markdown",
   "metadata": {},
   "source": [
    "Let's now anser the question we have on the exercice"
   ]
  },
  {
   "cell_type": "markdown",
   "metadata": {},
   "source": [
    "##### Q1\n",
    "Jeremy received this morning a letter from Janet and Jules. \n",
    "What is the probability that it's a layoff letter? (answer : 62%)"
   ]
  },
  {
   "cell_type": "code",
   "execution_count": 17,
   "metadata": {},
   "outputs": [
    {
     "name": "stdout",
     "output_type": "stream",
     "text": [
      "╒══════════╤═══════════════╕\n",
      "│ Reason   │   phi(Reason) │\n",
      "╞══════════╪═══════════════╡\n",
      "│ Reason_0 │        0.6197 │\n",
      "├──────────┼───────────────┤\n",
      "│ Reason_1 │        0.3803 │\n",
      "╘══════════╧═══════════════╛\n"
     ]
    }
   ],
   "source": [
    "r = mdl.query([\"Reason\"], evidence={\"Accounting\" :1, \"HR\": 0, \"Notification\": 0 })\n",
    "print(r[\"Reason\"])"
   ]
  },
  {
   "cell_type": "markdown",
   "metadata": {},
   "source": [
    "And if it's from Jim and James ? (answer : 61%)"
   ]
  },
  {
   "cell_type": "code",
   "execution_count": 18,
   "metadata": {},
   "outputs": [
    {
     "name": "stdout",
     "output_type": "stream",
     "text": [
      "╒══════════╤═══════════════╕\n",
      "│ Reason   │   phi(Reason) │\n",
      "╞══════════╪═══════════════╡\n",
      "│ Reason_0 │        0.6066 │\n",
      "├──────────┼───────────────┤\n",
      "│ Reason_1 │        0.3934 │\n",
      "╘══════════╧═══════════════╛\n"
     ]
    }
   ],
   "source": [
    "r = mdl.query([\"Reason\"], evidence={\"Accounting\" :0, \"HR\": 1, \"Notification\": 0 })\n",
    "print(r[\"Reason\"])"
   ]
  },
  {
   "cell_type": "markdown",
   "metadata": {},
   "source": [
    "If all that Jeremy knows is that Julia is in charge of his case, what are the risks of being fired? (answer: 37%)"
   ]
  },
  {
   "cell_type": "code",
   "execution_count": 19,
   "metadata": {},
   "outputs": [
    {
     "name": "stdout",
     "output_type": "stream",
     "text": [
      "╒══════════╤═══════════════╕\n",
      "│ Reason   │   phi(Reason) │\n",
      "╞══════════╪═══════════════╡\n",
      "│ Reason_0 │        0.3684 │\n",
      "├──────────┼───────────────┤\n",
      "│ Reason_1 │        0.6316 │\n",
      "╘══════════╧═══════════════╛\n"
     ]
    }
   ],
   "source": [
    "r = mdl.query([\"Reason\"], evidence={\"HR\": 2})\n",
    "print(r[\"Reason\"])"
   ]
  },
  {
   "cell_type": "markdown",
   "metadata": {},
   "source": [
    "Jeremy received an email this morning, but he does not know who handled his case. How likely is it to read a salary increase announcement? (answer: 52%)"
   ]
  },
  {
   "cell_type": "code",
   "execution_count": 20,
   "metadata": {},
   "outputs": [
    {
     "name": "stdout",
     "output_type": "stream",
     "text": [
      "╒══════════╤═══════════════╕\n",
      "│ Reason   │   phi(Reason) │\n",
      "╞══════════╪═══════════════╡\n",
      "│ Reason_0 │        0.4790 │\n",
      "├──────────┼───────────────┤\n",
      "│ Reason_1 │        0.5210 │\n",
      "╘══════════╧═══════════════╛\n"
     ]
    }
   ],
   "source": [
    "r = mdl.query([\"Reason\"], evidence={\"Notification\": 1})\n",
    "print(r[\"Reason\"])"
   ]
  },
  {
   "cell_type": "markdown",
   "metadata": {},
   "source": [
    "All results are the one expected and quite easily (except that it's a bit difficult to find the information in the internet).\n",
    "\n",
    "I tried the second exercice from the same document but without success. There were missing informations (at least to me) or my grpah was not good. So I won't present it at all."
   ]
  },
  {
   "cell_type": "markdown",
   "metadata": {
    "collapsed": true
   },
   "source": [
    "# Markov Model\n",
    "\n",
    "This kind of graph can be transformed to Markov Model which are using <a href=\"https://en.wikipedia.org/wiki/Markov_chain\">Markov Chain</a>. A simple example of Markov Chain is to generate words similar to a given language. This is what we will do now.\n",
    "\n",
    "To do so, I'll not create a Markov Model directly with pgmpy because CPDs would be the probability of each following letter given the previous one... which is 26 x 26 values. This will be done by storing probabilities in a Matrix directly. \n",
    "\n",
    "Now to create this transition matrix, we will need datas. In some test cases, people are using dictionnary but the problem is that we give the same weight to very common words like \"the\" or \"lycanthropy\". To be closer to normal language, I'll use free books in a given language (english). Thousands of books are available on Gutenberg's project (<a href=\"https://www.gutenberg.org/browse/scores/top\">link</a>) so I took 10 random ones. Let's now create the transition matrix"
   ]
  },
  {
   "cell_type": "markdown",
   "metadata": {},
   "source": [
    "NB : If you want to test Markov Model with pgmpy, you can look at this link :\n",
    "https://conference.scipy.org/proceedings/scipy2015/pdfs/ankur_ankan.pdf or http://pgmpy.org/_modules/pgmpy/models/MarkovChain.html"
   ]
  },
  {
   "cell_type": "code",
   "execution_count": 21,
   "metadata": {
    "collapsed": true
   },
   "outputs": [],
   "source": [
    "import glob\n",
    "import string\n",
    "import codecs\n",
    "import re\n",
    "import numpy as np\n",
    "import matplotlib.pyplot as plt\n",
    "import scipy\n",
    "\n",
    "alphabet = string.ascii_lowercase"
   ]
  },
  {
   "cell_type": "markdown",
   "metadata": {},
   "source": [
    "let's store all words of the 10 books in a list (only character and lowercase)"
   ]
  },
  {
   "cell_type": "code",
   "execution_count": 22,
   "metadata": {
    "collapsed": true
   },
   "outputs": [],
   "source": [
    "words = []\n",
    "for file in glob.glob(\"data/book/*.txt\"):\n",
    "    with codecs.open(file, 'r', encoding='utf8') as f:\n",
    "        for line in f:\n",
    "            line = re.sub(r\"[^A-Za-z ]+\", \"\", line.lower())\n",
    "            words += line.split()"
   ]
  },
  {
   "cell_type": "code",
   "execution_count": 23,
   "metadata": {},
   "outputs": [
    {
     "data": {
      "text/plain": [
       "932848"
      ]
     },
     "execution_count": 23,
     "metadata": {},
     "output_type": "execute_result"
    }
   ],
   "source": [
    "len(words)"
   ]
  },
  {
   "cell_type": "markdown",
   "metadata": {},
   "source": [
    "So we have 933k words stored, let's take for every letter the next one and store it in the transition matrix"
   ]
  },
  {
   "cell_type": "code",
   "execution_count": 24,
   "metadata": {},
   "outputs": [
    {
     "data": {
      "text/plain": [
       "'abcdefghijklmnopqrstuvwxyz'"
      ]
     },
     "execution_count": 24,
     "metadata": {},
     "output_type": "execute_result"
    }
   ],
   "source": [
    "alphabet"
   ]
  },
  {
   "cell_type": "code",
   "execution_count": 25,
   "metadata": {},
   "outputs": [],
   "source": [
    "X = np.zeros(shape=(26, 26), dtype=np.int32)\n",
    "for word in words:\n",
    "    word = word\n",
    "    for before, after in zip(word[:-1], word[1:]):\n",
    "        i = alphabet.index(before)\n",
    "        j = alphabet.index(after)\n",
    "        X[i, j] += 1\n",
    "np.save(\"X.npy\", X)"
   ]
  },
  {
   "cell_type": "markdown",
   "metadata": {
    "collapsed": true
   },
   "source": [
    "We can now plot the transition matrix. It's quite common to not plot directly it with number of count but compute the probability per line"
   ]
  },
  {
   "cell_type": "code",
   "execution_count": 26,
   "metadata": {
    "collapsed": true
   },
   "outputs": [],
   "source": [
    "X = np.load(\"X.npy\")"
   ]
  },
  {
   "cell_type": "code",
   "execution_count": 27,
   "metadata": {
    "collapsed": true
   },
   "outputs": [],
   "source": [
    "p = X / X.sum(axis=1)[:, np.newaxis]"
   ]
  },
  {
   "cell_type": "code",
   "execution_count": 28,
   "metadata": {},
   "outputs": [
    {
     "data": {
      "image/png": "[encoded data removed]",
      "text/plain": [
       "<matplotlib.figure.Figure at 0x1b8524076a0>"
      ]
     },
     "metadata": {},
     "output_type": "display_data"
    }
   ],
   "source": [
    "fig, ax = plt.subplots(figsize=(20,12))\n",
    "im = ax.matshow(p, cmap=\"YlOrRd\")\n",
    "ax.xaxis.set_ticks_position('bottom')\n",
    "plt.xticks(range(26), alphabet)\n",
    "plt.yticks(range(26), alphabet)\n",
    "plt.xlabel(\"To\")\n",
    "plt.ylabel(\"From\")\n",
    "plt.title(\"Transition Matrix\")\n",
    "plt.colorbar(im)\n",
    "plt.show()"
   ]
  },
  {
   "cell_type": "markdown",
   "metadata": {},
   "source": [
    "You can see that it's not very easy to see pattern mainly due to globally 2 big probabilites crushing other probs in the same range. It's because V is nearly often followed by E and Q by U. A way to increase this probability is to add a power $$ V = p^{x}\\:with\\:0 < x < 1 $$"
   ]
  },
  {
   "cell_type": "code",
   "execution_count": 29,
   "metadata": {},
   "outputs": [
    {
     "data": {
      "image/png": "[encoded data removed]",
      "text/plain": [
       "<matplotlib.figure.Figure at 0x1b852407208>"
      ]
     },
     "metadata": {},
     "output_type": "display_data"
    }
   ],
   "source": [
    "fig, ax = plt.subplots(figsize=(20,12))\n",
    "im = ax.matshow(p**0.25, cmap=\"YlOrRd\")\n",
    "ax.xaxis.set_ticks_position('bottom')\n",
    "plt.xticks(range(26), alphabet)\n",
    "plt.yticks(range(26), alphabet)\n",
    "plt.xlabel(\"To\")\n",
    "plt.ylabel(\"From\")\n",
    "plt.title(\"Transition Matrix with x = 0.25\")\n",
    "plt.colorbar(im)\n",
    "plt.show()"
   ]
  },
  {
   "cell_type": "markdown",
   "metadata": {},
   "source": [
    "Now we have our transition matrix, to generate random words, we just pick a random letter to start and based on probabilites of the next letter given the previous one, we pick the next one and so on... Let's create this function"
   ]
  },
  {
   "cell_type": "code",
   "execution_count": 30,
   "metadata": {
    "collapsed": true
   },
   "outputs": [],
   "source": [
    "def sample(transition, start, maxlen = 7):\n",
    "    word = start\n",
    "    index = alphabet.index(start)\n",
    "    while True:\n",
    "        row = transition[index]\n",
    "        index = np.random.choice(np.arange(len(p)), p=row)\n",
    "        word += alphabet[index]\n",
    "        if len(word) == maxlen:\n",
    "            break\n",
    "    return word"
   ]
  },
  {
   "cell_type": "markdown",
   "metadata": {},
   "source": [
    "Let's now generate 50 random words of length 7. To simplify, I didn't store probabilites of starting letters but of course we can do the same."
   ]
  },
  {
   "cell_type": "code",
   "execution_count": 31,
   "metadata": {},
   "outputs": [
    {
     "name": "stdout",
     "output_type": "stream",
     "text": [
      "yblytea\n",
      "hyollip\n",
      "jouthes\n",
      "histint\n",
      "pedoutc\n",
      "oreloko\n",
      "knjanon\n",
      "cuamiou\n",
      "jeresui\n",
      "zesspra\n",
      "lereand\n",
      "eatrngr\n",
      "edyoupe\n",
      "flvered\n",
      "uristha\n",
      "jandoth\n",
      "haldrth\n",
      "peatind\n",
      "mplooll\n",
      "macalin\n",
      "ftenour\n",
      "kntases\n",
      "quthimp\n",
      "erarthe\n",
      "taryoan\n",
      "merthev\n",
      "emethey\n",
      "ineveas\n",
      "fathent\n",
      "iveatee\n",
      "hedenga\n",
      "xeathre\n",
      "bongiki\n",
      "xprered\n",
      "uinnded\n",
      "fiootyo\n",
      "ryomrel\n",
      "youcorn\n",
      "blyeret\n",
      "tarntow\n",
      "vaderor\n",
      "zerengl\n",
      "httisen\n",
      "kndethf\n",
      "chantag\n",
      "derator\n",
      "pumelfu\n",
      "quscrsa\n",
      "adedrec\n",
      "sepatht\n",
      "ruthork\n",
      "meyerin\n",
      "grsting\n",
      "lofindr\n",
      "rangscq\n",
      "thitepa\n",
      "zedenow\n",
      "indiblo\n",
      "resfowi\n",
      "zlemnan\n",
      "gutinon\n",
      "heiofel\n",
      "ratandi\n",
      "heeldin\n",
      "yoweryo\n",
      "atherdl\n",
      "gareesi\n",
      "rmyhean\n",
      "cthelth\n",
      "jundsof\n",
      "jofelan\n",
      "golimer\n",
      "ficsens\n",
      "umasera\n",
      "hobonor\n",
      "oatyonm\n",
      "cofeayo\n",
      "nexeded\n",
      "icalend\n",
      "ghetopr\n",
      "qupryen\n",
      "sthesem\n",
      "ornicku\n",
      "enobete\n",
      "byofeca\n",
      "wsssool\n",
      "msprrer\n",
      "upoerin\n",
      "jatsthi\n",
      "woundoj\n",
      "kyostha\n",
      "llloure\n",
      "hedavee\n",
      "xingggh\n",
      "ymadowi\n",
      "kssstin\n",
      "inojeis\n",
      "gandere\n",
      "edtheer\n",
      "mshentu\n"
     ]
    }
   ],
   "source": [
    "for _ in range(100):\n",
    "    starting_letter = np.random.choice(list(string.ascii_lowercase))\n",
    "    print(sample(p, starting_letter))"
   ]
  },
  {
   "cell_type": "markdown",
   "metadata": {
    "collapsed": true
   },
   "source": [
    "just to see the difference, we can also do the same with full random selection"
   ]
  },
  {
   "cell_type": "code",
   "execution_count": 32,
   "metadata": {},
   "outputs": [
    {
     "name": "stdout",
     "output_type": "stream",
     "text": [
      "isdqypn\n",
      "bpovxgj\n",
      "eldgikg\n",
      "zhmbycn\n",
      "ufcxnjt\n",
      "kjdirpi\n",
      "fsagdqm\n",
      "xgedxki\n",
      "mcnglfm\n",
      "nhywygj\n",
      "attnprz\n",
      "mgsbwje\n",
      "qjasbou\n",
      "lkbvliw\n",
      "kbndzxl\n",
      "fmjbuol\n",
      "yabjzpy\n",
      "ftctcxk\n",
      "kbmyrql\n",
      "vqljhcv\n",
      "foinsxr\n",
      "urgvuyp\n",
      "fwiuthy\n",
      "bibsvio\n",
      "iowszkh\n",
      "wcttgcj\n",
      "vnlvppl\n",
      "yyuumso\n",
      "gqomgnx\n",
      "gkeivwz\n",
      "qsftvgl\n",
      "tpnirlp\n",
      "rlgflki\n",
      "eejqblt\n",
      "wzcwkeu\n",
      "dbuafnc\n",
      "tebzypt\n",
      "lixpjub\n",
      "titwfzs\n",
      "njauoje\n",
      "xanlrmz\n",
      "siecjqv\n",
      "tidttfr\n",
      "mxmbgth\n",
      "mevfmkt\n",
      "ljxijjb\n",
      "rtggwsg\n",
      "tumpjsb\n",
      "vxafmoj\n",
      "ecrlhwx\n"
     ]
    }
   ],
   "source": [
    "def random_sample(start, maxlen = 7):\n",
    "    word = start\n",
    "    while True:\n",
    "        word += np.random.choice(list(string.ascii_lowercase))\n",
    "        if len(word) == maxlen:\n",
    "            break\n",
    "    return word\n",
    "\n",
    "for _ in range(50):\n",
    "    starting_letter = np.random.choice(list(string.ascii_lowercase))\n",
    "    print(random_sample(starting_letter))"
   ]
  },
  {
   "cell_type": "markdown",
   "metadata": {},
   "source": [
    "We can see that most of words are not pronounceable with full random selection (eg wdmvqkw or lfwvnud) but a lot more with the transition matrix (eg gerusli or fichelo). Nevertheless, as we didn't consider starting and stopping letter (I only stop at maxlen), some words seems strange like verondr or ctontis. We saw that we need additionnal letters before or after."
   ]
  },
  {
   "cell_type": "markdown",
   "metadata": {},
   "source": [
    "# Conclusion\n",
    "\n",
    "In this Notebook, I wanted to have a look at Bayesian Network I discovered not a long time ago. It's not difficult by itself but the fact that we need to know/setup the graph is quite restrictive in Machine Learning cases where we need to find out pattern from data. \n",
    "\n",
    "Anyhow, it's still an available tool to keep in mind in case we knows this. In addition, the documentation is not very important so having this tutorial may help me being faster if I need it someday.\n",
    "\n",
    "I took advantage of this exercice also to have a look at Markov Model. I haven't done a in-depth exploration but someday I'll try to have a look ad Hidden markov Model often used when we have hidden states."
   ]
  }
 ],
 "metadata": {
  "kernelspec": {
   "display_name": "Python 3",
   "language": "python",
   "name": "python3"
  },
  "language_info": {
   "codemirror_mode": {
    "name": "ipython",
    "version": 3
   },
   "file_extension": ".py",
   "mimetype": "text/x-python",
   "name": "python",
   "nbconvert_exporter": "python",
   "pygments_lexer": "ipython3",
   "version": "3.6.3"
  }
 },
 "nbformat": 4,
 "nbformat_minor": 2
}
