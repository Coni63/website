{
 "cells": [
  {
   "cell_type": "markdown",
   "metadata": {},
   "source": [
    "# Introduction\n",
    "\n",
    "In the previous Notebook, we saw that Seam Carving can help reudcing dimensions of images without losing important parts. In this notebook, we will test this solution versus the normal rescaling on the Stanford Dataset. In this dataset, we have 120 breeds of dogs to classify from 100 images of each. The test set is composed of a random number of each classes (ween more in detail in the part 1). The dataset will be pre-processed with both solution and compared in term of Loss and Accuracy. "
   ]
  },
  {
   "cell_type": "code",
   "execution_count": 1,
   "metadata": {},
   "outputs": [],
   "source": [
    "import os\n",
    "import scipy.io\n",
    "from imageio import imread, imwrite\n",
    "import pandas as pd\n",
    "\n",
    "import numba\n",
    "import numpy as np\n",
    "from scipy.ndimage.filters import convolve\n",
    "from skimage import transform,io\n",
    "\n",
    "import matplotlib.pyplot as plt"
   ]
  },
  {
   "cell_type": "markdown",
   "metadata": {},
   "source": [
    "# Dataset exploration\n",
    "\n",
    "First of all, the dataset is composed by images in folder and information for train/test set in .mat files. We will have to create a dataframe with those information and after extract some features required to explore the dataset. Basically, the image size..."
   ]
  },
  {
   "cell_type": "code",
   "execution_count": 30,
   "metadata": {},
   "outputs": [],
   "source": [
    "# obj = {\n",
    "#     \"image\" : [],\n",
    "#     \"box\" : [],\n",
    "#     \"label\" : [],\n",
    "#     \"class_name\" : [],\n",
    "#     \"dataset\" : []\n",
    "# }\n",
    "\n",
    "# mat = scipy.io.loadmat(\"F:/data/DogBreed/Labels/train_list.mat\")\n",
    "# for img, label, box in zip(mat[\"file_list\"], mat[\"labels\"], mat[\"annotation_list\"]):\n",
    "#     obj[\"image\"].append(img[0][0])\n",
    "#     obj[\"label\"].append(label[0])\n",
    "#     obj[\"box\"].append(box[0][0])\n",
    "#     obj[\"class_name\"].append(img[0][0].split(\"/\")[0].split(\"-\")[1])\n",
    "#     obj[\"dataset\"].append(0)\n",
    "\n",
    "# mat = scipy.io.loadmat(\"F:/data/DogBreed/Labels/test_list.mat\")\n",
    "# for img, label, box in zip(mat[\"file_list\"], mat[\"labels\"], mat[\"annotation_list\"]):\n",
    "#     obj[\"image\"].append(img[0][0])\n",
    "#     obj[\"label\"].append(label[0])\n",
    "#     obj[\"box\"].append(box[0][0])\n",
    "#     obj[\"class_name\"].append(img[0][0].split(\"/\")[0].split(\"-\")[1])\n",
    "#     obj[\"dataset\"].append(1)\n",
    "    \n",
    "# df = pd.DataFrame(obj)\n",
    "# df.to_csv(\"F:/data/DogBreed/Labels/labels.csv\", index=False)"
   ]
  },
  {
   "cell_type": "code",
   "execution_count": 35,
   "metadata": {},
   "outputs": [],
   "source": [
    "# def get_size(x):\n",
    "#     root = \"F:/data/DogBreed/Images/\"\n",
    "#     img = imread(os.path.join(root, x))\n",
    "#     w, h, d = img.shape\n",
    "#     return \"%d_%d\"%(w, h)\n",
    "\n",
    "# df[\"size\"] = df[\"image\"].apply(get_size)"
   ]
  },
  {
   "cell_type": "code",
   "execution_count": 38,
   "metadata": {},
   "outputs": [],
   "source": [
    "# df[\"width\"] = df[\"size\"].apply(lambda x:int(x.split(\"_\")[0]))\n",
    "# df[\"height\"] = df[\"size\"].apply(lambda x:int(x.split(\"_\")[1]))"
   ]
  },
  {
   "cell_type": "code",
   "execution_count": 90,
   "metadata": {},
   "outputs": [],
   "source": [
    "# df.drop(\"size\", axis=1, inplace=True)"
   ]
  },
  {
   "cell_type": "code",
   "execution_count": null,
   "metadata": {},
   "outputs": [],
   "source": [
    "# df[\"ratio\"] = df[[\"width\", \"height\"]].apply(lambda x: x.max()/x.min(), axis=1)"
   ]
  },
  {
   "cell_type": "code",
   "execution_count": 92,
   "metadata": {},
   "outputs": [],
   "source": [
    "# df.to_csv(\"F:/data/DogBreed/Labels/labels.csv\", index=False)"
   ]
  },
  {
   "cell_type": "code",
   "execution_count": 4,
   "metadata": {},
   "outputs": [
    {
     "data": {
      "text/html": [
       "<div>\n",
       "<style>\n",
       "    .dataframe thead tr:only-child th {\n",
       "        text-align: right;\n",
       "    }\n",
       "\n",
       "    .dataframe thead th {\n",
       "        text-align: left;\n",
       "    }\n",
       "\n",
       "    .dataframe tbody tr th {\n",
       "        vertical-align: top;\n",
       "    }\n",
       "</style>\n",
       "<table border=\"1\" class=\"dataframe\">\n",
       "  <thead>\n",
       "    <tr style=\"text-align: right;\">\n",
       "      <th></th>\n",
       "      <th>box</th>\n",
       "      <th>class_name</th>\n",
       "      <th>dataset</th>\n",
       "      <th>image</th>\n",
       "      <th>label</th>\n",
       "      <th>width</th>\n",
       "      <th>height</th>\n",
       "      <th>ratio</th>\n",
       "    </tr>\n",
       "  </thead>\n",
       "  <tbody>\n",
       "    <tr>\n",
       "      <th>0</th>\n",
       "      <td>n02085620-Chihuahua/n02085620_5927</td>\n",
       "      <td>Chihuahua</td>\n",
       "      <td>0</td>\n",
       "      <td>n02085620-Chihuahua/n02085620_5927.jpg</td>\n",
       "      <td>1</td>\n",
       "      <td>300</td>\n",
       "      <td>360</td>\n",
       "      <td>1.200000</td>\n",
       "    </tr>\n",
       "    <tr>\n",
       "      <th>1</th>\n",
       "      <td>n02085620-Chihuahua/n02085620_4441</td>\n",
       "      <td>Chihuahua</td>\n",
       "      <td>0</td>\n",
       "      <td>n02085620-Chihuahua/n02085620_4441.jpg</td>\n",
       "      <td>1</td>\n",
       "      <td>500</td>\n",
       "      <td>375</td>\n",
       "      <td>1.333333</td>\n",
       "    </tr>\n",
       "    <tr>\n",
       "      <th>2</th>\n",
       "      <td>n02085620-Chihuahua/n02085620_1502</td>\n",
       "      <td>Chihuahua</td>\n",
       "      <td>0</td>\n",
       "      <td>n02085620-Chihuahua/n02085620_1502.jpg</td>\n",
       "      <td>1</td>\n",
       "      <td>333</td>\n",
       "      <td>500</td>\n",
       "      <td>1.501502</td>\n",
       "    </tr>\n",
       "    <tr>\n",
       "      <th>3</th>\n",
       "      <td>n02085620-Chihuahua/n02085620_1916</td>\n",
       "      <td>Chihuahua</td>\n",
       "      <td>0</td>\n",
       "      <td>n02085620-Chihuahua/n02085620_1916.jpg</td>\n",
       "      <td>1</td>\n",
       "      <td>495</td>\n",
       "      <td>500</td>\n",
       "      <td>1.010101</td>\n",
       "    </tr>\n",
       "    <tr>\n",
       "      <th>4</th>\n",
       "      <td>n02085620-Chihuahua/n02085620_13151</td>\n",
       "      <td>Chihuahua</td>\n",
       "      <td>0</td>\n",
       "      <td>n02085620-Chihuahua/n02085620_13151.jpg</td>\n",
       "      <td>1</td>\n",
       "      <td>336</td>\n",
       "      <td>500</td>\n",
       "      <td>1.488095</td>\n",
       "    </tr>\n",
       "  </tbody>\n",
       "</table>\n",
       "</div>"
      ],
      "text/plain": [
       "                                   box class_name  dataset  \\\n",
       "0   n02085620-Chihuahua/n02085620_5927  Chihuahua        0   \n",
       "1   n02085620-Chihuahua/n02085620_4441  Chihuahua        0   \n",
       "2   n02085620-Chihuahua/n02085620_1502  Chihuahua        0   \n",
       "3   n02085620-Chihuahua/n02085620_1916  Chihuahua        0   \n",
       "4  n02085620-Chihuahua/n02085620_13151  Chihuahua        0   \n",
       "\n",
       "                                     image  label  width  height     ratio  \n",
       "0   n02085620-Chihuahua/n02085620_5927.jpg      1    300     360  1.200000  \n",
       "1   n02085620-Chihuahua/n02085620_4441.jpg      1    500     375  1.333333  \n",
       "2   n02085620-Chihuahua/n02085620_1502.jpg      1    333     500  1.501502  \n",
       "3   n02085620-Chihuahua/n02085620_1916.jpg      1    495     500  1.010101  \n",
       "4  n02085620-Chihuahua/n02085620_13151.jpg      1    336     500  1.488095  "
      ]
     },
     "execution_count": 4,
     "metadata": {},
     "output_type": "execute_result"
    }
   ],
   "source": [
    "df = pd.read_csv(\"F:/data/DogBreed/Labels/labels.csv\")\n",
    "df.head()"
   ]
  },
  {
   "cell_type": "markdown",
   "metadata": {},
   "source": [
    "We have now our final dataset. Let's explore it :"
   ]
  },
  {
   "cell_type": "code",
   "execution_count": 94,
   "metadata": {},
   "outputs": [
    {
     "data": {
      "text/plain": [
       "0    12000\n",
       "1     8580\n",
       "Name: dataset, dtype: int64"
      ]
     },
     "execution_count": 94,
     "metadata": {},
     "output_type": "execute_result"
    }
   ],
   "source": [
    "df.dataset.value_counts()"
   ]
  },
  {
   "cell_type": "markdown",
   "metadata": {},
   "source": [
    "The dataset has 20580 pictures composed with 12000 of train images and 8580 for the evaluation. Let see by class :"
   ]
  },
  {
   "cell_type": "code",
   "execution_count": 95,
   "metadata": {},
   "outputs": [],
   "source": [
    "classes = df[[\"class_name\", \"dataset\", \"image\"]].groupby([\"class_name\", \"dataset\"]).count().reset_index().pivot(index=\"class_name\", columns=\"dataset\")\n",
    "classes.columns = [\"train\", \"test\"]"
   ]
  },
  {
   "cell_type": "code",
   "execution_count": 96,
   "metadata": {},
   "outputs": [
    {
     "data": {
      "image/png": "[encoded data removed]",
      "text/plain": [
       "<matplotlib.figure.Figure at 0x22776103160>"
      ]
     },
     "metadata": {
      "needs_background": "light"
     },
     "output_type": "display_data"
    }
   ],
   "source": [
    "classes.plot.bar(stacked=True, figsize=(20,12))\n",
    "plt.show()"
   ]
  },
  {
   "cell_type": "markdown",
   "metadata": {},
   "source": [
    "As we knew from the dataset description, we have for each class, 100 images. When we have more, it's in the test set. Let's now look at image size and also the ratio"
   ]
  },
  {
   "cell_type": "code",
   "execution_count": 124,
   "metadata": {},
   "outputs": [
    {
     "data": {
      "image/png": "[encoded data removed]",
      "text/plain": [
       "<matplotlib.figure.Figure at 0x1e1aa6c3550>"
      ]
     },
     "metadata": {
      "needs_background": "light"
     },
     "output_type": "display_data"
    }
   ],
   "source": [
    "df.plot(kind=\"scatter\", x=\"width\", y=\"height\", figsize=(20,12))\n",
    "plt.plot([0, 2500], [0, 2500], c=\"green\", label=\"ratio = 1\")\n",
    "plt.plot([0, 2500], [0, 2500*1.25], c=\"orange\", label=\"ratio > 1.25\")\n",
    "plt.plot([0, 2500], [0, 2500/1.25], c=\"orange\")\n",
    "plt.plot([0, 2500], [0, 2500*1.5], c=\"r\" , label=\"ratio > 1.5\")\n",
    "plt.plot([0, 2500], [0, 2500/1.5], c=\"r\")\n",
    "plt.legend()\n",
    "plt.title(\"Height vs Width of images\")\n",
    "plt.show()"
   ]
  },
  {
   "cell_type": "code",
   "execution_count": 126,
   "metadata": {},
   "outputs": [
    {
     "data": {
      "image/png": "[encoded data removed]",
      "text/plain": [
       "<matplotlib.figure.Figure at 0x1e1a4e6ebe0>"
      ]
     },
     "metadata": {
      "needs_background": "light"
     },
     "output_type": "display_data"
    }
   ],
   "source": [
    "df[\"ratio\"].plot.hist(bins=30, figsize=(20,12))\n",
    "plt.xlabel(\"Ratio\")\n",
    "plt.title(\"Distribution of Ratio\")\n",
    "plt.show()"
   ]
  },
  {
   "cell_type": "markdown",
   "metadata": {},
   "source": [
    "Let's look how many images we would have to resize based on the trigger to use simple \"rescale\""
   ]
  },
  {
   "cell_type": "code",
   "execution_count": 15,
   "metadata": {},
   "outputs": [
    {
     "data": {
      "text/plain": [
       "17362"
      ]
     },
     "execution_count": 15,
     "metadata": {},
     "output_type": "execute_result"
    }
   ],
   "source": [
    "(df.ratio >= 1.2).sum()"
   ]
  },
  {
   "cell_type": "code",
   "execution_count": 99,
   "metadata": {},
   "outputs": [
    {
     "data": {
      "text/plain": [
       "4622"
      ]
     },
     "execution_count": 99,
     "metadata": {},
     "output_type": "execute_result"
    }
   ],
   "source": [
    "(df.ratio >= 1.50).sum()"
   ]
  },
  {
   "cell_type": "code",
   "execution_count": 100,
   "metadata": {},
   "outputs": [
    {
     "data": {
      "text/plain": [
       "1111"
      ]
     },
     "execution_count": 100,
     "metadata": {},
     "output_type": "execute_result"
    }
   ],
   "source": [
    "(df.ratio >= 1.51).sum()"
   ]
  },
  {
   "cell_type": "code",
   "execution_count": 101,
   "metadata": {},
   "outputs": [
    {
     "data": {
      "text/plain": [
       "44"
      ]
     },
     "execution_count": 101,
     "metadata": {},
     "output_type": "execute_result"
    }
   ],
   "source": [
    "(df.ratio > 2).sum()"
   ]
  },
  {
   "cell_type": "code",
   "execution_count": 89,
   "metadata": {},
   "outputs": [
    {
     "data": {
      "text/plain": [
       "3.633587786259542"
      ]
     },
     "execution_count": 89,
     "metadata": {},
     "output_type": "execute_result"
    }
   ],
   "source": [
    "df.ratio.max()"
   ]
  },
  {
   "cell_type": "markdown",
   "metadata": {},
   "source": [
    "Due to the time to precess images, only the one with more than 1.51 will be passed thru seam carving to rescale them"
   ]
  },
  {
   "cell_type": "markdown",
   "metadata": {},
   "source": [
    "# Pre-processing"
   ]
  },
  {
   "cell_type": "markdown",
   "metadata": {},
   "source": [
    "Now, let's prepare both dataset. To save time, I wanted to use dask to have the power of multiprocessing but with @jit functions, it's not working. The benefit of @jit being > to multiprocessing, I ran the computation on a single core"
   ]
  },
  {
   "cell_type": "code",
   "execution_count": 3,
   "metadata": {},
   "outputs": [],
   "source": [
    "def calc_energy(img):\n",
    "    filter_du = np.array([\n",
    "        [1.0, 2.0, 1.0],\n",
    "        [0.0, 0.0, 0.0],\n",
    "        [-1.0, -2.0, -1.0],\n",
    "    ])\n",
    "    # This converts it from a 2D filter to a 3D filter, replicating the same\n",
    "    # filter for each channel: R, G, B\n",
    "    filter_du = np.stack([filter_du] * 3, axis=2)\n",
    "\n",
    "    filter_dv = np.array([\n",
    "        [1.0, 0.0, -1.0],\n",
    "        [2.0, 0.0, -2.0],\n",
    "        [1.0, 0.0, -1.0],\n",
    "    ])\n",
    "    # This converts it from a 2D filter to a 3D filter, replicating the same\n",
    "    # filter for each channel: R, G, B\n",
    "    filter_dv = np.stack([filter_dv] * 3, axis=2)\n",
    "\n",
    "    img = img.astype('float32')\n",
    "    convolved = np.absolute(convolve(img, filter_du)) + np.absolute(convolve(img, filter_dv))\n",
    "\n",
    "    # We sum the energies in the red, green, and blue channels\n",
    "    energy_map = convolved.sum(axis=2)\n",
    "\n",
    "    return energy_map\n",
    "\n",
    "@numba.jit\n",
    "def minimum_seam(img):\n",
    "    r, c, _ = img.shape\n",
    "    energy_map = calc_energy(img)\n",
    "\n",
    "    M = energy_map.copy()\n",
    "    backtrack = np.zeros_like(M, dtype=np.int)\n",
    "\n",
    "    for i in range(1, r):\n",
    "        for j in range(0, c):\n",
    "            # Handle the left edge of the image, to ensure we don't index -1\n",
    "            if j == 0:\n",
    "                idx = np.argmin(M[i - 1, j:j + 2])\n",
    "                backtrack[i, j] = idx + j\n",
    "                min_energy = M[i - 1, idx + j]\n",
    "            else:\n",
    "                idx = np.argmin(M[i - 1, j - 1:j + 2])\n",
    "                backtrack[i, j] = idx + j - 1\n",
    "                min_energy = M[i - 1, idx + j - 1]\n",
    "\n",
    "            M[i, j] += min_energy\n",
    "\n",
    "    return M, backtrack\n",
    "\n",
    "@numba.jit\n",
    "def carve_column(img):\n",
    "    r, c, _ = img.shape\n",
    "\n",
    "    M, backtrack = minimum_seam(img)\n",
    "\n",
    "    # Create a (r, c) matrix filled with the value True\n",
    "    # We'll be removing all pixels from the image which\n",
    "    # have False later\n",
    "    mask = np.ones((r, c), dtype=np.bool)\n",
    "\n",
    "    # Find the position of the smallest element in the\n",
    "    # last row of M\n",
    "    j = np.argmin(M[-1])\n",
    "    \n",
    "    for i in reversed(range(r)):\n",
    "        # Mark the pixels for deletion\n",
    "        mask[i, j] = False\n",
    "        j = backtrack[i, j]\n",
    "\n",
    "    # Since the image has 3 channels, we convert our\n",
    "    # mask to 3D\n",
    "    mask = np.stack([mask] * 3, axis=2)\n",
    "\n",
    "    # Delete all the pixels marked False in the mask,\n",
    "    # and resize it to the new image dimensions\n",
    "    img = img[mask].reshape((r, c - 1, 3))\n",
    "\n",
    "    return img\n",
    "\n",
    "\n",
    "def crop_c(img, scale_c):\n",
    "    r, c, _ = img.shape\n",
    "    if isinstance(scale_c, float):\n",
    "        new_c = int(scale_c * c)\n",
    "    else:\n",
    "        new_c = c-scale_c  # give a range(scale_c)\n",
    "\n",
    "    for i in range(c - new_c):\n",
    "        img = carve_column(img)\n",
    "\n",
    "    return img\n",
    "\n",
    "def crop_r(img, scale_r):\n",
    "    img = np.rot90(img, 1, (0, 1))\n",
    "    img = crop_c(img, scale_r)\n",
    "    img = np.rot90(img, 3, (0, 1))\n",
    "    return img"
   ]
  },
  {
   "cell_type": "code",
   "execution_count": 6,
   "metadata": {},
   "outputs": [],
   "source": [
    "def edit_img(img_name, w, h, ratio):\n",
    "    if img_name == \"foo\": return 1  # only to pass the test from dask\n",
    "    \n",
    "    root = \"F:/data/DogBreed/Images\"\n",
    "    out_root = \"F:/data/DogBreed/pre_processed/\"\n",
    "    name = img_name.split(\"/\")[1]\n",
    "    \n",
    "    if os.path.isfile(os.path.join(out_root, name)):\n",
    "        return 1\n",
    "\n",
    "    img = imread(os.path.join(root, img_name))\n",
    "    \n",
    "    if ratio <= 1.51:\n",
    "        img = transform.resize(img, (299, 299))\n",
    "        imwrite(os.path.join(out_root, name), img)\n",
    "    else:\n",
    "        scale_f = min(w, h)/299\n",
    "        img = transform.resize(img, (int(w/scale_f), int(h/scale_f)))\n",
    "        w, h, _ = img.shape\n",
    "        if w > h:\n",
    "            img = crop_r(img, w-299)\n",
    "        else:\n",
    "            img = crop_c(img, h-299)\n",
    "        imwrite(os.path.join(out_root, name), img)\n",
    "    return 1"
   ]
  },
  {
   "cell_type": "code",
   "execution_count": null,
   "metadata": {},
   "outputs": [],
   "source": [
    "df.apply(lambda x : edit_img(x.image, x.width, x.height, x.ratio), axis=1)"
   ]
  },
  {
   "cell_type": "code",
   "execution_count": 9,
   "metadata": {},
   "outputs": [],
   "source": [
    "from shutil import copyfile\n",
    "\n",
    "def edit_img_2(img_name, w, h, ratio):\n",
    "    if img_name == \"foo\": return 1  # only to pass the test from dask\n",
    "    \n",
    "    root = \"F:/data/DogBreed/Images\"\n",
    "    in_root = \"F:/data/DogBreed/pre_processed/\"\n",
    "    out_root = \"F:/data/DogBreed/simple_scale/\"\n",
    "    name = img_name.split(\"/\")[1]\n",
    "    if ratio <= 1.51:\n",
    "        in_path = os.path.join(in_root, name)\n",
    "        out_path = os.path.join(out_root, name)\n",
    "        copyfile(in_path, out_path)\n",
    "    else:\n",
    "        img = imread(os.path.join(root, img_name))\n",
    "        img = transform.resize(img, (299, 299))\n",
    "        imwrite(os.path.join(out_root, name), img)\n",
    "    return 1"
   ]
  },
  {
   "cell_type": "code",
   "execution_count": null,
   "metadata": {},
   "outputs": [],
   "source": [
    "# df.apply(lambda x : edit_img_2(x.image, x.width, x.height, x.ratio), axis=1)"
   ]
  },
  {
   "cell_type": "code",
   "execution_count": 10,
   "metadata": {},
   "outputs": [],
   "source": [
    "import dask.dataframe as dd\n",
    "from dask.multiprocessing import get\n",
    "from multiprocessing import cpu_count"
   ]
  },
  {
   "cell_type": "code",
   "execution_count": null,
   "metadata": {},
   "outputs": [],
   "source": [
    "nCores = 1\n",
    "nCores = cpu_count()\n",
    "\n",
    "meta = pd.DataFrame({'name': [1]}, columns=['name'])  # just because dask requires a return, I always return 1\n",
    "\n",
    "dd.from_pandas(df, npartitions=nCores).\\\n",
    "   map_partitions(\n",
    "      lambda df_ : df_.apply(\n",
    "         lambda x : edit_img_2(x.image, x.width, x.height, x.ratio), axis=1), meta=meta).\\\n",
    "   compute(get=get)"
   ]
  },
  {
   "cell_type": "code",
   "execution_count": 49,
   "metadata": {},
   "outputs": [],
   "source": [
    "# img = Image.open(\"F:/data/DogBreed/pre_processed/n02105855_2933.jpg\")\n",
    "# img = Image.fromarray(np.array(img)[:,:,:3], 'RGB')\n",
    "# img.save(\"F:/data/DogBreed/pre_processed/n02105855_2933.jpg\")"
   ]
  },
  {
   "cell_type": "code",
   "execution_count": 27,
   "metadata": {},
   "outputs": [
    {
     "data": {
      "text/html": [
       "<div>\n",
       "<style>\n",
       "    .dataframe thead tr:only-child th {\n",
       "        text-align: right;\n",
       "    }\n",
       "\n",
       "    .dataframe thead th {\n",
       "        text-align: left;\n",
       "    }\n",
       "\n",
       "    .dataframe tbody tr th {\n",
       "        vertical-align: top;\n",
       "    }\n",
       "</style>\n",
       "<table border=\"1\" class=\"dataframe\">\n",
       "  <thead>\n",
       "    <tr style=\"text-align: right;\">\n",
       "      <th></th>\n",
       "      <th>box</th>\n",
       "      <th>class_name</th>\n",
       "      <th>dataset</th>\n",
       "      <th>image</th>\n",
       "      <th>label</th>\n",
       "      <th>width</th>\n",
       "      <th>height</th>\n",
       "      <th>ratio</th>\n",
       "    </tr>\n",
       "  </thead>\n",
       "  <tbody>\n",
       "    <tr>\n",
       "      <th>2</th>\n",
       "      <td>n02085620-Chihuahua/n02085620_1502</td>\n",
       "      <td>Chihuahua</td>\n",
       "      <td>0</td>\n",
       "      <td>n02085620-Chihuahua/n02085620_1502.jpg</td>\n",
       "      <td>1</td>\n",
       "      <td>333</td>\n",
       "      <td>500</td>\n",
       "      <td>1.501502</td>\n",
       "    </tr>\n",
       "    <tr>\n",
       "      <th>15</th>\n",
       "      <td>n02085620-Chihuahua/n02085620_5771</td>\n",
       "      <td>Chihuahua</td>\n",
       "      <td>0</td>\n",
       "      <td>n02085620-Chihuahua/n02085620_5771.jpg</td>\n",
       "      <td>1</td>\n",
       "      <td>500</td>\n",
       "      <td>281</td>\n",
       "      <td>1.779359</td>\n",
       "    </tr>\n",
       "    <tr>\n",
       "      <th>16</th>\n",
       "      <td>n02085620-Chihuahua/n02085620_275</td>\n",
       "      <td>Chihuahua</td>\n",
       "      <td>0</td>\n",
       "      <td>n02085620-Chihuahua/n02085620_275.jpg</td>\n",
       "      <td>1</td>\n",
       "      <td>333</td>\n",
       "      <td>500</td>\n",
       "      <td>1.501502</td>\n",
       "    </tr>\n",
       "    <tr>\n",
       "      <th>18</th>\n",
       "      <td>n02085620-Chihuahua/n02085620_10621</td>\n",
       "      <td>Chihuahua</td>\n",
       "      <td>0</td>\n",
       "      <td>n02085620-Chihuahua/n02085620_10621.jpg</td>\n",
       "      <td>1</td>\n",
       "      <td>298</td>\n",
       "      <td>500</td>\n",
       "      <td>1.677852</td>\n",
       "    </tr>\n",
       "    <tr>\n",
       "      <th>22</th>\n",
       "      <td>n02085620-Chihuahua/n02085620_12101</td>\n",
       "      <td>Chihuahua</td>\n",
       "      <td>0</td>\n",
       "      <td>n02085620-Chihuahua/n02085620_12101.jpg</td>\n",
       "      <td>1</td>\n",
       "      <td>253</td>\n",
       "      <td>380</td>\n",
       "      <td>1.501976</td>\n",
       "    </tr>\n",
       "    <tr>\n",
       "      <th>30</th>\n",
       "      <td>n02085620-Chihuahua/n02085620_473</td>\n",
       "      <td>Chihuahua</td>\n",
       "      <td>0</td>\n",
       "      <td>n02085620-Chihuahua/n02085620_473.jpg</td>\n",
       "      <td>1</td>\n",
       "      <td>333</td>\n",
       "      <td>500</td>\n",
       "      <td>1.501502</td>\n",
       "    </tr>\n",
       "    <tr>\n",
       "      <th>31</th>\n",
       "      <td>n02085620-Chihuahua/n02085620_1455</td>\n",
       "      <td>Chihuahua</td>\n",
       "      <td>0</td>\n",
       "      <td>n02085620-Chihuahua/n02085620_1455.jpg</td>\n",
       "      <td>1</td>\n",
       "      <td>500</td>\n",
       "      <td>333</td>\n",
       "      <td>1.501502</td>\n",
       "    </tr>\n",
       "    <tr>\n",
       "      <th>38</th>\n",
       "      <td>n02085620-Chihuahua/n02085620_9357</td>\n",
       "      <td>Chihuahua</td>\n",
       "      <td>0</td>\n",
       "      <td>n02085620-Chihuahua/n02085620_9357.jpg</td>\n",
       "      <td>1</td>\n",
       "      <td>319</td>\n",
       "      <td>500</td>\n",
       "      <td>1.567398</td>\n",
       "    </tr>\n",
       "    <tr>\n",
       "      <th>44</th>\n",
       "      <td>n02085620-Chihuahua/n02085620_326</td>\n",
       "      <td>Chihuahua</td>\n",
       "      <td>0</td>\n",
       "      <td>n02085620-Chihuahua/n02085620_326.jpg</td>\n",
       "      <td>1</td>\n",
       "      <td>500</td>\n",
       "      <td>333</td>\n",
       "      <td>1.501502</td>\n",
       "    </tr>\n",
       "    <tr>\n",
       "      <th>72</th>\n",
       "      <td>n02085620-Chihuahua/n02085620_368</td>\n",
       "      <td>Chihuahua</td>\n",
       "      <td>0</td>\n",
       "      <td>n02085620-Chihuahua/n02085620_368.jpg</td>\n",
       "      <td>1</td>\n",
       "      <td>333</td>\n",
       "      <td>500</td>\n",
       "      <td>1.501502</td>\n",
       "    </tr>\n",
       "    <tr>\n",
       "      <th>87</th>\n",
       "      <td>n02085620-Chihuahua/n02085620_8420</td>\n",
       "      <td>Chihuahua</td>\n",
       "      <td>0</td>\n",
       "      <td>n02085620-Chihuahua/n02085620_8420.jpg</td>\n",
       "      <td>1</td>\n",
       "      <td>332</td>\n",
       "      <td>500</td>\n",
       "      <td>1.506024</td>\n",
       "    </tr>\n",
       "    <tr>\n",
       "      <th>89</th>\n",
       "      <td>n02085620-Chihuahua/n02085620_2903</td>\n",
       "      <td>Chihuahua</td>\n",
       "      <td>0</td>\n",
       "      <td>n02085620-Chihuahua/n02085620_2903.jpg</td>\n",
       "      <td>1</td>\n",
       "      <td>333</td>\n",
       "      <td>500</td>\n",
       "      <td>1.501502</td>\n",
       "    </tr>\n",
       "    <tr>\n",
       "      <th>92</th>\n",
       "      <td>n02085620-Chihuahua/n02085620_8585</td>\n",
       "      <td>Chihuahua</td>\n",
       "      <td>0</td>\n",
       "      <td>n02085620-Chihuahua/n02085620_8585.jpg</td>\n",
       "      <td>1</td>\n",
       "      <td>332</td>\n",
       "      <td>500</td>\n",
       "      <td>1.506024</td>\n",
       "    </tr>\n",
       "    <tr>\n",
       "      <th>93</th>\n",
       "      <td>n02085620-Chihuahua/n02085620_10976</td>\n",
       "      <td>Chihuahua</td>\n",
       "      <td>0</td>\n",
       "      <td>n02085620-Chihuahua/n02085620_10976.jpg</td>\n",
       "      <td>1</td>\n",
       "      <td>484</td>\n",
       "      <td>322</td>\n",
       "      <td>1.503106</td>\n",
       "    </tr>\n",
       "    <tr>\n",
       "      <th>123</th>\n",
       "      <td>n02085782-Japanese_spaniel/n02085782_1350</td>\n",
       "      <td>Japanese_spaniel</td>\n",
       "      <td>0</td>\n",
       "      <td>n02085782-Japanese_spaniel/n02085782_1350.jpg</td>\n",
       "      <td>2</td>\n",
       "      <td>218</td>\n",
       "      <td>332</td>\n",
       "      <td>1.522936</td>\n",
       "    </tr>\n",
       "    <tr>\n",
       "      <th>148</th>\n",
       "      <td>n02085782-Japanese_spaniel/n02085782_2640</td>\n",
       "      <td>Japanese_spaniel</td>\n",
       "      <td>0</td>\n",
       "      <td>n02085782-Japanese_spaniel/n02085782_2640.jpg</td>\n",
       "      <td>2</td>\n",
       "      <td>266</td>\n",
       "      <td>400</td>\n",
       "      <td>1.503759</td>\n",
       "    </tr>\n",
       "    <tr>\n",
       "      <th>152</th>\n",
       "      <td>n02085782-Japanese_spaniel/n02085782_845</td>\n",
       "      <td>Japanese_spaniel</td>\n",
       "      <td>0</td>\n",
       "      <td>n02085782-Japanese_spaniel/n02085782_845.jpg</td>\n",
       "      <td>2</td>\n",
       "      <td>309</td>\n",
       "      <td>200</td>\n",
       "      <td>1.545000</td>\n",
       "    </tr>\n",
       "    <tr>\n",
       "      <th>193</th>\n",
       "      <td>n02085782-Japanese_spaniel/n02085782_1077</td>\n",
       "      <td>Japanese_spaniel</td>\n",
       "      <td>0</td>\n",
       "      <td>n02085782-Japanese_spaniel/n02085782_1077.jpg</td>\n",
       "      <td>2</td>\n",
       "      <td>334</td>\n",
       "      <td>519</td>\n",
       "      <td>1.553892</td>\n",
       "    </tr>\n",
       "    <tr>\n",
       "      <th>201</th>\n",
       "      <td>n02085936-Maltese_dog/n02085936_3677</td>\n",
       "      <td>Maltese_dog</td>\n",
       "      <td>0</td>\n",
       "      <td>n02085936-Maltese_dog/n02085936_3677.jpg</td>\n",
       "      <td>3</td>\n",
       "      <td>500</td>\n",
       "      <td>333</td>\n",
       "      <td>1.501502</td>\n",
       "    </tr>\n",
       "    <tr>\n",
       "      <th>207</th>\n",
       "      <td>n02085936-Maltese_dog/n02085936_7537</td>\n",
       "      <td>Maltese_dog</td>\n",
       "      <td>0</td>\n",
       "      <td>n02085936-Maltese_dog/n02085936_7537.jpg</td>\n",
       "      <td>3</td>\n",
       "      <td>500</td>\n",
       "      <td>326</td>\n",
       "      <td>1.533742</td>\n",
       "    </tr>\n",
       "    <tr>\n",
       "      <th>209</th>\n",
       "      <td>n02085936-Maltese_dog/n02085936_6514</td>\n",
       "      <td>Maltese_dog</td>\n",
       "      <td>0</td>\n",
       "      <td>n02085936-Maltese_dog/n02085936_6514.jpg</td>\n",
       "      <td>3</td>\n",
       "      <td>333</td>\n",
       "      <td>500</td>\n",
       "      <td>1.501502</td>\n",
       "    </tr>\n",
       "    <tr>\n",
       "      <th>221</th>\n",
       "      <td>n02085936-Maltese_dog/n02085936_5012</td>\n",
       "      <td>Maltese_dog</td>\n",
       "      <td>0</td>\n",
       "      <td>n02085936-Maltese_dog/n02085936_5012.jpg</td>\n",
       "      <td>3</td>\n",
       "      <td>333</td>\n",
       "      <td>500</td>\n",
       "      <td>1.501502</td>\n",
       "    </tr>\n",
       "    <tr>\n",
       "      <th>223</th>\n",
       "      <td>n02085936-Maltese_dog/n02085936_1244</td>\n",
       "      <td>Maltese_dog</td>\n",
       "      <td>0</td>\n",
       "      <td>n02085936-Maltese_dog/n02085936_1244.jpg</td>\n",
       "      <td>3</td>\n",
       "      <td>333</td>\n",
       "      <td>500</td>\n",
       "      <td>1.501502</td>\n",
       "    </tr>\n",
       "    <tr>\n",
       "      <th>225</th>\n",
       "      <td>n02085936-Maltese_dog/n02085936_7442</td>\n",
       "      <td>Maltese_dog</td>\n",
       "      <td>0</td>\n",
       "      <td>n02085936-Maltese_dog/n02085936_7442.jpg</td>\n",
       "      <td>3</td>\n",
       "      <td>333</td>\n",
       "      <td>500</td>\n",
       "      <td>1.501502</td>\n",
       "    </tr>\n",
       "    <tr>\n",
       "      <th>227</th>\n",
       "      <td>n02085936-Maltese_dog/n02085936_2905</td>\n",
       "      <td>Maltese_dog</td>\n",
       "      <td>0</td>\n",
       "      <td>n02085936-Maltese_dog/n02085936_2905.jpg</td>\n",
       "      <td>3</td>\n",
       "      <td>500</td>\n",
       "      <td>333</td>\n",
       "      <td>1.501502</td>\n",
       "    </tr>\n",
       "    <tr>\n",
       "      <th>231</th>\n",
       "      <td>n02085936-Maltese_dog/n02085936_9088</td>\n",
       "      <td>Maltese_dog</td>\n",
       "      <td>0</td>\n",
       "      <td>n02085936-Maltese_dog/n02085936_9088.jpg</td>\n",
       "      <td>3</td>\n",
       "      <td>500</td>\n",
       "      <td>333</td>\n",
       "      <td>1.501502</td>\n",
       "    </tr>\n",
       "    <tr>\n",
       "      <th>238</th>\n",
       "      <td>n02085936-Maltese_dog/n02085936_1556</td>\n",
       "      <td>Maltese_dog</td>\n",
       "      <td>0</td>\n",
       "      <td>n02085936-Maltese_dog/n02085936_1556.jpg</td>\n",
       "      <td>3</td>\n",
       "      <td>333</td>\n",
       "      <td>500</td>\n",
       "      <td>1.501502</td>\n",
       "    </tr>\n",
       "    <tr>\n",
       "      <th>241</th>\n",
       "      <td>n02085936-Maltese_dog/n02085936_8417</td>\n",
       "      <td>Maltese_dog</td>\n",
       "      <td>0</td>\n",
       "      <td>n02085936-Maltese_dog/n02085936_8417.jpg</td>\n",
       "      <td>3</td>\n",
       "      <td>500</td>\n",
       "      <td>333</td>\n",
       "      <td>1.501502</td>\n",
       "    </tr>\n",
       "    <tr>\n",
       "      <th>246</th>\n",
       "      <td>n02085936-Maltese_dog/n02085936_6405</td>\n",
       "      <td>Maltese_dog</td>\n",
       "      <td>0</td>\n",
       "      <td>n02085936-Maltese_dog/n02085936_6405.jpg</td>\n",
       "      <td>3</td>\n",
       "      <td>333</td>\n",
       "      <td>500</td>\n",
       "      <td>1.501502</td>\n",
       "    </tr>\n",
       "    <tr>\n",
       "      <th>261</th>\n",
       "      <td>n02085936-Maltese_dog/n02085936_4490</td>\n",
       "      <td>Maltese_dog</td>\n",
       "      <td>0</td>\n",
       "      <td>n02085936-Maltese_dog/n02085936_4490.jpg</td>\n",
       "      <td>3</td>\n",
       "      <td>500</td>\n",
       "      <td>333</td>\n",
       "      <td>1.501502</td>\n",
       "    </tr>\n",
       "    <tr>\n",
       "      <th>...</th>\n",
       "      <td>...</td>\n",
       "      <td>...</td>\n",
       "      <td>...</td>\n",
       "      <td>...</td>\n",
       "      <td>...</td>\n",
       "      <td>...</td>\n",
       "      <td>...</td>\n",
       "      <td>...</td>\n",
       "    </tr>\n",
       "    <tr>\n",
       "      <th>20513</th>\n",
       "      <td>n02116738-African_hunting_dog/n02116738_6297</td>\n",
       "      <td>African_hunting_dog</td>\n",
       "      <td>1</td>\n",
       "      <td>n02116738-African_hunting_dog/n02116738_6297.jpg</td>\n",
       "      <td>120</td>\n",
       "      <td>314</td>\n",
       "      <td>646</td>\n",
       "      <td>2.057325</td>\n",
       "    </tr>\n",
       "    <tr>\n",
       "      <th>20514</th>\n",
       "      <td>n02116738-African_hunting_dog/n02116738_291</td>\n",
       "      <td>African_hunting_dog</td>\n",
       "      <td>1</td>\n",
       "      <td>n02116738-African_hunting_dog/n02116738_291.jpg</td>\n",
       "      <td>120</td>\n",
       "      <td>333</td>\n",
       "      <td>500</td>\n",
       "      <td>1.501502</td>\n",
       "    </tr>\n",
       "    <tr>\n",
       "      <th>20515</th>\n",
       "      <td>n02116738-African_hunting_dog/n02116738_4508</td>\n",
       "      <td>African_hunting_dog</td>\n",
       "      <td>1</td>\n",
       "      <td>n02116738-African_hunting_dog/n02116738_4508.jpg</td>\n",
       "      <td>120</td>\n",
       "      <td>332</td>\n",
       "      <td>500</td>\n",
       "      <td>1.506024</td>\n",
       "    </tr>\n",
       "    <tr>\n",
       "      <th>20516</th>\n",
       "      <td>n02116738-African_hunting_dog/n02116738_2942</td>\n",
       "      <td>African_hunting_dog</td>\n",
       "      <td>1</td>\n",
       "      <td>n02116738-African_hunting_dog/n02116738_2942.jpg</td>\n",
       "      <td>120</td>\n",
       "      <td>500</td>\n",
       "      <td>333</td>\n",
       "      <td>1.501502</td>\n",
       "    </tr>\n",
       "    <tr>\n",
       "      <th>20517</th>\n",
       "      <td>n02116738-African_hunting_dog/n02116738_1948</td>\n",
       "      <td>African_hunting_dog</td>\n",
       "      <td>1</td>\n",
       "      <td>n02116738-African_hunting_dog/n02116738_1948.jpg</td>\n",
       "      <td>120</td>\n",
       "      <td>333</td>\n",
       "      <td>500</td>\n",
       "      <td>1.501502</td>\n",
       "    </tr>\n",
       "    <tr>\n",
       "      <th>20519</th>\n",
       "      <td>n02116738-African_hunting_dog/n02116738_3589</td>\n",
       "      <td>African_hunting_dog</td>\n",
       "      <td>1</td>\n",
       "      <td>n02116738-African_hunting_dog/n02116738_3589.jpg</td>\n",
       "      <td>120</td>\n",
       "      <td>332</td>\n",
       "      <td>500</td>\n",
       "      <td>1.506024</td>\n",
       "    </tr>\n",
       "    <tr>\n",
       "      <th>20521</th>\n",
       "      <td>n02116738-African_hunting_dog/n02116738_6092</td>\n",
       "      <td>African_hunting_dog</td>\n",
       "      <td>1</td>\n",
       "      <td>n02116738-African_hunting_dog/n02116738_6092.jpg</td>\n",
       "      <td>120</td>\n",
       "      <td>333</td>\n",
       "      <td>500</td>\n",
       "      <td>1.501502</td>\n",
       "    </tr>\n",
       "    <tr>\n",
       "      <th>20527</th>\n",
       "      <td>n02116738-African_hunting_dog/n02116738_806</td>\n",
       "      <td>African_hunting_dog</td>\n",
       "      <td>1</td>\n",
       "      <td>n02116738-African_hunting_dog/n02116738_806.jpg</td>\n",
       "      <td>120</td>\n",
       "      <td>331</td>\n",
       "      <td>500</td>\n",
       "      <td>1.510574</td>\n",
       "    </tr>\n",
       "    <tr>\n",
       "      <th>20528</th>\n",
       "      <td>n02116738-African_hunting_dog/n02116738_1591</td>\n",
       "      <td>African_hunting_dog</td>\n",
       "      <td>1</td>\n",
       "      <td>n02116738-African_hunting_dog/n02116738_1591.jpg</td>\n",
       "      <td>120</td>\n",
       "      <td>333</td>\n",
       "      <td>500</td>\n",
       "      <td>1.501502</td>\n",
       "    </tr>\n",
       "    <tr>\n",
       "      <th>20530</th>\n",
       "      <td>n02116738-African_hunting_dog/n02116738_5241</td>\n",
       "      <td>African_hunting_dog</td>\n",
       "      <td>1</td>\n",
       "      <td>n02116738-African_hunting_dog/n02116738_5241.jpg</td>\n",
       "      <td>120</td>\n",
       "      <td>331</td>\n",
       "      <td>500</td>\n",
       "      <td>1.510574</td>\n",
       "    </tr>\n",
       "    <tr>\n",
       "      <th>20531</th>\n",
       "      <td>n02116738-African_hunting_dog/n02116738_385</td>\n",
       "      <td>African_hunting_dog</td>\n",
       "      <td>1</td>\n",
       "      <td>n02116738-African_hunting_dog/n02116738_385.jpg</td>\n",
       "      <td>120</td>\n",
       "      <td>272</td>\n",
       "      <td>500</td>\n",
       "      <td>1.838235</td>\n",
       "    </tr>\n",
       "    <tr>\n",
       "      <th>20533</th>\n",
       "      <td>n02116738-African_hunting_dog/n02116738_2515</td>\n",
       "      <td>African_hunting_dog</td>\n",
       "      <td>1</td>\n",
       "      <td>n02116738-African_hunting_dog/n02116738_2515.jpg</td>\n",
       "      <td>120</td>\n",
       "      <td>500</td>\n",
       "      <td>333</td>\n",
       "      <td>1.501502</td>\n",
       "    </tr>\n",
       "    <tr>\n",
       "      <th>20534</th>\n",
       "      <td>n02116738-African_hunting_dog/n02116738_500</td>\n",
       "      <td>African_hunting_dog</td>\n",
       "      <td>1</td>\n",
       "      <td>n02116738-African_hunting_dog/n02116738_500.jpg</td>\n",
       "      <td>120</td>\n",
       "      <td>331</td>\n",
       "      <td>500</td>\n",
       "      <td>1.510574</td>\n",
       "    </tr>\n",
       "    <tr>\n",
       "      <th>20538</th>\n",
       "      <td>n02116738-African_hunting_dog/n02116738_2139</td>\n",
       "      <td>African_hunting_dog</td>\n",
       "      <td>1</td>\n",
       "      <td>n02116738-African_hunting_dog/n02116738_2139.jpg</td>\n",
       "      <td>120</td>\n",
       "      <td>333</td>\n",
       "      <td>500</td>\n",
       "      <td>1.501502</td>\n",
       "    </tr>\n",
       "    <tr>\n",
       "      <th>20540</th>\n",
       "      <td>n02116738-African_hunting_dog/n02116738_607</td>\n",
       "      <td>African_hunting_dog</td>\n",
       "      <td>1</td>\n",
       "      <td>n02116738-African_hunting_dog/n02116738_607.jpg</td>\n",
       "      <td>120</td>\n",
       "      <td>333</td>\n",
       "      <td>500</td>\n",
       "      <td>1.501502</td>\n",
       "    </tr>\n",
       "    <tr>\n",
       "      <th>20548</th>\n",
       "      <td>n02116738-African_hunting_dog/n02116738_3160</td>\n",
       "      <td>African_hunting_dog</td>\n",
       "      <td>1</td>\n",
       "      <td>n02116738-African_hunting_dog/n02116738_3160.jpg</td>\n",
       "      <td>120</td>\n",
       "      <td>333</td>\n",
       "      <td>500</td>\n",
       "      <td>1.501502</td>\n",
       "    </tr>\n",
       "    <tr>\n",
       "      <th>20550</th>\n",
       "      <td>n02116738-African_hunting_dog/n02116738_2020</td>\n",
       "      <td>African_hunting_dog</td>\n",
       "      <td>1</td>\n",
       "      <td>n02116738-African_hunting_dog/n02116738_2020.jpg</td>\n",
       "      <td>120</td>\n",
       "      <td>333</td>\n",
       "      <td>500</td>\n",
       "      <td>1.501502</td>\n",
       "    </tr>\n",
       "    <tr>\n",
       "      <th>20555</th>\n",
       "      <td>n02116738-African_hunting_dog/n02116738_7506</td>\n",
       "      <td>African_hunting_dog</td>\n",
       "      <td>1</td>\n",
       "      <td>n02116738-African_hunting_dog/n02116738_7506.jpg</td>\n",
       "      <td>120</td>\n",
       "      <td>250</td>\n",
       "      <td>161</td>\n",
       "      <td>1.552795</td>\n",
       "    </tr>\n",
       "    <tr>\n",
       "      <th>20556</th>\n",
       "      <td>n02116738-African_hunting_dog/n02116738_2599</td>\n",
       "      <td>African_hunting_dog</td>\n",
       "      <td>1</td>\n",
       "      <td>n02116738-African_hunting_dog/n02116738_2599.jpg</td>\n",
       "      <td>120</td>\n",
       "      <td>333</td>\n",
       "      <td>500</td>\n",
       "      <td>1.501502</td>\n",
       "    </tr>\n",
       "    <tr>\n",
       "      <th>20557</th>\n",
       "      <td>n02116738-African_hunting_dog/n02116738_8579</td>\n",
       "      <td>African_hunting_dog</td>\n",
       "      <td>1</td>\n",
       "      <td>n02116738-African_hunting_dog/n02116738_8579.jpg</td>\n",
       "      <td>120</td>\n",
       "      <td>500</td>\n",
       "      <td>333</td>\n",
       "      <td>1.501502</td>\n",
       "    </tr>\n",
       "    <tr>\n",
       "      <th>20558</th>\n",
       "      <td>n02116738-African_hunting_dog/n02116738_8226</td>\n",
       "      <td>African_hunting_dog</td>\n",
       "      <td>1</td>\n",
       "      <td>n02116738-African_hunting_dog/n02116738_8226.jpg</td>\n",
       "      <td>120</td>\n",
       "      <td>331</td>\n",
       "      <td>500</td>\n",
       "      <td>1.510574</td>\n",
       "    </tr>\n",
       "    <tr>\n",
       "      <th>20560</th>\n",
       "      <td>n02116738-African_hunting_dog/n02116738_7580</td>\n",
       "      <td>African_hunting_dog</td>\n",
       "      <td>1</td>\n",
       "      <td>n02116738-African_hunting_dog/n02116738_7580.jpg</td>\n",
       "      <td>120</td>\n",
       "      <td>500</td>\n",
       "      <td>333</td>\n",
       "      <td>1.501502</td>\n",
       "    </tr>\n",
       "    <tr>\n",
       "      <th>20562</th>\n",
       "      <td>n02116738-African_hunting_dog/n02116738_1849</td>\n",
       "      <td>African_hunting_dog</td>\n",
       "      <td>1</td>\n",
       "      <td>n02116738-African_hunting_dog/n02116738_1849.jpg</td>\n",
       "      <td>120</td>\n",
       "      <td>407</td>\n",
       "      <td>620</td>\n",
       "      <td>1.523342</td>\n",
       "    </tr>\n",
       "    <tr>\n",
       "      <th>20564</th>\n",
       "      <td>n02116738-African_hunting_dog/n02116738_5338</td>\n",
       "      <td>African_hunting_dog</td>\n",
       "      <td>1</td>\n",
       "      <td>n02116738-African_hunting_dog/n02116738_5338.jpg</td>\n",
       "      <td>120</td>\n",
       "      <td>333</td>\n",
       "      <td>500</td>\n",
       "      <td>1.501502</td>\n",
       "    </tr>\n",
       "    <tr>\n",
       "      <th>20565</th>\n",
       "      <td>n02116738-African_hunting_dog/n02116738_4138</td>\n",
       "      <td>African_hunting_dog</td>\n",
       "      <td>1</td>\n",
       "      <td>n02116738-African_hunting_dog/n02116738_4138.jpg</td>\n",
       "      <td>120</td>\n",
       "      <td>333</td>\n",
       "      <td>500</td>\n",
       "      <td>1.501502</td>\n",
       "    </tr>\n",
       "    <tr>\n",
       "      <th>20566</th>\n",
       "      <td>n02116738-African_hunting_dog/n02116738_4734</td>\n",
       "      <td>African_hunting_dog</td>\n",
       "      <td>1</td>\n",
       "      <td>n02116738-African_hunting_dog/n02116738_4734.jpg</td>\n",
       "      <td>120</td>\n",
       "      <td>468</td>\n",
       "      <td>800</td>\n",
       "      <td>1.709402</td>\n",
       "    </tr>\n",
       "    <tr>\n",
       "      <th>20570</th>\n",
       "      <td>n02116738-African_hunting_dog/n02116738_124</td>\n",
       "      <td>African_hunting_dog</td>\n",
       "      <td>1</td>\n",
       "      <td>n02116738-African_hunting_dog/n02116738_124.jpg</td>\n",
       "      <td>120</td>\n",
       "      <td>312</td>\n",
       "      <td>500</td>\n",
       "      <td>1.602564</td>\n",
       "    </tr>\n",
       "    <tr>\n",
       "      <th>20571</th>\n",
       "      <td>n02116738-African_hunting_dog/n02116738_5683</td>\n",
       "      <td>African_hunting_dog</td>\n",
       "      <td>1</td>\n",
       "      <td>n02116738-African_hunting_dog/n02116738_5683.jpg</td>\n",
       "      <td>120</td>\n",
       "      <td>333</td>\n",
       "      <td>500</td>\n",
       "      <td>1.501502</td>\n",
       "    </tr>\n",
       "    <tr>\n",
       "      <th>20573</th>\n",
       "      <td>n02116738-African_hunting_dog/n02116738_7537</td>\n",
       "      <td>African_hunting_dog</td>\n",
       "      <td>1</td>\n",
       "      <td>n02116738-African_hunting_dog/n02116738_7537.jpg</td>\n",
       "      <td>120</td>\n",
       "      <td>199</td>\n",
       "      <td>300</td>\n",
       "      <td>1.507538</td>\n",
       "    </tr>\n",
       "    <tr>\n",
       "      <th>20576</th>\n",
       "      <td>n02116738-African_hunting_dog/n02116738_3024</td>\n",
       "      <td>African_hunting_dog</td>\n",
       "      <td>1</td>\n",
       "      <td>n02116738-African_hunting_dog/n02116738_3024.jpg</td>\n",
       "      <td>120</td>\n",
       "      <td>333</td>\n",
       "      <td>500</td>\n",
       "      <td>1.501502</td>\n",
       "    </tr>\n",
       "  </tbody>\n",
       "</table>\n",
       "<p>4476 rows × 8 columns</p>\n",
       "</div>"
      ],
      "text/plain": [
       "                                                box           class_name  \\\n",
       "2                n02085620-Chihuahua/n02085620_1502            Chihuahua   \n",
       "15               n02085620-Chihuahua/n02085620_5771            Chihuahua   \n",
       "16                n02085620-Chihuahua/n02085620_275            Chihuahua   \n",
       "18              n02085620-Chihuahua/n02085620_10621            Chihuahua   \n",
       "22              n02085620-Chihuahua/n02085620_12101            Chihuahua   \n",
       "30                n02085620-Chihuahua/n02085620_473            Chihuahua   \n",
       "31               n02085620-Chihuahua/n02085620_1455            Chihuahua   \n",
       "38               n02085620-Chihuahua/n02085620_9357            Chihuahua   \n",
       "44                n02085620-Chihuahua/n02085620_326            Chihuahua   \n",
       "72                n02085620-Chihuahua/n02085620_368            Chihuahua   \n",
       "87               n02085620-Chihuahua/n02085620_8420            Chihuahua   \n",
       "89               n02085620-Chihuahua/n02085620_2903            Chihuahua   \n",
       "92               n02085620-Chihuahua/n02085620_8585            Chihuahua   \n",
       "93              n02085620-Chihuahua/n02085620_10976            Chihuahua   \n",
       "123       n02085782-Japanese_spaniel/n02085782_1350     Japanese_spaniel   \n",
       "148       n02085782-Japanese_spaniel/n02085782_2640     Japanese_spaniel   \n",
       "152        n02085782-Japanese_spaniel/n02085782_845     Japanese_spaniel   \n",
       "193       n02085782-Japanese_spaniel/n02085782_1077     Japanese_spaniel   \n",
       "201            n02085936-Maltese_dog/n02085936_3677          Maltese_dog   \n",
       "207            n02085936-Maltese_dog/n02085936_7537          Maltese_dog   \n",
       "209            n02085936-Maltese_dog/n02085936_6514          Maltese_dog   \n",
       "221            n02085936-Maltese_dog/n02085936_5012          Maltese_dog   \n",
       "223            n02085936-Maltese_dog/n02085936_1244          Maltese_dog   \n",
       "225            n02085936-Maltese_dog/n02085936_7442          Maltese_dog   \n",
       "227            n02085936-Maltese_dog/n02085936_2905          Maltese_dog   \n",
       "231            n02085936-Maltese_dog/n02085936_9088          Maltese_dog   \n",
       "238            n02085936-Maltese_dog/n02085936_1556          Maltese_dog   \n",
       "241            n02085936-Maltese_dog/n02085936_8417          Maltese_dog   \n",
       "246            n02085936-Maltese_dog/n02085936_6405          Maltese_dog   \n",
       "261            n02085936-Maltese_dog/n02085936_4490          Maltese_dog   \n",
       "...                                             ...                  ...   \n",
       "20513  n02116738-African_hunting_dog/n02116738_6297  African_hunting_dog   \n",
       "20514   n02116738-African_hunting_dog/n02116738_291  African_hunting_dog   \n",
       "20515  n02116738-African_hunting_dog/n02116738_4508  African_hunting_dog   \n",
       "20516  n02116738-African_hunting_dog/n02116738_2942  African_hunting_dog   \n",
       "20517  n02116738-African_hunting_dog/n02116738_1948  African_hunting_dog   \n",
       "20519  n02116738-African_hunting_dog/n02116738_3589  African_hunting_dog   \n",
       "20521  n02116738-African_hunting_dog/n02116738_6092  African_hunting_dog   \n",
       "20527   n02116738-African_hunting_dog/n02116738_806  African_hunting_dog   \n",
       "20528  n02116738-African_hunting_dog/n02116738_1591  African_hunting_dog   \n",
       "20530  n02116738-African_hunting_dog/n02116738_5241  African_hunting_dog   \n",
       "20531   n02116738-African_hunting_dog/n02116738_385  African_hunting_dog   \n",
       "20533  n02116738-African_hunting_dog/n02116738_2515  African_hunting_dog   \n",
       "20534   n02116738-African_hunting_dog/n02116738_500  African_hunting_dog   \n",
       "20538  n02116738-African_hunting_dog/n02116738_2139  African_hunting_dog   \n",
       "20540   n02116738-African_hunting_dog/n02116738_607  African_hunting_dog   \n",
       "20548  n02116738-African_hunting_dog/n02116738_3160  African_hunting_dog   \n",
       "20550  n02116738-African_hunting_dog/n02116738_2020  African_hunting_dog   \n",
       "20555  n02116738-African_hunting_dog/n02116738_7506  African_hunting_dog   \n",
       "20556  n02116738-African_hunting_dog/n02116738_2599  African_hunting_dog   \n",
       "20557  n02116738-African_hunting_dog/n02116738_8579  African_hunting_dog   \n",
       "20558  n02116738-African_hunting_dog/n02116738_8226  African_hunting_dog   \n",
       "20560  n02116738-African_hunting_dog/n02116738_7580  African_hunting_dog   \n",
       "20562  n02116738-African_hunting_dog/n02116738_1849  African_hunting_dog   \n",
       "20564  n02116738-African_hunting_dog/n02116738_5338  African_hunting_dog   \n",
       "20565  n02116738-African_hunting_dog/n02116738_4138  African_hunting_dog   \n",
       "20566  n02116738-African_hunting_dog/n02116738_4734  African_hunting_dog   \n",
       "20570   n02116738-African_hunting_dog/n02116738_124  African_hunting_dog   \n",
       "20571  n02116738-African_hunting_dog/n02116738_5683  African_hunting_dog   \n",
       "20573  n02116738-African_hunting_dog/n02116738_7537  African_hunting_dog   \n",
       "20576  n02116738-African_hunting_dog/n02116738_3024  African_hunting_dog   \n",
       "\n",
       "       dataset                                             image  label  \\\n",
       "2            0            n02085620-Chihuahua/n02085620_1502.jpg      1   \n",
       "15           0            n02085620-Chihuahua/n02085620_5771.jpg      1   \n",
       "16           0             n02085620-Chihuahua/n02085620_275.jpg      1   \n",
       "18           0           n02085620-Chihuahua/n02085620_10621.jpg      1   \n",
       "22           0           n02085620-Chihuahua/n02085620_12101.jpg      1   \n",
       "30           0             n02085620-Chihuahua/n02085620_473.jpg      1   \n",
       "31           0            n02085620-Chihuahua/n02085620_1455.jpg      1   \n",
       "38           0            n02085620-Chihuahua/n02085620_9357.jpg      1   \n",
       "44           0             n02085620-Chihuahua/n02085620_326.jpg      1   \n",
       "72           0             n02085620-Chihuahua/n02085620_368.jpg      1   \n",
       "87           0            n02085620-Chihuahua/n02085620_8420.jpg      1   \n",
       "89           0            n02085620-Chihuahua/n02085620_2903.jpg      1   \n",
       "92           0            n02085620-Chihuahua/n02085620_8585.jpg      1   \n",
       "93           0           n02085620-Chihuahua/n02085620_10976.jpg      1   \n",
       "123          0     n02085782-Japanese_spaniel/n02085782_1350.jpg      2   \n",
       "148          0     n02085782-Japanese_spaniel/n02085782_2640.jpg      2   \n",
       "152          0      n02085782-Japanese_spaniel/n02085782_845.jpg      2   \n",
       "193          0     n02085782-Japanese_spaniel/n02085782_1077.jpg      2   \n",
       "201          0          n02085936-Maltese_dog/n02085936_3677.jpg      3   \n",
       "207          0          n02085936-Maltese_dog/n02085936_7537.jpg      3   \n",
       "209          0          n02085936-Maltese_dog/n02085936_6514.jpg      3   \n",
       "221          0          n02085936-Maltese_dog/n02085936_5012.jpg      3   \n",
       "223          0          n02085936-Maltese_dog/n02085936_1244.jpg      3   \n",
       "225          0          n02085936-Maltese_dog/n02085936_7442.jpg      3   \n",
       "227          0          n02085936-Maltese_dog/n02085936_2905.jpg      3   \n",
       "231          0          n02085936-Maltese_dog/n02085936_9088.jpg      3   \n",
       "238          0          n02085936-Maltese_dog/n02085936_1556.jpg      3   \n",
       "241          0          n02085936-Maltese_dog/n02085936_8417.jpg      3   \n",
       "246          0          n02085936-Maltese_dog/n02085936_6405.jpg      3   \n",
       "261          0          n02085936-Maltese_dog/n02085936_4490.jpg      3   \n",
       "...        ...                                               ...    ...   \n",
       "20513        1  n02116738-African_hunting_dog/n02116738_6297.jpg    120   \n",
       "20514        1   n02116738-African_hunting_dog/n02116738_291.jpg    120   \n",
       "20515        1  n02116738-African_hunting_dog/n02116738_4508.jpg    120   \n",
       "20516        1  n02116738-African_hunting_dog/n02116738_2942.jpg    120   \n",
       "20517        1  n02116738-African_hunting_dog/n02116738_1948.jpg    120   \n",
       "20519        1  n02116738-African_hunting_dog/n02116738_3589.jpg    120   \n",
       "20521        1  n02116738-African_hunting_dog/n02116738_6092.jpg    120   \n",
       "20527        1   n02116738-African_hunting_dog/n02116738_806.jpg    120   \n",
       "20528        1  n02116738-African_hunting_dog/n02116738_1591.jpg    120   \n",
       "20530        1  n02116738-African_hunting_dog/n02116738_5241.jpg    120   \n",
       "20531        1   n02116738-African_hunting_dog/n02116738_385.jpg    120   \n",
       "20533        1  n02116738-African_hunting_dog/n02116738_2515.jpg    120   \n",
       "20534        1   n02116738-African_hunting_dog/n02116738_500.jpg    120   \n",
       "20538        1  n02116738-African_hunting_dog/n02116738_2139.jpg    120   \n",
       "20540        1   n02116738-African_hunting_dog/n02116738_607.jpg    120   \n",
       "20548        1  n02116738-African_hunting_dog/n02116738_3160.jpg    120   \n",
       "20550        1  n02116738-African_hunting_dog/n02116738_2020.jpg    120   \n",
       "20555        1  n02116738-African_hunting_dog/n02116738_7506.jpg    120   \n",
       "20556        1  n02116738-African_hunting_dog/n02116738_2599.jpg    120   \n",
       "20557        1  n02116738-African_hunting_dog/n02116738_8579.jpg    120   \n",
       "20558        1  n02116738-African_hunting_dog/n02116738_8226.jpg    120   \n",
       "20560        1  n02116738-African_hunting_dog/n02116738_7580.jpg    120   \n",
       "20562        1  n02116738-African_hunting_dog/n02116738_1849.jpg    120   \n",
       "20564        1  n02116738-African_hunting_dog/n02116738_5338.jpg    120   \n",
       "20565        1  n02116738-African_hunting_dog/n02116738_4138.jpg    120   \n",
       "20566        1  n02116738-African_hunting_dog/n02116738_4734.jpg    120   \n",
       "20570        1   n02116738-African_hunting_dog/n02116738_124.jpg    120   \n",
       "20571        1  n02116738-African_hunting_dog/n02116738_5683.jpg    120   \n",
       "20573        1  n02116738-African_hunting_dog/n02116738_7537.jpg    120   \n",
       "20576        1  n02116738-African_hunting_dog/n02116738_3024.jpg    120   \n",
       "\n",
       "       width  height     ratio  \n",
       "2        333     500  1.501502  \n",
       "15       500     281  1.779359  \n",
       "16       333     500  1.501502  \n",
       "18       298     500  1.677852  \n",
       "22       253     380  1.501976  \n",
       "30       333     500  1.501502  \n",
       "31       500     333  1.501502  \n",
       "38       319     500  1.567398  \n",
       "44       500     333  1.501502  \n",
       "72       333     500  1.501502  \n",
       "87       332     500  1.506024  \n",
       "89       333     500  1.501502  \n",
       "92       332     500  1.506024  \n",
       "93       484     322  1.503106  \n",
       "123      218     332  1.522936  \n",
       "148      266     400  1.503759  \n",
       "152      309     200  1.545000  \n",
       "193      334     519  1.553892  \n",
       "201      500     333  1.501502  \n",
       "207      500     326  1.533742  \n",
       "209      333     500  1.501502  \n",
       "221      333     500  1.501502  \n",
       "223      333     500  1.501502  \n",
       "225      333     500  1.501502  \n",
       "227      500     333  1.501502  \n",
       "231      500     333  1.501502  \n",
       "238      333     500  1.501502  \n",
       "241      500     333  1.501502  \n",
       "246      333     500  1.501502  \n",
       "261      500     333  1.501502  \n",
       "...      ...     ...       ...  \n",
       "20513    314     646  2.057325  \n",
       "20514    333     500  1.501502  \n",
       "20515    332     500  1.506024  \n",
       "20516    500     333  1.501502  \n",
       "20517    333     500  1.501502  \n",
       "20519    332     500  1.506024  \n",
       "20521    333     500  1.501502  \n",
       "20527    331     500  1.510574  \n",
       "20528    333     500  1.501502  \n",
       "20530    331     500  1.510574  \n",
       "20531    272     500  1.838235  \n",
       "20533    500     333  1.501502  \n",
       "20534    331     500  1.510574  \n",
       "20538    333     500  1.501502  \n",
       "20540    333     500  1.501502  \n",
       "20548    333     500  1.501502  \n",
       "20550    333     500  1.501502  \n",
       "20555    250     161  1.552795  \n",
       "20556    333     500  1.501502  \n",
       "20557    500     333  1.501502  \n",
       "20558    331     500  1.510574  \n",
       "20560    500     333  1.501502  \n",
       "20562    407     620  1.523342  \n",
       "20564    333     500  1.501502  \n",
       "20565    333     500  1.501502  \n",
       "20566    468     800  1.709402  \n",
       "20570    312     500  1.602564  \n",
       "20571    333     500  1.501502  \n",
       "20573    199     300  1.507538  \n",
       "20576    333     500  1.501502  \n",
       "\n",
       "[4476 rows x 8 columns]"
      ]
     },
     "execution_count": 27,
     "metadata": {},
     "output_type": "execute_result"
    }
   ],
   "source": [
    "df[df.ratio > 1.5]"
   ]
  },
  {
   "cell_type": "markdown",
   "metadata": {},
   "source": [
    "Here it is, now there is 2 dataset of 299x299 images. One is fully rescaled, the other one passed thru seam carving if the ratio was above 1.51. Let's now extracxt both features to 2 different matrices "
   ]
  },
  {
   "cell_type": "markdown",
   "metadata": {},
   "source": [
    "# Feature Extraction\n",
    "\n",
    "During the master on Data Science, I already made a comparison of feature extractor on that dataset and decided to go for InceptionV3, here I'll keep the same model"
   ]
  },
  {
   "cell_type": "code",
   "execution_count": 6,
   "metadata": {},
   "outputs": [],
   "source": [
    "import numpy as np\n",
    "import pandas as pd\n",
    "import os\n",
    "\n",
    "import tensorflow as tf\n",
    "from tensorflow.keras.applications.inception_v3 import decode_predictions\n",
    "\n",
    "from PIL import Image\n",
    "import cv2"
   ]
  },
  {
   "cell_type": "code",
   "execution_count": 3,
   "metadata": {},
   "outputs": [
    {
     "data": {
      "text/html": [
       "<div>\n",
       "<style>\n",
       "    .dataframe thead tr:only-child th {\n",
       "        text-align: right;\n",
       "    }\n",
       "\n",
       "    .dataframe thead th {\n",
       "        text-align: left;\n",
       "    }\n",
       "\n",
       "    .dataframe tbody tr th {\n",
       "        vertical-align: top;\n",
       "    }\n",
       "</style>\n",
       "<table border=\"1\" class=\"dataframe\">\n",
       "  <thead>\n",
       "    <tr style=\"text-align: right;\">\n",
       "      <th></th>\n",
       "      <th>box</th>\n",
       "      <th>class_name</th>\n",
       "      <th>dataset</th>\n",
       "      <th>image</th>\n",
       "      <th>label</th>\n",
       "      <th>width</th>\n",
       "      <th>height</th>\n",
       "      <th>ratio</th>\n",
       "    </tr>\n",
       "  </thead>\n",
       "  <tbody>\n",
       "    <tr>\n",
       "      <th>0</th>\n",
       "      <td>n02085620-Chihuahua/n02085620_5927</td>\n",
       "      <td>Chihuahua</td>\n",
       "      <td>0</td>\n",
       "      <td>n02085620-Chihuahua/n02085620_5927.jpg</td>\n",
       "      <td>1</td>\n",
       "      <td>300</td>\n",
       "      <td>360</td>\n",
       "      <td>1.200000</td>\n",
       "    </tr>\n",
       "    <tr>\n",
       "      <th>1</th>\n",
       "      <td>n02085620-Chihuahua/n02085620_4441</td>\n",
       "      <td>Chihuahua</td>\n",
       "      <td>0</td>\n",
       "      <td>n02085620-Chihuahua/n02085620_4441.jpg</td>\n",
       "      <td>1</td>\n",
       "      <td>500</td>\n",
       "      <td>375</td>\n",
       "      <td>1.333333</td>\n",
       "    </tr>\n",
       "    <tr>\n",
       "      <th>2</th>\n",
       "      <td>n02085620-Chihuahua/n02085620_1502</td>\n",
       "      <td>Chihuahua</td>\n",
       "      <td>0</td>\n",
       "      <td>n02085620-Chihuahua/n02085620_1502.jpg</td>\n",
       "      <td>1</td>\n",
       "      <td>333</td>\n",
       "      <td>500</td>\n",
       "      <td>1.501502</td>\n",
       "    </tr>\n",
       "    <tr>\n",
       "      <th>3</th>\n",
       "      <td>n02085620-Chihuahua/n02085620_1916</td>\n",
       "      <td>Chihuahua</td>\n",
       "      <td>0</td>\n",
       "      <td>n02085620-Chihuahua/n02085620_1916.jpg</td>\n",
       "      <td>1</td>\n",
       "      <td>495</td>\n",
       "      <td>500</td>\n",
       "      <td>1.010101</td>\n",
       "    </tr>\n",
       "    <tr>\n",
       "      <th>4</th>\n",
       "      <td>n02085620-Chihuahua/n02085620_13151</td>\n",
       "      <td>Chihuahua</td>\n",
       "      <td>0</td>\n",
       "      <td>n02085620-Chihuahua/n02085620_13151.jpg</td>\n",
       "      <td>1</td>\n",
       "      <td>336</td>\n",
       "      <td>500</td>\n",
       "      <td>1.488095</td>\n",
       "    </tr>\n",
       "  </tbody>\n",
       "</table>\n",
       "</div>"
      ],
      "text/plain": [
       "                                   box class_name  dataset  \\\n",
       "0   n02085620-Chihuahua/n02085620_5927  Chihuahua        0   \n",
       "1   n02085620-Chihuahua/n02085620_4441  Chihuahua        0   \n",
       "2   n02085620-Chihuahua/n02085620_1502  Chihuahua        0   \n",
       "3   n02085620-Chihuahua/n02085620_1916  Chihuahua        0   \n",
       "4  n02085620-Chihuahua/n02085620_13151  Chihuahua        0   \n",
       "\n",
       "                                     image  label  width  height     ratio  \n",
       "0   n02085620-Chihuahua/n02085620_5927.jpg      1    300     360  1.200000  \n",
       "1   n02085620-Chihuahua/n02085620_4441.jpg      1    500     375  1.333333  \n",
       "2   n02085620-Chihuahua/n02085620_1502.jpg      1    333     500  1.501502  \n",
       "3   n02085620-Chihuahua/n02085620_1916.jpg      1    495     500  1.010101  \n",
       "4  n02085620-Chihuahua/n02085620_13151.jpg      1    336     500  1.488095  "
      ]
     },
     "execution_count": 3,
     "metadata": {},
     "output_type": "execute_result"
    }
   ],
   "source": [
    "df = pd.read_csv(\"F:/data/DogBreed/Labels/labels.csv\")\n",
    "df.head()"
   ]
  },
  {
   "cell_type": "code",
   "execution_count": 4,
   "metadata": {},
   "outputs": [],
   "source": [
    "names = df[\"image\"].apply(lambda x:x.split(\"/\")[1])"
   ]
  },
  {
   "cell_type": "markdown",
   "metadata": {},
   "source": [
    "I cannot load all the images in memory so I'll use a generator to predict by batch all the features and save afterward the 2 matrices"
   ]
  },
  {
   "cell_type": "code",
   "execution_count": 53,
   "metadata": {},
   "outputs": [],
   "source": [
    "def image_generator(names, root):\n",
    "    batch = 30\n",
    "    n_iter = len(names)//batch\n",
    "    X = np.zeros(shape=(batch, 299, 299, 3), dtype=np.float32)\n",
    "    i=0\n",
    "    while i < len(names):\n",
    "        img = Image.open(os.path.join(root, names[i]))\n",
    "        X[i%batch] = np.array(img)\n",
    "        i+=1\n",
    "        if i%batch==0:\n",
    "            yield X/255.0"
   ]
  },
  {
   "cell_type": "code",
   "execution_count": 16,
   "metadata": {},
   "outputs": [
    {
     "name": "stdout",
     "output_type": "stream",
     "text": [
      "WARNING:tensorflow:From C:\\python36\\envs\\machine_learning\\lib\\site-packages\\tensorflow\\python\\ops\\resource_variable_ops.py:435: colocate_with (from tensorflow.python.framework.ops) is deprecated and will be removed in a future version.\n",
      "Instructions for updating:\n",
      "Colocations handled automatically by placer.\n"
     ]
    }
   ],
   "source": [
    "IMG_SHAPE = (299, 299, 3)\n",
    "\n",
    "base_model = tf.keras.applications.InceptionV3(input_shape=IMG_SHAPE,\n",
    "                                               include_top=False, \n",
    "                                               weights='imagenet')"
   ]
  },
  {
   "cell_type": "code",
   "execution_count": 54,
   "metadata": {},
   "outputs": [],
   "source": [
    "features = np.zeros(shape=(len(names), 2048), dtype=np.float32)\n",
    "for k, x_ in enumerate(image_generator(names, \"F:/data/DogBreed/simple_scale/\")):\n",
    "    y_hat = base_model.predict(x_)\n",
    "    y_hat = np.mean(y_hat, axis=(1,2))\n",
    "    features[30*k:30*(k+1), : ] = y_hat\n",
    "np.save(\"F:/data/DogBreed/feature_scaled.npy\", features)"
   ]
  },
  {
   "cell_type": "code",
   "execution_count": 56,
   "metadata": {},
   "outputs": [],
   "source": [
    "features = np.zeros(shape=(len(names), 2048), dtype=np.float32)\n",
    "for k, x_ in enumerate(image_generator(names, \"F:/data/DogBreed/pre_processed/\")):\n",
    "    y_hat = base_model.predict(x_)\n",
    "    y_hat = np.mean(y_hat, axis=(1,2))\n",
    "    features[30*k:30*(k+1), : ] = y_hat\n",
    "np.save(\"F:/data/DogBreed/feature_seamcarved.npy\", features)"
   ]
  },
  {
   "cell_type": "markdown",
   "metadata": {},
   "source": [
    "Here it is, we can now go to the classifier part ! (at this stage, I advise to restart the Kernel prior to continue)"
   ]
  },
  {
   "cell_type": "markdown",
   "metadata": {},
   "source": [
    "# Prediction"
   ]
  },
  {
   "cell_type": "code",
   "execution_count": 83,
   "metadata": {},
   "outputs": [],
   "source": [
    "import numpy as np\n",
    "import pandas as pd\n",
    "\n",
    "import matplotlib.pyplot as plt"
   ]
  },
  {
   "cell_type": "code",
   "execution_count": 84,
   "metadata": {},
   "outputs": [
    {
     "data": {
      "text/html": [
       "<div>\n",
       "<style>\n",
       "    .dataframe thead tr:only-child th {\n",
       "        text-align: right;\n",
       "    }\n",
       "\n",
       "    .dataframe thead th {\n",
       "        text-align: left;\n",
       "    }\n",
       "\n",
       "    .dataframe tbody tr th {\n",
       "        vertical-align: top;\n",
       "    }\n",
       "</style>\n",
       "<table border=\"1\" class=\"dataframe\">\n",
       "  <thead>\n",
       "    <tr style=\"text-align: right;\">\n",
       "      <th></th>\n",
       "      <th>box</th>\n",
       "      <th>class_name</th>\n",
       "      <th>dataset</th>\n",
       "      <th>image</th>\n",
       "      <th>label</th>\n",
       "      <th>width</th>\n",
       "      <th>height</th>\n",
       "      <th>ratio</th>\n",
       "    </tr>\n",
       "  </thead>\n",
       "  <tbody>\n",
       "    <tr>\n",
       "      <th>0</th>\n",
       "      <td>n02085620-Chihuahua/n02085620_5927</td>\n",
       "      <td>Chihuahua</td>\n",
       "      <td>0</td>\n",
       "      <td>n02085620-Chihuahua/n02085620_5927.jpg</td>\n",
       "      <td>1</td>\n",
       "      <td>300</td>\n",
       "      <td>360</td>\n",
       "      <td>1.200000</td>\n",
       "    </tr>\n",
       "    <tr>\n",
       "      <th>1</th>\n",
       "      <td>n02085620-Chihuahua/n02085620_4441</td>\n",
       "      <td>Chihuahua</td>\n",
       "      <td>0</td>\n",
       "      <td>n02085620-Chihuahua/n02085620_4441.jpg</td>\n",
       "      <td>1</td>\n",
       "      <td>500</td>\n",
       "      <td>375</td>\n",
       "      <td>1.333333</td>\n",
       "    </tr>\n",
       "    <tr>\n",
       "      <th>2</th>\n",
       "      <td>n02085620-Chihuahua/n02085620_1502</td>\n",
       "      <td>Chihuahua</td>\n",
       "      <td>0</td>\n",
       "      <td>n02085620-Chihuahua/n02085620_1502.jpg</td>\n",
       "      <td>1</td>\n",
       "      <td>333</td>\n",
       "      <td>500</td>\n",
       "      <td>1.501502</td>\n",
       "    </tr>\n",
       "    <tr>\n",
       "      <th>3</th>\n",
       "      <td>n02085620-Chihuahua/n02085620_1916</td>\n",
       "      <td>Chihuahua</td>\n",
       "      <td>0</td>\n",
       "      <td>n02085620-Chihuahua/n02085620_1916.jpg</td>\n",
       "      <td>1</td>\n",
       "      <td>495</td>\n",
       "      <td>500</td>\n",
       "      <td>1.010101</td>\n",
       "    </tr>\n",
       "    <tr>\n",
       "      <th>4</th>\n",
       "      <td>n02085620-Chihuahua/n02085620_13151</td>\n",
       "      <td>Chihuahua</td>\n",
       "      <td>0</td>\n",
       "      <td>n02085620-Chihuahua/n02085620_13151.jpg</td>\n",
       "      <td>1</td>\n",
       "      <td>336</td>\n",
       "      <td>500</td>\n",
       "      <td>1.488095</td>\n",
       "    </tr>\n",
       "  </tbody>\n",
       "</table>\n",
       "</div>"
      ],
      "text/plain": [
       "                                   box class_name  dataset  \\\n",
       "0   n02085620-Chihuahua/n02085620_5927  Chihuahua        0   \n",
       "1   n02085620-Chihuahua/n02085620_4441  Chihuahua        0   \n",
       "2   n02085620-Chihuahua/n02085620_1502  Chihuahua        0   \n",
       "3   n02085620-Chihuahua/n02085620_1916  Chihuahua        0   \n",
       "4  n02085620-Chihuahua/n02085620_13151  Chihuahua        0   \n",
       "\n",
       "                                     image  label  width  height     ratio  \n",
       "0   n02085620-Chihuahua/n02085620_5927.jpg      1    300     360  1.200000  \n",
       "1   n02085620-Chihuahua/n02085620_4441.jpg      1    500     375  1.333333  \n",
       "2   n02085620-Chihuahua/n02085620_1502.jpg      1    333     500  1.501502  \n",
       "3   n02085620-Chihuahua/n02085620_1916.jpg      1    495     500  1.010101  \n",
       "4  n02085620-Chihuahua/n02085620_13151.jpg      1    336     500  1.488095  "
      ]
     },
     "execution_count": 84,
     "metadata": {},
     "output_type": "execute_result"
    }
   ],
   "source": [
    "df = pd.read_csv(\"F:/data/DogBreed/Labels/labels.csv\")\n",
    "df.head()"
   ]
  },
  {
   "cell_type": "markdown",
   "metadata": {},
   "source": [
    "Here we will have 3 parts, the train set, the test set and also only the images with more than 1.51 ratio to check only the impact of the method on this images (to avoid to diluate the benfit/loss within other images)"
   ]
  },
  {
   "cell_type": "code",
   "execution_count": 85,
   "metadata": {},
   "outputs": [],
   "source": [
    "X_scaled = np.load(\"F:/data/DogBreed/feature_scaled.npy\")\n",
    "X_seam = np.load(\"F:/data/DogBreed/feature_seamcarved.npy\")\n",
    "y = np.array(df[\"class_name\"]).reshape(-1, 1)\n",
    "ds = np.array(df[\"dataset\"])\n",
    "to_eval = df[(df.ratio > 1.51) & (df.dataset == 1)].index\n",
    "X_scaled_eval = X_scaled[to_eval]\n",
    "X_seamed_eval = X_seam[to_eval]\n",
    "y_scaled_eval = y[to_eval]"
   ]
  },
  {
   "cell_type": "markdown",
   "metadata": {},
   "source": [
    "For the classifier, we need a OHE y-vector, let's use it also to process the images of high factor"
   ]
  },
  {
   "cell_type": "code",
   "execution_count": 86,
   "metadata": {},
   "outputs": [],
   "source": [
    "from sklearn.preprocessing import LabelBinarizer\n",
    "lb = LabelBinarizer()\n",
    "y_ohe = lb.fit_transform(y)\n",
    "y_eval = lb.transform(y_scaled_eval)"
   ]
  },
  {
   "cell_type": "markdown",
   "metadata": {},
   "source": [
    "and finally, let's shuffle each datasets"
   ]
  },
  {
   "cell_type": "code",
   "execution_count": 88,
   "metadata": {},
   "outputs": [],
   "source": [
    "from sklearn.utils import shuffle\n",
    "X_scaled, X_seam, y_ohe, ds = shuffle(X_scaled, X_seam, y_ohe, ds, random_state=0)"
   ]
  },
  {
   "cell_type": "markdown",
   "metadata": {},
   "source": [
    "Now we can build the model. I started from the base I had in the master. I'll keep the architecture as it gaves good results. The model will be trained with both dataset and stopped with an early stop to avoid overfitting."
   ]
  },
  {
   "cell_type": "code",
   "execution_count": 89,
   "metadata": {},
   "outputs": [],
   "source": [
    "import tensorflow as tf\n",
    "\n",
    "def top2(y_true, y_pred):\n",
    "    return tf.keras.metrics.top_k_categorical_accuracy(y_true, y_pred, k=2)\n",
    "\n",
    "def top3(y_true, y_pred):\n",
    "    return tf.keras.metrics.top_k_categorical_accuracy(y_true, y_pred, k=3)\n",
    "\n",
    "def top4(y_true, y_pred):\n",
    "    return tf.keras.metrics.top_k_categorical_accuracy(y_true, y_pred, k=4)\n",
    "\n",
    "def top5(y_true, y_pred):\n",
    "    return tf.keras.metrics.top_k_categorical_accuracy(y_true, y_pred, k=5)\n",
    "\n",
    "def swish(x):\n",
    "    return x*tf.keras.backend.sigmoid(x)\n",
    "\n",
    "tf.keras.utils.get_custom_objects().update({'custom_activation': swish})"
   ]
  },
  {
   "cell_type": "code",
   "execution_count": 98,
   "metadata": {},
   "outputs": [],
   "source": [
    "tf.keras.backend.clear_session()\n",
    "\n",
    "batch_size = 128\n",
    "optimiser = \"Adadelta\"\n",
    "metrics = [\"accuracy\", top3, top5]\n",
    "epoch_max = 100\n",
    "verbose = 1\n",
    "\n",
    "model = tf.keras.models.Sequential()\n",
    "model.add(tf.keras.layers.Dense(200, input_dim=2048, activation=\"custom_activation\"))\n",
    "model.add(tf.keras.layers.Dropout(0.5))\n",
    "# model.add(tf.keras.layers.Dense(160, activation=\"custom_activation\"))\n",
    "# model.add(tf.keras.layers.Dropout(0.2))\n",
    "model.add(tf.keras.layers.Dense(120, activation='softmax'))\n",
    "\n",
    "early_stop = tf.keras.callbacks.EarlyStopping(monitor='val_loss', min_delta=0, patience=3, verbose=0, mode='auto')"
   ]
  },
  {
   "cell_type": "code",
   "execution_count": 99,
   "metadata": {},
   "outputs": [
    {
     "name": "stdout",
     "output_type": "stream",
     "text": [
      "Train on 9600 samples, validate on 2400 samples\n",
      "Epoch 1/100\n",
      "9600/9600 [==============================] - 1s 53us/sample - loss: 2.1276 - acc: 0.5525 - top3: 0.7202 - top5: 0.7699 - val_loss: 0.5691 - val_acc: 0.8433 - val_top3: 0.9714 - val_top5: 0.9863\n",
      "Epoch 2/100\n",
      "9600/9600 [==============================] - 0s 35us/sample - loss: 0.6575 - acc: 0.8251 - top3: 0.9569 - top5: 0.9761 - val_loss: 0.4328 - val_acc: 0.8658 - val_top3: 0.9781 - val_top5: 0.9881\n",
      "Epoch 3/100\n",
      "9600/9600 [==============================] - 0s 35us/sample - loss: 0.5079 - acc: 0.8507 - top3: 0.9710 - top5: 0.9856 - val_loss: 0.4116 - val_acc: 0.8621 - val_top3: 0.9775 - val_top5: 0.9910\n",
      "Epoch 4/100\n",
      "9600/9600 [==============================] - 0s 34us/sample - loss: 0.4300 - acc: 0.8715 - top3: 0.9756 - top5: 0.9885 - val_loss: 0.4002 - val_acc: 0.8708 - val_top3: 0.9790 - val_top5: 0.9907\n",
      "Epoch 5/100\n",
      "9600/9600 [==============================] - 0s 35us/sample - loss: 0.3815 - acc: 0.8823 - top3: 0.9808 - top5: 0.9919 - val_loss: 0.4096 - val_acc: 0.8671 - val_top3: 0.9766 - val_top5: 0.9883\n",
      "Epoch 6/100\n",
      "9600/9600 [==============================] - 0s 34us/sample - loss: 0.3492 - acc: 0.8898 - top3: 0.9847 - top5: 0.9927 - val_loss: 0.3860 - val_acc: 0.8754 - val_top3: 0.9818 - val_top5: 0.9897\n",
      "Epoch 7/100\n",
      "9600/9600 [==============================] - 0s 35us/sample - loss: 0.3238 - acc: 0.8988 - top3: 0.9872 - top5: 0.9942 - val_loss: 0.4071 - val_acc: 0.8712 - val_top3: 0.9763 - val_top5: 0.9894\n",
      "Epoch 8/100\n",
      "9600/9600 [==============================] - 0s 35us/sample - loss: 0.2990 - acc: 0.8994 - top3: 0.9885 - top5: 0.9958 - val_loss: 0.3942 - val_acc: 0.8692 - val_top3: 0.9804 - val_top5: 0.9904\n",
      "Epoch 9/100\n",
      "9600/9600 [==============================] - 0s 34us/sample - loss: 0.2665 - acc: 0.9143 - top3: 0.9914 - top5: 0.9970 - val_loss: 0.3996 - val_acc: 0.8696 - val_top3: 0.9757 - val_top5: 0.9892\n"
     ]
    },
    {
     "data": {
      "text/plain": [
       "<tensorflow.python.keras.callbacks.History at 0x1e18cbcc278>"
      ]
     },
     "execution_count": 99,
     "metadata": {},
     "output_type": "execute_result"
    }
   ],
   "source": [
    "model.compile(loss = \"categorical_crossentropy\", optimizer=optimiser, metrics=metrics)\n",
    "model.fit(X_scaled[ds==0], y_ohe[ds==0], \n",
    "          epochs=epoch_max, \n",
    "          batch_size=batch_size, \n",
    "          callbacks=[early_stop], \n",
    "          verbose=verbose,\n",
    "          validation_split=0.2)"
   ]
  },
  {
   "cell_type": "markdown",
   "metadata": {},
   "source": [
    "The model is now trained with the images simply scaled. Let's evaluate it on the test set"
   ]
  },
  {
   "cell_type": "code",
   "execution_count": 115,
   "metadata": {},
   "outputs": [
    {
     "name": "stdout",
     "output_type": "stream",
     "text": [
      "8580/8580 [==============================] - 0s 19us/sample - loss: 0.3800 - acc: 0.8790 - top3: 0.9813 - top5: 0.9902\n",
      "[0.38000432466849304, 0.879021, 0.981273, 0.9902344]\n"
     ]
    }
   ],
   "source": [
    "score_scaled = model.evaluate(X_scaled[ds==1], y_ohe[ds==1], batch_size=128)\n",
    "print(score_scaled)"
   ]
  },
  {
   "cell_type": "markdown",
   "metadata": {},
   "source": [
    "The performances are slightly below the train set which is logical but not that much. Let's now save the result only for high ratio images"
   ]
  },
  {
   "cell_type": "code",
   "execution_count": 116,
   "metadata": {},
   "outputs": [
    {
     "name": "stdout",
     "output_type": "stream",
     "text": [
      "450/450 [==============================] - 0s 22us/sample - loss: 0.5082 - acc: 0.8444 - top3: 0.9766 - top5: 0.9863\n",
      "[0.5082035107745064, 0.84444445, 0.9765625, 0.9863281]\n"
     ]
    }
   ],
   "source": [
    "score_scaled_eval = model.evaluate(X_scaled_eval, y_eval, batch_size=128)\n",
    "print(score_scaled_eval)"
   ]
  },
  {
   "cell_type": "markdown",
   "metadata": {},
   "source": [
    "The loss is a lot higher, this is expected as we stretched features. Let's see how it goes with the dataset having the seam carving"
   ]
  },
  {
   "cell_type": "code",
   "execution_count": 102,
   "metadata": {},
   "outputs": [
    {
     "name": "stdout",
     "output_type": "stream",
     "text": [
      "Train on 9600 samples, validate on 2400 samples\n",
      "Epoch 1/100\n",
      "9600/9600 [==============================] - 1s 61us/sample - loss: 0.2786 - acc: 0.9083 - top3: 0.9906 - top5: 0.9966 - val_loss: 0.4016 - val_acc: 0.8729 - val_top3: 0.9778 - val_top5: 0.9882\n",
      "Epoch 2/100\n",
      "9600/9600 [==============================] - 0s 41us/sample - loss: 0.2529 - acc: 0.9176 - top3: 0.9917 - top5: 0.9968 - val_loss: 0.4086 - val_acc: 0.8796 - val_top3: 0.9745 - val_top5: 0.9873\n",
      "Epoch 3/100\n",
      "9600/9600 [==============================] - 0s 35us/sample - loss: 0.2386 - acc: 0.9220 - top3: 0.9918 - top5: 0.9967 - val_loss: 0.3943 - val_acc: 0.8737 - val_top3: 0.9778 - val_top5: 0.9873\n",
      "Epoch 4/100\n",
      "9600/9600 [==============================] - 0s 37us/sample - loss: 0.2255 - acc: 0.9284 - top3: 0.9935 - top5: 0.9973 - val_loss: 0.4044 - val_acc: 0.8779 - val_top3: 0.9792 - val_top5: 0.9867\n",
      "Epoch 5/100\n",
      "9600/9600 [==============================] - 0s 34us/sample - loss: 0.2031 - acc: 0.9323 - top3: 0.9952 - top5: 0.9986 - val_loss: 0.4223 - val_acc: 0.8767 - val_top3: 0.9767 - val_top5: 0.9857\n",
      "Epoch 6/100\n",
      "9600/9600 [==============================] - 0s 34us/sample - loss: 0.1906 - acc: 0.9348 - top3: 0.9960 - top5: 0.9987 - val_loss: 0.4210 - val_acc: 0.8746 - val_top3: 0.9745 - val_top5: 0.9874\n"
     ]
    },
    {
     "data": {
      "text/plain": [
       "<tensorflow.python.keras.callbacks.History at 0x1e1a9670588>"
      ]
     },
     "execution_count": 102,
     "metadata": {},
     "output_type": "execute_result"
    }
   ],
   "source": [
    "model.compile(loss = \"categorical_crossentropy\", optimizer=optimiser, metrics=metrics)\n",
    "model.fit(X_seam[ds==0], y_ohe[ds==0], \n",
    "          epochs=epoch_max, \n",
    "          batch_size=batch_size, \n",
    "          callbacks=[early_stop], \n",
    "          verbose=verbose,\n",
    "          validation_split=0.2)"
   ]
  },
  {
   "cell_type": "code",
   "execution_count": 117,
   "metadata": {},
   "outputs": [
    {
     "name": "stdout",
     "output_type": "stream",
     "text": [
      "8580/8580 [==============================] - 0s 19us/sample - loss: 0.3855 - acc: 0.8780 - top3: 0.9805 - top5: 0.9898\n",
      "[0.38547383004968816, 0.877972, 0.98046875, 0.9897748]\n"
     ]
    }
   ],
   "source": [
    "score_seamed = model.evaluate(X_seam[ds==1], y_ohe[ds==1], batch_size=128)\n",
    "print(score_seamed)"
   ]
  },
  {
   "cell_type": "code",
   "execution_count": 118,
   "metadata": {},
   "outputs": [
    {
     "name": "stdout",
     "output_type": "stream",
     "text": [
      "450/450 [==============================] - 0s 27us/sample - loss: 0.6125 - acc: 0.8244 - top3: 0.9574 - top5: 0.9730\n",
      "[0.6124887445237901, 0.8244445, 0.9573864, 0.9730114]\n"
     ]
    }
   ],
   "source": [
    "score_seamed_eval = model.evaluate(X_seamed_eval, y_eval, batch_size=128)\n",
    "print(score_seamed_eval)"
   ]
  },
  {
   "cell_type": "markdown",
   "metadata": {},
   "source": [
    "Results are worse...  Let's plot the result on the test set and after zoom only the high ratio set"
   ]
  },
  {
   "cell_type": "code",
   "execution_count": 119,
   "metadata": {},
   "outputs": [
    {
     "data": {
      "image/png": "[encoded data removed]",
      "text/plain": [
       "<matplotlib.figure.Figure at 0x1e1a38f3d30>"
      ]
     },
     "metadata": {
      "needs_background": "light"
     },
     "output_type": "display_data"
    }
   ],
   "source": [
    "x = np.arange(3)\n",
    "width = 0.3\n",
    "\n",
    "fig, (ax1, ax2) = plt.subplots(1, 2, figsize=(20, 12))\n",
    "\n",
    "rects1 = ax1.bar(0 - width/2, score_seamed[0], width, label='Seam Carving')\n",
    "rects2 = ax1.bar(0 + width/2, score_scaled[0], width, label='Scaled')\n",
    "\n",
    "rects1 = ax2.bar(x - width/2, score_seamed[1:], width, label='Seam Carving')\n",
    "rects2 = ax2.bar(x + width/2, score_scaled[1:], width, label='Scaled')\n",
    "\n",
    "ax1.set_ylabel('Loss')\n",
    "ax1.set_title('Loss based on Pre-processing')\n",
    "ax1.tick_params(\n",
    "    axis='x',          # changes apply to the x-axis\n",
    "    which='both',      # both major and minor ticks are affected\n",
    "    bottom=False,      # ticks along the bottom edge are off\n",
    "    top=False,         # ticks along the top edge are off\n",
    "    labelbottom=False) # labels along the bottom edge are off\n",
    "ax1.legend()\n",
    "\n",
    "ax2.set_ylabel('Accuracy')\n",
    "ax2.set_title('Accuracy based on Pre-processing')\n",
    "ax2.set_xticks(x)\n",
    "ax2.set_xticklabels([\"Top 1\", \"Top 3\", \"Top 5\"])\n",
    "ax2.legend()\n",
    "\n",
    "plt.show()"
   ]
  },
  {
   "cell_type": "code",
   "execution_count": 120,
   "metadata": {},
   "outputs": [
    {
     "data": {
      "image/png": "[encoded data removed]",
      "text/plain": [
       "<matplotlib.figure.Figure at 0x1e1a3ced7f0>"
      ]
     },
     "metadata": {
      "needs_background": "light"
     },
     "output_type": "display_data"
    }
   ],
   "source": [
    "x = np.arange(3)\n",
    "width = 0.3\n",
    "\n",
    "fig, (ax1, ax2) = plt.subplots(1, 2, figsize=(20, 12))\n",
    "\n",
    "rects1 = ax1.bar(0 - width/2, score_seamed_eval[0], width, label='Seam Carving')\n",
    "rects2 = ax1.bar(0 + width/2, score_scaled_eval[0], width, label='Scaled')\n",
    "\n",
    "rects1 = ax2.bar(x - width/2, score_seamed_eval[1:], width, label='Seam Carving')\n",
    "rects2 = ax2.bar(x + width/2, score_scaled_eval[1:], width, label='Scaled')\n",
    "\n",
    "ax1.set_ylabel('Loss')\n",
    "ax1.set_title('Loss based on Pre-processing')\n",
    "ax1.tick_params(\n",
    "    axis='x',          # changes apply to the x-axis\n",
    "    which='both',      # both major and minor ticks are affected\n",
    "    bottom=False,      # ticks along the bottom edge are off\n",
    "    top=False,         # ticks along the top edge are off\n",
    "    labelbottom=False) # labels along the bottom edge are off\n",
    "ax1.legend()\n",
    "\n",
    "ax2.set_ylabel('Accuracy')\n",
    "ax2.set_title('Accuracy based on Pre-processing')\n",
    "ax2.set_xticks(x)\n",
    "ax2.set_xticklabels([\"Top 1\", \"Top 3\", \"Top 5\"])\n",
    "ax2.legend()\n",
    "\n",
    "plt.show()"
   ]
  },
  {
   "cell_type": "markdown",
   "metadata": {},
   "source": [
    "Strangely, it seems that seam carving makes result worse... This could be explained due to the destruction for some features as we remove complete columns. However, I was not expecting this result based on the previous notebook...\n",
    "\n",
    "# Conclusion\n",
    "\n",
    "In this Notebook, I wanted to use the method of Seam Carving on a complete dataset to check if this could gives benefit for non squared images. However, it seems that the benefit saw previously doesn't work on a larger scale. The loss and the accuracy decreased due to those images. \n",
    "\n",
    "An alternate test would be to use the Seam Carving on images with a ration > 1.51 to reduce them only to a ratio of 1.50 for example and then apply a scaling (currenly, I use Seam carving up to a ratio of 1). Maybe less features would be destroyed and a benefit would be here. Due to the time to compute this, I'll not test it on this Notebook but probably in a near future."
   ]
  }
 ],
 "metadata": {
  "kernelspec": {
   "display_name": "Python 3",
   "language": "python",
   "name": "python3"
  },
  "language_info": {
   "codemirror_mode": {
    "name": "ipython",
    "version": 3
   },
   "file_extension": ".py",
   "mimetype": "text/x-python",
   "name": "python",
   "nbconvert_exporter": "python",
   "pygments_lexer": "ipython3",
   "version": "3.6.3"
  },
  "toc": {
   "base_numbering": 1,
   "nav_menu": {},
   "number_sections": true,
   "sideBar": true,
   "skip_h1_title": false,
   "title_cell": "Table of Contents",
   "title_sidebar": "Contents",
   "toc_cell": false,
   "toc_position": {},
   "toc_section_display": true,
   "toc_window_display": false
  },
  "varInspector": {
   "cols": {
    "lenName": 16,
    "lenType": 16,
    "lenVar": 40
   },
   "kernels_config": {
    "python": {
     "delete_cmd_postfix": "",
     "delete_cmd_prefix": "del ",
     "library": "var_list.py",
     "varRefreshCmd": "print(var_dic_list())"
    },
    "r": {
     "delete_cmd_postfix": ") ",
     "delete_cmd_prefix": "rm(",
     "library": "var_list.r",
     "varRefreshCmd": "cat(var_dic_list()) "
    }
   },
   "types_to_exclude": [
    "module",
    "function",
    "builtin_function_or_method",
    "instance",
    "_Feature"
   ],
   "window_display": false
  }
 },
 "nbformat": 4,
 "nbformat_minor": 2
}
