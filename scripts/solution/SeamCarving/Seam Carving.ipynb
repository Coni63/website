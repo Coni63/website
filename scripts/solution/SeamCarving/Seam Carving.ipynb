{
 "cells": [
  {
   "cell_type": "markdown",
   "metadata": {},
   "source": [
    "# Introduction\n",
    "\n",
    "The seam carving is an algorithm introduced by Avidan and Shimar in 2007. It is used to resize an image by removing/adding seams that have low energy. In this exercice, we will explore the resut of this algorithm on a given image. When published, this algorithm was done to upscale / downscale image but here, we will use it only to downscale an image. It could be very usefull in Data Science to reduce the dimension of an image without losing important part of the image (for example to rescale the complete dataset to a given size.\n",
    "\n",
    "# How it works\n",
    "\n",
    "On a given image, the energy is a derivative of the original image. Multiple filters can be used but most of the time, it uses the filter :\n",
    "\n",
    "$$ F = \\begin{bmatrix} \n",
    "1 & 0 & -1 \\\\\n",
    "2 & 0 & -2 \\\\\n",
    "1 & 0 & -1 \\\\\n",
    "\\end{bmatrix} $$\n",
    "\n",
    "to do :\n",
    "\n",
    "$$ Energy = \\mid{Img \\circledast F}\\mid + \\mid{Img \\circledast F.T}\\mid $$\n",
    "\n",
    "For the image <img src=\"test.jpg\"> the energy image looks like <img src=\"energy.jpg\">\n",
    "\n",
    "After, the objective is to find the path (a serie of connected pixels) with the lowest sum of energy. The path must be :\n",
    "- vertical if you want to reduce the image horizontally\n",
    "- horizontal if you want to reduce the image vertically\n",
    "\n",
    "This path can be found by using dynamic programming. The result is a path like shown below:\n",
    "\n",
    "<img src=\"path.jpg\">\n",
    "\n",
    "Removing this line with shorten the image and will remove the less information possible. \n",
    "\n",
    "The effect of this animation is impressive and this is what we will implement now\n",
    "\n",
    "# Implementation"
   ]
  },
  {
   "cell_type": "code",
   "execution_count": 81,
   "metadata": {},
   "outputs": [],
   "source": [
    "import sys\n",
    "import numba\n",
    "import numpy as np\n",
    "import glob\n",
    "from imageio import imread, imwrite, mimsave\n",
    "from scipy.ndimage.filters import convolve\n",
    "import matplotlib.pyplot as plt"
   ]
  },
  {
   "cell_type": "markdown",
   "metadata": {},
   "source": [
    "The algorithm find below is a slightly changed version of <a href=\"https://karthikkaranth.me/blog/implementing-seam-carving-with-python/\">this nice explanation</a>"
   ]
  },
  {
   "cell_type": "code",
   "execution_count": 68,
   "metadata": {},
   "outputs": [],
   "source": [
    "def calc_energy(img):\n",
    "    filter_du = np.array([\n",
    "        [1.0, 2.0, 1.0],\n",
    "        [0.0, 0.0, 0.0],\n",
    "        [-1.0, -2.0, -1.0],\n",
    "    ])\n",
    "    # This converts it from a 2D filter to a 3D filter, replicating the same\n",
    "    # filter for each channel: R, G, B\n",
    "    filter_du = np.stack([filter_du] * 3, axis=2)\n",
    "\n",
    "    filter_dv = np.array([\n",
    "        [1.0, 0.0, -1.0],\n",
    "        [2.0, 0.0, -2.0],\n",
    "        [1.0, 0.0, -1.0],\n",
    "    ])\n",
    "    # This converts it from a 2D filter to a 3D filter, replicating the same\n",
    "    # filter for each channel: R, G, B\n",
    "    filter_dv = np.stack([filter_dv] * 3, axis=2)\n",
    "\n",
    "    img = img.astype('float32')\n",
    "    convolved = np.absolute(convolve(img, filter_du)) + np.absolute(convolve(img, filter_dv))\n",
    "\n",
    "    # We sum the energies in the red, green, and blue channels\n",
    "    energy_map = convolved.sum(axis=2)\n",
    "    \n",
    "    return energy_map\n",
    "\n",
    "@numba.jit\n",
    "def minimum_seam(img):\n",
    "    r, c, _ = img.shape\n",
    "    energy_map = calc_energy(img)\n",
    "    \n",
    "    M = energy_map.copy()\n",
    "    backtrack = np.zeros_like(M, dtype=np.int)\n",
    "\n",
    "    for i in range(1, r):\n",
    "        for j in range(0, c):\n",
    "            # Handle the left edge of the image, to ensure we don't index -1\n",
    "            if j == 0:\n",
    "                idx = np.argmin(M[i - 1, j:j + 2])\n",
    "                backtrack[i, j] = idx + j\n",
    "                min_energy = M[i - 1, idx + j]\n",
    "            else:\n",
    "                idx = np.argmin(M[i - 1, j - 1:j + 2])\n",
    "                backtrack[i, j] = idx + j - 1\n",
    "                min_energy = M[i - 1, idx + j - 1]\n",
    "\n",
    "            M[i, j] += min_energy\n",
    "    \n",
    "    return M, backtrack, energy_map\n",
    "\n",
    "@numba.jit\n",
    "def carve_column(img):\n",
    "    r, c, _ = img.shape\n",
    "\n",
    "    M, backtrack, energy_map = minimum_seam(img)\n",
    "\n",
    "    # Create a (r, c) matrix filled with the value True\n",
    "    # We'll be removing all pixels from the image which\n",
    "    # have False later\n",
    "    mask = np.ones((r, c), dtype=np.bool)\n",
    "\n",
    "    # Find the position of the smallest element in the\n",
    "    # last row of M\n",
    "    j = np.argmin(M[-1])\n",
    "\n",
    "    for i in reversed(range(r)):\n",
    "        # Mark the pixels for deletion\n",
    "        mask[i, j] = 0\n",
    "        j = backtrack[i, j]\n",
    "\n",
    "    seam = img.copy()\n",
    "    seam[~mask] = [255, 0, 0]\n",
    "        \n",
    "    # Since the image has 3 channels, we convert our\n",
    "    # mask to 3D    \n",
    "    mask = np.stack([mask] * 3, axis=2)\n",
    "    \n",
    "    # Delete all the pixels marked False in the mask,\n",
    "    # and resize it to the new image dimensions\n",
    "    img = img[mask].reshape((r, c-1, 3))\n",
    "    \n",
    "    return img, seam, energy_map\n",
    "\n",
    "\n",
    "def crop_c(img, scale_c):\n",
    "    r, c, _ = img.shape\n",
    "    if isinstance(scale_c, float):\n",
    "        new_c = int(scale_c * c)\n",
    "    else:\n",
    "        new_c = scale_c\n",
    "\n",
    "    for i in range(c - new_c):\n",
    "        img, backtrack, energy_map = carve_column(img)\n",
    "\n",
    "    return img, backtrack, energy_map\n",
    "\n",
    "def crop_r(img, scale_r):\n",
    "    img = np.rot90(img, 1, (0, 1))\n",
    "    img, backtrack, energy_map = crop_c(img, scale_r)\n",
    "    img = np.rot90(img, 3, (0, 1))\n",
    "    backtrack = np.rot90(backtrack, 3, (0, 1))\n",
    "    energy_map = np.rot90(energy_map, 3, (0, 1))\n",
    "    return img, backtrack, energy_map"
   ]
  },
  {
   "cell_type": "markdown",
   "metadata": {},
   "source": [
    "Now, let's render an image for every shift of 1 row. This will be used at the end to render gifs."
   ]
  },
  {
   "cell_type": "code",
   "execution_count": 79,
   "metadata": {},
   "outputs": [
    {
     "name": "stderr",
     "output_type": "stream",
     "text": [
      "C:\\python36\\envs\\machine_learning\\lib\\site-packages\\imageio\\core\\util.py:104: UserWarning: Conversion from float32 to uint8, range [0.0, 11652.0]\n",
      "  'range [{2}, {3}]'.format(dtype_str, out_type.__name__, mi, ma))\n"
     ]
    }
   ],
   "source": [
    "which_axis = \"r\"  \n",
    "\n",
    "img = imread(\"test.jpg\")\n",
    "r_init, c_init, _ = img.shape\n",
    "\n",
    "for i in range(1, 320):\n",
    "    scale = r_init - i\n",
    "    \n",
    "    if which_axis == 'r':\n",
    "        out, backtrack, energy_map = crop_r(img, scale)\n",
    "    elif which_axis == 'c':\n",
    "        out, backtrack, energy_map = crop_c(img, scale)\n",
    "\n",
    "    bg = np.zeros((r_init, c_init), dtype=energy_map.dtype)\n",
    "    bg2 = np.zeros((r_init, c_init, 3), dtype=backtrack.dtype)\n",
    "    bg3 = np.zeros((r_init, c_init, 3), dtype=out.dtype)\n",
    "\n",
    "    r, c, _ = out.shape\n",
    "    bg[:r+1, :c] = energy_map\n",
    "    bg2[:r+1, :c] = backtrack\n",
    "    bg3[:r, :c] = out\n",
    "    \n",
    "    imwrite(\"img/energy/{:04d}.jpg\".format(i), bg)\n",
    "    imwrite(\"img/backtrack/{:04d}.jpg\".format(i), bg2)\n",
    "    imwrite(\"img/out/{:04d}.jpg\".format(i), bg3)\n",
    "\n",
    "# fig, axes = plt.subplots(2, 2, figsize=(20, 12))\n",
    "# axes[0, 0].imshow(bg)\n",
    "# axes[0, 1].imshow(bg2)\n",
    "# axes[1, 0].imshow(bg3)\n",
    "# axes[1, 1].imshow(out)\n",
    "# plt.show()\n",
    "#imwrite(out_filename, out)"
   ]
  },
  {
   "cell_type": "markdown",
   "metadata": {},
   "source": [
    "Now let's render those gifs"
   ]
  },
  {
   "cell_type": "code",
   "execution_count": 82,
   "metadata": {},
   "outputs": [],
   "source": [
    "images = []\n",
    "for filename in glob.glob(\"img/energy/*.jpg\"):\n",
    "    images.append(imread(filename))\n",
    "mimsave('energy_anim.gif', images)"
   ]
  },
  {
   "cell_type": "code",
   "execution_count": 83,
   "metadata": {},
   "outputs": [],
   "source": [
    "images = []\n",
    "for filename in glob.glob(\"img/backtrack/*.jpg\"):\n",
    "    images.append(imread(filename))\n",
    "mimsave('backtrack_anim.gif', images)"
   ]
  },
  {
   "cell_type": "code",
   "execution_count": 85,
   "metadata": {},
   "outputs": [],
   "source": [
    "images = []\n",
    "for filename in glob.glob(\"img/out/*.jpg\"):\n",
    "    images.append(imread(filename))\n",
    "mimsave('out_anim.gif', images, duration=0.05)"
   ]
  },
  {
   "cell_type": "markdown",
   "metadata": {},
   "source": [
    "# Conclusion\n",
    "\n",
    "In this notebook, I wanted to play with the Seam Carving Algorithm and create a animation of the process. The result can be shown below :\n",
    "    \n",
    "<img src=\"energy_anim.gif\"/>\n",
    "\n",
    "<img src=\"backtrack_anim.gif\"/>\n",
    "\n",
    "<img src=\"out_anim.gif\"/>\n",
    "\n",
    "This was a fun discovery and the usage in a futur work is more than probable due to the advantage versus a simple resize."
   ]
  },
  {
   "cell_type": "code",
   "execution_count": null,
   "metadata": {},
   "outputs": [],
   "source": []
  }
 ],
 "metadata": {
  "kernelspec": {
   "display_name": "Python 3",
   "language": "python",
   "name": "python3"
  },
  "language_info": {
   "codemirror_mode": {
    "name": "ipython",
    "version": 3
   },
   "file_extension": ".py",
   "mimetype": "text/x-python",
   "name": "python",
   "nbconvert_exporter": "python",
   "pygments_lexer": "ipython3",
   "version": "3.6.3"
  },
  "toc": {
   "base_numbering": 1,
   "nav_menu": {},
   "number_sections": true,
   "sideBar": true,
   "skip_h1_title": false,
   "title_cell": "Table of Contents",
   "title_sidebar": "Contents",
   "toc_cell": false,
   "toc_position": {},
   "toc_section_display": true,
   "toc_window_display": false
  },
  "varInspector": {
   "cols": {
    "lenName": 16,
    "lenType": 16,
    "lenVar": 40
   },
   "kernels_config": {
    "python": {
     "delete_cmd_postfix": "",
     "delete_cmd_prefix": "del ",
     "library": "var_list.py",
     "varRefreshCmd": "print(var_dic_list())"
    },
    "r": {
     "delete_cmd_postfix": ") ",
     "delete_cmd_prefix": "rm(",
     "library": "var_list.r",
     "varRefreshCmd": "cat(var_dic_list()) "
    }
   },
   "types_to_exclude": [
    "module",
    "function",
    "builtin_function_or_method",
    "instance",
    "_Feature"
   ],
   "window_display": false
  }
 },
 "nbformat": 4,
 "nbformat_minor": 2
}
